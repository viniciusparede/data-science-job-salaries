{
 "cells": [
  {
   "attachments": {},
   "cell_type": "markdown",
   "metadata": {},
   "source": [
    "\n",
    "<label>TO DO Tasks</label>\n",
    "<ul>\n",
    "    <input type=\"checkbox\"> Revisar títulos dos gráficos <br>\n",
    "    <input type=\"checkbox\"> Mudar comentários em portugues para comentarios em ingles <br>\n",
    "    <input type=\"checkbox\"> Adicionar textos de analises <br>\n",
    "    <input type=\"checkbox\"> Justificar todos os textos <br>\n",
    "</ul>\n",
    "\n",
    "***"
   ]
  },
  {
   "attachments": {},
   "cell_type": "markdown",
   "metadata": {},
   "source": [
    "# About Notebook\n",
    "<p style='text-align: justify;'>The work of EDA (Exploratory Data Analysis) is essential in any data analysis study. This is because, before any type of modeling or inference is performed, it is necessary to deeply understand the data that will be used. EDA allows the researcher to get to know the characteristics of the data, such as its distribution, correlation between variables, presence of outliers, among other relevant aspects. With this information in hand, it is possible to make more accurate choices about the type of model to be used, necessary pre-processing, variable selection, and so on. </p>\n",
    "\n",
    "<p style='text-align: justify;'>In addition, EDA can help identify data quality issues, such as inconsistencies, missing values, or measurement errors. By detecting these issues, they can be corrected, thus improving the quality of the analysis as a whole. </p>\n",
    "\n",
    "<p style='text-align: justify;'>The main objective of this notebook is to apply the process of EDA, which records the salaries of professionals in the data career, interpreting them to present based on numbers and data.</p>"
   ]
  },
  {
   "attachments": {},
   "cell_type": "markdown",
   "metadata": {},
   "source": [
    "## EDA Steps\n",
    "Example of steps in Exploratory Data Analysis"
   ]
  },
  {
   "attachments": {},
   "cell_type": "markdown",
   "metadata": {},
   "source": [
    "![EDA Steps](https://www.researchgate.net/publication/329930775/figure/fig3/AS:873046667710469@1585161954284/The-fundamental-steps-of-the-exploratory-data-analysis-process.png)"
   ]
  },
  {
   "attachments": {},
   "cell_type": "markdown",
   "metadata": {},
   "source": [
    "## About [ai-jobs.net](https://ai-jobs.net/)"
   ]
  },
  {
   "attachments": {},
   "cell_type": "markdown",
   "metadata": {},
   "source": [
    "<p style='text-align: justify;'> This site collects salary information anonymously from professionals all over the world in the AI/ML/Data Science space and makes it publicly available for anyone to use, share and play around with. </p>\n",
    "\n",
    "<p style='text-align: justify;'> The primary goal is to have data that can provide better guidance in regards to what's being paid globally. So newbies, experienced pros, hiring managers, recruiters and also startup founders or people wanting to make a career switch can make better informed decisions. </p>"
   ]
  },
  {
   "attachments": {},
   "cell_type": "markdown",
   "metadata": {},
   "source": [
    "***"
   ]
  },
  {
   "attachments": {},
   "cell_type": "markdown",
   "metadata": {},
   "source": [
    "# Installing Packages"
   ]
  },
  {
   "cell_type": "code",
   "execution_count": 1,
   "metadata": {},
   "outputs": [
    {
     "name": "stdout",
     "output_type": "stream",
     "text": [
      "Requirement already satisfied: numpy in /home/vinicius/repositories/data-science-job-salaries/.venv/lib/python3.10/site-packages (1.24.2)\n",
      "Requirement already satisfied: pandas in /home/vinicius/repositories/data-science-job-salaries/.venv/lib/python3.10/site-packages (2.0.0)\n",
      "Requirement already satisfied: python-dateutil>=2.8.2 in /home/vinicius/repositories/data-science-job-salaries/.venv/lib/python3.10/site-packages (from pandas) (2.8.2)\n",
      "Requirement already satisfied: tzdata>=2022.1 in /home/vinicius/repositories/data-science-job-salaries/.venv/lib/python3.10/site-packages (from pandas) (2023.3)\n",
      "Requirement already satisfied: numpy>=1.21.0 in /home/vinicius/repositories/data-science-job-salaries/.venv/lib/python3.10/site-packages (from pandas) (1.24.2)\n",
      "Requirement already satisfied: pytz>=2020.1 in /home/vinicius/repositories/data-science-job-salaries/.venv/lib/python3.10/site-packages (from pandas) (2023.3)\n",
      "Requirement already satisfied: six>=1.5 in /home/vinicius/repositories/data-science-job-salaries/.venv/lib/python3.10/site-packages (from python-dateutil>=2.8.2->pandas) (1.16.0)\n",
      "Requirement already satisfied: scipy in /home/vinicius/repositories/data-science-job-salaries/.venv/lib/python3.10/site-packages (1.10.1)\n",
      "Requirement already satisfied: numpy<1.27.0,>=1.19.5 in /home/vinicius/repositories/data-science-job-salaries/.venv/lib/python3.10/site-packages (from scipy) (1.24.2)\n",
      "Requirement already satisfied: statsmodels in /home/vinicius/repositories/data-science-job-salaries/.venv/lib/python3.10/site-packages (0.13.5)\n",
      "Requirement already satisfied: scipy>=1.3 in /home/vinicius/repositories/data-science-job-salaries/.venv/lib/python3.10/site-packages (from statsmodels) (1.10.1)\n",
      "Requirement already satisfied: pandas>=0.25 in /home/vinicius/repositories/data-science-job-salaries/.venv/lib/python3.10/site-packages (from statsmodels) (2.0.0)\n",
      "Requirement already satisfied: packaging>=21.3 in /home/vinicius/repositories/data-science-job-salaries/.venv/lib/python3.10/site-packages (from statsmodels) (23.0)\n",
      "Requirement already satisfied: numpy>=1.17 in /home/vinicius/repositories/data-science-job-salaries/.venv/lib/python3.10/site-packages (from statsmodels) (1.24.2)\n",
      "Requirement already satisfied: patsy>=0.5.2 in /home/vinicius/repositories/data-science-job-salaries/.venv/lib/python3.10/site-packages (from statsmodels) (0.5.3)\n",
      "Requirement already satisfied: tzdata>=2022.1 in /home/vinicius/repositories/data-science-job-salaries/.venv/lib/python3.10/site-packages (from pandas>=0.25->statsmodels) (2023.3)\n",
      "Requirement already satisfied: pytz>=2020.1 in /home/vinicius/repositories/data-science-job-salaries/.venv/lib/python3.10/site-packages (from pandas>=0.25->statsmodels) (2023.3)\n",
      "Requirement already satisfied: python-dateutil>=2.8.2 in /home/vinicius/repositories/data-science-job-salaries/.venv/lib/python3.10/site-packages (from pandas>=0.25->statsmodels) (2.8.2)\n",
      "Requirement already satisfied: six in /home/vinicius/repositories/data-science-job-salaries/.venv/lib/python3.10/site-packages (from patsy>=0.5.2->statsmodels) (1.16.0)\n",
      "Requirement already satisfied: scikit-learn in /home/vinicius/repositories/data-science-job-salaries/.venv/lib/python3.10/site-packages (1.2.2)\n",
      "Requirement already satisfied: threadpoolctl>=2.0.0 in /home/vinicius/repositories/data-science-job-salaries/.venv/lib/python3.10/site-packages (from scikit-learn) (3.1.0)\n",
      "Requirement already satisfied: numpy>=1.17.3 in /home/vinicius/repositories/data-science-job-salaries/.venv/lib/python3.10/site-packages (from scikit-learn) (1.24.2)\n",
      "Requirement already satisfied: scipy>=1.3.2 in /home/vinicius/repositories/data-science-job-salaries/.venv/lib/python3.10/site-packages (from scikit-learn) (1.10.1)\n",
      "Requirement already satisfied: joblib>=1.1.1 in /home/vinicius/repositories/data-science-job-salaries/.venv/lib/python3.10/site-packages (from scikit-learn) (1.2.0)\n",
      "Requirement already satisfied: plotly in /home/vinicius/repositories/data-science-job-salaries/.venv/lib/python3.10/site-packages (5.14.1)\n",
      "Requirement already satisfied: tenacity>=6.2.0 in /home/vinicius/repositories/data-science-job-salaries/.venv/lib/python3.10/site-packages (from plotly) (8.2.2)\n",
      "Requirement already satisfied: packaging in /home/vinicius/repositories/data-science-job-salaries/.venv/lib/python3.10/site-packages (from plotly) (23.0)\n",
      "Requirement already satisfied: matplotlib in /home/vinicius/repositories/data-science-job-salaries/.venv/lib/python3.10/site-packages (3.7.1)\n",
      "Requirement already satisfied: cycler>=0.10 in /home/vinicius/repositories/data-science-job-salaries/.venv/lib/python3.10/site-packages (from matplotlib) (0.11.0)\n",
      "Requirement already satisfied: kiwisolver>=1.0.1 in /home/vinicius/repositories/data-science-job-salaries/.venv/lib/python3.10/site-packages (from matplotlib) (1.4.4)\n",
      "Requirement already satisfied: packaging>=20.0 in /home/vinicius/repositories/data-science-job-salaries/.venv/lib/python3.10/site-packages (from matplotlib) (23.0)\n",
      "Requirement already satisfied: contourpy>=1.0.1 in /home/vinicius/repositories/data-science-job-salaries/.venv/lib/python3.10/site-packages (from matplotlib) (1.0.7)\n",
      "Requirement already satisfied: numpy>=1.20 in /home/vinicius/repositories/data-science-job-salaries/.venv/lib/python3.10/site-packages (from matplotlib) (1.24.2)\n",
      "Requirement already satisfied: pillow>=6.2.0 in /home/vinicius/repositories/data-science-job-salaries/.venv/lib/python3.10/site-packages (from matplotlib) (9.5.0)\n",
      "Requirement already satisfied: pyparsing>=2.3.1 in /home/vinicius/repositories/data-science-job-salaries/.venv/lib/python3.10/site-packages (from matplotlib) (3.0.9)\n",
      "Requirement already satisfied: fonttools>=4.22.0 in /home/vinicius/repositories/data-science-job-salaries/.venv/lib/python3.10/site-packages (from matplotlib) (4.39.3)\n",
      "Requirement already satisfied: python-dateutil>=2.7 in /home/vinicius/repositories/data-science-job-salaries/.venv/lib/python3.10/site-packages (from matplotlib) (2.8.2)\n",
      "Requirement already satisfied: six>=1.5 in /home/vinicius/repositories/data-science-job-salaries/.venv/lib/python3.10/site-packages (from python-dateutil>=2.7->matplotlib) (1.16.0)\n",
      "Requirement already satisfied: nbformat in /home/vinicius/repositories/data-science-job-salaries/.venv/lib/python3.10/site-packages (5.8.0)\n",
      "Requirement already satisfied: jsonschema>=2.6 in /home/vinicius/repositories/data-science-job-salaries/.venv/lib/python3.10/site-packages (from nbformat) (4.17.3)\n",
      "Requirement already satisfied: jupyter-core in /home/vinicius/repositories/data-science-job-salaries/.venv/lib/python3.10/site-packages (from nbformat) (5.3.0)\n",
      "Requirement already satisfied: fastjsonschema in /home/vinicius/repositories/data-science-job-salaries/.venv/lib/python3.10/site-packages (from nbformat) (2.16.3)\n",
      "Requirement already satisfied: traitlets>=5.1 in /home/vinicius/repositories/data-science-job-salaries/.venv/lib/python3.10/site-packages (from nbformat) (5.9.0)\n",
      "Requirement already satisfied: pyrsistent!=0.17.0,!=0.17.1,!=0.17.2,>=0.14.0 in /home/vinicius/repositories/data-science-job-salaries/.venv/lib/python3.10/site-packages (from jsonschema>=2.6->nbformat) (0.19.3)\n",
      "Requirement already satisfied: attrs>=17.4.0 in /home/vinicius/repositories/data-science-job-salaries/.venv/lib/python3.10/site-packages (from jsonschema>=2.6->nbformat) (22.2.0)\n",
      "Requirement already satisfied: platformdirs>=2.5 in /home/vinicius/repositories/data-science-job-salaries/.venv/lib/python3.10/site-packages (from jupyter-core->nbformat) (3.2.0)\n",
      "Requirement already satisfied: pycountry in /home/vinicius/repositories/data-science-job-salaries/.venv/lib/python3.10/site-packages (22.3.5)\n",
      "Requirement already satisfied: setuptools in /home/vinicius/repositories/data-science-job-salaries/.venv/lib/python3.10/site-packages (from pycountry) (67.4.0)\n",
      "Requirement already satisfied: pycountry-convert in /home/vinicius/repositories/data-science-job-salaries/.venv/lib/python3.10/site-packages (0.7.2)\n",
      "Requirement already satisfied: pytest-cov>=2.5.1 in /home/vinicius/repositories/data-science-job-salaries/.venv/lib/python3.10/site-packages (from pycountry-convert) (4.0.0)\n",
      "Requirement already satisfied: wheel>=0.30.0 in /home/vinicius/repositories/data-science-job-salaries/.venv/lib/python3.10/site-packages (from pycountry-convert) (0.38.4)\n",
      "Requirement already satisfied: pycountry>=16.11.27.1 in /home/vinicius/repositories/data-science-job-salaries/.venv/lib/python3.10/site-packages (from pycountry-convert) (22.3.5)\n",
      "Requirement already satisfied: pytest>=3.4.0 in /home/vinicius/repositories/data-science-job-salaries/.venv/lib/python3.10/site-packages (from pycountry-convert) (7.3.0)\n",
      "Requirement already satisfied: repoze.lru>=0.7 in /home/vinicius/repositories/data-science-job-salaries/.venv/lib/python3.10/site-packages (from pycountry-convert) (0.7)\n",
      "Requirement already satisfied: pprintpp>=0.3.0 in /home/vinicius/repositories/data-science-job-salaries/.venv/lib/python3.10/site-packages (from pycountry-convert) (0.4.0)\n",
      "Requirement already satisfied: pytest-mock>=1.6.3 in /home/vinicius/repositories/data-science-job-salaries/.venv/lib/python3.10/site-packages (from pycountry-convert) (3.10.0)\n",
      "Requirement already satisfied: setuptools in /home/vinicius/repositories/data-science-job-salaries/.venv/lib/python3.10/site-packages (from pycountry>=16.11.27.1->pycountry-convert) (67.4.0)\n",
      "Requirement already satisfied: exceptiongroup>=1.0.0rc8 in /home/vinicius/repositories/data-science-job-salaries/.venv/lib/python3.10/site-packages (from pytest>=3.4.0->pycountry-convert) (1.1.1)\n",
      "Requirement already satisfied: pluggy<2.0,>=0.12 in /home/vinicius/repositories/data-science-job-salaries/.venv/lib/python3.10/site-packages (from pytest>=3.4.0->pycountry-convert) (1.0.0)\n",
      "Requirement already satisfied: iniconfig in /home/vinicius/repositories/data-science-job-salaries/.venv/lib/python3.10/site-packages (from pytest>=3.4.0->pycountry-convert) (2.0.0)\n",
      "Requirement already satisfied: packaging in /home/vinicius/repositories/data-science-job-salaries/.venv/lib/python3.10/site-packages (from pytest>=3.4.0->pycountry-convert) (23.0)\n",
      "Requirement already satisfied: tomli>=1.0.0 in /home/vinicius/repositories/data-science-job-salaries/.venv/lib/python3.10/site-packages (from pytest>=3.4.0->pycountry-convert) (2.0.1)\n",
      "Requirement already satisfied: coverage[toml]>=5.2.1 in /home/vinicius/repositories/data-science-job-salaries/.venv/lib/python3.10/site-packages (from pytest-cov>=2.5.1->pycountry-convert) (7.2.3)\n"
     ]
    }
   ],
   "source": [
    "!pip install numpy\n",
    "!pip install pandas\n",
    "!pip install scipy\n",
    "!pip install statsmodels\n",
    "!pip install scikit-learn\n",
    "\n",
    "!pip install plotly\n",
    "!pip install matplotlib\n",
    "!pip install nbformat\n",
    "\n",
    "!pip install pycountry\n",
    "!pip install pycountry-convert\n",
    "#!pip install wordcloud"
   ]
  },
  {
   "attachments": {},
   "cell_type": "markdown",
   "metadata": {},
   "source": [
    "# Libraries"
   ]
  },
  {
   "cell_type": "code",
   "execution_count": 2,
   "metadata": {},
   "outputs": [],
   "source": [
    "# Libraries for data manipulation\n",
    "import pandas as pd\n",
    "import numpy as np\n",
    "\n",
    "# Libraries for data analysis\n",
    "from scipy.stats import gaussian_kde\n",
    "from scipy.stats import pearsonr\n",
    "from scipy.stats import spearmanr\n",
    "from scipy.stats import ttest_ind\n",
    "from scipy.stats import chi2_contingency\n",
    "import statsmodels.api as sm\n",
    "\n",
    "# Libraries for machine learning\n",
    "from sklearn.feature_extraction.text import TfidfVectorizer\n",
    "from sklearn.cluster import KMeans\n",
    "from sklearn.decomposition import PCA\n",
    "\n",
    "\n",
    "# Libraries for data visualization\n",
    "import plotly.graph_objs as go\n",
    "from plotly.subplots import make_subplots\n",
    "import plotly.colors as colors\n",
    "\n",
    "# from wordcloud import WordCloud\n",
    "import matplotlib.pyplot as plt\n",
    "import plotly.express as px\n",
    "\n",
    "\n",
    "# External libraries\n",
    "import pycountry as pyc\n",
    "import pycountry_convert as pc\n",
    "\n",
    "# Default Libraries\n",
    "import itertools\n",
    "import re"
   ]
  },
  {
   "attachments": {},
   "cell_type": "markdown",
   "metadata": {},
   "source": [
    "# Load data\n",
    "The dataset is provided via a web request, so every time this notebook is executed, the data is updated."
   ]
  },
  {
   "cell_type": "code",
   "execution_count": 3,
   "metadata": {},
   "outputs": [
    {
     "data": {
      "text/html": [
       "<div>\n",
       "<style scoped>\n",
       "    .dataframe tbody tr th:only-of-type {\n",
       "        vertical-align: middle;\n",
       "    }\n",
       "\n",
       "    .dataframe tbody tr th {\n",
       "        vertical-align: top;\n",
       "    }\n",
       "\n",
       "    .dataframe thead th {\n",
       "        text-align: right;\n",
       "    }\n",
       "</style>\n",
       "<table border=\"1\" class=\"dataframe\">\n",
       "  <thead>\n",
       "    <tr style=\"text-align: right;\">\n",
       "      <th></th>\n",
       "      <th>work_year</th>\n",
       "      <th>experience_level</th>\n",
       "      <th>employment_type</th>\n",
       "      <th>job_title</th>\n",
       "      <th>salary</th>\n",
       "      <th>salary_currency</th>\n",
       "      <th>salary_in_usd</th>\n",
       "      <th>employee_residence</th>\n",
       "      <th>remote_ratio</th>\n",
       "      <th>company_location</th>\n",
       "      <th>company_size</th>\n",
       "    </tr>\n",
       "  </thead>\n",
       "  <tbody>\n",
       "    <tr>\n",
       "      <th>0</th>\n",
       "      <td>2023</td>\n",
       "      <td>EN</td>\n",
       "      <td>FT</td>\n",
       "      <td>Data Quality Analyst</td>\n",
       "      <td>100000</td>\n",
       "      <td>USD</td>\n",
       "      <td>100000</td>\n",
       "      <td>NG</td>\n",
       "      <td>100</td>\n",
       "      <td>NG</td>\n",
       "      <td>L</td>\n",
       "    </tr>\n",
       "    <tr>\n",
       "      <th>1</th>\n",
       "      <td>2023</td>\n",
       "      <td>EN</td>\n",
       "      <td>FT</td>\n",
       "      <td>Compliance Data Analyst</td>\n",
       "      <td>30000</td>\n",
       "      <td>USD</td>\n",
       "      <td>30000</td>\n",
       "      <td>NG</td>\n",
       "      <td>100</td>\n",
       "      <td>NG</td>\n",
       "      <td>L</td>\n",
       "    </tr>\n",
       "    <tr>\n",
       "      <th>2</th>\n",
       "      <td>2022</td>\n",
       "      <td>MI</td>\n",
       "      <td>FT</td>\n",
       "      <td>Machine Learning Engineer</td>\n",
       "      <td>1650000</td>\n",
       "      <td>INR</td>\n",
       "      <td>20984</td>\n",
       "      <td>IN</td>\n",
       "      <td>50</td>\n",
       "      <td>IN</td>\n",
       "      <td>L</td>\n",
       "    </tr>\n",
       "    <tr>\n",
       "      <th>3</th>\n",
       "      <td>2023</td>\n",
       "      <td>EN</td>\n",
       "      <td>FT</td>\n",
       "      <td>Applied Scientist</td>\n",
       "      <td>204620</td>\n",
       "      <td>USD</td>\n",
       "      <td>204620</td>\n",
       "      <td>US</td>\n",
       "      <td>0</td>\n",
       "      <td>US</td>\n",
       "      <td>L</td>\n",
       "    </tr>\n",
       "    <tr>\n",
       "      <th>4</th>\n",
       "      <td>2023</td>\n",
       "      <td>EN</td>\n",
       "      <td>FT</td>\n",
       "      <td>Applied Scientist</td>\n",
       "      <td>110680</td>\n",
       "      <td>USD</td>\n",
       "      <td>110680</td>\n",
       "      <td>US</td>\n",
       "      <td>0</td>\n",
       "      <td>US</td>\n",
       "      <td>L</td>\n",
       "    </tr>\n",
       "  </tbody>\n",
       "</table>\n",
       "</div>"
      ],
      "text/plain": [
       "   work_year experience_level employment_type                  job_title   \n",
       "0       2023               EN              FT       Data Quality Analyst  \\\n",
       "1       2023               EN              FT    Compliance Data Analyst   \n",
       "2       2022               MI              FT  Machine Learning Engineer   \n",
       "3       2023               EN              FT          Applied Scientist   \n",
       "4       2023               EN              FT          Applied Scientist   \n",
       "\n",
       "    salary salary_currency  salary_in_usd employee_residence  remote_ratio   \n",
       "0   100000             USD         100000                 NG           100  \\\n",
       "1    30000             USD          30000                 NG           100   \n",
       "2  1650000             INR          20984                 IN            50   \n",
       "3   204620             USD         204620                 US             0   \n",
       "4   110680             USD         110680                 US             0   \n",
       "\n",
       "  company_location company_size  \n",
       "0               NG            L  \n",
       "1               NG            L  \n",
       "2               IN            L  \n",
       "3               US            L  \n",
       "4               US            L  "
      ]
     },
     "execution_count": 3,
     "metadata": {},
     "output_type": "execute_result"
    }
   ],
   "source": [
    "dataset_link = \"https://ai-jobs.net/salaries/download/salaries.csv\"\n",
    "df = pd.read_csv(dataset_link)\n",
    "df.head()"
   ]
  },
  {
   "attachments": {},
   "cell_type": "markdown",
   "metadata": {},
   "source": [
    "# Data Information"
   ]
  },
  {
   "cell_type": "code",
   "execution_count": 4,
   "metadata": {},
   "outputs": [
    {
     "data": {
      "text/plain": [
       "Index(['work_year', 'experience_level', 'employment_type', 'job_title',\n",
       "       'salary', 'salary_currency', 'salary_in_usd', 'employee_residence',\n",
       "       'remote_ratio', 'company_location', 'company_size'],\n",
       "      dtype='object')"
      ]
     },
     "execution_count": 4,
     "metadata": {},
     "output_type": "execute_result"
    }
   ],
   "source": [
    "# attributes\n",
    "df.columns"
   ]
  },
  {
   "attachments": {},
   "cell_type": "markdown",
   "metadata": {},
   "source": [
    "The attributes will be explained individually in the chapter on univariate analysis."
   ]
  },
  {
   "cell_type": "code",
   "execution_count": 5,
   "metadata": {},
   "outputs": [
    {
     "name": "stdout",
     "output_type": "stream",
     "text": [
      "<class 'pandas.core.frame.DataFrame'>\n",
      "RangeIndex: 3716 entries, 0 to 3715\n",
      "Data columns (total 11 columns):\n",
      " #   Column              Non-Null Count  Dtype \n",
      "---  ------              --------------  ----- \n",
      " 0   work_year           3716 non-null   int64 \n",
      " 1   experience_level    3716 non-null   object\n",
      " 2   employment_type     3716 non-null   object\n",
      " 3   job_title           3716 non-null   object\n",
      " 4   salary              3716 non-null   int64 \n",
      " 5   salary_currency     3716 non-null   object\n",
      " 6   salary_in_usd       3716 non-null   int64 \n",
      " 7   employee_residence  3716 non-null   object\n",
      " 8   remote_ratio        3716 non-null   int64 \n",
      " 9   company_location    3716 non-null   object\n",
      " 10  company_size        3716 non-null   object\n",
      "dtypes: int64(4), object(7)\n",
      "memory usage: 319.5+ KB\n"
     ]
    }
   ],
   "source": [
    "# concise summary of a dataframe\n",
    "df.info()"
   ]
  },
  {
   "attachments": {},
   "cell_type": "markdown",
   "metadata": {},
   "source": [
    "We can notice that we have both categorical and numerical variables in this dataframe. We will separate the analyses for both cases."
   ]
  },
  {
   "attachments": {},
   "cell_type": "markdown",
   "metadata": {},
   "source": [
    "<div style=\"display: flex; justify-content: center;\">\n",
    "    <table>\n",
    "        <thead>\n",
    "            <tr>\n",
    "                <th>Categorical Attributes</th>\n",
    "                <th>Numerical Attributes</th>\n",
    "            </tr>\n",
    "        </thead>\n",
    "        <tbody>\n",
    "            <tr>\n",
    "                <td>experience_level</td>\n",
    "                <td>work_year</td>\n",
    "            </tr>\n",
    "            <tr>\n",
    "                <td>employment_type</td>\n",
    "                <td>salary</td>\n",
    "            </tr>\n",
    "            <tr>\n",
    "                <td>job_title</td>\n",
    "                <td>salary_in_usd</td>\n",
    "            </tr>\n",
    "            <tr>\n",
    "                <td>employee_residence</td>\n",
    "                <td>remote_ratio</td>\n",
    "            </tr>\n",
    "            <tr>\n",
    "                <td>company_location</td>\n",
    "                <td> </td>\n",
    "            </tr>\n",
    "            <tr>\n",
    "                <td>company_size</td>\n",
    "                <td> </td>\n",
    "            </tr>\n",
    "            <tr>\n",
    "                <td>salary_currency</td>\n",
    "                <td> </td>\n",
    "            </tr>\n",
    "        </tbody>\n",
    "    </table>\n",
    "</div>\n"
   ]
  },
  {
   "cell_type": "code",
   "execution_count": 6,
   "metadata": {},
   "outputs": [
    {
     "data": {
      "text/plain": [
       "(3716, 11)"
      ]
     },
     "execution_count": 6,
     "metadata": {},
     "output_type": "execute_result"
    }
   ],
   "source": [
    "# dimensionality of the DataFrame\n",
    "df.shape"
   ]
  },
  {
   "cell_type": "code",
   "execution_count": 7,
   "metadata": {},
   "outputs": [
    {
     "data": {
      "text/plain": [
       "work_year             0\n",
       "experience_level      0\n",
       "employment_type       0\n",
       "job_title             0\n",
       "salary                0\n",
       "salary_currency       0\n",
       "salary_in_usd         0\n",
       "employee_residence    0\n",
       "remote_ratio          0\n",
       "company_location      0\n",
       "company_size          0\n",
       "dtype: int64"
      ]
     },
     "execution_count": 7,
     "metadata": {},
     "output_type": "execute_result"
    }
   ],
   "source": [
    "# checking for null values\n",
    "df.isnull().sum()"
   ]
  },
  {
   "cell_type": "code",
   "execution_count": 8,
   "metadata": {},
   "outputs": [],
   "source": [
    "# Categorical attributes [object]\n",
    "categorical_df = df.loc[\n",
    "    :,\n",
    "    [\n",
    "        \"experience_level\",\n",
    "        \"employment_type\",\n",
    "        \"job_title\",\n",
    "        \"salary_currency\",\n",
    "        \"employee_residence\",\n",
    "        \"company_location\",\n",
    "        \"company_size\",\n",
    "    ],\n",
    "]\n",
    "\n",
    "# Numerical Attributes [int64]\n",
    "numerical_df = df.loc[:, [\"work_year\", \"salary\", \"salary_in_usd\", \"remote_ratio\"]]"
   ]
  },
  {
   "cell_type": "code",
   "execution_count": 9,
   "metadata": {},
   "outputs": [
    {
     "data": {
      "text/html": [
       "<div>\n",
       "<style scoped>\n",
       "    .dataframe tbody tr th:only-of-type {\n",
       "        vertical-align: middle;\n",
       "    }\n",
       "\n",
       "    .dataframe tbody tr th {\n",
       "        vertical-align: top;\n",
       "    }\n",
       "\n",
       "    .dataframe thead th {\n",
       "        text-align: right;\n",
       "    }\n",
       "</style>\n",
       "<table border=\"1\" class=\"dataframe\">\n",
       "  <thead>\n",
       "    <tr style=\"text-align: right;\">\n",
       "      <th></th>\n",
       "      <th>work_year</th>\n",
       "      <th>salary</th>\n",
       "      <th>salary_in_usd</th>\n",
       "      <th>remote_ratio</th>\n",
       "    </tr>\n",
       "  </thead>\n",
       "  <tbody>\n",
       "    <tr>\n",
       "      <th>count</th>\n",
       "      <td>3716.000000</td>\n",
       "      <td>3.716000e+03</td>\n",
       "      <td>3716.000000</td>\n",
       "      <td>3716.000000</td>\n",
       "    </tr>\n",
       "    <tr>\n",
       "      <th>mean</th>\n",
       "      <td>2022.367061</td>\n",
       "      <td>1.911340e+05</td>\n",
       "      <td>137449.668192</td>\n",
       "      <td>46.461249</td>\n",
       "    </tr>\n",
       "    <tr>\n",
       "      <th>std</th>\n",
       "      <td>0.692068</td>\n",
       "      <td>6.751461e+05</td>\n",
       "      <td>63022.374313</td>\n",
       "      <td>48.589708</td>\n",
       "    </tr>\n",
       "    <tr>\n",
       "      <th>min</th>\n",
       "      <td>2020.000000</td>\n",
       "      <td>6.000000e+03</td>\n",
       "      <td>5132.000000</td>\n",
       "      <td>0.000000</td>\n",
       "    </tr>\n",
       "    <tr>\n",
       "      <th>25%</th>\n",
       "      <td>2022.000000</td>\n",
       "      <td>1.000000e+05</td>\n",
       "      <td>95000.000000</td>\n",
       "      <td>0.000000</td>\n",
       "    </tr>\n",
       "    <tr>\n",
       "      <th>50%</th>\n",
       "      <td>2022.000000</td>\n",
       "      <td>1.375000e+05</td>\n",
       "      <td>135000.000000</td>\n",
       "      <td>0.000000</td>\n",
       "    </tr>\n",
       "    <tr>\n",
       "      <th>75%</th>\n",
       "      <td>2023.000000</td>\n",
       "      <td>1.800000e+05</td>\n",
       "      <td>175000.000000</td>\n",
       "      <td>100.000000</td>\n",
       "    </tr>\n",
       "    <tr>\n",
       "      <th>max</th>\n",
       "      <td>2023.000000</td>\n",
       "      <td>3.040000e+07</td>\n",
       "      <td>450000.000000</td>\n",
       "      <td>100.000000</td>\n",
       "    </tr>\n",
       "  </tbody>\n",
       "</table>\n",
       "</div>"
      ],
      "text/plain": [
       "         work_year        salary  salary_in_usd  remote_ratio\n",
       "count  3716.000000  3.716000e+03    3716.000000   3716.000000\n",
       "mean   2022.367061  1.911340e+05  137449.668192     46.461249\n",
       "std       0.692068  6.751461e+05   63022.374313     48.589708\n",
       "min    2020.000000  6.000000e+03    5132.000000      0.000000\n",
       "25%    2022.000000  1.000000e+05   95000.000000      0.000000\n",
       "50%    2022.000000  1.375000e+05  135000.000000      0.000000\n",
       "75%    2023.000000  1.800000e+05  175000.000000    100.000000\n",
       "max    2023.000000  3.040000e+07  450000.000000    100.000000"
      ]
     },
     "execution_count": 9,
     "metadata": {},
     "output_type": "execute_result"
    }
   ],
   "source": [
    "# descriptive statistics\n",
    "numerical_df.describe()"
   ]
  },
  {
   "attachments": {},
   "cell_type": "markdown",
   "metadata": {},
   "source": [
    "Insights:\n",
    " - The database contains records of salaries for professionals in the data career;\n",
    " - Attributes work_year and remote_ratio are examples of discrete nominal attributes;\n",
    " - The database contains records dating back to 2020;\n",
    " - 75% of professionals who work in data career receive up to $175,000 per year;\n",
    " - Employers offer different forms of work for professionals in the data career."
   ]
  },
  {
   "attachments": {},
   "cell_type": "markdown",
   "metadata": {},
   "source": [
    "# Univariate Analysis"
   ]
  },
  {
   "attachments": {},
   "cell_type": "markdown",
   "metadata": {},
   "source": [
    "Describe and analyze a single variable to obtain important information about it."
   ]
  },
  {
   "attachments": {},
   "cell_type": "markdown",
   "metadata": {},
   "source": [
    "## Categorical Attributes"
   ]
  },
  {
   "attachments": {},
   "cell_type": "markdown",
   "metadata": {},
   "source": [
    "### experience_level: The experience level in the job during the year"
   ]
  },
  {
   "cell_type": "code",
   "execution_count": 10,
   "metadata": {},
   "outputs": [
    {
     "data": {
      "text/plain": [
       "array(['EN', 'MI', 'SE', 'EX'], dtype=object)"
      ]
     },
     "execution_count": 10,
     "metadata": {},
     "output_type": "execute_result"
    }
   ],
   "source": [
    "# experience levels\n",
    "df[\"experience_level\"].unique()"
   ]
  },
  {
   "attachments": {},
   "cell_type": "markdown",
   "metadata": {},
   "source": [
    " - EN Entry-level / Junior\n",
    " - MI Mid-level / Intermediate\n",
    " - SE Senior-level / Expert\n",
    " - EX Executive-level / Director"
   ]
  },
  {
   "cell_type": "code",
   "execution_count": 11,
   "metadata": {},
   "outputs": [
    {
     "data": {
      "text/plain": [
       "experience_level\n",
       "SE    0.669268\n",
       "MI    0.214478\n",
       "EN    0.085576\n",
       "EX    0.030678\n",
       "Name: proportion, dtype: float64"
      ]
     },
     "execution_count": 11,
     "metadata": {},
     "output_type": "execute_result"
    }
   ],
   "source": [
    "df[\"experience_level\"].value_counts(normalize=True)"
   ]
  },
  {
   "cell_type": "code",
   "execution_count": 12,
   "metadata": {},
   "outputs": [
    {
     "data": {
      "application/vnd.plotly.v1+json": {
       "config": {
        "plotlyServerURL": "https://plot.ly"
       },
       "data": [
        {
         "hole": 0.5,
         "hoverinfo": "label+value",
         "insidetextorientation": "auto",
         "labels": [
          "Senior",
          "Mid-level",
          "Junior",
          "Executive"
         ],
         "marker": {
          "colors": [
           "rgb(0,0,0)",
           "rgb(37,37,37)",
           "rgb(82,82,82)",
           "rgb(115,115,115)",
           "rgb(150,150,150)",
           "rgb(189,189,189)",
           "rgb(217,217,217)",
           "rgb(240,240,240)",
           "rgb(255,255,255)"
          ]
         },
         "textinfo": "percent+label",
         "type": "pie",
         "values": [
          2487,
          797,
          318,
          114
         ]
        }
       ],
       "layout": {
        "annotations": [
         {
          "font": {
           "size": 20
          },
          "showarrow": false,
          "text": "3716",
          "x": 0.5,
          "y": 0.5
         }
        ],
        "template": {
         "data": {
          "bar": [
           {
            "error_x": {
             "color": "#2a3f5f"
            },
            "error_y": {
             "color": "#2a3f5f"
            },
            "marker": {
             "line": {
              "color": "#E5ECF6",
              "width": 0.5
             },
             "pattern": {
              "fillmode": "overlay",
              "size": 10,
              "solidity": 0.2
             }
            },
            "type": "bar"
           }
          ],
          "barpolar": [
           {
            "marker": {
             "line": {
              "color": "#E5ECF6",
              "width": 0.5
             },
             "pattern": {
              "fillmode": "overlay",
              "size": 10,
              "solidity": 0.2
             }
            },
            "type": "barpolar"
           }
          ],
          "carpet": [
           {
            "aaxis": {
             "endlinecolor": "#2a3f5f",
             "gridcolor": "white",
             "linecolor": "white",
             "minorgridcolor": "white",
             "startlinecolor": "#2a3f5f"
            },
            "baxis": {
             "endlinecolor": "#2a3f5f",
             "gridcolor": "white",
             "linecolor": "white",
             "minorgridcolor": "white",
             "startlinecolor": "#2a3f5f"
            },
            "type": "carpet"
           }
          ],
          "choropleth": [
           {
            "colorbar": {
             "outlinewidth": 0,
             "ticks": ""
            },
            "type": "choropleth"
           }
          ],
          "contour": [
           {
            "colorbar": {
             "outlinewidth": 0,
             "ticks": ""
            },
            "colorscale": [
             [
              0,
              "#0d0887"
             ],
             [
              0.1111111111111111,
              "#46039f"
             ],
             [
              0.2222222222222222,
              "#7201a8"
             ],
             [
              0.3333333333333333,
              "#9c179e"
             ],
             [
              0.4444444444444444,
              "#bd3786"
             ],
             [
              0.5555555555555556,
              "#d8576b"
             ],
             [
              0.6666666666666666,
              "#ed7953"
             ],
             [
              0.7777777777777778,
              "#fb9f3a"
             ],
             [
              0.8888888888888888,
              "#fdca26"
             ],
             [
              1,
              "#f0f921"
             ]
            ],
            "type": "contour"
           }
          ],
          "contourcarpet": [
           {
            "colorbar": {
             "outlinewidth": 0,
             "ticks": ""
            },
            "type": "contourcarpet"
           }
          ],
          "heatmap": [
           {
            "colorbar": {
             "outlinewidth": 0,
             "ticks": ""
            },
            "colorscale": [
             [
              0,
              "#0d0887"
             ],
             [
              0.1111111111111111,
              "#46039f"
             ],
             [
              0.2222222222222222,
              "#7201a8"
             ],
             [
              0.3333333333333333,
              "#9c179e"
             ],
             [
              0.4444444444444444,
              "#bd3786"
             ],
             [
              0.5555555555555556,
              "#d8576b"
             ],
             [
              0.6666666666666666,
              "#ed7953"
             ],
             [
              0.7777777777777778,
              "#fb9f3a"
             ],
             [
              0.8888888888888888,
              "#fdca26"
             ],
             [
              1,
              "#f0f921"
             ]
            ],
            "type": "heatmap"
           }
          ],
          "heatmapgl": [
           {
            "colorbar": {
             "outlinewidth": 0,
             "ticks": ""
            },
            "colorscale": [
             [
              0,
              "#0d0887"
             ],
             [
              0.1111111111111111,
              "#46039f"
             ],
             [
              0.2222222222222222,
              "#7201a8"
             ],
             [
              0.3333333333333333,
              "#9c179e"
             ],
             [
              0.4444444444444444,
              "#bd3786"
             ],
             [
              0.5555555555555556,
              "#d8576b"
             ],
             [
              0.6666666666666666,
              "#ed7953"
             ],
             [
              0.7777777777777778,
              "#fb9f3a"
             ],
             [
              0.8888888888888888,
              "#fdca26"
             ],
             [
              1,
              "#f0f921"
             ]
            ],
            "type": "heatmapgl"
           }
          ],
          "histogram": [
           {
            "marker": {
             "pattern": {
              "fillmode": "overlay",
              "size": 10,
              "solidity": 0.2
             }
            },
            "type": "histogram"
           }
          ],
          "histogram2d": [
           {
            "colorbar": {
             "outlinewidth": 0,
             "ticks": ""
            },
            "colorscale": [
             [
              0,
              "#0d0887"
             ],
             [
              0.1111111111111111,
              "#46039f"
             ],
             [
              0.2222222222222222,
              "#7201a8"
             ],
             [
              0.3333333333333333,
              "#9c179e"
             ],
             [
              0.4444444444444444,
              "#bd3786"
             ],
             [
              0.5555555555555556,
              "#d8576b"
             ],
             [
              0.6666666666666666,
              "#ed7953"
             ],
             [
              0.7777777777777778,
              "#fb9f3a"
             ],
             [
              0.8888888888888888,
              "#fdca26"
             ],
             [
              1,
              "#f0f921"
             ]
            ],
            "type": "histogram2d"
           }
          ],
          "histogram2dcontour": [
           {
            "colorbar": {
             "outlinewidth": 0,
             "ticks": ""
            },
            "colorscale": [
             [
              0,
              "#0d0887"
             ],
             [
              0.1111111111111111,
              "#46039f"
             ],
             [
              0.2222222222222222,
              "#7201a8"
             ],
             [
              0.3333333333333333,
              "#9c179e"
             ],
             [
              0.4444444444444444,
              "#bd3786"
             ],
             [
              0.5555555555555556,
              "#d8576b"
             ],
             [
              0.6666666666666666,
              "#ed7953"
             ],
             [
              0.7777777777777778,
              "#fb9f3a"
             ],
             [
              0.8888888888888888,
              "#fdca26"
             ],
             [
              1,
              "#f0f921"
             ]
            ],
            "type": "histogram2dcontour"
           }
          ],
          "mesh3d": [
           {
            "colorbar": {
             "outlinewidth": 0,
             "ticks": ""
            },
            "type": "mesh3d"
           }
          ],
          "parcoords": [
           {
            "line": {
             "colorbar": {
              "outlinewidth": 0,
              "ticks": ""
             }
            },
            "type": "parcoords"
           }
          ],
          "pie": [
           {
            "automargin": true,
            "type": "pie"
           }
          ],
          "scatter": [
           {
            "fillpattern": {
             "fillmode": "overlay",
             "size": 10,
             "solidity": 0.2
            },
            "type": "scatter"
           }
          ],
          "scatter3d": [
           {
            "line": {
             "colorbar": {
              "outlinewidth": 0,
              "ticks": ""
             }
            },
            "marker": {
             "colorbar": {
              "outlinewidth": 0,
              "ticks": ""
             }
            },
            "type": "scatter3d"
           }
          ],
          "scattercarpet": [
           {
            "marker": {
             "colorbar": {
              "outlinewidth": 0,
              "ticks": ""
             }
            },
            "type": "scattercarpet"
           }
          ],
          "scattergeo": [
           {
            "marker": {
             "colorbar": {
              "outlinewidth": 0,
              "ticks": ""
             }
            },
            "type": "scattergeo"
           }
          ],
          "scattergl": [
           {
            "marker": {
             "colorbar": {
              "outlinewidth": 0,
              "ticks": ""
             }
            },
            "type": "scattergl"
           }
          ],
          "scattermapbox": [
           {
            "marker": {
             "colorbar": {
              "outlinewidth": 0,
              "ticks": ""
             }
            },
            "type": "scattermapbox"
           }
          ],
          "scatterpolar": [
           {
            "marker": {
             "colorbar": {
              "outlinewidth": 0,
              "ticks": ""
             }
            },
            "type": "scatterpolar"
           }
          ],
          "scatterpolargl": [
           {
            "marker": {
             "colorbar": {
              "outlinewidth": 0,
              "ticks": ""
             }
            },
            "type": "scatterpolargl"
           }
          ],
          "scatterternary": [
           {
            "marker": {
             "colorbar": {
              "outlinewidth": 0,
              "ticks": ""
             }
            },
            "type": "scatterternary"
           }
          ],
          "surface": [
           {
            "colorbar": {
             "outlinewidth": 0,
             "ticks": ""
            },
            "colorscale": [
             [
              0,
              "#0d0887"
             ],
             [
              0.1111111111111111,
              "#46039f"
             ],
             [
              0.2222222222222222,
              "#7201a8"
             ],
             [
              0.3333333333333333,
              "#9c179e"
             ],
             [
              0.4444444444444444,
              "#bd3786"
             ],
             [
              0.5555555555555556,
              "#d8576b"
             ],
             [
              0.6666666666666666,
              "#ed7953"
             ],
             [
              0.7777777777777778,
              "#fb9f3a"
             ],
             [
              0.8888888888888888,
              "#fdca26"
             ],
             [
              1,
              "#f0f921"
             ]
            ],
            "type": "surface"
           }
          ],
          "table": [
           {
            "cells": {
             "fill": {
              "color": "#EBF0F8"
             },
             "line": {
              "color": "white"
             }
            },
            "header": {
             "fill": {
              "color": "#C8D4E3"
             },
             "line": {
              "color": "white"
             }
            },
            "type": "table"
           }
          ]
         },
         "layout": {
          "annotationdefaults": {
           "arrowcolor": "#2a3f5f",
           "arrowhead": 0,
           "arrowwidth": 1
          },
          "autotypenumbers": "strict",
          "coloraxis": {
           "colorbar": {
            "outlinewidth": 0,
            "ticks": ""
           }
          },
          "colorscale": {
           "diverging": [
            [
             0,
             "#8e0152"
            ],
            [
             0.1,
             "#c51b7d"
            ],
            [
             0.2,
             "#de77ae"
            ],
            [
             0.3,
             "#f1b6da"
            ],
            [
             0.4,
             "#fde0ef"
            ],
            [
             0.5,
             "#f7f7f7"
            ],
            [
             0.6,
             "#e6f5d0"
            ],
            [
             0.7,
             "#b8e186"
            ],
            [
             0.8,
             "#7fbc41"
            ],
            [
             0.9,
             "#4d9221"
            ],
            [
             1,
             "#276419"
            ]
           ],
           "sequential": [
            [
             0,
             "#0d0887"
            ],
            [
             0.1111111111111111,
             "#46039f"
            ],
            [
             0.2222222222222222,
             "#7201a8"
            ],
            [
             0.3333333333333333,
             "#9c179e"
            ],
            [
             0.4444444444444444,
             "#bd3786"
            ],
            [
             0.5555555555555556,
             "#d8576b"
            ],
            [
             0.6666666666666666,
             "#ed7953"
            ],
            [
             0.7777777777777778,
             "#fb9f3a"
            ],
            [
             0.8888888888888888,
             "#fdca26"
            ],
            [
             1,
             "#f0f921"
            ]
           ],
           "sequentialminus": [
            [
             0,
             "#0d0887"
            ],
            [
             0.1111111111111111,
             "#46039f"
            ],
            [
             0.2222222222222222,
             "#7201a8"
            ],
            [
             0.3333333333333333,
             "#9c179e"
            ],
            [
             0.4444444444444444,
             "#bd3786"
            ],
            [
             0.5555555555555556,
             "#d8576b"
            ],
            [
             0.6666666666666666,
             "#ed7953"
            ],
            [
             0.7777777777777778,
             "#fb9f3a"
            ],
            [
             0.8888888888888888,
             "#fdca26"
            ],
            [
             1,
             "#f0f921"
            ]
           ]
          },
          "colorway": [
           "#636efa",
           "#EF553B",
           "#00cc96",
           "#ab63fa",
           "#FFA15A",
           "#19d3f3",
           "#FF6692",
           "#B6E880",
           "#FF97FF",
           "#FECB52"
          ],
          "font": {
           "color": "#2a3f5f"
          },
          "geo": {
           "bgcolor": "white",
           "lakecolor": "white",
           "landcolor": "#E5ECF6",
           "showlakes": true,
           "showland": true,
           "subunitcolor": "white"
          },
          "hoverlabel": {
           "align": "left"
          },
          "hovermode": "closest",
          "mapbox": {
           "style": "light"
          },
          "paper_bgcolor": "white",
          "plot_bgcolor": "#E5ECF6",
          "polar": {
           "angularaxis": {
            "gridcolor": "white",
            "linecolor": "white",
            "ticks": ""
           },
           "bgcolor": "#E5ECF6",
           "radialaxis": {
            "gridcolor": "white",
            "linecolor": "white",
            "ticks": ""
           }
          },
          "scene": {
           "xaxis": {
            "backgroundcolor": "#E5ECF6",
            "gridcolor": "white",
            "gridwidth": 2,
            "linecolor": "white",
            "showbackground": true,
            "ticks": "",
            "zerolinecolor": "white"
           },
           "yaxis": {
            "backgroundcolor": "#E5ECF6",
            "gridcolor": "white",
            "gridwidth": 2,
            "linecolor": "white",
            "showbackground": true,
            "ticks": "",
            "zerolinecolor": "white"
           },
           "zaxis": {
            "backgroundcolor": "#E5ECF6",
            "gridcolor": "white",
            "gridwidth": 2,
            "linecolor": "white",
            "showbackground": true,
            "ticks": "",
            "zerolinecolor": "white"
           }
          },
          "shapedefaults": {
           "line": {
            "color": "#2a3f5f"
           }
          },
          "ternary": {
           "aaxis": {
            "gridcolor": "white",
            "linecolor": "white",
            "ticks": ""
           },
           "baxis": {
            "gridcolor": "white",
            "linecolor": "white",
            "ticks": ""
           },
           "bgcolor": "#E5ECF6",
           "caxis": {
            "gridcolor": "white",
            "linecolor": "white",
            "ticks": ""
           }
          },
          "title": {
           "x": 0.05
          },
          "xaxis": {
           "automargin": true,
           "gridcolor": "white",
           "linecolor": "white",
           "ticks": "",
           "title": {
            "standoff": 15
           },
           "zerolinecolor": "white",
           "zerolinewidth": 2
          },
          "yaxis": {
           "automargin": true,
           "gridcolor": "white",
           "linecolor": "white",
           "ticks": "",
           "title": {
            "standoff": 15
           },
           "zerolinecolor": "white",
           "zerolinewidth": 2
          }
         }
        },
        "title": {
         "text": "Level of experience of professionals in the data career",
         "x": 0.5
        }
       }
      }
     },
     "metadata": {},
     "output_type": "display_data"
    }
   ],
   "source": [
    "data = df[\"experience_level\"].replace(\n",
    "    {\"SE\": \"Senior\", \"MI\": \"Mid-level\", \"EN\": \"Junior\", \"EX\": \"Executive\"}\n",
    ")\n",
    "\n",
    "# counts of unique values\n",
    "unique_values = data.value_counts()\n",
    "\n",
    "# frequency of values and the labels\n",
    "freq = unique_values.values\n",
    "labels = unique_values.index.values\n",
    "\n",
    "# sum of total experience levels\n",
    "total = sum(freq)\n",
    "\n",
    "# Cria a anotação com o valor total\n",
    "annotation = dict(font=dict(size=20), showarrow=False, text=str(total), x=0.5, y=0.5)\n",
    "\n",
    "# Criar o gráfico de rosca\n",
    "data = [\n",
    "    go.Pie(\n",
    "        labels=labels,\n",
    "        values=freq,\n",
    "        hole=0.5,\n",
    "        marker=dict(colors=list(reversed(colors.sequential.Greys))),\n",
    "        textinfo=\"percent+label\",\n",
    "        insidetextorientation=\"auto\",\n",
    "        hoverinfo=\"label+value\",\n",
    "    )\n",
    "]\n",
    "\n",
    "# Cria o layout do gráfico\n",
    "layout = go.Layout(\n",
    "    title={\n",
    "        \"text\": \"Level of experience of professionals in the data career\",\n",
    "        \"x\": 0.5,\n",
    "        # \"xanchor\": \"center\",\n",
    "    },\n",
    "    # width=700,\n",
    "    # height=700,\n",
    "    annotations=[annotation],\n",
    ")\n",
    "\n",
    "# Adicionar título\n",
    "fig = go.Figure(data=data, layout=layout)\n",
    "\n",
    "# Mostrar o gráfico\n",
    "fig.show()"
   ]
  },
  {
   "attachments": {},
   "cell_type": "markdown",
   "metadata": {},
   "source": [
    "### employment_type: The type of employement for the role"
   ]
  },
  {
   "cell_type": "code",
   "execution_count": 13,
   "metadata": {},
   "outputs": [
    {
     "data": {
      "text/plain": [
       "array(['FT', 'FL', 'PT', 'CT'], dtype=object)"
      ]
     },
     "execution_count": 13,
     "metadata": {},
     "output_type": "execute_result"
    }
   ],
   "source": [
    "# employment type\n",
    "df[\"employment_type\"].unique()"
   ]
  },
  {
   "attachments": {},
   "cell_type": "markdown",
   "metadata": {},
   "source": [
    " - PT: Part-time\n",
    " - FT: Full-time\n",
    " - CT: Contract\n",
    " - FL: Freelance"
   ]
  },
  {
   "cell_type": "code",
   "execution_count": 14,
   "metadata": {},
   "outputs": [
    {
     "data": {
      "text/plain": [
       "employment_type\n",
       "FT    0.990581\n",
       "PT    0.004575\n",
       "FL    0.002691\n",
       "CT    0.002153\n",
       "Name: proportion, dtype: float64"
      ]
     },
     "execution_count": 14,
     "metadata": {},
     "output_type": "execute_result"
    }
   ],
   "source": [
    "df[\"employment_type\"].value_counts(normalize=True)"
   ]
  },
  {
   "attachments": {},
   "cell_type": "markdown",
   "metadata": {},
   "source": [
    "Most professionals in the data field work under the full-time hiring modality. However, we can notice an extremely concentrated distribution in this modality, so we will include other hiring modalities to improve visualization."
   ]
  },
  {
   "cell_type": "code",
   "execution_count": 15,
   "metadata": {},
   "outputs": [
    {
     "data": {
      "application/vnd.plotly.v1+json": {
       "config": {
        "plotlyServerURL": "https://plot.ly"
       },
       "data": [
        {
         "hole": 0.5,
         "hoverinfo": "label+value",
         "insidetextorientation": "auto",
         "labels": [
          "Full-time",
          "Others"
         ],
         "marker": {
          "colors": [
           "rgb(0,0,0)",
           "rgb(37,37,37)",
           "rgb(82,82,82)",
           "rgb(115,115,115)",
           "rgb(150,150,150)",
           "rgb(189,189,189)",
           "rgb(217,217,217)",
           "rgb(240,240,240)",
           "rgb(255,255,255)"
          ]
         },
         "textinfo": "percent+label",
         "type": "pie",
         "values": [
          3681,
          35
         ]
        }
       ],
       "layout": {
        "annotations": [
         {
          "font": {
           "size": 20
          },
          "showarrow": false,
          "text": "3716",
          "x": 0.5,
          "y": 0.5
         }
        ],
        "template": {
         "data": {
          "bar": [
           {
            "error_x": {
             "color": "#2a3f5f"
            },
            "error_y": {
             "color": "#2a3f5f"
            },
            "marker": {
             "line": {
              "color": "#E5ECF6",
              "width": 0.5
             },
             "pattern": {
              "fillmode": "overlay",
              "size": 10,
              "solidity": 0.2
             }
            },
            "type": "bar"
           }
          ],
          "barpolar": [
           {
            "marker": {
             "line": {
              "color": "#E5ECF6",
              "width": 0.5
             },
             "pattern": {
              "fillmode": "overlay",
              "size": 10,
              "solidity": 0.2
             }
            },
            "type": "barpolar"
           }
          ],
          "carpet": [
           {
            "aaxis": {
             "endlinecolor": "#2a3f5f",
             "gridcolor": "white",
             "linecolor": "white",
             "minorgridcolor": "white",
             "startlinecolor": "#2a3f5f"
            },
            "baxis": {
             "endlinecolor": "#2a3f5f",
             "gridcolor": "white",
             "linecolor": "white",
             "minorgridcolor": "white",
             "startlinecolor": "#2a3f5f"
            },
            "type": "carpet"
           }
          ],
          "choropleth": [
           {
            "colorbar": {
             "outlinewidth": 0,
             "ticks": ""
            },
            "type": "choropleth"
           }
          ],
          "contour": [
           {
            "colorbar": {
             "outlinewidth": 0,
             "ticks": ""
            },
            "colorscale": [
             [
              0,
              "#0d0887"
             ],
             [
              0.1111111111111111,
              "#46039f"
             ],
             [
              0.2222222222222222,
              "#7201a8"
             ],
             [
              0.3333333333333333,
              "#9c179e"
             ],
             [
              0.4444444444444444,
              "#bd3786"
             ],
             [
              0.5555555555555556,
              "#d8576b"
             ],
             [
              0.6666666666666666,
              "#ed7953"
             ],
             [
              0.7777777777777778,
              "#fb9f3a"
             ],
             [
              0.8888888888888888,
              "#fdca26"
             ],
             [
              1,
              "#f0f921"
             ]
            ],
            "type": "contour"
           }
          ],
          "contourcarpet": [
           {
            "colorbar": {
             "outlinewidth": 0,
             "ticks": ""
            },
            "type": "contourcarpet"
           }
          ],
          "heatmap": [
           {
            "colorbar": {
             "outlinewidth": 0,
             "ticks": ""
            },
            "colorscale": [
             [
              0,
              "#0d0887"
             ],
             [
              0.1111111111111111,
              "#46039f"
             ],
             [
              0.2222222222222222,
              "#7201a8"
             ],
             [
              0.3333333333333333,
              "#9c179e"
             ],
             [
              0.4444444444444444,
              "#bd3786"
             ],
             [
              0.5555555555555556,
              "#d8576b"
             ],
             [
              0.6666666666666666,
              "#ed7953"
             ],
             [
              0.7777777777777778,
              "#fb9f3a"
             ],
             [
              0.8888888888888888,
              "#fdca26"
             ],
             [
              1,
              "#f0f921"
             ]
            ],
            "type": "heatmap"
           }
          ],
          "heatmapgl": [
           {
            "colorbar": {
             "outlinewidth": 0,
             "ticks": ""
            },
            "colorscale": [
             [
              0,
              "#0d0887"
             ],
             [
              0.1111111111111111,
              "#46039f"
             ],
             [
              0.2222222222222222,
              "#7201a8"
             ],
             [
              0.3333333333333333,
              "#9c179e"
             ],
             [
              0.4444444444444444,
              "#bd3786"
             ],
             [
              0.5555555555555556,
              "#d8576b"
             ],
             [
              0.6666666666666666,
              "#ed7953"
             ],
             [
              0.7777777777777778,
              "#fb9f3a"
             ],
             [
              0.8888888888888888,
              "#fdca26"
             ],
             [
              1,
              "#f0f921"
             ]
            ],
            "type": "heatmapgl"
           }
          ],
          "histogram": [
           {
            "marker": {
             "pattern": {
              "fillmode": "overlay",
              "size": 10,
              "solidity": 0.2
             }
            },
            "type": "histogram"
           }
          ],
          "histogram2d": [
           {
            "colorbar": {
             "outlinewidth": 0,
             "ticks": ""
            },
            "colorscale": [
             [
              0,
              "#0d0887"
             ],
             [
              0.1111111111111111,
              "#46039f"
             ],
             [
              0.2222222222222222,
              "#7201a8"
             ],
             [
              0.3333333333333333,
              "#9c179e"
             ],
             [
              0.4444444444444444,
              "#bd3786"
             ],
             [
              0.5555555555555556,
              "#d8576b"
             ],
             [
              0.6666666666666666,
              "#ed7953"
             ],
             [
              0.7777777777777778,
              "#fb9f3a"
             ],
             [
              0.8888888888888888,
              "#fdca26"
             ],
             [
              1,
              "#f0f921"
             ]
            ],
            "type": "histogram2d"
           }
          ],
          "histogram2dcontour": [
           {
            "colorbar": {
             "outlinewidth": 0,
             "ticks": ""
            },
            "colorscale": [
             [
              0,
              "#0d0887"
             ],
             [
              0.1111111111111111,
              "#46039f"
             ],
             [
              0.2222222222222222,
              "#7201a8"
             ],
             [
              0.3333333333333333,
              "#9c179e"
             ],
             [
              0.4444444444444444,
              "#bd3786"
             ],
             [
              0.5555555555555556,
              "#d8576b"
             ],
             [
              0.6666666666666666,
              "#ed7953"
             ],
             [
              0.7777777777777778,
              "#fb9f3a"
             ],
             [
              0.8888888888888888,
              "#fdca26"
             ],
             [
              1,
              "#f0f921"
             ]
            ],
            "type": "histogram2dcontour"
           }
          ],
          "mesh3d": [
           {
            "colorbar": {
             "outlinewidth": 0,
             "ticks": ""
            },
            "type": "mesh3d"
           }
          ],
          "parcoords": [
           {
            "line": {
             "colorbar": {
              "outlinewidth": 0,
              "ticks": ""
             }
            },
            "type": "parcoords"
           }
          ],
          "pie": [
           {
            "automargin": true,
            "type": "pie"
           }
          ],
          "scatter": [
           {
            "fillpattern": {
             "fillmode": "overlay",
             "size": 10,
             "solidity": 0.2
            },
            "type": "scatter"
           }
          ],
          "scatter3d": [
           {
            "line": {
             "colorbar": {
              "outlinewidth": 0,
              "ticks": ""
             }
            },
            "marker": {
             "colorbar": {
              "outlinewidth": 0,
              "ticks": ""
             }
            },
            "type": "scatter3d"
           }
          ],
          "scattercarpet": [
           {
            "marker": {
             "colorbar": {
              "outlinewidth": 0,
              "ticks": ""
             }
            },
            "type": "scattercarpet"
           }
          ],
          "scattergeo": [
           {
            "marker": {
             "colorbar": {
              "outlinewidth": 0,
              "ticks": ""
             }
            },
            "type": "scattergeo"
           }
          ],
          "scattergl": [
           {
            "marker": {
             "colorbar": {
              "outlinewidth": 0,
              "ticks": ""
             }
            },
            "type": "scattergl"
           }
          ],
          "scattermapbox": [
           {
            "marker": {
             "colorbar": {
              "outlinewidth": 0,
              "ticks": ""
             }
            },
            "type": "scattermapbox"
           }
          ],
          "scatterpolar": [
           {
            "marker": {
             "colorbar": {
              "outlinewidth": 0,
              "ticks": ""
             }
            },
            "type": "scatterpolar"
           }
          ],
          "scatterpolargl": [
           {
            "marker": {
             "colorbar": {
              "outlinewidth": 0,
              "ticks": ""
             }
            },
            "type": "scatterpolargl"
           }
          ],
          "scatterternary": [
           {
            "marker": {
             "colorbar": {
              "outlinewidth": 0,
              "ticks": ""
             }
            },
            "type": "scatterternary"
           }
          ],
          "surface": [
           {
            "colorbar": {
             "outlinewidth": 0,
             "ticks": ""
            },
            "colorscale": [
             [
              0,
              "#0d0887"
             ],
             [
              0.1111111111111111,
              "#46039f"
             ],
             [
              0.2222222222222222,
              "#7201a8"
             ],
             [
              0.3333333333333333,
              "#9c179e"
             ],
             [
              0.4444444444444444,
              "#bd3786"
             ],
             [
              0.5555555555555556,
              "#d8576b"
             ],
             [
              0.6666666666666666,
              "#ed7953"
             ],
             [
              0.7777777777777778,
              "#fb9f3a"
             ],
             [
              0.8888888888888888,
              "#fdca26"
             ],
             [
              1,
              "#f0f921"
             ]
            ],
            "type": "surface"
           }
          ],
          "table": [
           {
            "cells": {
             "fill": {
              "color": "#EBF0F8"
             },
             "line": {
              "color": "white"
             }
            },
            "header": {
             "fill": {
              "color": "#C8D4E3"
             },
             "line": {
              "color": "white"
             }
            },
            "type": "table"
           }
          ]
         },
         "layout": {
          "annotationdefaults": {
           "arrowcolor": "#2a3f5f",
           "arrowhead": 0,
           "arrowwidth": 1
          },
          "autotypenumbers": "strict",
          "coloraxis": {
           "colorbar": {
            "outlinewidth": 0,
            "ticks": ""
           }
          },
          "colorscale": {
           "diverging": [
            [
             0,
             "#8e0152"
            ],
            [
             0.1,
             "#c51b7d"
            ],
            [
             0.2,
             "#de77ae"
            ],
            [
             0.3,
             "#f1b6da"
            ],
            [
             0.4,
             "#fde0ef"
            ],
            [
             0.5,
             "#f7f7f7"
            ],
            [
             0.6,
             "#e6f5d0"
            ],
            [
             0.7,
             "#b8e186"
            ],
            [
             0.8,
             "#7fbc41"
            ],
            [
             0.9,
             "#4d9221"
            ],
            [
             1,
             "#276419"
            ]
           ],
           "sequential": [
            [
             0,
             "#0d0887"
            ],
            [
             0.1111111111111111,
             "#46039f"
            ],
            [
             0.2222222222222222,
             "#7201a8"
            ],
            [
             0.3333333333333333,
             "#9c179e"
            ],
            [
             0.4444444444444444,
             "#bd3786"
            ],
            [
             0.5555555555555556,
             "#d8576b"
            ],
            [
             0.6666666666666666,
             "#ed7953"
            ],
            [
             0.7777777777777778,
             "#fb9f3a"
            ],
            [
             0.8888888888888888,
             "#fdca26"
            ],
            [
             1,
             "#f0f921"
            ]
           ],
           "sequentialminus": [
            [
             0,
             "#0d0887"
            ],
            [
             0.1111111111111111,
             "#46039f"
            ],
            [
             0.2222222222222222,
             "#7201a8"
            ],
            [
             0.3333333333333333,
             "#9c179e"
            ],
            [
             0.4444444444444444,
             "#bd3786"
            ],
            [
             0.5555555555555556,
             "#d8576b"
            ],
            [
             0.6666666666666666,
             "#ed7953"
            ],
            [
             0.7777777777777778,
             "#fb9f3a"
            ],
            [
             0.8888888888888888,
             "#fdca26"
            ],
            [
             1,
             "#f0f921"
            ]
           ]
          },
          "colorway": [
           "#636efa",
           "#EF553B",
           "#00cc96",
           "#ab63fa",
           "#FFA15A",
           "#19d3f3",
           "#FF6692",
           "#B6E880",
           "#FF97FF",
           "#FECB52"
          ],
          "font": {
           "color": "#2a3f5f"
          },
          "geo": {
           "bgcolor": "white",
           "lakecolor": "white",
           "landcolor": "#E5ECF6",
           "showlakes": true,
           "showland": true,
           "subunitcolor": "white"
          },
          "hoverlabel": {
           "align": "left"
          },
          "hovermode": "closest",
          "mapbox": {
           "style": "light"
          },
          "paper_bgcolor": "white",
          "plot_bgcolor": "#E5ECF6",
          "polar": {
           "angularaxis": {
            "gridcolor": "white",
            "linecolor": "white",
            "ticks": ""
           },
           "bgcolor": "#E5ECF6",
           "radialaxis": {
            "gridcolor": "white",
            "linecolor": "white",
            "ticks": ""
           }
          },
          "scene": {
           "xaxis": {
            "backgroundcolor": "#E5ECF6",
            "gridcolor": "white",
            "gridwidth": 2,
            "linecolor": "white",
            "showbackground": true,
            "ticks": "",
            "zerolinecolor": "white"
           },
           "yaxis": {
            "backgroundcolor": "#E5ECF6",
            "gridcolor": "white",
            "gridwidth": 2,
            "linecolor": "white",
            "showbackground": true,
            "ticks": "",
            "zerolinecolor": "white"
           },
           "zaxis": {
            "backgroundcolor": "#E5ECF6",
            "gridcolor": "white",
            "gridwidth": 2,
            "linecolor": "white",
            "showbackground": true,
            "ticks": "",
            "zerolinecolor": "white"
           }
          },
          "shapedefaults": {
           "line": {
            "color": "#2a3f5f"
           }
          },
          "ternary": {
           "aaxis": {
            "gridcolor": "white",
            "linecolor": "white",
            "ticks": ""
           },
           "baxis": {
            "gridcolor": "white",
            "linecolor": "white",
            "ticks": ""
           },
           "bgcolor": "#E5ECF6",
           "caxis": {
            "gridcolor": "white",
            "linecolor": "white",
            "ticks": ""
           }
          },
          "title": {
           "x": 0.05
          },
          "xaxis": {
           "automargin": true,
           "gridcolor": "white",
           "linecolor": "white",
           "ticks": "",
           "title": {
            "standoff": 15
           },
           "zerolinecolor": "white",
           "zerolinewidth": 2
          },
          "yaxis": {
           "automargin": true,
           "gridcolor": "white",
           "linecolor": "white",
           "ticks": "",
           "title": {
            "standoff": 15
           },
           "zerolinecolor": "white",
           "zerolinewidth": 2
          }
         }
        },
        "title": {
         "text": "Type of employment for data professionals",
         "x": 0.5
        }
       }
      }
     },
     "metadata": {},
     "output_type": "display_data"
    }
   ],
   "source": [
    "data = df[\"employment_type\"].replace(\n",
    "    {\"PT\": \"Part-time\", \"FT\": \"Full-time\", \"CT\": \"Contract\", \"FL\": \"Freelance\"}\n",
    ")\n",
    "\n",
    "# counts of unique values\n",
    "unique_values = data.value_counts()\n",
    "\n",
    "top_labels = unique_values.index.values[:1].tolist()\n",
    "top_values = unique_values.values[:1].tolist()\n",
    "\n",
    "# sum of total jobs registered\n",
    "total = sum(unique_values.values)\n",
    "\n",
    "# sum of other jobs\n",
    "others = sum(unique_values.values[1:])\n",
    "\n",
    "values = top_values + [others]\n",
    "labels = top_labels + [\"Others\"]\n",
    "\n",
    "data_dict = dict(zip(labels, values))\n",
    "\n",
    "# Ordenar o dicionário pelos valores em ordem crescente\n",
    "data_dict_ordered = dict(\n",
    "    sorted(data_dict.items(), key=lambda item: item[1], reverse=True)\n",
    ")\n",
    "\n",
    "\n",
    "# Cria a anotação com o valor total\n",
    "annotation = dict(font=dict(size=20), showarrow=False, text=str(total), x=0.5, y=0.5)\n",
    "\n",
    "# Criar o gráfico de rosca\n",
    "data = [\n",
    "    go.Pie(\n",
    "        labels=list(data_dict_ordered.keys()),\n",
    "        values=list(data_dict_ordered.values()),\n",
    "        hole=0.5,\n",
    "        marker=dict(colors=list(reversed(colors.sequential.Greys))),\n",
    "        textinfo=\"percent+label\",\n",
    "        insidetextorientation=\"auto\",\n",
    "        hoverinfo=\"label+value\",\n",
    "    )\n",
    "]\n",
    "\n",
    "# Cria o layout do gráfico\n",
    "layout = go.Layout(\n",
    "    title={\n",
    "        \"text\": \"Type of employment for data professionals\",\n",
    "        \"x\": 0.5,\n",
    "        # \"xanchor\": \"right\",\n",
    "    },\n",
    "    # width=700,\n",
    "    # height=900,\n",
    "    annotations=[annotation],\n",
    ")\n",
    "\n",
    "# Adicionar título\n",
    "fig = go.Figure(data=data, layout=layout)\n",
    "\n",
    "# Mostrar o gráfico\n",
    "fig.show()"
   ]
  },
  {
   "attachments": {},
   "cell_type": "markdown",
   "metadata": {},
   "source": [
    "### job_title: The role worked in during the year."
   ]
  },
  {
   "cell_type": "code",
   "execution_count": 16,
   "metadata": {},
   "outputs": [
    {
     "data": {
      "text/plain": [
       "job_title\n",
       "Data Engineer                1036\n",
       "Data Scientist                832\n",
       "Data Analyst                  606\n",
       "Machine Learning Engineer     287\n",
       "Data Architect                101\n",
       "                             ... \n",
       "Compliance Data Analyst         1\n",
       "BI Data Engineer                1\n",
       "Data DevOps Engineer            1\n",
       "Staff Data Analyst              1\n",
       "Finance Data Analyst            1\n",
       "Name: count, Length: 91, dtype: int64"
      ]
     },
     "execution_count": 16,
     "metadata": {},
     "output_type": "execute_result"
    }
   ],
   "source": [
    "df[\"job_title\"].value_counts()"
   ]
  },
  {
   "attachments": {},
   "cell_type": "markdown",
   "metadata": {},
   "source": [
    "There are numerous job titles for data professionals. At this point, we could adopt a technique to categorize these titles into groups, but that will be for the feature engineering chapter. For simplicity, we will analyze only the titles with the highest occurrence."
   ]
  },
  {
   "cell_type": "code",
   "execution_count": 17,
   "metadata": {},
   "outputs": [
    {
     "data": {
      "text/plain": [
       "'import matplotlib.colors as mcolors\\n\\n# Cria a paleta de cores\\ncmap = mcolors.LinearSegmentedColormap.from_list(\\'black_to_white\\', [\\'#000000\\', \\'#ffffff\\'])\\n\\npalavras = df[\"job_title\"].values\\n\\n# Cria um objeto WordCloud com as palavras do array e a paleta de cores personalizada\\nnuvem_palavras = WordCloud(background_color=\\'white\\', width=1800, height=720, colormap=cmap, max_words=50).generate(\\' \\'.join(palavras))\\n\\n# Cria o gráfico\\nfig, ax = plt.subplots(figsize=(22, 8))\\nax.imshow(nuvem_palavras, interpolation=\\'bilinear\\')\\nax.axis(\"off\")\\nplt.show()'"
      ]
     },
     "execution_count": 17,
     "metadata": {},
     "output_type": "execute_result"
    }
   ],
   "source": [
    "\"\"\"import matplotlib.colors as mcolors\n",
    "\n",
    "# Cria a paleta de cores\n",
    "cmap = mcolors.LinearSegmentedColormap.from_list('black_to_white', ['#000000', '#ffffff'])\n",
    "\n",
    "palavras = df[\"job_title\"].values\n",
    "\n",
    "# Cria um objeto WordCloud com as palavras do array e a paleta de cores personalizada\n",
    "nuvem_palavras = WordCloud(background_color='white', width=1800, height=720, colormap=cmap, max_words=50).generate(' '.join(palavras))\n",
    "\n",
    "# Cria o gráfico\n",
    "fig, ax = plt.subplots(figsize=(22, 8))\n",
    "ax.imshow(nuvem_palavras, interpolation='bilinear')\n",
    "ax.axis(\"off\")\n",
    "plt.show()\"\"\""
   ]
  },
  {
   "cell_type": "code",
   "execution_count": 18,
   "metadata": {},
   "outputs": [
    {
     "data": {
      "application/vnd.plotly.v1+json": {
       "config": {
        "plotlyServerURL": "https://plot.ly"
       },
       "data": [
        {
         "hole": 0.5,
         "hoverinfo": "label+value",
         "insidetextorientation": "auto",
         "labels": [
          "Data Engineer",
          "Others",
          "Data Scientist",
          "Data Analyst",
          "Machine Learning Engineer",
          "Data Architect"
         ],
         "marker": {
          "colors": [
           "rgb(0,0,0)",
           "rgb(37,37,37)",
           "rgb(82,82,82)",
           "rgb(115,115,115)",
           "rgb(150,150,150)",
           "rgb(189,189,189)",
           "rgb(217,217,217)",
           "rgb(240,240,240)",
           "rgb(255,255,255)"
          ]
         },
         "textinfo": "percent+label",
         "type": "pie",
         "values": [
          1036,
          854,
          832,
          606,
          287,
          101
         ]
        }
       ],
       "layout": {
        "annotations": [
         {
          "font": {
           "size": 20
          },
          "showarrow": false,
          "text": "3716",
          "x": 0.5,
          "y": 0.5
         }
        ],
        "template": {
         "data": {
          "bar": [
           {
            "error_x": {
             "color": "#2a3f5f"
            },
            "error_y": {
             "color": "#2a3f5f"
            },
            "marker": {
             "line": {
              "color": "#E5ECF6",
              "width": 0.5
             },
             "pattern": {
              "fillmode": "overlay",
              "size": 10,
              "solidity": 0.2
             }
            },
            "type": "bar"
           }
          ],
          "barpolar": [
           {
            "marker": {
             "line": {
              "color": "#E5ECF6",
              "width": 0.5
             },
             "pattern": {
              "fillmode": "overlay",
              "size": 10,
              "solidity": 0.2
             }
            },
            "type": "barpolar"
           }
          ],
          "carpet": [
           {
            "aaxis": {
             "endlinecolor": "#2a3f5f",
             "gridcolor": "white",
             "linecolor": "white",
             "minorgridcolor": "white",
             "startlinecolor": "#2a3f5f"
            },
            "baxis": {
             "endlinecolor": "#2a3f5f",
             "gridcolor": "white",
             "linecolor": "white",
             "minorgridcolor": "white",
             "startlinecolor": "#2a3f5f"
            },
            "type": "carpet"
           }
          ],
          "choropleth": [
           {
            "colorbar": {
             "outlinewidth": 0,
             "ticks": ""
            },
            "type": "choropleth"
           }
          ],
          "contour": [
           {
            "colorbar": {
             "outlinewidth": 0,
             "ticks": ""
            },
            "colorscale": [
             [
              0,
              "#0d0887"
             ],
             [
              0.1111111111111111,
              "#46039f"
             ],
             [
              0.2222222222222222,
              "#7201a8"
             ],
             [
              0.3333333333333333,
              "#9c179e"
             ],
             [
              0.4444444444444444,
              "#bd3786"
             ],
             [
              0.5555555555555556,
              "#d8576b"
             ],
             [
              0.6666666666666666,
              "#ed7953"
             ],
             [
              0.7777777777777778,
              "#fb9f3a"
             ],
             [
              0.8888888888888888,
              "#fdca26"
             ],
             [
              1,
              "#f0f921"
             ]
            ],
            "type": "contour"
           }
          ],
          "contourcarpet": [
           {
            "colorbar": {
             "outlinewidth": 0,
             "ticks": ""
            },
            "type": "contourcarpet"
           }
          ],
          "heatmap": [
           {
            "colorbar": {
             "outlinewidth": 0,
             "ticks": ""
            },
            "colorscale": [
             [
              0,
              "#0d0887"
             ],
             [
              0.1111111111111111,
              "#46039f"
             ],
             [
              0.2222222222222222,
              "#7201a8"
             ],
             [
              0.3333333333333333,
              "#9c179e"
             ],
             [
              0.4444444444444444,
              "#bd3786"
             ],
             [
              0.5555555555555556,
              "#d8576b"
             ],
             [
              0.6666666666666666,
              "#ed7953"
             ],
             [
              0.7777777777777778,
              "#fb9f3a"
             ],
             [
              0.8888888888888888,
              "#fdca26"
             ],
             [
              1,
              "#f0f921"
             ]
            ],
            "type": "heatmap"
           }
          ],
          "heatmapgl": [
           {
            "colorbar": {
             "outlinewidth": 0,
             "ticks": ""
            },
            "colorscale": [
             [
              0,
              "#0d0887"
             ],
             [
              0.1111111111111111,
              "#46039f"
             ],
             [
              0.2222222222222222,
              "#7201a8"
             ],
             [
              0.3333333333333333,
              "#9c179e"
             ],
             [
              0.4444444444444444,
              "#bd3786"
             ],
             [
              0.5555555555555556,
              "#d8576b"
             ],
             [
              0.6666666666666666,
              "#ed7953"
             ],
             [
              0.7777777777777778,
              "#fb9f3a"
             ],
             [
              0.8888888888888888,
              "#fdca26"
             ],
             [
              1,
              "#f0f921"
             ]
            ],
            "type": "heatmapgl"
           }
          ],
          "histogram": [
           {
            "marker": {
             "pattern": {
              "fillmode": "overlay",
              "size": 10,
              "solidity": 0.2
             }
            },
            "type": "histogram"
           }
          ],
          "histogram2d": [
           {
            "colorbar": {
             "outlinewidth": 0,
             "ticks": ""
            },
            "colorscale": [
             [
              0,
              "#0d0887"
             ],
             [
              0.1111111111111111,
              "#46039f"
             ],
             [
              0.2222222222222222,
              "#7201a8"
             ],
             [
              0.3333333333333333,
              "#9c179e"
             ],
             [
              0.4444444444444444,
              "#bd3786"
             ],
             [
              0.5555555555555556,
              "#d8576b"
             ],
             [
              0.6666666666666666,
              "#ed7953"
             ],
             [
              0.7777777777777778,
              "#fb9f3a"
             ],
             [
              0.8888888888888888,
              "#fdca26"
             ],
             [
              1,
              "#f0f921"
             ]
            ],
            "type": "histogram2d"
           }
          ],
          "histogram2dcontour": [
           {
            "colorbar": {
             "outlinewidth": 0,
             "ticks": ""
            },
            "colorscale": [
             [
              0,
              "#0d0887"
             ],
             [
              0.1111111111111111,
              "#46039f"
             ],
             [
              0.2222222222222222,
              "#7201a8"
             ],
             [
              0.3333333333333333,
              "#9c179e"
             ],
             [
              0.4444444444444444,
              "#bd3786"
             ],
             [
              0.5555555555555556,
              "#d8576b"
             ],
             [
              0.6666666666666666,
              "#ed7953"
             ],
             [
              0.7777777777777778,
              "#fb9f3a"
             ],
             [
              0.8888888888888888,
              "#fdca26"
             ],
             [
              1,
              "#f0f921"
             ]
            ],
            "type": "histogram2dcontour"
           }
          ],
          "mesh3d": [
           {
            "colorbar": {
             "outlinewidth": 0,
             "ticks": ""
            },
            "type": "mesh3d"
           }
          ],
          "parcoords": [
           {
            "line": {
             "colorbar": {
              "outlinewidth": 0,
              "ticks": ""
             }
            },
            "type": "parcoords"
           }
          ],
          "pie": [
           {
            "automargin": true,
            "type": "pie"
           }
          ],
          "scatter": [
           {
            "fillpattern": {
             "fillmode": "overlay",
             "size": 10,
             "solidity": 0.2
            },
            "type": "scatter"
           }
          ],
          "scatter3d": [
           {
            "line": {
             "colorbar": {
              "outlinewidth": 0,
              "ticks": ""
             }
            },
            "marker": {
             "colorbar": {
              "outlinewidth": 0,
              "ticks": ""
             }
            },
            "type": "scatter3d"
           }
          ],
          "scattercarpet": [
           {
            "marker": {
             "colorbar": {
              "outlinewidth": 0,
              "ticks": ""
             }
            },
            "type": "scattercarpet"
           }
          ],
          "scattergeo": [
           {
            "marker": {
             "colorbar": {
              "outlinewidth": 0,
              "ticks": ""
             }
            },
            "type": "scattergeo"
           }
          ],
          "scattergl": [
           {
            "marker": {
             "colorbar": {
              "outlinewidth": 0,
              "ticks": ""
             }
            },
            "type": "scattergl"
           }
          ],
          "scattermapbox": [
           {
            "marker": {
             "colorbar": {
              "outlinewidth": 0,
              "ticks": ""
             }
            },
            "type": "scattermapbox"
           }
          ],
          "scatterpolar": [
           {
            "marker": {
             "colorbar": {
              "outlinewidth": 0,
              "ticks": ""
             }
            },
            "type": "scatterpolar"
           }
          ],
          "scatterpolargl": [
           {
            "marker": {
             "colorbar": {
              "outlinewidth": 0,
              "ticks": ""
             }
            },
            "type": "scatterpolargl"
           }
          ],
          "scatterternary": [
           {
            "marker": {
             "colorbar": {
              "outlinewidth": 0,
              "ticks": ""
             }
            },
            "type": "scatterternary"
           }
          ],
          "surface": [
           {
            "colorbar": {
             "outlinewidth": 0,
             "ticks": ""
            },
            "colorscale": [
             [
              0,
              "#0d0887"
             ],
             [
              0.1111111111111111,
              "#46039f"
             ],
             [
              0.2222222222222222,
              "#7201a8"
             ],
             [
              0.3333333333333333,
              "#9c179e"
             ],
             [
              0.4444444444444444,
              "#bd3786"
             ],
             [
              0.5555555555555556,
              "#d8576b"
             ],
             [
              0.6666666666666666,
              "#ed7953"
             ],
             [
              0.7777777777777778,
              "#fb9f3a"
             ],
             [
              0.8888888888888888,
              "#fdca26"
             ],
             [
              1,
              "#f0f921"
             ]
            ],
            "type": "surface"
           }
          ],
          "table": [
           {
            "cells": {
             "fill": {
              "color": "#EBF0F8"
             },
             "line": {
              "color": "white"
             }
            },
            "header": {
             "fill": {
              "color": "#C8D4E3"
             },
             "line": {
              "color": "white"
             }
            },
            "type": "table"
           }
          ]
         },
         "layout": {
          "annotationdefaults": {
           "arrowcolor": "#2a3f5f",
           "arrowhead": 0,
           "arrowwidth": 1
          },
          "autotypenumbers": "strict",
          "coloraxis": {
           "colorbar": {
            "outlinewidth": 0,
            "ticks": ""
           }
          },
          "colorscale": {
           "diverging": [
            [
             0,
             "#8e0152"
            ],
            [
             0.1,
             "#c51b7d"
            ],
            [
             0.2,
             "#de77ae"
            ],
            [
             0.3,
             "#f1b6da"
            ],
            [
             0.4,
             "#fde0ef"
            ],
            [
             0.5,
             "#f7f7f7"
            ],
            [
             0.6,
             "#e6f5d0"
            ],
            [
             0.7,
             "#b8e186"
            ],
            [
             0.8,
             "#7fbc41"
            ],
            [
             0.9,
             "#4d9221"
            ],
            [
             1,
             "#276419"
            ]
           ],
           "sequential": [
            [
             0,
             "#0d0887"
            ],
            [
             0.1111111111111111,
             "#46039f"
            ],
            [
             0.2222222222222222,
             "#7201a8"
            ],
            [
             0.3333333333333333,
             "#9c179e"
            ],
            [
             0.4444444444444444,
             "#bd3786"
            ],
            [
             0.5555555555555556,
             "#d8576b"
            ],
            [
             0.6666666666666666,
             "#ed7953"
            ],
            [
             0.7777777777777778,
             "#fb9f3a"
            ],
            [
             0.8888888888888888,
             "#fdca26"
            ],
            [
             1,
             "#f0f921"
            ]
           ],
           "sequentialminus": [
            [
             0,
             "#0d0887"
            ],
            [
             0.1111111111111111,
             "#46039f"
            ],
            [
             0.2222222222222222,
             "#7201a8"
            ],
            [
             0.3333333333333333,
             "#9c179e"
            ],
            [
             0.4444444444444444,
             "#bd3786"
            ],
            [
             0.5555555555555556,
             "#d8576b"
            ],
            [
             0.6666666666666666,
             "#ed7953"
            ],
            [
             0.7777777777777778,
             "#fb9f3a"
            ],
            [
             0.8888888888888888,
             "#fdca26"
            ],
            [
             1,
             "#f0f921"
            ]
           ]
          },
          "colorway": [
           "#636efa",
           "#EF553B",
           "#00cc96",
           "#ab63fa",
           "#FFA15A",
           "#19d3f3",
           "#FF6692",
           "#B6E880",
           "#FF97FF",
           "#FECB52"
          ],
          "font": {
           "color": "#2a3f5f"
          },
          "geo": {
           "bgcolor": "white",
           "lakecolor": "white",
           "landcolor": "#E5ECF6",
           "showlakes": true,
           "showland": true,
           "subunitcolor": "white"
          },
          "hoverlabel": {
           "align": "left"
          },
          "hovermode": "closest",
          "mapbox": {
           "style": "light"
          },
          "paper_bgcolor": "white",
          "plot_bgcolor": "#E5ECF6",
          "polar": {
           "angularaxis": {
            "gridcolor": "white",
            "linecolor": "white",
            "ticks": ""
           },
           "bgcolor": "#E5ECF6",
           "radialaxis": {
            "gridcolor": "white",
            "linecolor": "white",
            "ticks": ""
           }
          },
          "scene": {
           "xaxis": {
            "backgroundcolor": "#E5ECF6",
            "gridcolor": "white",
            "gridwidth": 2,
            "linecolor": "white",
            "showbackground": true,
            "ticks": "",
            "zerolinecolor": "white"
           },
           "yaxis": {
            "backgroundcolor": "#E5ECF6",
            "gridcolor": "white",
            "gridwidth": 2,
            "linecolor": "white",
            "showbackground": true,
            "ticks": "",
            "zerolinecolor": "white"
           },
           "zaxis": {
            "backgroundcolor": "#E5ECF6",
            "gridcolor": "white",
            "gridwidth": 2,
            "linecolor": "white",
            "showbackground": true,
            "ticks": "",
            "zerolinecolor": "white"
           }
          },
          "shapedefaults": {
           "line": {
            "color": "#2a3f5f"
           }
          },
          "ternary": {
           "aaxis": {
            "gridcolor": "white",
            "linecolor": "white",
            "ticks": ""
           },
           "baxis": {
            "gridcolor": "white",
            "linecolor": "white",
            "ticks": ""
           },
           "bgcolor": "#E5ECF6",
           "caxis": {
            "gridcolor": "white",
            "linecolor": "white",
            "ticks": ""
           }
          },
          "title": {
           "x": 0.05
          },
          "xaxis": {
           "automargin": true,
           "gridcolor": "white",
           "linecolor": "white",
           "ticks": "",
           "title": {
            "standoff": 15
           },
           "zerolinecolor": "white",
           "zerolinewidth": 2
          },
          "yaxis": {
           "automargin": true,
           "gridcolor": "white",
           "linecolor": "white",
           "ticks": "",
           "title": {
            "standoff": 15
           },
           "zerolinecolor": "white",
           "zerolinewidth": 2
          }
         }
        },
        "title": {
         "text": "Top jobs of professionals in the data career",
         "x": 0.5
        }
       }
      }
     },
     "metadata": {},
     "output_type": "display_data"
    }
   ],
   "source": [
    "jobs_title = df[\"job_title\"].value_counts().sort_values(ascending=False)\n",
    "\n",
    "# top jobs\n",
    "top_jobs_labels = jobs_title.index.values[:5].tolist()\n",
    "top_jobs_values = jobs_title.values[:5].tolist()\n",
    "\n",
    "# sum of total jobs registered\n",
    "total = sum(jobs_title.values)\n",
    "\n",
    "# sum of other jobs\n",
    "others = sum(jobs_title.values[5:])\n",
    "\n",
    "jobs_values = top_jobs_values + [others]\n",
    "jobs_labels = top_jobs_labels + [\"Others\"]\n",
    "\n",
    "jobs = dict(zip(jobs_labels, jobs_values))\n",
    "\n",
    "# Ordenar o dicionário pelos valores em ordem crescente\n",
    "jobs_ordered = dict(sorted(jobs.items(), key=lambda item: item[1], reverse=True))\n",
    "\n",
    "# Cria um objeto Pie para o gráfico de donut\n",
    "data = [\n",
    "    go.Pie(\n",
    "        labels=list(jobs_ordered.keys()),\n",
    "        values=list(jobs_ordered.values()),\n",
    "        hole=0.5,\n",
    "        marker=dict(colors=list(reversed(colors.sequential.Greys))),\n",
    "        textinfo=\"percent+label\",\n",
    "        insidetextorientation=\"auto\",\n",
    "        hoverinfo=\"label+value\",\n",
    "    )\n",
    "]\n",
    "\n",
    "# Cria a anotação com o valor total\n",
    "annotation = dict(font=dict(size=20), showarrow=False, text=str(total), x=0.5, y=0.5)\n",
    "\n",
    "# Cria o layout do gráfico\n",
    "layout = go.Layout(\n",
    "    title={\n",
    "        \"text\": \"Top jobs of professionals in the data career\",\n",
    "        \"x\": 0.5,\n",
    "        #'xanchor': 'center'\n",
    "    },\n",
    "    # width=700,\n",
    "    # height=700,\n",
    "    annotations=[annotation],\n",
    ")\n",
    "\n",
    "# Cria a figura do gráfico\n",
    "fig = go.Figure(data=data, layout=layout)\n",
    "\n",
    "fig.show()"
   ]
  },
  {
   "attachments": {},
   "cell_type": "markdown",
   "metadata": {},
   "source": [
    "### employee_residence"
   ]
  },
  {
   "cell_type": "code",
   "execution_count": 19,
   "metadata": {},
   "outputs": [
    {
     "data": {
      "text/plain": [
       "employee_residence\n",
       "US    0.800861\n",
       "GB    0.044403\n",
       "ES    0.021259\n",
       "CA    0.021259\n",
       "IN    0.019107\n",
       "DE    0.012379\n",
       "FR    0.010226\n",
       "PT    0.004844\n",
       "BR    0.004844\n",
       "GR    0.004306\n",
       "Name: proportion, dtype: float64"
      ]
     },
     "execution_count": 19,
     "metadata": {},
     "output_type": "execute_result"
    }
   ],
   "source": [
    "df[\"employee_residence\"].value_counts(normalize=True).sort_values(ascending=False)[0:10]"
   ]
  },
  {
   "cell_type": "code",
   "execution_count": 20,
   "metadata": {},
   "outputs": [],
   "source": [
    "def country_to_continent(country_code):\n",
    "    if not isinstance(country_code, str) or len(country_code) != 2:\n",
    "        raise ValueError(\n",
    "            \"Input inválido. O código de país deve ser uma string com dois caracteres.\"\n",
    "        )\n",
    "    country_alpha2 = country_code\n",
    "    country_continent_code = pc.country_alpha2_to_continent_code(country_alpha2)\n",
    "    return country_continent_code\n",
    "\n",
    "\n",
    "# Categorizar o país de cada cientista de dados e adicionar uma nova coluna ao DataFrame\n",
    "def categorize_country(country_code):\n",
    "    try:\n",
    "        return pyc.countries.get(alpha_2=country_code).alpha_3\n",
    "    except:\n",
    "        return \"Unknown\""
   ]
  },
  {
   "cell_type": "code",
   "execution_count": 21,
   "metadata": {},
   "outputs": [
    {
     "data": {
      "text/plain": [
       "employee_residence\n",
       "North America    0.826964\n",
       "Europe           0.123520\n",
       "Asia             0.032293\n",
       "South America    0.008881\n",
       "Africa           0.004575\n",
       "Oceania          0.003767\n",
       "Name: proportion, dtype: float64"
      ]
     },
     "execution_count": 21,
     "metadata": {},
     "output_type": "execute_result"
    }
   ],
   "source": [
    "# cria o dicionário de siglas e nomes por extenso\n",
    "continentes = {\n",
    "    \"NA\": \"North America\",\n",
    "    \"EU\": \"Europe\",\n",
    "    \"AS\": \"Asia\",\n",
    "    \"SA\": \"South America\",\n",
    "    \"AF\": \"Africa\",\n",
    "    \"OC\": \"Oceania\",\n",
    "}\n",
    "\n",
    "df[\"employee_residence\"].apply(country_to_continent).value_counts(\n",
    "    normalize=True\n",
    ").sort_values(ascending=False).rename(index=continentes)"
   ]
  },
  {
   "cell_type": "code",
   "execution_count": 22,
   "metadata": {},
   "outputs": [
    {
     "data": {
      "application/vnd.plotly.v1+json": {
       "config": {
        "plotlyServerURL": "https://plot.ly"
       },
       "data": [
        {
         "hole": 0.5,
         "hoverinfo": "label+value",
         "insidetextorientation": "auto",
         "labels": [
          "North America",
          "Europe",
          "Asia",
          "South America",
          "Africa",
          "Oceania"
         ],
         "marker": {
          "colors": [
           "rgb(0,0,0)",
           "rgb(37,37,37)",
           "rgb(82,82,82)",
           "rgb(115,115,115)",
           "rgb(150,150,150)",
           "rgb(189,189,189)",
           "rgb(217,217,217)",
           "rgb(240,240,240)",
           "rgb(255,255,255)"
          ]
         },
         "textinfo": "percent+label",
         "type": "pie",
         "values": [
          3073,
          459,
          120,
          33,
          17,
          14
         ]
        }
       ],
       "layout": {
        "annotations": [
         {
          "font": {
           "size": 20
          },
          "showarrow": false,
          "text": "3716",
          "x": 0.5,
          "y": 0.5
         }
        ],
        "template": {
         "data": {
          "bar": [
           {
            "error_x": {
             "color": "#2a3f5f"
            },
            "error_y": {
             "color": "#2a3f5f"
            },
            "marker": {
             "line": {
              "color": "#E5ECF6",
              "width": 0.5
             },
             "pattern": {
              "fillmode": "overlay",
              "size": 10,
              "solidity": 0.2
             }
            },
            "type": "bar"
           }
          ],
          "barpolar": [
           {
            "marker": {
             "line": {
              "color": "#E5ECF6",
              "width": 0.5
             },
             "pattern": {
              "fillmode": "overlay",
              "size": 10,
              "solidity": 0.2
             }
            },
            "type": "barpolar"
           }
          ],
          "carpet": [
           {
            "aaxis": {
             "endlinecolor": "#2a3f5f",
             "gridcolor": "white",
             "linecolor": "white",
             "minorgridcolor": "white",
             "startlinecolor": "#2a3f5f"
            },
            "baxis": {
             "endlinecolor": "#2a3f5f",
             "gridcolor": "white",
             "linecolor": "white",
             "minorgridcolor": "white",
             "startlinecolor": "#2a3f5f"
            },
            "type": "carpet"
           }
          ],
          "choropleth": [
           {
            "colorbar": {
             "outlinewidth": 0,
             "ticks": ""
            },
            "type": "choropleth"
           }
          ],
          "contour": [
           {
            "colorbar": {
             "outlinewidth": 0,
             "ticks": ""
            },
            "colorscale": [
             [
              0,
              "#0d0887"
             ],
             [
              0.1111111111111111,
              "#46039f"
             ],
             [
              0.2222222222222222,
              "#7201a8"
             ],
             [
              0.3333333333333333,
              "#9c179e"
             ],
             [
              0.4444444444444444,
              "#bd3786"
             ],
             [
              0.5555555555555556,
              "#d8576b"
             ],
             [
              0.6666666666666666,
              "#ed7953"
             ],
             [
              0.7777777777777778,
              "#fb9f3a"
             ],
             [
              0.8888888888888888,
              "#fdca26"
             ],
             [
              1,
              "#f0f921"
             ]
            ],
            "type": "contour"
           }
          ],
          "contourcarpet": [
           {
            "colorbar": {
             "outlinewidth": 0,
             "ticks": ""
            },
            "type": "contourcarpet"
           }
          ],
          "heatmap": [
           {
            "colorbar": {
             "outlinewidth": 0,
             "ticks": ""
            },
            "colorscale": [
             [
              0,
              "#0d0887"
             ],
             [
              0.1111111111111111,
              "#46039f"
             ],
             [
              0.2222222222222222,
              "#7201a8"
             ],
             [
              0.3333333333333333,
              "#9c179e"
             ],
             [
              0.4444444444444444,
              "#bd3786"
             ],
             [
              0.5555555555555556,
              "#d8576b"
             ],
             [
              0.6666666666666666,
              "#ed7953"
             ],
             [
              0.7777777777777778,
              "#fb9f3a"
             ],
             [
              0.8888888888888888,
              "#fdca26"
             ],
             [
              1,
              "#f0f921"
             ]
            ],
            "type": "heatmap"
           }
          ],
          "heatmapgl": [
           {
            "colorbar": {
             "outlinewidth": 0,
             "ticks": ""
            },
            "colorscale": [
             [
              0,
              "#0d0887"
             ],
             [
              0.1111111111111111,
              "#46039f"
             ],
             [
              0.2222222222222222,
              "#7201a8"
             ],
             [
              0.3333333333333333,
              "#9c179e"
             ],
             [
              0.4444444444444444,
              "#bd3786"
             ],
             [
              0.5555555555555556,
              "#d8576b"
             ],
             [
              0.6666666666666666,
              "#ed7953"
             ],
             [
              0.7777777777777778,
              "#fb9f3a"
             ],
             [
              0.8888888888888888,
              "#fdca26"
             ],
             [
              1,
              "#f0f921"
             ]
            ],
            "type": "heatmapgl"
           }
          ],
          "histogram": [
           {
            "marker": {
             "pattern": {
              "fillmode": "overlay",
              "size": 10,
              "solidity": 0.2
             }
            },
            "type": "histogram"
           }
          ],
          "histogram2d": [
           {
            "colorbar": {
             "outlinewidth": 0,
             "ticks": ""
            },
            "colorscale": [
             [
              0,
              "#0d0887"
             ],
             [
              0.1111111111111111,
              "#46039f"
             ],
             [
              0.2222222222222222,
              "#7201a8"
             ],
             [
              0.3333333333333333,
              "#9c179e"
             ],
             [
              0.4444444444444444,
              "#bd3786"
             ],
             [
              0.5555555555555556,
              "#d8576b"
             ],
             [
              0.6666666666666666,
              "#ed7953"
             ],
             [
              0.7777777777777778,
              "#fb9f3a"
             ],
             [
              0.8888888888888888,
              "#fdca26"
             ],
             [
              1,
              "#f0f921"
             ]
            ],
            "type": "histogram2d"
           }
          ],
          "histogram2dcontour": [
           {
            "colorbar": {
             "outlinewidth": 0,
             "ticks": ""
            },
            "colorscale": [
             [
              0,
              "#0d0887"
             ],
             [
              0.1111111111111111,
              "#46039f"
             ],
             [
              0.2222222222222222,
              "#7201a8"
             ],
             [
              0.3333333333333333,
              "#9c179e"
             ],
             [
              0.4444444444444444,
              "#bd3786"
             ],
             [
              0.5555555555555556,
              "#d8576b"
             ],
             [
              0.6666666666666666,
              "#ed7953"
             ],
             [
              0.7777777777777778,
              "#fb9f3a"
             ],
             [
              0.8888888888888888,
              "#fdca26"
             ],
             [
              1,
              "#f0f921"
             ]
            ],
            "type": "histogram2dcontour"
           }
          ],
          "mesh3d": [
           {
            "colorbar": {
             "outlinewidth": 0,
             "ticks": ""
            },
            "type": "mesh3d"
           }
          ],
          "parcoords": [
           {
            "line": {
             "colorbar": {
              "outlinewidth": 0,
              "ticks": ""
             }
            },
            "type": "parcoords"
           }
          ],
          "pie": [
           {
            "automargin": true,
            "type": "pie"
           }
          ],
          "scatter": [
           {
            "fillpattern": {
             "fillmode": "overlay",
             "size": 10,
             "solidity": 0.2
            },
            "type": "scatter"
           }
          ],
          "scatter3d": [
           {
            "line": {
             "colorbar": {
              "outlinewidth": 0,
              "ticks": ""
             }
            },
            "marker": {
             "colorbar": {
              "outlinewidth": 0,
              "ticks": ""
             }
            },
            "type": "scatter3d"
           }
          ],
          "scattercarpet": [
           {
            "marker": {
             "colorbar": {
              "outlinewidth": 0,
              "ticks": ""
             }
            },
            "type": "scattercarpet"
           }
          ],
          "scattergeo": [
           {
            "marker": {
             "colorbar": {
              "outlinewidth": 0,
              "ticks": ""
             }
            },
            "type": "scattergeo"
           }
          ],
          "scattergl": [
           {
            "marker": {
             "colorbar": {
              "outlinewidth": 0,
              "ticks": ""
             }
            },
            "type": "scattergl"
           }
          ],
          "scattermapbox": [
           {
            "marker": {
             "colorbar": {
              "outlinewidth": 0,
              "ticks": ""
             }
            },
            "type": "scattermapbox"
           }
          ],
          "scatterpolar": [
           {
            "marker": {
             "colorbar": {
              "outlinewidth": 0,
              "ticks": ""
             }
            },
            "type": "scatterpolar"
           }
          ],
          "scatterpolargl": [
           {
            "marker": {
             "colorbar": {
              "outlinewidth": 0,
              "ticks": ""
             }
            },
            "type": "scatterpolargl"
           }
          ],
          "scatterternary": [
           {
            "marker": {
             "colorbar": {
              "outlinewidth": 0,
              "ticks": ""
             }
            },
            "type": "scatterternary"
           }
          ],
          "surface": [
           {
            "colorbar": {
             "outlinewidth": 0,
             "ticks": ""
            },
            "colorscale": [
             [
              0,
              "#0d0887"
             ],
             [
              0.1111111111111111,
              "#46039f"
             ],
             [
              0.2222222222222222,
              "#7201a8"
             ],
             [
              0.3333333333333333,
              "#9c179e"
             ],
             [
              0.4444444444444444,
              "#bd3786"
             ],
             [
              0.5555555555555556,
              "#d8576b"
             ],
             [
              0.6666666666666666,
              "#ed7953"
             ],
             [
              0.7777777777777778,
              "#fb9f3a"
             ],
             [
              0.8888888888888888,
              "#fdca26"
             ],
             [
              1,
              "#f0f921"
             ]
            ],
            "type": "surface"
           }
          ],
          "table": [
           {
            "cells": {
             "fill": {
              "color": "#EBF0F8"
             },
             "line": {
              "color": "white"
             }
            },
            "header": {
             "fill": {
              "color": "#C8D4E3"
             },
             "line": {
              "color": "white"
             }
            },
            "type": "table"
           }
          ]
         },
         "layout": {
          "annotationdefaults": {
           "arrowcolor": "#2a3f5f",
           "arrowhead": 0,
           "arrowwidth": 1
          },
          "autotypenumbers": "strict",
          "coloraxis": {
           "colorbar": {
            "outlinewidth": 0,
            "ticks": ""
           }
          },
          "colorscale": {
           "diverging": [
            [
             0,
             "#8e0152"
            ],
            [
             0.1,
             "#c51b7d"
            ],
            [
             0.2,
             "#de77ae"
            ],
            [
             0.3,
             "#f1b6da"
            ],
            [
             0.4,
             "#fde0ef"
            ],
            [
             0.5,
             "#f7f7f7"
            ],
            [
             0.6,
             "#e6f5d0"
            ],
            [
             0.7,
             "#b8e186"
            ],
            [
             0.8,
             "#7fbc41"
            ],
            [
             0.9,
             "#4d9221"
            ],
            [
             1,
             "#276419"
            ]
           ],
           "sequential": [
            [
             0,
             "#0d0887"
            ],
            [
             0.1111111111111111,
             "#46039f"
            ],
            [
             0.2222222222222222,
             "#7201a8"
            ],
            [
             0.3333333333333333,
             "#9c179e"
            ],
            [
             0.4444444444444444,
             "#bd3786"
            ],
            [
             0.5555555555555556,
             "#d8576b"
            ],
            [
             0.6666666666666666,
             "#ed7953"
            ],
            [
             0.7777777777777778,
             "#fb9f3a"
            ],
            [
             0.8888888888888888,
             "#fdca26"
            ],
            [
             1,
             "#f0f921"
            ]
           ],
           "sequentialminus": [
            [
             0,
             "#0d0887"
            ],
            [
             0.1111111111111111,
             "#46039f"
            ],
            [
             0.2222222222222222,
             "#7201a8"
            ],
            [
             0.3333333333333333,
             "#9c179e"
            ],
            [
             0.4444444444444444,
             "#bd3786"
            ],
            [
             0.5555555555555556,
             "#d8576b"
            ],
            [
             0.6666666666666666,
             "#ed7953"
            ],
            [
             0.7777777777777778,
             "#fb9f3a"
            ],
            [
             0.8888888888888888,
             "#fdca26"
            ],
            [
             1,
             "#f0f921"
            ]
           ]
          },
          "colorway": [
           "#636efa",
           "#EF553B",
           "#00cc96",
           "#ab63fa",
           "#FFA15A",
           "#19d3f3",
           "#FF6692",
           "#B6E880",
           "#FF97FF",
           "#FECB52"
          ],
          "font": {
           "color": "#2a3f5f"
          },
          "geo": {
           "bgcolor": "white",
           "lakecolor": "white",
           "landcolor": "#E5ECF6",
           "showlakes": true,
           "showland": true,
           "subunitcolor": "white"
          },
          "hoverlabel": {
           "align": "left"
          },
          "hovermode": "closest",
          "mapbox": {
           "style": "light"
          },
          "paper_bgcolor": "white",
          "plot_bgcolor": "#E5ECF6",
          "polar": {
           "angularaxis": {
            "gridcolor": "white",
            "linecolor": "white",
            "ticks": ""
           },
           "bgcolor": "#E5ECF6",
           "radialaxis": {
            "gridcolor": "white",
            "linecolor": "white",
            "ticks": ""
           }
          },
          "scene": {
           "xaxis": {
            "backgroundcolor": "#E5ECF6",
            "gridcolor": "white",
            "gridwidth": 2,
            "linecolor": "white",
            "showbackground": true,
            "ticks": "",
            "zerolinecolor": "white"
           },
           "yaxis": {
            "backgroundcolor": "#E5ECF6",
            "gridcolor": "white",
            "gridwidth": 2,
            "linecolor": "white",
            "showbackground": true,
            "ticks": "",
            "zerolinecolor": "white"
           },
           "zaxis": {
            "backgroundcolor": "#E5ECF6",
            "gridcolor": "white",
            "gridwidth": 2,
            "linecolor": "white",
            "showbackground": true,
            "ticks": "",
            "zerolinecolor": "white"
           }
          },
          "shapedefaults": {
           "line": {
            "color": "#2a3f5f"
           }
          },
          "ternary": {
           "aaxis": {
            "gridcolor": "white",
            "linecolor": "white",
            "ticks": ""
           },
           "baxis": {
            "gridcolor": "white",
            "linecolor": "white",
            "ticks": ""
           },
           "bgcolor": "#E5ECF6",
           "caxis": {
            "gridcolor": "white",
            "linecolor": "white",
            "ticks": ""
           }
          },
          "title": {
           "x": 0.05
          },
          "xaxis": {
           "automargin": true,
           "gridcolor": "white",
           "linecolor": "white",
           "ticks": "",
           "title": {
            "standoff": 15
           },
           "zerolinecolor": "white",
           "zerolinewidth": 2
          },
          "yaxis": {
           "automargin": true,
           "gridcolor": "white",
           "linecolor": "white",
           "ticks": "",
           "title": {
            "standoff": 15
           },
           "zerolinecolor": "white",
           "zerolinewidth": 2
          }
         }
        },
        "title": {
         "text": "Residance of professionals in the data career",
         "x": 0.5
        }
       }
      }
     },
     "metadata": {},
     "output_type": "display_data"
    }
   ],
   "source": [
    "data = (\n",
    "    df[\"employee_residence\"]\n",
    "    .apply(country_to_continent)\n",
    "    .value_counts()\n",
    "    .sort_values(ascending=False)\n",
    ")\n",
    "\n",
    "\n",
    "data.rename(continentes, inplace=True)\n",
    "\n",
    "# counts of unique values\n",
    "unique_values = data.value_counts()\n",
    "\n",
    "# frequency of values and the labels\n",
    "freq = data.values\n",
    "labels = data.index.values\n",
    "\n",
    "# sum of total experience levels\n",
    "total = sum(freq)\n",
    "\n",
    "# Cria a anotação com o valor total\n",
    "annotation = dict(font=dict(size=20), showarrow=False, text=str(total), x=0.5, y=0.5)\n",
    "\n",
    "# Criar o gráfico de rosca\n",
    "data = [\n",
    "    go.Pie(\n",
    "        labels=labels,\n",
    "        values=freq,\n",
    "        hole=0.5,\n",
    "        marker=dict(colors=list(reversed(colors.sequential.Greys))),\n",
    "        textinfo=\"percent+label\",\n",
    "        insidetextorientation=\"auto\",\n",
    "        hoverinfo=\"label+value\",\n",
    "    )\n",
    "]\n",
    "\n",
    "# Cria o layout do gráfico\n",
    "layout = go.Layout(\n",
    "    title={\n",
    "        \"text\": \"Residance of professionals in the data career\",\n",
    "        \"x\": 0.5,\n",
    "        # \"xanchor\": \"center\",\n",
    "    },\n",
    "    # width=700,\n",
    "    # height=700,\n",
    "    annotations=[annotation],\n",
    ")\n",
    "\n",
    "# Adicionar título\n",
    "fig = go.Figure(data=data, layout=layout)\n",
    "\n",
    "# Mostrar o gráfico\n",
    "fig.show()"
   ]
  },
  {
   "cell_type": "code",
   "execution_count": 23,
   "metadata": {},
   "outputs": [
    {
     "data": {
      "text/plain": [
       "employee_residence\n",
       "USA    0.800861\n",
       "GBR    0.044403\n",
       "ESP    0.021259\n",
       "CAN    0.021259\n",
       "IND    0.019107\n",
       "         ...   \n",
       "MYS    0.000269\n",
       "JEY    0.000269\n",
       "NZL    0.000269\n",
       "DZA    0.000269\n",
       "MLT    0.000269\n",
       "Name: proportion, Length: 78, dtype: float64"
      ]
     },
     "execution_count": 23,
     "metadata": {},
     "output_type": "execute_result"
    }
   ],
   "source": [
    "df[\"employee_residence\"].apply(categorize_country).value_counts(\n",
    "    normalize=True\n",
    ").sort_values(ascending=False)"
   ]
  },
  {
   "cell_type": "code",
   "execution_count": 24,
   "metadata": {},
   "outputs": [
    {
     "data": {
      "application/vnd.plotly.v1+json": {
       "config": {
        "plotlyServerURL": "https://plot.ly"
       },
       "data": [
        {
         "marker": {
          "color": [
           "rgb(0,0,0)",
           "rgb(37,37,37)",
           "rgb(82,82,82)",
           "rgb(115,115,115)",
           "rgb(150,150,150)",
           "rgb(189,189,189)",
           "rgb(217,217,217)",
           "rgb(240,240,240)",
           "rgb(255,255,255)"
          ]
         },
         "text": [
          2976,
          165,
          79,
          79,
          71,
          46,
          38,
          18,
          18,
          16
         ],
         "textposition": "auto",
         "type": "bar",
         "x": [
          "USA",
          "GBR",
          "ESP",
          "CAN",
          "IND",
          "DEU",
          "FRA",
          "PRT",
          "BRA",
          "GRC"
         ],
         "y": [
          2976,
          165,
          79,
          79,
          71,
          46,
          38,
          18,
          18,
          16
         ]
        }
       ],
       "layout": {
        "paper_bgcolor": "white",
        "plot_bgcolor": "white",
        "template": {
         "data": {
          "bar": [
           {
            "error_x": {
             "color": "#2a3f5f"
            },
            "error_y": {
             "color": "#2a3f5f"
            },
            "marker": {
             "line": {
              "color": "#E5ECF6",
              "width": 0.5
             },
             "pattern": {
              "fillmode": "overlay",
              "size": 10,
              "solidity": 0.2
             }
            },
            "type": "bar"
           }
          ],
          "barpolar": [
           {
            "marker": {
             "line": {
              "color": "#E5ECF6",
              "width": 0.5
             },
             "pattern": {
              "fillmode": "overlay",
              "size": 10,
              "solidity": 0.2
             }
            },
            "type": "barpolar"
           }
          ],
          "carpet": [
           {
            "aaxis": {
             "endlinecolor": "#2a3f5f",
             "gridcolor": "white",
             "linecolor": "white",
             "minorgridcolor": "white",
             "startlinecolor": "#2a3f5f"
            },
            "baxis": {
             "endlinecolor": "#2a3f5f",
             "gridcolor": "white",
             "linecolor": "white",
             "minorgridcolor": "white",
             "startlinecolor": "#2a3f5f"
            },
            "type": "carpet"
           }
          ],
          "choropleth": [
           {
            "colorbar": {
             "outlinewidth": 0,
             "ticks": ""
            },
            "type": "choropleth"
           }
          ],
          "contour": [
           {
            "colorbar": {
             "outlinewidth": 0,
             "ticks": ""
            },
            "colorscale": [
             [
              0,
              "#0d0887"
             ],
             [
              0.1111111111111111,
              "#46039f"
             ],
             [
              0.2222222222222222,
              "#7201a8"
             ],
             [
              0.3333333333333333,
              "#9c179e"
             ],
             [
              0.4444444444444444,
              "#bd3786"
             ],
             [
              0.5555555555555556,
              "#d8576b"
             ],
             [
              0.6666666666666666,
              "#ed7953"
             ],
             [
              0.7777777777777778,
              "#fb9f3a"
             ],
             [
              0.8888888888888888,
              "#fdca26"
             ],
             [
              1,
              "#f0f921"
             ]
            ],
            "type": "contour"
           }
          ],
          "contourcarpet": [
           {
            "colorbar": {
             "outlinewidth": 0,
             "ticks": ""
            },
            "type": "contourcarpet"
           }
          ],
          "heatmap": [
           {
            "colorbar": {
             "outlinewidth": 0,
             "ticks": ""
            },
            "colorscale": [
             [
              0,
              "#0d0887"
             ],
             [
              0.1111111111111111,
              "#46039f"
             ],
             [
              0.2222222222222222,
              "#7201a8"
             ],
             [
              0.3333333333333333,
              "#9c179e"
             ],
             [
              0.4444444444444444,
              "#bd3786"
             ],
             [
              0.5555555555555556,
              "#d8576b"
             ],
             [
              0.6666666666666666,
              "#ed7953"
             ],
             [
              0.7777777777777778,
              "#fb9f3a"
             ],
             [
              0.8888888888888888,
              "#fdca26"
             ],
             [
              1,
              "#f0f921"
             ]
            ],
            "type": "heatmap"
           }
          ],
          "heatmapgl": [
           {
            "colorbar": {
             "outlinewidth": 0,
             "ticks": ""
            },
            "colorscale": [
             [
              0,
              "#0d0887"
             ],
             [
              0.1111111111111111,
              "#46039f"
             ],
             [
              0.2222222222222222,
              "#7201a8"
             ],
             [
              0.3333333333333333,
              "#9c179e"
             ],
             [
              0.4444444444444444,
              "#bd3786"
             ],
             [
              0.5555555555555556,
              "#d8576b"
             ],
             [
              0.6666666666666666,
              "#ed7953"
             ],
             [
              0.7777777777777778,
              "#fb9f3a"
             ],
             [
              0.8888888888888888,
              "#fdca26"
             ],
             [
              1,
              "#f0f921"
             ]
            ],
            "type": "heatmapgl"
           }
          ],
          "histogram": [
           {
            "marker": {
             "pattern": {
              "fillmode": "overlay",
              "size": 10,
              "solidity": 0.2
             }
            },
            "type": "histogram"
           }
          ],
          "histogram2d": [
           {
            "colorbar": {
             "outlinewidth": 0,
             "ticks": ""
            },
            "colorscale": [
             [
              0,
              "#0d0887"
             ],
             [
              0.1111111111111111,
              "#46039f"
             ],
             [
              0.2222222222222222,
              "#7201a8"
             ],
             [
              0.3333333333333333,
              "#9c179e"
             ],
             [
              0.4444444444444444,
              "#bd3786"
             ],
             [
              0.5555555555555556,
              "#d8576b"
             ],
             [
              0.6666666666666666,
              "#ed7953"
             ],
             [
              0.7777777777777778,
              "#fb9f3a"
             ],
             [
              0.8888888888888888,
              "#fdca26"
             ],
             [
              1,
              "#f0f921"
             ]
            ],
            "type": "histogram2d"
           }
          ],
          "histogram2dcontour": [
           {
            "colorbar": {
             "outlinewidth": 0,
             "ticks": ""
            },
            "colorscale": [
             [
              0,
              "#0d0887"
             ],
             [
              0.1111111111111111,
              "#46039f"
             ],
             [
              0.2222222222222222,
              "#7201a8"
             ],
             [
              0.3333333333333333,
              "#9c179e"
             ],
             [
              0.4444444444444444,
              "#bd3786"
             ],
             [
              0.5555555555555556,
              "#d8576b"
             ],
             [
              0.6666666666666666,
              "#ed7953"
             ],
             [
              0.7777777777777778,
              "#fb9f3a"
             ],
             [
              0.8888888888888888,
              "#fdca26"
             ],
             [
              1,
              "#f0f921"
             ]
            ],
            "type": "histogram2dcontour"
           }
          ],
          "mesh3d": [
           {
            "colorbar": {
             "outlinewidth": 0,
             "ticks": ""
            },
            "type": "mesh3d"
           }
          ],
          "parcoords": [
           {
            "line": {
             "colorbar": {
              "outlinewidth": 0,
              "ticks": ""
             }
            },
            "type": "parcoords"
           }
          ],
          "pie": [
           {
            "automargin": true,
            "type": "pie"
           }
          ],
          "scatter": [
           {
            "fillpattern": {
             "fillmode": "overlay",
             "size": 10,
             "solidity": 0.2
            },
            "type": "scatter"
           }
          ],
          "scatter3d": [
           {
            "line": {
             "colorbar": {
              "outlinewidth": 0,
              "ticks": ""
             }
            },
            "marker": {
             "colorbar": {
              "outlinewidth": 0,
              "ticks": ""
             }
            },
            "type": "scatter3d"
           }
          ],
          "scattercarpet": [
           {
            "marker": {
             "colorbar": {
              "outlinewidth": 0,
              "ticks": ""
             }
            },
            "type": "scattercarpet"
           }
          ],
          "scattergeo": [
           {
            "marker": {
             "colorbar": {
              "outlinewidth": 0,
              "ticks": ""
             }
            },
            "type": "scattergeo"
           }
          ],
          "scattergl": [
           {
            "marker": {
             "colorbar": {
              "outlinewidth": 0,
              "ticks": ""
             }
            },
            "type": "scattergl"
           }
          ],
          "scattermapbox": [
           {
            "marker": {
             "colorbar": {
              "outlinewidth": 0,
              "ticks": ""
             }
            },
            "type": "scattermapbox"
           }
          ],
          "scatterpolar": [
           {
            "marker": {
             "colorbar": {
              "outlinewidth": 0,
              "ticks": ""
             }
            },
            "type": "scatterpolar"
           }
          ],
          "scatterpolargl": [
           {
            "marker": {
             "colorbar": {
              "outlinewidth": 0,
              "ticks": ""
             }
            },
            "type": "scatterpolargl"
           }
          ],
          "scatterternary": [
           {
            "marker": {
             "colorbar": {
              "outlinewidth": 0,
              "ticks": ""
             }
            },
            "type": "scatterternary"
           }
          ],
          "surface": [
           {
            "colorbar": {
             "outlinewidth": 0,
             "ticks": ""
            },
            "colorscale": [
             [
              0,
              "#0d0887"
             ],
             [
              0.1111111111111111,
              "#46039f"
             ],
             [
              0.2222222222222222,
              "#7201a8"
             ],
             [
              0.3333333333333333,
              "#9c179e"
             ],
             [
              0.4444444444444444,
              "#bd3786"
             ],
             [
              0.5555555555555556,
              "#d8576b"
             ],
             [
              0.6666666666666666,
              "#ed7953"
             ],
             [
              0.7777777777777778,
              "#fb9f3a"
             ],
             [
              0.8888888888888888,
              "#fdca26"
             ],
             [
              1,
              "#f0f921"
             ]
            ],
            "type": "surface"
           }
          ],
          "table": [
           {
            "cells": {
             "fill": {
              "color": "#EBF0F8"
             },
             "line": {
              "color": "white"
             }
            },
            "header": {
             "fill": {
              "color": "#C8D4E3"
             },
             "line": {
              "color": "white"
             }
            },
            "type": "table"
           }
          ]
         },
         "layout": {
          "annotationdefaults": {
           "arrowcolor": "#2a3f5f",
           "arrowhead": 0,
           "arrowwidth": 1
          },
          "autotypenumbers": "strict",
          "coloraxis": {
           "colorbar": {
            "outlinewidth": 0,
            "ticks": ""
           }
          },
          "colorscale": {
           "diverging": [
            [
             0,
             "#8e0152"
            ],
            [
             0.1,
             "#c51b7d"
            ],
            [
             0.2,
             "#de77ae"
            ],
            [
             0.3,
             "#f1b6da"
            ],
            [
             0.4,
             "#fde0ef"
            ],
            [
             0.5,
             "#f7f7f7"
            ],
            [
             0.6,
             "#e6f5d0"
            ],
            [
             0.7,
             "#b8e186"
            ],
            [
             0.8,
             "#7fbc41"
            ],
            [
             0.9,
             "#4d9221"
            ],
            [
             1,
             "#276419"
            ]
           ],
           "sequential": [
            [
             0,
             "#0d0887"
            ],
            [
             0.1111111111111111,
             "#46039f"
            ],
            [
             0.2222222222222222,
             "#7201a8"
            ],
            [
             0.3333333333333333,
             "#9c179e"
            ],
            [
             0.4444444444444444,
             "#bd3786"
            ],
            [
             0.5555555555555556,
             "#d8576b"
            ],
            [
             0.6666666666666666,
             "#ed7953"
            ],
            [
             0.7777777777777778,
             "#fb9f3a"
            ],
            [
             0.8888888888888888,
             "#fdca26"
            ],
            [
             1,
             "#f0f921"
            ]
           ],
           "sequentialminus": [
            [
             0,
             "#0d0887"
            ],
            [
             0.1111111111111111,
             "#46039f"
            ],
            [
             0.2222222222222222,
             "#7201a8"
            ],
            [
             0.3333333333333333,
             "#9c179e"
            ],
            [
             0.4444444444444444,
             "#bd3786"
            ],
            [
             0.5555555555555556,
             "#d8576b"
            ],
            [
             0.6666666666666666,
             "#ed7953"
            ],
            [
             0.7777777777777778,
             "#fb9f3a"
            ],
            [
             0.8888888888888888,
             "#fdca26"
            ],
            [
             1,
             "#f0f921"
            ]
           ]
          },
          "colorway": [
           "#636efa",
           "#EF553B",
           "#00cc96",
           "#ab63fa",
           "#FFA15A",
           "#19d3f3",
           "#FF6692",
           "#B6E880",
           "#FF97FF",
           "#FECB52"
          ],
          "font": {
           "color": "#2a3f5f"
          },
          "geo": {
           "bgcolor": "white",
           "lakecolor": "white",
           "landcolor": "#E5ECF6",
           "showlakes": true,
           "showland": true,
           "subunitcolor": "white"
          },
          "hoverlabel": {
           "align": "left"
          },
          "hovermode": "closest",
          "mapbox": {
           "style": "light"
          },
          "paper_bgcolor": "white",
          "plot_bgcolor": "#E5ECF6",
          "polar": {
           "angularaxis": {
            "gridcolor": "white",
            "linecolor": "white",
            "ticks": ""
           },
           "bgcolor": "#E5ECF6",
           "radialaxis": {
            "gridcolor": "white",
            "linecolor": "white",
            "ticks": ""
           }
          },
          "scene": {
           "xaxis": {
            "backgroundcolor": "#E5ECF6",
            "gridcolor": "white",
            "gridwidth": 2,
            "linecolor": "white",
            "showbackground": true,
            "ticks": "",
            "zerolinecolor": "white"
           },
           "yaxis": {
            "backgroundcolor": "#E5ECF6",
            "gridcolor": "white",
            "gridwidth": 2,
            "linecolor": "white",
            "showbackground": true,
            "ticks": "",
            "zerolinecolor": "white"
           },
           "zaxis": {
            "backgroundcolor": "#E5ECF6",
            "gridcolor": "white",
            "gridwidth": 2,
            "linecolor": "white",
            "showbackground": true,
            "ticks": "",
            "zerolinecolor": "white"
           }
          },
          "shapedefaults": {
           "line": {
            "color": "#2a3f5f"
           }
          },
          "ternary": {
           "aaxis": {
            "gridcolor": "white",
            "linecolor": "white",
            "ticks": ""
           },
           "baxis": {
            "gridcolor": "white",
            "linecolor": "white",
            "ticks": ""
           },
           "bgcolor": "#E5ECF6",
           "caxis": {
            "gridcolor": "white",
            "linecolor": "white",
            "ticks": ""
           }
          },
          "title": {
           "x": 0.05
          },
          "xaxis": {
           "automargin": true,
           "gridcolor": "white",
           "linecolor": "white",
           "ticks": "",
           "title": {
            "standoff": 15
           },
           "zerolinecolor": "white",
           "zerolinewidth": 2
          },
          "yaxis": {
           "automargin": true,
           "gridcolor": "white",
           "linecolor": "white",
           "ticks": "",
           "title": {
            "standoff": 15
           },
           "zerolinecolor": "white",
           "zerolinewidth": 2
          }
         }
        },
        "title": {
         "text": "Top 10 employee locations",
         "x": 0.5
        },
        "xaxis": {
         "title": {
          "text": "Country"
         }
        },
        "yaxis": {
         "title": {
          "text": "Quantity of Employees"
         }
        }
       }
      }
     },
     "metadata": {},
     "output_type": "display_data"
    }
   ],
   "source": [
    "residence = (\n",
    "    df[\"employee_residence\"]\n",
    "    .apply(categorize_country)\n",
    "    .value_counts()\n",
    "    .sort_values(ascending=False)\n",
    ")[0:10]\n",
    "\n",
    "\n",
    "# Criar o gráfico de barras\n",
    "data = [\n",
    "    go.Bar(\n",
    "        x=residence.index,\n",
    "        y=residence.values,\n",
    "        marker=dict(color=list(reversed(colors.sequential.Greys))),\n",
    "        text=residence.values,\n",
    "        textposition=\"auto\",\n",
    "    )\n",
    "]\n",
    "\n",
    "# Criar o layout\n",
    "layout = go.Layout(\n",
    "    title={\"text\": \"Top 10 employee locations\", \"x\": 0.5},\n",
    "    plot_bgcolor=\"white\",\n",
    "    paper_bgcolor=\"white\",\n",
    "    xaxis=dict(title=\"Country\"),\n",
    "    yaxis=dict(title=\"Quantity of Employees\"),\n",
    ")\n",
    "\n",
    "# Criar a figura e plotar o gráfico de barras\n",
    "fig = go.Figure(data=data, layout=layout)\n",
    "fig.show()"
   ]
  },
  {
   "attachments": {},
   "cell_type": "markdown",
   "metadata": {},
   "source": [
    "### company_location: The country of the employer's main office or contracting branch"
   ]
  },
  {
   "cell_type": "code",
   "execution_count": 25,
   "metadata": {},
   "outputs": [
    {
     "data": {
      "text/plain": [
       "company_location\n",
       "US    0.810549\n",
       "GB    0.045748\n",
       "CA    0.021798\n",
       "ES    0.020452\n",
       "IN    0.015608\n",
       "        ...   \n",
       "MK    0.000269\n",
       "BS    0.000269\n",
       "IR    0.000269\n",
       "CR    0.000269\n",
       "MT    0.000269\n",
       "Name: proportion, Length: 72, dtype: float64"
      ]
     },
     "execution_count": 25,
     "metadata": {},
     "output_type": "execute_result"
    }
   ],
   "source": [
    "df[\"company_location\"].value_counts(normalize=True)"
   ]
  },
  {
   "cell_type": "code",
   "execution_count": 26,
   "metadata": {},
   "outputs": [
    {
     "data": {
      "application/vnd.plotly.v1+json": {
       "config": {
        "plotlyServerURL": "https://plot.ly"
       },
       "data": [
        {
         "marker": {
          "color": [
           "rgb(0,0,0)",
           "rgb(37,37,37)",
           "rgb(82,82,82)",
           "rgb(115,115,115)",
           "rgb(150,150,150)",
           "rgb(189,189,189)",
           "rgb(217,217,217)",
           "rgb(240,240,240)",
           "rgb(255,255,255)"
          ]
         },
         "text": [
          3012,
          170,
          81,
          76,
          58,
          54,
          34,
          15,
          14,
          14
         ],
         "textposition": "auto",
         "type": "bar",
         "x": [
          "USA",
          "GBR",
          "CAN",
          "ESP",
          "IND",
          "DEU",
          "FRA",
          "BRA",
          "PRT",
          "GRC"
         ],
         "y": [
          3012,
          170,
          81,
          76,
          58,
          54,
          34,
          15,
          14,
          14
         ]
        }
       ],
       "layout": {
        "paper_bgcolor": "white",
        "plot_bgcolor": "white",
        "template": {
         "data": {
          "bar": [
           {
            "error_x": {
             "color": "#2a3f5f"
            },
            "error_y": {
             "color": "#2a3f5f"
            },
            "marker": {
             "line": {
              "color": "#E5ECF6",
              "width": 0.5
             },
             "pattern": {
              "fillmode": "overlay",
              "size": 10,
              "solidity": 0.2
             }
            },
            "type": "bar"
           }
          ],
          "barpolar": [
           {
            "marker": {
             "line": {
              "color": "#E5ECF6",
              "width": 0.5
             },
             "pattern": {
              "fillmode": "overlay",
              "size": 10,
              "solidity": 0.2
             }
            },
            "type": "barpolar"
           }
          ],
          "carpet": [
           {
            "aaxis": {
             "endlinecolor": "#2a3f5f",
             "gridcolor": "white",
             "linecolor": "white",
             "minorgridcolor": "white",
             "startlinecolor": "#2a3f5f"
            },
            "baxis": {
             "endlinecolor": "#2a3f5f",
             "gridcolor": "white",
             "linecolor": "white",
             "minorgridcolor": "white",
             "startlinecolor": "#2a3f5f"
            },
            "type": "carpet"
           }
          ],
          "choropleth": [
           {
            "colorbar": {
             "outlinewidth": 0,
             "ticks": ""
            },
            "type": "choropleth"
           }
          ],
          "contour": [
           {
            "colorbar": {
             "outlinewidth": 0,
             "ticks": ""
            },
            "colorscale": [
             [
              0,
              "#0d0887"
             ],
             [
              0.1111111111111111,
              "#46039f"
             ],
             [
              0.2222222222222222,
              "#7201a8"
             ],
             [
              0.3333333333333333,
              "#9c179e"
             ],
             [
              0.4444444444444444,
              "#bd3786"
             ],
             [
              0.5555555555555556,
              "#d8576b"
             ],
             [
              0.6666666666666666,
              "#ed7953"
             ],
             [
              0.7777777777777778,
              "#fb9f3a"
             ],
             [
              0.8888888888888888,
              "#fdca26"
             ],
             [
              1,
              "#f0f921"
             ]
            ],
            "type": "contour"
           }
          ],
          "contourcarpet": [
           {
            "colorbar": {
             "outlinewidth": 0,
             "ticks": ""
            },
            "type": "contourcarpet"
           }
          ],
          "heatmap": [
           {
            "colorbar": {
             "outlinewidth": 0,
             "ticks": ""
            },
            "colorscale": [
             [
              0,
              "#0d0887"
             ],
             [
              0.1111111111111111,
              "#46039f"
             ],
             [
              0.2222222222222222,
              "#7201a8"
             ],
             [
              0.3333333333333333,
              "#9c179e"
             ],
             [
              0.4444444444444444,
              "#bd3786"
             ],
             [
              0.5555555555555556,
              "#d8576b"
             ],
             [
              0.6666666666666666,
              "#ed7953"
             ],
             [
              0.7777777777777778,
              "#fb9f3a"
             ],
             [
              0.8888888888888888,
              "#fdca26"
             ],
             [
              1,
              "#f0f921"
             ]
            ],
            "type": "heatmap"
           }
          ],
          "heatmapgl": [
           {
            "colorbar": {
             "outlinewidth": 0,
             "ticks": ""
            },
            "colorscale": [
             [
              0,
              "#0d0887"
             ],
             [
              0.1111111111111111,
              "#46039f"
             ],
             [
              0.2222222222222222,
              "#7201a8"
             ],
             [
              0.3333333333333333,
              "#9c179e"
             ],
             [
              0.4444444444444444,
              "#bd3786"
             ],
             [
              0.5555555555555556,
              "#d8576b"
             ],
             [
              0.6666666666666666,
              "#ed7953"
             ],
             [
              0.7777777777777778,
              "#fb9f3a"
             ],
             [
              0.8888888888888888,
              "#fdca26"
             ],
             [
              1,
              "#f0f921"
             ]
            ],
            "type": "heatmapgl"
           }
          ],
          "histogram": [
           {
            "marker": {
             "pattern": {
              "fillmode": "overlay",
              "size": 10,
              "solidity": 0.2
             }
            },
            "type": "histogram"
           }
          ],
          "histogram2d": [
           {
            "colorbar": {
             "outlinewidth": 0,
             "ticks": ""
            },
            "colorscale": [
             [
              0,
              "#0d0887"
             ],
             [
              0.1111111111111111,
              "#46039f"
             ],
             [
              0.2222222222222222,
              "#7201a8"
             ],
             [
              0.3333333333333333,
              "#9c179e"
             ],
             [
              0.4444444444444444,
              "#bd3786"
             ],
             [
              0.5555555555555556,
              "#d8576b"
             ],
             [
              0.6666666666666666,
              "#ed7953"
             ],
             [
              0.7777777777777778,
              "#fb9f3a"
             ],
             [
              0.8888888888888888,
              "#fdca26"
             ],
             [
              1,
              "#f0f921"
             ]
            ],
            "type": "histogram2d"
           }
          ],
          "histogram2dcontour": [
           {
            "colorbar": {
             "outlinewidth": 0,
             "ticks": ""
            },
            "colorscale": [
             [
              0,
              "#0d0887"
             ],
             [
              0.1111111111111111,
              "#46039f"
             ],
             [
              0.2222222222222222,
              "#7201a8"
             ],
             [
              0.3333333333333333,
              "#9c179e"
             ],
             [
              0.4444444444444444,
              "#bd3786"
             ],
             [
              0.5555555555555556,
              "#d8576b"
             ],
             [
              0.6666666666666666,
              "#ed7953"
             ],
             [
              0.7777777777777778,
              "#fb9f3a"
             ],
             [
              0.8888888888888888,
              "#fdca26"
             ],
             [
              1,
              "#f0f921"
             ]
            ],
            "type": "histogram2dcontour"
           }
          ],
          "mesh3d": [
           {
            "colorbar": {
             "outlinewidth": 0,
             "ticks": ""
            },
            "type": "mesh3d"
           }
          ],
          "parcoords": [
           {
            "line": {
             "colorbar": {
              "outlinewidth": 0,
              "ticks": ""
             }
            },
            "type": "parcoords"
           }
          ],
          "pie": [
           {
            "automargin": true,
            "type": "pie"
           }
          ],
          "scatter": [
           {
            "fillpattern": {
             "fillmode": "overlay",
             "size": 10,
             "solidity": 0.2
            },
            "type": "scatter"
           }
          ],
          "scatter3d": [
           {
            "line": {
             "colorbar": {
              "outlinewidth": 0,
              "ticks": ""
             }
            },
            "marker": {
             "colorbar": {
              "outlinewidth": 0,
              "ticks": ""
             }
            },
            "type": "scatter3d"
           }
          ],
          "scattercarpet": [
           {
            "marker": {
             "colorbar": {
              "outlinewidth": 0,
              "ticks": ""
             }
            },
            "type": "scattercarpet"
           }
          ],
          "scattergeo": [
           {
            "marker": {
             "colorbar": {
              "outlinewidth": 0,
              "ticks": ""
             }
            },
            "type": "scattergeo"
           }
          ],
          "scattergl": [
           {
            "marker": {
             "colorbar": {
              "outlinewidth": 0,
              "ticks": ""
             }
            },
            "type": "scattergl"
           }
          ],
          "scattermapbox": [
           {
            "marker": {
             "colorbar": {
              "outlinewidth": 0,
              "ticks": ""
             }
            },
            "type": "scattermapbox"
           }
          ],
          "scatterpolar": [
           {
            "marker": {
             "colorbar": {
              "outlinewidth": 0,
              "ticks": ""
             }
            },
            "type": "scatterpolar"
           }
          ],
          "scatterpolargl": [
           {
            "marker": {
             "colorbar": {
              "outlinewidth": 0,
              "ticks": ""
             }
            },
            "type": "scatterpolargl"
           }
          ],
          "scatterternary": [
           {
            "marker": {
             "colorbar": {
              "outlinewidth": 0,
              "ticks": ""
             }
            },
            "type": "scatterternary"
           }
          ],
          "surface": [
           {
            "colorbar": {
             "outlinewidth": 0,
             "ticks": ""
            },
            "colorscale": [
             [
              0,
              "#0d0887"
             ],
             [
              0.1111111111111111,
              "#46039f"
             ],
             [
              0.2222222222222222,
              "#7201a8"
             ],
             [
              0.3333333333333333,
              "#9c179e"
             ],
             [
              0.4444444444444444,
              "#bd3786"
             ],
             [
              0.5555555555555556,
              "#d8576b"
             ],
             [
              0.6666666666666666,
              "#ed7953"
             ],
             [
              0.7777777777777778,
              "#fb9f3a"
             ],
             [
              0.8888888888888888,
              "#fdca26"
             ],
             [
              1,
              "#f0f921"
             ]
            ],
            "type": "surface"
           }
          ],
          "table": [
           {
            "cells": {
             "fill": {
              "color": "#EBF0F8"
             },
             "line": {
              "color": "white"
             }
            },
            "header": {
             "fill": {
              "color": "#C8D4E3"
             },
             "line": {
              "color": "white"
             }
            },
            "type": "table"
           }
          ]
         },
         "layout": {
          "annotationdefaults": {
           "arrowcolor": "#2a3f5f",
           "arrowhead": 0,
           "arrowwidth": 1
          },
          "autotypenumbers": "strict",
          "coloraxis": {
           "colorbar": {
            "outlinewidth": 0,
            "ticks": ""
           }
          },
          "colorscale": {
           "diverging": [
            [
             0,
             "#8e0152"
            ],
            [
             0.1,
             "#c51b7d"
            ],
            [
             0.2,
             "#de77ae"
            ],
            [
             0.3,
             "#f1b6da"
            ],
            [
             0.4,
             "#fde0ef"
            ],
            [
             0.5,
             "#f7f7f7"
            ],
            [
             0.6,
             "#e6f5d0"
            ],
            [
             0.7,
             "#b8e186"
            ],
            [
             0.8,
             "#7fbc41"
            ],
            [
             0.9,
             "#4d9221"
            ],
            [
             1,
             "#276419"
            ]
           ],
           "sequential": [
            [
             0,
             "#0d0887"
            ],
            [
             0.1111111111111111,
             "#46039f"
            ],
            [
             0.2222222222222222,
             "#7201a8"
            ],
            [
             0.3333333333333333,
             "#9c179e"
            ],
            [
             0.4444444444444444,
             "#bd3786"
            ],
            [
             0.5555555555555556,
             "#d8576b"
            ],
            [
             0.6666666666666666,
             "#ed7953"
            ],
            [
             0.7777777777777778,
             "#fb9f3a"
            ],
            [
             0.8888888888888888,
             "#fdca26"
            ],
            [
             1,
             "#f0f921"
            ]
           ],
           "sequentialminus": [
            [
             0,
             "#0d0887"
            ],
            [
             0.1111111111111111,
             "#46039f"
            ],
            [
             0.2222222222222222,
             "#7201a8"
            ],
            [
             0.3333333333333333,
             "#9c179e"
            ],
            [
             0.4444444444444444,
             "#bd3786"
            ],
            [
             0.5555555555555556,
             "#d8576b"
            ],
            [
             0.6666666666666666,
             "#ed7953"
            ],
            [
             0.7777777777777778,
             "#fb9f3a"
            ],
            [
             0.8888888888888888,
             "#fdca26"
            ],
            [
             1,
             "#f0f921"
            ]
           ]
          },
          "colorway": [
           "#636efa",
           "#EF553B",
           "#00cc96",
           "#ab63fa",
           "#FFA15A",
           "#19d3f3",
           "#FF6692",
           "#B6E880",
           "#FF97FF",
           "#FECB52"
          ],
          "font": {
           "color": "#2a3f5f"
          },
          "geo": {
           "bgcolor": "white",
           "lakecolor": "white",
           "landcolor": "#E5ECF6",
           "showlakes": true,
           "showland": true,
           "subunitcolor": "white"
          },
          "hoverlabel": {
           "align": "left"
          },
          "hovermode": "closest",
          "mapbox": {
           "style": "light"
          },
          "paper_bgcolor": "white",
          "plot_bgcolor": "#E5ECF6",
          "polar": {
           "angularaxis": {
            "gridcolor": "white",
            "linecolor": "white",
            "ticks": ""
           },
           "bgcolor": "#E5ECF6",
           "radialaxis": {
            "gridcolor": "white",
            "linecolor": "white",
            "ticks": ""
           }
          },
          "scene": {
           "xaxis": {
            "backgroundcolor": "#E5ECF6",
            "gridcolor": "white",
            "gridwidth": 2,
            "linecolor": "white",
            "showbackground": true,
            "ticks": "",
            "zerolinecolor": "white"
           },
           "yaxis": {
            "backgroundcolor": "#E5ECF6",
            "gridcolor": "white",
            "gridwidth": 2,
            "linecolor": "white",
            "showbackground": true,
            "ticks": "",
            "zerolinecolor": "white"
           },
           "zaxis": {
            "backgroundcolor": "#E5ECF6",
            "gridcolor": "white",
            "gridwidth": 2,
            "linecolor": "white",
            "showbackground": true,
            "ticks": "",
            "zerolinecolor": "white"
           }
          },
          "shapedefaults": {
           "line": {
            "color": "#2a3f5f"
           }
          },
          "ternary": {
           "aaxis": {
            "gridcolor": "white",
            "linecolor": "white",
            "ticks": ""
           },
           "baxis": {
            "gridcolor": "white",
            "linecolor": "white",
            "ticks": ""
           },
           "bgcolor": "#E5ECF6",
           "caxis": {
            "gridcolor": "white",
            "linecolor": "white",
            "ticks": ""
           }
          },
          "title": {
           "x": 0.05
          },
          "xaxis": {
           "automargin": true,
           "gridcolor": "white",
           "linecolor": "white",
           "ticks": "",
           "title": {
            "standoff": 15
           },
           "zerolinecolor": "white",
           "zerolinewidth": 2
          },
          "yaxis": {
           "automargin": true,
           "gridcolor": "white",
           "linecolor": "white",
           "ticks": "",
           "title": {
            "standoff": 15
           },
           "zerolinecolor": "white",
           "zerolinewidth": 2
          }
         }
        },
        "title": {
         "text": "Top 10 company locations",
         "x": 0.5
        },
        "xaxis": {
         "title": {
          "text": "Country"
         }
        },
        "yaxis": {
         "title": {
          "text": "Quantity of Companies"
         }
        }
       }
      }
     },
     "metadata": {},
     "output_type": "display_data"
    }
   ],
   "source": [
    "company_location = (\n",
    "    df[\"company_location\"]\n",
    "    .apply(categorize_country)\n",
    "    .value_counts()\n",
    "    .sort_values(ascending=False)\n",
    ")[0:10]\n",
    "\n",
    "\n",
    "# Criar o gráfico de barras\n",
    "data = [\n",
    "    go.Bar(\n",
    "        x=company_location.index,\n",
    "        y=company_location.values,\n",
    "        marker=dict(color=list(reversed(colors.sequential.Greys))),\n",
    "        text=company_location.values,\n",
    "        textposition=\"auto\",\n",
    "    )\n",
    "]\n",
    "\n",
    "# Criar o layout\n",
    "layout = go.Layout(\n",
    "    title={\"text\": \"Top 10 company locations\", \"x\": 0.5},\n",
    "    plot_bgcolor=\"white\",\n",
    "    paper_bgcolor=\"white\",\n",
    "    xaxis=dict(title=\"Country\"),\n",
    "    yaxis=dict(title=\"Quantity of Companies\"),\n",
    ")\n",
    "\n",
    "# Criar a figura e plotar o gráfico de barras\n",
    "fig = go.Figure(data=data, layout=layout)\n",
    "fig.show()"
   ]
  },
  {
   "attachments": {},
   "cell_type": "markdown",
   "metadata": {},
   "source": [
    "Companies and employees are extremely concentrated in the united states"
   ]
  },
  {
   "attachments": {},
   "cell_type": "markdown",
   "metadata": {},
   "source": [
    "### company_size: The average number of people that worked for the company during the year"
   ]
  },
  {
   "cell_type": "code",
   "execution_count": 27,
   "metadata": {},
   "outputs": [
    {
     "data": {
      "text/plain": [
       "array(['L', 'M', 'S'], dtype=object)"
      ]
     },
     "execution_count": 27,
     "metadata": {},
     "output_type": "execute_result"
    }
   ],
   "source": [
    "df[\"company_size\"].unique()"
   ]
  },
  {
   "attachments": {},
   "cell_type": "markdown",
   "metadata": {},
   "source": [
    "- S less than 50 employees (small)\n",
    "- M 50 to 250 employees (medium)\n",
    "- L more than 250 employees (large)"
   ]
  },
  {
   "cell_type": "code",
   "execution_count": 28,
   "metadata": {},
   "outputs": [
    {
     "data": {
      "text/plain": [
       "company_size\n",
       "M    0.839882\n",
       "L    0.120829\n",
       "S    0.039290\n",
       "Name: proportion, dtype: float64"
      ]
     },
     "execution_count": 28,
     "metadata": {},
     "output_type": "execute_result"
    }
   ],
   "source": [
    "df[\"company_size\"].value_counts(normalize=True)"
   ]
  },
  {
   "cell_type": "code",
   "execution_count": 29,
   "metadata": {},
   "outputs": [
    {
     "data": {
      "application/vnd.plotly.v1+json": {
       "config": {
        "plotlyServerURL": "https://plot.ly"
       },
       "data": [
        {
         "hole": 0.5,
         "hoverinfo": "label+value",
         "insidetextorientation": "auto",
         "labels": [
          "Medium company",
          "Large company",
          "Small company"
         ],
         "marker": {
          "colors": [
           "rgb(0,0,0)",
           "rgb(37,37,37)",
           "rgb(82,82,82)",
           "rgb(115,115,115)",
           "rgb(150,150,150)",
           "rgb(189,189,189)",
           "rgb(217,217,217)",
           "rgb(240,240,240)",
           "rgb(255,255,255)"
          ]
         },
         "textinfo": "percent+label",
         "type": "pie",
         "values": [
          3121,
          449,
          146
         ]
        }
       ],
       "layout": {
        "annotations": [
         {
          "align": "right",
          "showarrow": false,
          "text": "Small company: fewer than 50 employees<br>Medium company: between 50 and 250 employees<br>Large company: more than 250 employees",
          "x": 1.15,
          "xref": "paper",
          "y": 0.03,
          "yref": "paper"
         },
         {
          "font": {
           "size": 20
          },
          "showarrow": false,
          "text": "3716",
          "x": 0.5,
          "y": 0.5
         }
        ],
        "template": {
         "data": {
          "bar": [
           {
            "error_x": {
             "color": "#2a3f5f"
            },
            "error_y": {
             "color": "#2a3f5f"
            },
            "marker": {
             "line": {
              "color": "#E5ECF6",
              "width": 0.5
             },
             "pattern": {
              "fillmode": "overlay",
              "size": 10,
              "solidity": 0.2
             }
            },
            "type": "bar"
           }
          ],
          "barpolar": [
           {
            "marker": {
             "line": {
              "color": "#E5ECF6",
              "width": 0.5
             },
             "pattern": {
              "fillmode": "overlay",
              "size": 10,
              "solidity": 0.2
             }
            },
            "type": "barpolar"
           }
          ],
          "carpet": [
           {
            "aaxis": {
             "endlinecolor": "#2a3f5f",
             "gridcolor": "white",
             "linecolor": "white",
             "minorgridcolor": "white",
             "startlinecolor": "#2a3f5f"
            },
            "baxis": {
             "endlinecolor": "#2a3f5f",
             "gridcolor": "white",
             "linecolor": "white",
             "minorgridcolor": "white",
             "startlinecolor": "#2a3f5f"
            },
            "type": "carpet"
           }
          ],
          "choropleth": [
           {
            "colorbar": {
             "outlinewidth": 0,
             "ticks": ""
            },
            "type": "choropleth"
           }
          ],
          "contour": [
           {
            "colorbar": {
             "outlinewidth": 0,
             "ticks": ""
            },
            "colorscale": [
             [
              0,
              "#0d0887"
             ],
             [
              0.1111111111111111,
              "#46039f"
             ],
             [
              0.2222222222222222,
              "#7201a8"
             ],
             [
              0.3333333333333333,
              "#9c179e"
             ],
             [
              0.4444444444444444,
              "#bd3786"
             ],
             [
              0.5555555555555556,
              "#d8576b"
             ],
             [
              0.6666666666666666,
              "#ed7953"
             ],
             [
              0.7777777777777778,
              "#fb9f3a"
             ],
             [
              0.8888888888888888,
              "#fdca26"
             ],
             [
              1,
              "#f0f921"
             ]
            ],
            "type": "contour"
           }
          ],
          "contourcarpet": [
           {
            "colorbar": {
             "outlinewidth": 0,
             "ticks": ""
            },
            "type": "contourcarpet"
           }
          ],
          "heatmap": [
           {
            "colorbar": {
             "outlinewidth": 0,
             "ticks": ""
            },
            "colorscale": [
             [
              0,
              "#0d0887"
             ],
             [
              0.1111111111111111,
              "#46039f"
             ],
             [
              0.2222222222222222,
              "#7201a8"
             ],
             [
              0.3333333333333333,
              "#9c179e"
             ],
             [
              0.4444444444444444,
              "#bd3786"
             ],
             [
              0.5555555555555556,
              "#d8576b"
             ],
             [
              0.6666666666666666,
              "#ed7953"
             ],
             [
              0.7777777777777778,
              "#fb9f3a"
             ],
             [
              0.8888888888888888,
              "#fdca26"
             ],
             [
              1,
              "#f0f921"
             ]
            ],
            "type": "heatmap"
           }
          ],
          "heatmapgl": [
           {
            "colorbar": {
             "outlinewidth": 0,
             "ticks": ""
            },
            "colorscale": [
             [
              0,
              "#0d0887"
             ],
             [
              0.1111111111111111,
              "#46039f"
             ],
             [
              0.2222222222222222,
              "#7201a8"
             ],
             [
              0.3333333333333333,
              "#9c179e"
             ],
             [
              0.4444444444444444,
              "#bd3786"
             ],
             [
              0.5555555555555556,
              "#d8576b"
             ],
             [
              0.6666666666666666,
              "#ed7953"
             ],
             [
              0.7777777777777778,
              "#fb9f3a"
             ],
             [
              0.8888888888888888,
              "#fdca26"
             ],
             [
              1,
              "#f0f921"
             ]
            ],
            "type": "heatmapgl"
           }
          ],
          "histogram": [
           {
            "marker": {
             "pattern": {
              "fillmode": "overlay",
              "size": 10,
              "solidity": 0.2
             }
            },
            "type": "histogram"
           }
          ],
          "histogram2d": [
           {
            "colorbar": {
             "outlinewidth": 0,
             "ticks": ""
            },
            "colorscale": [
             [
              0,
              "#0d0887"
             ],
             [
              0.1111111111111111,
              "#46039f"
             ],
             [
              0.2222222222222222,
              "#7201a8"
             ],
             [
              0.3333333333333333,
              "#9c179e"
             ],
             [
              0.4444444444444444,
              "#bd3786"
             ],
             [
              0.5555555555555556,
              "#d8576b"
             ],
             [
              0.6666666666666666,
              "#ed7953"
             ],
             [
              0.7777777777777778,
              "#fb9f3a"
             ],
             [
              0.8888888888888888,
              "#fdca26"
             ],
             [
              1,
              "#f0f921"
             ]
            ],
            "type": "histogram2d"
           }
          ],
          "histogram2dcontour": [
           {
            "colorbar": {
             "outlinewidth": 0,
             "ticks": ""
            },
            "colorscale": [
             [
              0,
              "#0d0887"
             ],
             [
              0.1111111111111111,
              "#46039f"
             ],
             [
              0.2222222222222222,
              "#7201a8"
             ],
             [
              0.3333333333333333,
              "#9c179e"
             ],
             [
              0.4444444444444444,
              "#bd3786"
             ],
             [
              0.5555555555555556,
              "#d8576b"
             ],
             [
              0.6666666666666666,
              "#ed7953"
             ],
             [
              0.7777777777777778,
              "#fb9f3a"
             ],
             [
              0.8888888888888888,
              "#fdca26"
             ],
             [
              1,
              "#f0f921"
             ]
            ],
            "type": "histogram2dcontour"
           }
          ],
          "mesh3d": [
           {
            "colorbar": {
             "outlinewidth": 0,
             "ticks": ""
            },
            "type": "mesh3d"
           }
          ],
          "parcoords": [
           {
            "line": {
             "colorbar": {
              "outlinewidth": 0,
              "ticks": ""
             }
            },
            "type": "parcoords"
           }
          ],
          "pie": [
           {
            "automargin": true,
            "type": "pie"
           }
          ],
          "scatter": [
           {
            "fillpattern": {
             "fillmode": "overlay",
             "size": 10,
             "solidity": 0.2
            },
            "type": "scatter"
           }
          ],
          "scatter3d": [
           {
            "line": {
             "colorbar": {
              "outlinewidth": 0,
              "ticks": ""
             }
            },
            "marker": {
             "colorbar": {
              "outlinewidth": 0,
              "ticks": ""
             }
            },
            "type": "scatter3d"
           }
          ],
          "scattercarpet": [
           {
            "marker": {
             "colorbar": {
              "outlinewidth": 0,
              "ticks": ""
             }
            },
            "type": "scattercarpet"
           }
          ],
          "scattergeo": [
           {
            "marker": {
             "colorbar": {
              "outlinewidth": 0,
              "ticks": ""
             }
            },
            "type": "scattergeo"
           }
          ],
          "scattergl": [
           {
            "marker": {
             "colorbar": {
              "outlinewidth": 0,
              "ticks": ""
             }
            },
            "type": "scattergl"
           }
          ],
          "scattermapbox": [
           {
            "marker": {
             "colorbar": {
              "outlinewidth": 0,
              "ticks": ""
             }
            },
            "type": "scattermapbox"
           }
          ],
          "scatterpolar": [
           {
            "marker": {
             "colorbar": {
              "outlinewidth": 0,
              "ticks": ""
             }
            },
            "type": "scatterpolar"
           }
          ],
          "scatterpolargl": [
           {
            "marker": {
             "colorbar": {
              "outlinewidth": 0,
              "ticks": ""
             }
            },
            "type": "scatterpolargl"
           }
          ],
          "scatterternary": [
           {
            "marker": {
             "colorbar": {
              "outlinewidth": 0,
              "ticks": ""
             }
            },
            "type": "scatterternary"
           }
          ],
          "surface": [
           {
            "colorbar": {
             "outlinewidth": 0,
             "ticks": ""
            },
            "colorscale": [
             [
              0,
              "#0d0887"
             ],
             [
              0.1111111111111111,
              "#46039f"
             ],
             [
              0.2222222222222222,
              "#7201a8"
             ],
             [
              0.3333333333333333,
              "#9c179e"
             ],
             [
              0.4444444444444444,
              "#bd3786"
             ],
             [
              0.5555555555555556,
              "#d8576b"
             ],
             [
              0.6666666666666666,
              "#ed7953"
             ],
             [
              0.7777777777777778,
              "#fb9f3a"
             ],
             [
              0.8888888888888888,
              "#fdca26"
             ],
             [
              1,
              "#f0f921"
             ]
            ],
            "type": "surface"
           }
          ],
          "table": [
           {
            "cells": {
             "fill": {
              "color": "#EBF0F8"
             },
             "line": {
              "color": "white"
             }
            },
            "header": {
             "fill": {
              "color": "#C8D4E3"
             },
             "line": {
              "color": "white"
             }
            },
            "type": "table"
           }
          ]
         },
         "layout": {
          "annotationdefaults": {
           "arrowcolor": "#2a3f5f",
           "arrowhead": 0,
           "arrowwidth": 1
          },
          "autotypenumbers": "strict",
          "coloraxis": {
           "colorbar": {
            "outlinewidth": 0,
            "ticks": ""
           }
          },
          "colorscale": {
           "diverging": [
            [
             0,
             "#8e0152"
            ],
            [
             0.1,
             "#c51b7d"
            ],
            [
             0.2,
             "#de77ae"
            ],
            [
             0.3,
             "#f1b6da"
            ],
            [
             0.4,
             "#fde0ef"
            ],
            [
             0.5,
             "#f7f7f7"
            ],
            [
             0.6,
             "#e6f5d0"
            ],
            [
             0.7,
             "#b8e186"
            ],
            [
             0.8,
             "#7fbc41"
            ],
            [
             0.9,
             "#4d9221"
            ],
            [
             1,
             "#276419"
            ]
           ],
           "sequential": [
            [
             0,
             "#0d0887"
            ],
            [
             0.1111111111111111,
             "#46039f"
            ],
            [
             0.2222222222222222,
             "#7201a8"
            ],
            [
             0.3333333333333333,
             "#9c179e"
            ],
            [
             0.4444444444444444,
             "#bd3786"
            ],
            [
             0.5555555555555556,
             "#d8576b"
            ],
            [
             0.6666666666666666,
             "#ed7953"
            ],
            [
             0.7777777777777778,
             "#fb9f3a"
            ],
            [
             0.8888888888888888,
             "#fdca26"
            ],
            [
             1,
             "#f0f921"
            ]
           ],
           "sequentialminus": [
            [
             0,
             "#0d0887"
            ],
            [
             0.1111111111111111,
             "#46039f"
            ],
            [
             0.2222222222222222,
             "#7201a8"
            ],
            [
             0.3333333333333333,
             "#9c179e"
            ],
            [
             0.4444444444444444,
             "#bd3786"
            ],
            [
             0.5555555555555556,
             "#d8576b"
            ],
            [
             0.6666666666666666,
             "#ed7953"
            ],
            [
             0.7777777777777778,
             "#fb9f3a"
            ],
            [
             0.8888888888888888,
             "#fdca26"
            ],
            [
             1,
             "#f0f921"
            ]
           ]
          },
          "colorway": [
           "#636efa",
           "#EF553B",
           "#00cc96",
           "#ab63fa",
           "#FFA15A",
           "#19d3f3",
           "#FF6692",
           "#B6E880",
           "#FF97FF",
           "#FECB52"
          ],
          "font": {
           "color": "#2a3f5f"
          },
          "geo": {
           "bgcolor": "white",
           "lakecolor": "white",
           "landcolor": "#E5ECF6",
           "showlakes": true,
           "showland": true,
           "subunitcolor": "white"
          },
          "hoverlabel": {
           "align": "left"
          },
          "hovermode": "closest",
          "mapbox": {
           "style": "light"
          },
          "paper_bgcolor": "white",
          "plot_bgcolor": "#E5ECF6",
          "polar": {
           "angularaxis": {
            "gridcolor": "white",
            "linecolor": "white",
            "ticks": ""
           },
           "bgcolor": "#E5ECF6",
           "radialaxis": {
            "gridcolor": "white",
            "linecolor": "white",
            "ticks": ""
           }
          },
          "scene": {
           "xaxis": {
            "backgroundcolor": "#E5ECF6",
            "gridcolor": "white",
            "gridwidth": 2,
            "linecolor": "white",
            "showbackground": true,
            "ticks": "",
            "zerolinecolor": "white"
           },
           "yaxis": {
            "backgroundcolor": "#E5ECF6",
            "gridcolor": "white",
            "gridwidth": 2,
            "linecolor": "white",
            "showbackground": true,
            "ticks": "",
            "zerolinecolor": "white"
           },
           "zaxis": {
            "backgroundcolor": "#E5ECF6",
            "gridcolor": "white",
            "gridwidth": 2,
            "linecolor": "white",
            "showbackground": true,
            "ticks": "",
            "zerolinecolor": "white"
           }
          },
          "shapedefaults": {
           "line": {
            "color": "#2a3f5f"
           }
          },
          "ternary": {
           "aaxis": {
            "gridcolor": "white",
            "linecolor": "white",
            "ticks": ""
           },
           "baxis": {
            "gridcolor": "white",
            "linecolor": "white",
            "ticks": ""
           },
           "bgcolor": "#E5ECF6",
           "caxis": {
            "gridcolor": "white",
            "linecolor": "white",
            "ticks": ""
           }
          },
          "title": {
           "x": 0.05
          },
          "xaxis": {
           "automargin": true,
           "gridcolor": "white",
           "linecolor": "white",
           "ticks": "",
           "title": {
            "standoff": 15
           },
           "zerolinecolor": "white",
           "zerolinewidth": 2
          },
          "yaxis": {
           "automargin": true,
           "gridcolor": "white",
           "linecolor": "white",
           "ticks": "",
           "title": {
            "standoff": 15
           },
           "zerolinecolor": "white",
           "zerolinewidth": 2
          }
         }
        },
        "title": {
         "text": "Size of companies with professionals in the data career",
         "x": 0.5
        }
       }
      }
     },
     "metadata": {},
     "output_type": "display_data"
    }
   ],
   "source": [
    "data = df[\"company_size\"].replace(\n",
    "    {\"S\": \"Small company\", \"M\": \"Medium company\", \"L\": \"Large company\"}\n",
    ")\n",
    "\n",
    "# counts of unique values\n",
    "unique_values = data.value_counts()\n",
    "\n",
    "# frequency of values and the labels\n",
    "freq = unique_values.values\n",
    "labels = unique_values.index.values\n",
    "# cria o dicionário de siglas e nomes por extenso\n",
    "continentes = {\n",
    "    \"NA\": \"North America\",\n",
    "    \"EU\": \"Europe\",\n",
    "    \"AS\": \"Asia\",\n",
    "    \"SA\": \"South America\",\n",
    "    \"AF\": \"Africa\",\n",
    "    \"OC\": \"Oceania\",\n",
    "}\n",
    "# sum of total experience levels\n",
    "total = sum(freq)\n",
    "\n",
    "# Cria a anotação com o valor total\n",
    "annotation = dict(font=dict(size=20), showarrow=False, text=str(total), x=0.5, y=0.5)\n",
    "\n",
    "# Criar o gráfico de rosca\n",
    "data = [\n",
    "    go.Pie(\n",
    "        labels=labels,\n",
    "        values=freq,\n",
    "        hole=0.5,\n",
    "        marker=dict(colors=list(reversed(colors.sequential.Greys))),\n",
    "        textinfo=\"percent+label\",\n",
    "        insidetextorientation=\"auto\",\n",
    "        hoverinfo=\"label+value\",\n",
    "    )\n",
    "]\n",
    "\n",
    "# Cria a anotação com o valor total\n",
    "annotation = dict(font=dict(size=20), showarrow=False, text=str(total), x=0.5, y=0.5)\n",
    "\n",
    "layout = go.Layout(\n",
    "    title={\n",
    "        \"text\": \"Size of companies with professionals in the data career\",\n",
    "        \"x\": 0.5,\n",
    "    },\n",
    "    annotations=[\n",
    "        {\n",
    "            \"text\": \"Small company: fewer than 50 employees<br>\"\n",
    "            \"Medium company: between 50 and 250 employees<br>\"\n",
    "            \"Large company: more than 250 employees\",\n",
    "            \"showarrow\": False,\n",
    "            \"x\": 1.15,\n",
    "            \"y\": 0.03,\n",
    "            \"xref\": \"paper\",\n",
    "            \"yref\": \"paper\",\n",
    "            \"align\": \"right\",\n",
    "        },\n",
    "        dict(font=dict(size=20), showarrow=False, text=str(total), x=0.5, y=0.5),\n",
    "    ],\n",
    ")\n",
    "\n",
    "# Adicionar título\n",
    "fig = go.Figure(data=data, layout=layout)\n",
    "\n",
    "# Mostrar o gráfico\n",
    "fig.show()"
   ]
  },
  {
   "attachments": {},
   "cell_type": "markdown",
   "metadata": {},
   "source": [
    "### salaray_currency: The currency of the salary paid"
   ]
  },
  {
   "cell_type": "code",
   "execution_count": 30,
   "metadata": {},
   "outputs": [
    {
     "data": {
      "text/plain": [
       "salary_currency\n",
       "USD    0.857374\n",
       "EUR    0.063240\n",
       "GBP    0.043326\n",
       "INR    0.016146\n",
       "CAD    0.006728\n",
       "AUD    0.002422\n",
       "SGD    0.001615\n",
       "BRL    0.001615\n",
       "PLN    0.001346\n",
       "CHF    0.001076\n",
       "HUF    0.000807\n",
       "DKK    0.000807\n",
       "JPY    0.000807\n",
       "TRY    0.000807\n",
       "THB    0.000538\n",
       "ILS    0.000269\n",
       "HKD    0.000269\n",
       "CZK    0.000269\n",
       "MXN    0.000269\n",
       "CLP    0.000269\n",
       "Name: proportion, dtype: float64"
      ]
     },
     "execution_count": 30,
     "metadata": {},
     "output_type": "execute_result"
    }
   ],
   "source": [
    "df[\"salary_currency\"].value_counts(normalize=True)"
   ]
  },
  {
   "attachments": {},
   "cell_type": "markdown",
   "metadata": {},
   "source": [
    "The predominant payment currencies are the Dollar and the Euro."
   ]
  },
  {
   "cell_type": "code",
   "execution_count": 31,
   "metadata": {},
   "outputs": [
    {
     "data": {
      "application/vnd.plotly.v1+json": {
       "config": {
        "plotlyServerURL": "https://plot.ly"
       },
       "data": [
        {
         "hole": 0.5,
         "hoverinfo": "label+value",
         "insidetextorientation": "auto",
         "labels": [
          "USD",
          "Others",
          "EUR"
         ],
         "marker": {
          "colors": [
           "rgb(0,0,0)",
           "rgb(37,37,37)",
           "rgb(82,82,82)",
           "rgb(115,115,115)",
           "rgb(150,150,150)",
           "rgb(189,189,189)",
           "rgb(217,217,217)",
           "rgb(240,240,240)",
           "rgb(255,255,255)"
          ]
         },
         "textinfo": "percent+label",
         "type": "pie",
         "values": [
          3186,
          295,
          235
         ]
        }
       ],
       "layout": {
        "annotations": [
         {
          "font": {
           "size": 20
          },
          "showarrow": false,
          "text": "3716",
          "x": 0.5,
          "y": 0.5
         }
        ],
        "template": {
         "data": {
          "bar": [
           {
            "error_x": {
             "color": "#2a3f5f"
            },
            "error_y": {
             "color": "#2a3f5f"
            },
            "marker": {
             "line": {
              "color": "#E5ECF6",
              "width": 0.5
             },
             "pattern": {
              "fillmode": "overlay",
              "size": 10,
              "solidity": 0.2
             }
            },
            "type": "bar"
           }
          ],
          "barpolar": [
           {
            "marker": {
             "line": {
              "color": "#E5ECF6",
              "width": 0.5
             },
             "pattern": {
              "fillmode": "overlay",
              "size": 10,
              "solidity": 0.2
             }
            },
            "type": "barpolar"
           }
          ],
          "carpet": [
           {
            "aaxis": {
             "endlinecolor": "#2a3f5f",
             "gridcolor": "white",
             "linecolor": "white",
             "minorgridcolor": "white",
             "startlinecolor": "#2a3f5f"
            },
            "baxis": {
             "endlinecolor": "#2a3f5f",
             "gridcolor": "white",
             "linecolor": "white",
             "minorgridcolor": "white",
             "startlinecolor": "#2a3f5f"
            },
            "type": "carpet"
           }
          ],
          "choropleth": [
           {
            "colorbar": {
             "outlinewidth": 0,
             "ticks": ""
            },
            "type": "choropleth"
           }
          ],
          "contour": [
           {
            "colorbar": {
             "outlinewidth": 0,
             "ticks": ""
            },
            "colorscale": [
             [
              0,
              "#0d0887"
             ],
             [
              0.1111111111111111,
              "#46039f"
             ],
             [
              0.2222222222222222,
              "#7201a8"
             ],
             [
              0.3333333333333333,
              "#9c179e"
             ],
             [
              0.4444444444444444,
              "#bd3786"
             ],
             [
              0.5555555555555556,
              "#d8576b"
             ],
             [
              0.6666666666666666,
              "#ed7953"
             ],
             [
              0.7777777777777778,
              "#fb9f3a"
             ],
             [
              0.8888888888888888,
              "#fdca26"
             ],
             [
              1,
              "#f0f921"
             ]
            ],
            "type": "contour"
           }
          ],
          "contourcarpet": [
           {
            "colorbar": {
             "outlinewidth": 0,
             "ticks": ""
            },
            "type": "contourcarpet"
           }
          ],
          "heatmap": [
           {
            "colorbar": {
             "outlinewidth": 0,
             "ticks": ""
            },
            "colorscale": [
             [
              0,
              "#0d0887"
             ],
             [
              0.1111111111111111,
              "#46039f"
             ],
             [
              0.2222222222222222,
              "#7201a8"
             ],
             [
              0.3333333333333333,
              "#9c179e"
             ],
             [
              0.4444444444444444,
              "#bd3786"
             ],
             [
              0.5555555555555556,
              "#d8576b"
             ],
             [
              0.6666666666666666,
              "#ed7953"
             ],
             [
              0.7777777777777778,
              "#fb9f3a"
             ],
             [
              0.8888888888888888,
              "#fdca26"
             ],
             [
              1,
              "#f0f921"
             ]
            ],
            "type": "heatmap"
           }
          ],
          "heatmapgl": [
           {
            "colorbar": {
             "outlinewidth": 0,
             "ticks": ""
            },
            "colorscale": [
             [
              0,
              "#0d0887"
             ],
             [
              0.1111111111111111,
              "#46039f"
             ],
             [
              0.2222222222222222,
              "#7201a8"
             ],
             [
              0.3333333333333333,
              "#9c179e"
             ],
             [
              0.4444444444444444,
              "#bd3786"
             ],
             [
              0.5555555555555556,
              "#d8576b"
             ],
             [
              0.6666666666666666,
              "#ed7953"
             ],
             [
              0.7777777777777778,
              "#fb9f3a"
             ],
             [
              0.8888888888888888,
              "#fdca26"
             ],
             [
              1,
              "#f0f921"
             ]
            ],
            "type": "heatmapgl"
           }
          ],
          "histogram": [
           {
            "marker": {
             "pattern": {
              "fillmode": "overlay",
              "size": 10,
              "solidity": 0.2
             }
            },
            "type": "histogram"
           }
          ],
          "histogram2d": [
           {
            "colorbar": {
             "outlinewidth": 0,
             "ticks": ""
            },
            "colorscale": [
             [
              0,
              "#0d0887"
             ],
             [
              0.1111111111111111,
              "#46039f"
             ],
             [
              0.2222222222222222,
              "#7201a8"
             ],
             [
              0.3333333333333333,
              "#9c179e"
             ],
             [
              0.4444444444444444,
              "#bd3786"
             ],
             [
              0.5555555555555556,
              "#d8576b"
             ],
             [
              0.6666666666666666,
              "#ed7953"
             ],
             [
              0.7777777777777778,
              "#fb9f3a"
             ],
             [
              0.8888888888888888,
              "#fdca26"
             ],
             [
              1,
              "#f0f921"
             ]
            ],
            "type": "histogram2d"
           }
          ],
          "histogram2dcontour": [
           {
            "colorbar": {
             "outlinewidth": 0,
             "ticks": ""
            },
            "colorscale": [
             [
              0,
              "#0d0887"
             ],
             [
              0.1111111111111111,
              "#46039f"
             ],
             [
              0.2222222222222222,
              "#7201a8"
             ],
             [
              0.3333333333333333,
              "#9c179e"
             ],
             [
              0.4444444444444444,
              "#bd3786"
             ],
             [
              0.5555555555555556,
              "#d8576b"
             ],
             [
              0.6666666666666666,
              "#ed7953"
             ],
             [
              0.7777777777777778,
              "#fb9f3a"
             ],
             [
              0.8888888888888888,
              "#fdca26"
             ],
             [
              1,
              "#f0f921"
             ]
            ],
            "type": "histogram2dcontour"
           }
          ],
          "mesh3d": [
           {
            "colorbar": {
             "outlinewidth": 0,
             "ticks": ""
            },
            "type": "mesh3d"
           }
          ],
          "parcoords": [
           {
            "line": {
             "colorbar": {
              "outlinewidth": 0,
              "ticks": ""
             }
            },
            "type": "parcoords"
           }
          ],
          "pie": [
           {
            "automargin": true,
            "type": "pie"
           }
          ],
          "scatter": [
           {
            "fillpattern": {
             "fillmode": "overlay",
             "size": 10,
             "solidity": 0.2
            },
            "type": "scatter"
           }
          ],
          "scatter3d": [
           {
            "line": {
             "colorbar": {
              "outlinewidth": 0,
              "ticks": ""
             }
            },
            "marker": {
             "colorbar": {
              "outlinewidth": 0,
              "ticks": ""
             }
            },
            "type": "scatter3d"
           }
          ],
          "scattercarpet": [
           {
            "marker": {
             "colorbar": {
              "outlinewidth": 0,
              "ticks": ""
             }
            },
            "type": "scattercarpet"
           }
          ],
          "scattergeo": [
           {
            "marker": {
             "colorbar": {
              "outlinewidth": 0,
              "ticks": ""
             }
            },
            "type": "scattergeo"
           }
          ],
          "scattergl": [
           {
            "marker": {
             "colorbar": {
              "outlinewidth": 0,
              "ticks": ""
             }
            },
            "type": "scattergl"
           }
          ],
          "scattermapbox": [
           {
            "marker": {
             "colorbar": {
              "outlinewidth": 0,
              "ticks": ""
             }
            },
            "type": "scattermapbox"
           }
          ],
          "scatterpolar": [
           {
            "marker": {
             "colorbar": {
              "outlinewidth": 0,
              "ticks": ""
             }
            },
            "type": "scatterpolar"
           }
          ],
          "scatterpolargl": [
           {
            "marker": {
             "colorbar": {
              "outlinewidth": 0,
              "ticks": ""
             }
            },
            "type": "scatterpolargl"
           }
          ],
          "scatterternary": [
           {
            "marker": {
             "colorbar": {
              "outlinewidth": 0,
              "ticks": ""
             }
            },
            "type": "scatterternary"
           }
          ],
          "surface": [
           {
            "colorbar": {
             "outlinewidth": 0,
             "ticks": ""
            },
            "colorscale": [
             [
              0,
              "#0d0887"
             ],
             [
              0.1111111111111111,
              "#46039f"
             ],
             [
              0.2222222222222222,
              "#7201a8"
             ],
             [
              0.3333333333333333,
              "#9c179e"
             ],
             [
              0.4444444444444444,
              "#bd3786"
             ],
             [
              0.5555555555555556,
              "#d8576b"
             ],
             [
              0.6666666666666666,
              "#ed7953"
             ],
             [
              0.7777777777777778,
              "#fb9f3a"
             ],
             [
              0.8888888888888888,
              "#fdca26"
             ],
             [
              1,
              "#f0f921"
             ]
            ],
            "type": "surface"
           }
          ],
          "table": [
           {
            "cells": {
             "fill": {
              "color": "#EBF0F8"
             },
             "line": {
              "color": "white"
             }
            },
            "header": {
             "fill": {
              "color": "#C8D4E3"
             },
             "line": {
              "color": "white"
             }
            },
            "type": "table"
           }
          ]
         },
         "layout": {
          "annotationdefaults": {
           "arrowcolor": "#2a3f5f",
           "arrowhead": 0,
           "arrowwidth": 1
          },
          "autotypenumbers": "strict",
          "coloraxis": {
           "colorbar": {
            "outlinewidth": 0,
            "ticks": ""
           }
          },
          "colorscale": {
           "diverging": [
            [
             0,
             "#8e0152"
            ],
            [
             0.1,
             "#c51b7d"
            ],
            [
             0.2,
             "#de77ae"
            ],
            [
             0.3,
             "#f1b6da"
            ],
            [
             0.4,
             "#fde0ef"
            ],
            [
             0.5,
             "#f7f7f7"
            ],
            [
             0.6,
             "#e6f5d0"
            ],
            [
             0.7,
             "#b8e186"
            ],
            [
             0.8,
             "#7fbc41"
            ],
            [
             0.9,
             "#4d9221"
            ],
            [
             1,
             "#276419"
            ]
           ],
           "sequential": [
            [
             0,
             "#0d0887"
            ],
            [
             0.1111111111111111,
             "#46039f"
            ],
            [
             0.2222222222222222,
             "#7201a8"
            ],
            [
             0.3333333333333333,
             "#9c179e"
            ],
            [
             0.4444444444444444,
             "#bd3786"
            ],
            [
             0.5555555555555556,
             "#d8576b"
            ],
            [
             0.6666666666666666,
             "#ed7953"
            ],
            [
             0.7777777777777778,
             "#fb9f3a"
            ],
            [
             0.8888888888888888,
             "#fdca26"
            ],
            [
             1,
             "#f0f921"
            ]
           ],
           "sequentialminus": [
            [
             0,
             "#0d0887"
            ],
            [
             0.1111111111111111,
             "#46039f"
            ],
            [
             0.2222222222222222,
             "#7201a8"
            ],
            [
             0.3333333333333333,
             "#9c179e"
            ],
            [
             0.4444444444444444,
             "#bd3786"
            ],
            [
             0.5555555555555556,
             "#d8576b"
            ],
            [
             0.6666666666666666,
             "#ed7953"
            ],
            [
             0.7777777777777778,
             "#fb9f3a"
            ],
            [
             0.8888888888888888,
             "#fdca26"
            ],
            [
             1,
             "#f0f921"
            ]
           ]
          },
          "colorway": [
           "#636efa",
           "#EF553B",
           "#00cc96",
           "#ab63fa",
           "#FFA15A",
           "#19d3f3",
           "#FF6692",
           "#B6E880",
           "#FF97FF",
           "#FECB52"
          ],
          "font": {
           "color": "#2a3f5f"
          },
          "geo": {
           "bgcolor": "white",
           "lakecolor": "white",
           "landcolor": "#E5ECF6",
           "showlakes": true,
           "showland": true,
           "subunitcolor": "white"
          },
          "hoverlabel": {
           "align": "left"
          },
          "hovermode": "closest",
          "mapbox": {
           "style": "light"
          },
          "paper_bgcolor": "white",
          "plot_bgcolor": "#E5ECF6",
          "polar": {
           "angularaxis": {
            "gridcolor": "white",
            "linecolor": "white",
            "ticks": ""
           },
           "bgcolor": "#E5ECF6",
           "radialaxis": {
            "gridcolor": "white",
            "linecolor": "white",
            "ticks": ""
           }
          },
          "scene": {
           "xaxis": {
            "backgroundcolor": "#E5ECF6",
            "gridcolor": "white",
            "gridwidth": 2,
            "linecolor": "white",
            "showbackground": true,
            "ticks": "",
            "zerolinecolor": "white"
           },
           "yaxis": {
            "backgroundcolor": "#E5ECF6",
            "gridcolor": "white",
            "gridwidth": 2,
            "linecolor": "white",
            "showbackground": true,
            "ticks": "",
            "zerolinecolor": "white"
           },
           "zaxis": {
            "backgroundcolor": "#E5ECF6",
            "gridcolor": "white",
            "gridwidth": 2,
            "linecolor": "white",
            "showbackground": true,
            "ticks": "",
            "zerolinecolor": "white"
           }
          },
          "shapedefaults": {
           "line": {
            "color": "#2a3f5f"
           }
          },
          "ternary": {
           "aaxis": {
            "gridcolor": "white",
            "linecolor": "white",
            "ticks": ""
           },
           "baxis": {
            "gridcolor": "white",
            "linecolor": "white",
            "ticks": ""
           },
           "bgcolor": "#E5ECF6",
           "caxis": {
            "gridcolor": "white",
            "linecolor": "white",
            "ticks": ""
           }
          },
          "title": {
           "x": 0.05
          },
          "xaxis": {
           "automargin": true,
           "gridcolor": "white",
           "linecolor": "white",
           "ticks": "",
           "title": {
            "standoff": 15
           },
           "zerolinecolor": "white",
           "zerolinewidth": 2
          },
          "yaxis": {
           "automargin": true,
           "gridcolor": "white",
           "linecolor": "white",
           "ticks": "",
           "title": {
            "standoff": 15
           },
           "zerolinecolor": "white",
           "zerolinewidth": 2
          }
         }
        },
        "title": {
         "text": "Top currencies of professionals in the data career",
         "x": 0.5,
         "xanchor": "center"
        }
       }
      }
     },
     "metadata": {},
     "output_type": "display_data"
    }
   ],
   "source": [
    "salary_currency = df[\"salary_currency\"].value_counts()\n",
    "\n",
    "# top currency\n",
    "top_currencies_labels = salary_currency.index.values[:2].tolist()\n",
    "top_currencies_values = salary_currency.values[:2].tolist()\n",
    "\n",
    "# sum of total jobs registered\n",
    "total = sum(salary_currency.values)\n",
    "\n",
    "# sum of other jobs\n",
    "others = sum(salary_currency.values[2:])\n",
    "\n",
    "currency_values = top_currencies_values + [others]\n",
    "currency_labels = top_currencies_labels + [\"Others\"]\n",
    "\n",
    "currencies = dict(zip(currency_labels, currency_values))\n",
    "\n",
    "# Ordenar o dicionário pelos valores em ordem crescente\n",
    "currencies_ordered = dict(\n",
    "    sorted(currencies.items(), key=lambda item: item[1], reverse=True)\n",
    ")\n",
    "\n",
    "# Cria um objeto Pie para o gráfico de donut\n",
    "data = [\n",
    "    go.Pie(\n",
    "        labels=list(currencies_ordered.keys()),\n",
    "        values=list(currencies_ordered.values()),\n",
    "        hole=0.5,\n",
    "        marker=dict(colors=list(reversed(colors.sequential.Greys))),\n",
    "        textinfo=\"percent+label\",\n",
    "        insidetextorientation=\"auto\",\n",
    "        hoverinfo=\"label+value\",\n",
    "    )\n",
    "]\n",
    "\n",
    "# Cria a anotação com o valor total\n",
    "annotation = dict(font=dict(size=20), showarrow=False, text=str(total), x=0.5, y=0.5)\n",
    "\n",
    "# Cria o layout do gráfico\n",
    "layout = go.Layout(\n",
    "    title={\n",
    "        \"text\": \"Top currencies of professionals in the data career\",\n",
    "        \"x\": 0.5,\n",
    "        \"xanchor\": \"center\",\n",
    "    },\n",
    "    # width=600,\n",
    "    # height=600,\n",
    "    annotations=[annotation],\n",
    ")\n",
    "\n",
    "# Cria a figura do gráfico\n",
    "fig = go.Figure(data=data, layout=layout)\n",
    "\n",
    "fig.show()"
   ]
  },
  {
   "attachments": {},
   "cell_type": "markdown",
   "metadata": {},
   "source": [
    "## Numerical Attributes"
   ]
  },
  {
   "attachments": {},
   "cell_type": "markdown",
   "metadata": {},
   "source": [
    "### work_year: The year of the salary was paid"
   ]
  },
  {
   "cell_type": "code",
   "execution_count": 32,
   "metadata": {},
   "outputs": [
    {
     "data": {
      "application/vnd.plotly.v1+json": {
       "config": {
        "plotlyServerURL": "https://plot.ly"
       },
       "data": [
        {
         "marker": {
          "color": "black"
         },
         "name": "Quantity",
         "text": [
          76,
          230,
          1664,
          1746
         ],
         "textposition": "auto",
         "type": "bar",
         "x": [
          2020,
          2021,
          2022,
          2023
         ],
         "xaxis": "x",
         "y": [
          76,
          230,
          1664,
          1746
         ],
         "yaxis": "y"
        },
        {
         "hoverinfo": "y+text",
         "marker": {
          "color": "black"
         },
         "mode": "lines+markers+text",
         "name": "Growth",
         "text": [
          "0",
          "203",
          "623",
          "5"
         ],
         "textfont": {
          "size": 12
         },
         "textposition": "top center",
         "type": "scatter",
         "x": [
          2020,
          2021,
          2022,
          2023
         ],
         "xaxis": "x2",
         "y": [
          0,
          203,
          623,
          5
         ],
         "yaxis": "y2"
        }
       ],
       "layout": {
        "template": {},
        "title": {
         "text": "Salaries registered in <a href='https://ai-jobs.net'>ai-jobs.net</a> per Year"
        },
        "xaxis": {
         "anchor": "y",
         "domain": [
          0,
          0.45
         ],
         "dtick": "M12",
         "tickformat": "%Y",
         "tickmode": "linear",
         "title": {
          "text": "Years"
         }
        },
        "xaxis2": {
         "anchor": "y2",
         "domain": [
          0.55,
          1
         ],
         "dtick": "M12",
         "tickformat": "%Y",
         "tickmode": "linear",
         "title": {
          "text": "Years"
         }
        },
        "yaxis": {
         "anchor": "x",
         "domain": [
          0,
          1
         ],
         "title": {
          "text": "Quantity"
         }
        },
        "yaxis2": {
         "anchor": "x2",
         "domain": [
          0,
          1
         ],
         "title": {
          "text": "Growth (%)"
         }
        }
       }
      }
     },
     "metadata": {},
     "output_type": "display_data"
    }
   ],
   "source": [
    "# description of frequency work_year attribute\n",
    "work_year = df[\"work_year\"].value_counts().sort_index()\n",
    "\n",
    "# The Years of salary was paid\n",
    "years = work_year.index.values\n",
    "\n",
    "# Sample\n",
    "quantity_of_employeements = work_year.values\n",
    "\n",
    "# Growth percentage array\n",
    "growth_percentage = (\n",
    "    100 * (np.diff(quantity_of_employeements)) / quantity_of_employeements[:-1]\n",
    ")\n",
    "\n",
    "growth_percentage = np.concatenate(([0], growth_percentage))\n",
    "\n",
    "\n",
    "# Create a figure with layout configuration\n",
    "fig = make_subplots(rows=1, cols=2)\n",
    "\n",
    "# Quantity bar graph\n",
    "fig.add_trace(\n",
    "    go.Bar(\n",
    "        x=years,\n",
    "        y=quantity_of_employeements,\n",
    "        name=\"Quantity\",\n",
    "        text=quantity_of_employeements,\n",
    "        textposition=\"auto\",\n",
    "    ),\n",
    "    row=1,\n",
    "    col=1,\n",
    ")\n",
    "\n",
    "# Growth scatter graph\n",
    "fig.add_trace(\n",
    "    go.Scatter(\n",
    "        x=years,\n",
    "        y=np.round(growth_percentage, 0),\n",
    "        name=\"Growth\",\n",
    "        mode=\"lines+markers+text\",\n",
    "        text=np.char.mod(\"%.0f\", growth_percentage),\n",
    "        textposition=\"top center\",\n",
    "        textfont=dict(size=12),\n",
    "        hoverinfo=\"y+text\",\n",
    "    ),\n",
    "    row=1,\n",
    "    col=2,\n",
    ")\n",
    "\n",
    "# Layout configuration\n",
    "fig.update_layout(\n",
    "    title=\"Salaries registered in <a href='https://ai-jobs.net'>ai-jobs.net</a> per Year\",\n",
    "    yaxis1_title=\"Quantity\",\n",
    "    yaxis2_title=\"Growth (%)\",\n",
    "    xaxis1=dict(\n",
    "        title=\"Years\",\n",
    "        tickmode=\"linear\",\n",
    "        tickformat=\"%Y\",\n",
    "        dtick=\"M12\",\n",
    "    ),\n",
    "    xaxis2=dict(\n",
    "        title=\"Years\",\n",
    "        tickmode=\"linear\",\n",
    "        tickformat=\"%Y\",\n",
    "        dtick=\"M12\",\n",
    "    ),\n",
    ")\n",
    "fig.update_layout(template=None)\n",
    "\n",
    "# Change color to black\n",
    "fig.update_traces(marker=dict(color=\"black\"))\n",
    "# height=400, width=800)\n",
    "\n",
    "fig.show()"
   ]
  },
  {
   "attachments": {},
   "cell_type": "markdown",
   "metadata": {},
   "source": [
    "<p style='text-align: justify;'> The highest number of records of professionals in the data career occurred in 2022 so far, but the difference between the current year and the previous one has been narrowing more and more, so we should have more salaries registered compared to last year. An exponential growth in salary records on the platform is observed, the data community is increasingly adopting the use of the platform, engaged in registering their salaries on it, thus the number of records keeps increasing. </p>\n",
    "\n",
    "<p style='text-align: justify;'> Over time, ai-jobs.net can serve as a sample to analyze the demand curve for data professionals. At this moment, we cannot assume that the demand for data professionals is increasing, as the increase in 2022 may have been due to the platform's promotion in the community and not necessarily due to an increase in demand for professionals. </p>"
   ]
  },
  {
   "attachments": {},
   "cell_type": "markdown",
   "metadata": {},
   "source": [
    "### salary_in_usd: The salary in USD (FX rate divided by avg. USD rate of respective year via data from BIS).\n",
    "While the attribute salary represents the value in local currency, the attribute salary_in_usd represents the converted value in US dollars. To facilitate analysis, we will adopt only the salary in US dollars."
   ]
  },
  {
   "cell_type": "code",
   "execution_count": 33,
   "metadata": {},
   "outputs": [
    {
     "data": {
      "application/vnd.plotly.v1+json": {
       "config": {
        "plotlyServerURL": "https://plot.ly"
       },
       "data": [
        {
         "marker": {
          "color": "black"
         },
         "name": "Salary",
         "type": "box",
         "x": [
          100000,
          30000,
          20984,
          204620,
          110680,
          270703,
          221484,
          212750,
          185000,
          262000,
          245000,
          275300,
          183500,
          218500,
          199098,
          203300,
          123600,
          189110,
          139000,
          258750,
          185000,
          231500,
          166000,
          172500,
          110500,
          238000,
          176000,
          237000,
          201450,
          309400,
          159100,
          115000,
          81500,
          237000,
          201450,
          280000,
          210000,
          280100,
          168100,
          193500,
          139000,
          65062,
          150000,
          69751,
          300000,
          96578,
          185900,
          129300,
          225000,
          175000,
          185000,
          140000,
          48289,
          38631,
          105000,
          70000,
          163196,
          145885,
          217000,
          185000,
          202800,
          104300,
          145000,
          65000,
          165000,
          132300,
          179170,
          94300,
          152500,
          116450,
          247300,
          133800,
          203000,
          133000,
          220000,
          56536,
          150000,
          120000,
          289800,
          214000,
          179820,
          143860,
          283200,
          188800,
          289800,
          214200,
          185900,
          129300,
          252000,
          129000,
          155000,
          140000,
          161800,
          141600,
          342300,
          176100,
          100000,
          70000,
          85000,
          65000,
          138784,
          83270,
          75000,
          70000,
          204500,
          138900,
          318300,
          212200,
          95000,
          75000,
          195000,
          160000,
          230000,
          143200,
          100000,
          70000,
          105000,
          20670,
          46178,
          42533,
          145000,
          115000,
          168400,
          105200,
          309400,
          159100,
          190000,
          150000,
          162500,
          130000,
          150000,
          120000,
          145000,
          120000,
          222200,
          136000,
          54685,
          42533,
          241000,
          155000,
          220000,
          190000,
          66837,
          54685,
          15000,
          85066,
          57723,
          85000,
          75000,
          160000,
          140000,
          300000,
          250000,
          228000,
          186000,
          190000,
          170000,
          230000,
          200000,
          180000,
          115000,
          200000,
          115000,
          53654,
          220000,
          205000,
          180000,
          130000,
          200000,
          150000,
          215000,
          170000,
          247500,
          172200,
          224000,
          176000,
          120000,
          75000,
          17022,
          68318,
          75020,
          140000,
          120000,
          128000,
          81500,
          145000,
          115000,
          185000,
          140000,
          329500,
          269600,
          100000,
          80000,
          250000,
          162500,
          200000,
          145000,
          100000,
          145000,
          115000,
          203500,
          152000,
          239000,
          122900,
          237000,
          145000,
          191765,
          134236,
          190000,
          112000,
          88256,
          85000,
          65000,
          135000,
          105500,
          293000,
          185000,
          80000,
          70000,
          220000,
          160000,
          175000,
          145000,
          200000,
          148500,
          48289,
          38631,
          240500,
          123700,
          152900,
          117100,
          173000,
          113000,
          260000,
          136000,
          175000,
          110000,
          260000,
          136000,
          130000,
          110000,
          205000,
          184000,
          149500,
          127075,
          195000,
          160000,
          219535,
          146115,
          170000,
          135000,
          175000,
          145000,
          199000,
          162000,
          222200,
          136000,
          221000,
          153000,
          187000,
          128000,
          210000,
          136000,
          175000,
          100000,
          179000,
          109000,
          245000,
          180000,
          142000,
          75000,
          198800,
          105200,
          125000,
          112000,
          210000,
          155000,
          115000,
          86000,
          165000,
          140000,
          139000,
          106000,
          40663,
          275000,
          50000,
          280700,
          150450,
          51753,
          250500,
          159500,
          145000,
          115000,
          140000,
          120000,
          130001,
          71907,
          93918,
          51962,
          175000,
          135000,
          85000,
          65000,
          257000,
          147000,
          222000,
          175000,
          203000,
          133200,
          213660,
          130760,
          221000,
          147000,
          100000,
          80000,
          185900,
          129300,
          238000,
          156000,
          304000,
          199000,
          48289,
          150000,
          130000,
          140000,
          110000,
          90000,
          75000,
          195895,
          102772,
          240000,
          183600,
          130000,
          80000,
          250000,
          150000,
          160000,
          120000,
          289076,
          202353,
          145000,
          120000,
          155000,
          106000,
          200000,
          160000,
          157750,
          104650,
          180000,
          140000,
          200000,
          145000,
          68000,
          60000,
          48289,
          38631,
          85000,
          65000,
          125000,
          90000,
          105000,
          90000,
          179820,
          143860,
          135000,
          105500,
          155000,
          125000,
          241000,
          181000,
          252000,
          154000,
          180000,
          155000,
          191765,
          134236,
          175000,
          145000,
          237000,
          145000,
          155000,
          125000,
          80000,
          70000,
          146000,
          75000,
          64200,
          56100,
          170000,
          130000,
          208450,
          170550,
          125000,
          100000,
          135000,
          120000,
          200000,
          170000,
          171250,
          113750,
          222200,
          136000,
          260000,
          136000,
          153600,
          100500,
          205000,
          184000,
          115000,
          95000,
          182500,
          121500,
          203100,
          114500,
          72914,
          54685,
          252000,
          129000,
          92700,
          61800,
          160000,
          130000,
          258000,
          190000,
          170000,
          135000,
          167500,
          106500,
          195000,
          160000,
          146000,
          75000,
          59888,
          286000,
          207000,
          100000,
          80000,
          223250,
          178600,
          353200,
          249300,
          230000,
          220000,
          297300,
          198200,
          210000,
          151800,
          200000,
          170000,
          317070,
          170730,
          128000,
          81500,
          21461,
          108000,
          60000,
          134000,
          124000,
          171250,
          113750,
          165000,
          132300,
          225000,
          175000,
          230000,
          124500,
          247500,
          172200,
          175000,
          145000,
          148700,
          125600,
          145000,
          115000,
          200000,
          150000,
          160000,
          120000,
          185000,
          120250,
          275300,
          183000,
          170000,
          125000,
          167500,
          106500,
          250000,
          200000,
          135000,
          423834,
          216000,
          184000,
          180000,
          165000,
          185900,
          129300,
          145000,
          120000,
          143865,
          115092,
          130000,
          90000,
          173000,
          132000,
          208049,
          128500,
          179820,
          143860,
          167500,
          106500,
          275300,
          183500,
          149600,
          102000,
          145000,
          100000,
          190000,
          95000,
          153600,
          106800,
          96578,
          80481,
          128000,
          85000,
          151000,
          140000,
          275300,
          183500,
          220000,
          170000,
          135000,
          105500,
          100000,
          80000,
          7000,
          42923,
          160000,
          145000,
          154000,
          143000,
          78990,
          51039,
          190000,
          120000,
          85066,
          51039,
          109371,
          72914,
          150000,
          111000,
          265000,
          235000,
          121093,
          73546,
          160000,
          130000,
          75000,
          60400,
          85000,
          75000,
          252000,
          129000,
          92700,
          61800,
          172309,
          60093,
          83500,
          52500,
          201036,
          134024,
          165000,
          140000,
          62000,
          58000,
          172000,
          115000,
          125000,
          90000,
          163800,
          126000,
          237000,
          145000,
          90000,
          90000,
          139500,
          109400,
          258000,
          190000,
          145000,
          120000,
          205600,
          105700,
          252000,
          129000,
          239748,
          159832,
          186300,
          102500,
          165000,
          132300,
          190000,
          126000,
          149040,
          113900,
          153600,
          106800,
          172600,
          107900,
          180180,
          106020,
          376080,
          213120,
          153600,
          100500,
          206500,
          121600,
          260000,
          225000,
          194500,
          115500,
          170000,
          90000,
          95000,
          70000,
          275000,
          160000,
          115934,
          81666,
          175000,
          120000,
          150000,
          120000,
          200000,
          175000,
          206000,
          130000,
          138000,
          92000,
          65000,
          48000,
          110000,
          75000,
          130000,
          87000,
          160000,
          112000,
          162500,
          130000,
          299500,
          245100,
          145000,
          100000,
          147100,
          90700,
          115100,
          73900,
          168400,
          105200,
          210000,
          160000,
          145000,
          100000,
          222200,
          136000,
          100000,
          85000,
          85066,
          57723,
          200000,
          145000,
          140000,
          95000,
          185000,
          120250,
          130000,
          205000,
          140000,
          297300,
          198200,
          141288,
          94192,
          184000,
          143000,
          70000,
          55000,
          275300,
          183500,
          75000,
          65000,
          160000,
          147000,
          149040,
          113900,
          75020,
          180180,
          106020,
          17022,
          70000,
          80000,
          18238,
          250000,
          150000,
          139500,
          109400,
          105000,
          70000,
          210914,
          116704,
          150000,
          100000,
          146000,
          75000,
          75000,
          60000,
          185700,
          165000,
          160000,
          130000,
          169000,
          110600,
          193000,
          136850,
          139500,
          109400,
          276000,
          178500,
          59020,
          48289,
          75116,
          48289,
          195652,
          101228,
          136956,
          101228,
          252000,
          129000,
          130000,
          150000,
          163800,
          126000,
          260000,
          110000,
          170000,
          130000,
          247500,
          172200,
          239748,
          159832,
          163800,
          126000,
          128750,
          106250,
          252000,
          129000,
          299500,
          245100,
          155000,
          140000,
          167500,
          106500,
          188500,
          117000,
          250000,
          138000,
          130000,
          100000,
          123405,
          140000,
          120000,
          160000,
          135000,
          104500,
          70000,
          90000,
          70000,
          153600,
          106800,
          125000,
          90000,
          185000,
          125000,
          127000,
          94000,
          210550,
          153300,
          200000,
          150000,
          161500,
          119500,
          175000,
          145000,
          175000,
          148750,
          105000,
          85000,
          215000,
          146300,
          214618,
          72000,
          60000,
          153400,
          122700,
          260000,
          175000,
          186300,
          123900,
          340000,
          150000,
          153400,
          122700,
          250000,
          175000,
          64385,
          185900,
          121700,
          153600,
          106800,
          50000,
          100000,
          247500,
          172200,
          310000,
          239000,
          125000,
          110000,
          150000,
          100000,
          149076,
          82365,
          146000,
          75000,
          139500,
          109400,
          139500,
          109400,
          149600,
          102000,
          97218,
          48609,
          252000,
          129000,
          95000,
          85500,
          185900,
          121700,
          150000,
          100000,
          145000,
          125000,
          150000,
          97750,
          201000,
          122000,
          252000,
          129000,
          120000,
          75000,
          116990,
          82920,
          185900,
          129300,
          200000,
          125000,
          201000,
          122000,
          204500,
          142200,
          155000,
          140000,
          205920,
          171600,
          121500,
          78000,
          154000,
          116000,
          190000,
          136000,
          78990,
          43809,
          180000,
          110000,
          275300,
          183000,
          170000,
          140000,
          154000,
          116000,
          160000,
          130000,
          200000,
          120000,
          175000,
          160000,
          127599,
          103294,
          153600,
          106800,
          85000,
          75000,
          225000,
          156400,
          150000,
          120000,
          163800,
          126000,
          145000,
          90000,
          204500,
          142200,
          95000,
          85500,
          167500,
          106500,
          163800,
          126000,
          155000,
          140000,
          250000,
          200000,
          260000,
          186000,
          160000,
          130000,
          200000,
          150000,
          48289,
          38631,
          150000,
          120000,
          30000,
          185000,
          125000,
          34320,
          9289,
          75116,
          106000,
          175000,
          130000,
          122000,
          93800,
          150000,
          90000,
          165000,
          112000,
          220000,
          71897,
          64385,
          204500,
          142200,
          15806,
          200000,
          175000,
          185900,
          129300,
          185900,
          121700,
          204500,
          142200,
          40000,
          29453,
          180180,
          106020,
          136000,
          104000,
          125000,
          110000,
          153400,
          122700,
          310000,
          239000,
          152380,
          121904,
          185900,
          129300,
          247500,
          172200,
          168400,
          105200,
          128280,
          106900,
          192000,
          140000,
          100000,
          107309,
          85847,
          275000,
          174000,
          139500,
          109400,
          139500,
          109400,
          170500,
          85000,
          72946,
          54365,
          160288,
          127467,
          80000,
          65000,
          124740,
          65488,
          72200,
          64980,
          153600,
          106800,
          179975,
          86466,
          120000,
          90000,
          51039,
          42533,
          149076,
          82365,
          169000,
          110600,
          175000,
          120000,
          230000,
          180000,
          153600,
          106800,
          140000,
          120000,
          205920,
          171600,
          165000,
          125000,
          265000,
          185000,
          130000,
          168000,
          38631,
          95000,
          85500,
          147100,
          90700,
          167580,
          87980,
          202000,
          135000,
          163800,
          126000,
          163800,
          126000,
          104000,
          65000,
          230000,
          148000,
          269000,
          158000,
          197000,
          106000,
          150000,
          100000,
          290000,
          210000,
          192000,
          172800,
          300240,
          200160,
          300240,
          200160,
          175000,
          140000,
          169000,
          100000,
          370000,
          245000,
          115447,
          110000,
          80000,
          55000,
          48000,
          95000,
          85000,
          137500,
          81500,
          323300,
          184700,
          30000,
          186000,
          153088,
          190000,
          160000,
          200000,
          150000,
          190000,
          183310,
          240000,
          180000,
          200000,
          150000,
          299500,
          245100,
          144000,
          66000,
          148500,
          126277,
          228000,
          120000,
          180000,
          90000,
          126500,
          78000,
          180000,
          160000,
          272000,
          170000,
          80000,
          60000,
          259000,
          146000,
          200000,
          160000,
          310000,
          239000,
          142000,
          95000,
          155000,
          139500,
          140000,
          120000,
          259000,
          146000,
          109371,
          72914,
          17779,
          19522,
          247500,
          172200,
          225000,
          156400,
          139500,
          109400,
          125000,
          90000,
          107309,
          75116,
          185900,
          129300,
          139500,
          109400,
          120000,
          75000,
          169000,
          110600,
          288000,
          140000,
          288000,
          140000,
          120000,
          90000,
          72914,
          60761,
          215050,
          156400,
          198000,
          114000,
          75000,
          60000,
          204500,
          142200,
          209300,
          182200,
          140000,
          120000,
          85000,
          48609,
          120000,
          60000,
          147100,
          90700,
          230000,
          170000,
          227000,
          108000,
          180000,
          160000,
          180000,
          160000,
          180000,
          130000,
          55800,
          51508,
          60000,
          50000,
          226700,
          133300,
          252000,
          129000,
          151902,
          9727,
          80000,
          52500,
          250000,
          162500,
          85000,
          75000,
          153600,
          106800,
          165000,
          124000,
          115934,
          81666,
          167580,
          87980,
          250000,
          63000,
          253750,
          169200,
          253750,
          169200,
          170000,
          120000,
          124740,
          65488,
          213580,
          163625,
          12000,
          375000,
          101943,
          16414,
          220000,
          170000,
          235000,
          210000,
          180000,
          115000,
          200000,
          115000,
          231250,
          138750,
          284310,
          153090,
          160000,
          75000,
          125000,
          105000,
          109371,
          85066,
          55000,
          48000,
          100000,
          225900,
          156400,
          250000,
          162500,
          318300,
          188800,
          385000,
          60000,
          110000,
          95000,
          145000,
          135000,
          180180,
          106020,
          93919,
          51962,
          241871,
          133832,
          170000,
          90000,
          210914,
          116704,
          192500,
          140000,
          149076,
          82365,
          36000,
          175000,
          148750,
          370000,
          200000,
          235000,
          185000,
          121523,
          97218,
          216100,
          140800,
          145828,
          121523,
          53654,
          110000,
          128000,
          81500,
          66837,
          63192,
          60761,
          54685,
          284000,
          236000,
          248100,
          145900,
          155850,
          102544,
          151410,
          115360,
          66531,
          59020,
          125686,
          100000,
          12767,
          250000,
          162500,
          185000,
          120250,
          26827,
          180000,
          85000,
          70000,
          135000,
          100000,
          155000,
          140000,
          204500,
          142200,
          226700,
          133300,
          225000,
          156400,
          163800,
          126000,
          163800,
          126000,
          220000,
          150000,
          145000,
          115000,
          204500,
          138900,
          162500,
          130000,
          150000,
          107000,
          175000,
          110000,
          226700,
          133300,
          252000,
          129000,
          150000,
          125000,
          252000,
          129000,
          225000,
          156400,
          23000,
          110000,
          265000,
          182750,
          130000,
          100000,
          153600,
          106800,
          137500,
          81500,
          314100,
          195800,
          205000,
          180000,
          165000,
          144000,
          160000,
          100000,
          200000,
          145000,
          150000,
          100000,
          199000,
          112000,
          105000,
          70000,
          130000,
          180180,
          106020,
          160000,
          135000,
          183000,
          134000,
          220000,
          150000,
          350000,
          262500,
          122000,
          94000,
          276000,
          184000,
          310000,
          239000,
          225000,
          156400,
          180000,
          150000,
          228000,
          152000,
          209450,
          158677,
          175000,
          145000,
          240000,
          170000,
          103200,
          61200,
          155000,
          66970,
          63312,
          237000,
          145000,
          240000,
          139000,
          174500,
          113000,
          130000,
          87000,
          160000,
          108000,
          165000,
          107250,
          300000,
          119000,
          285800,
          154600,
          60795,
          30000,
          220000,
          195000,
          168400,
          105200,
          206000,
          160000,
          200000,
          175000,
          231250,
          138750,
          153000,
          94000,
          240500,
          123700,
          160000,
          90000,
          124234,
          74540,
          109000,
          79000,
          84053,
          50000,
          275300,
          183500,
          275300,
          183500,
          160000,
          125600,
          170000,
          120000,
          225000,
          140000,
          141290,
          74178,
          150000,
          120000,
          85000,
          75000,
          220000,
          160000,
          205600,
          107500,
          120000,
          95000,
          185900,
          129300,
          160000,
          130000,
          12888,
          250000,
          175000,
          136000,
          104000,
          80000,
          52500,
          110000,
          84000,
          125000,
          110000,
          90000,
          80000,
          200000,
          135000,
          48000,
          120000,
          130000,
          75000,
          252000,
          129000,
          150000,
          100000,
          226700,
          133300,
          190000,
          165000,
          170000,
          150000,
          150000,
          130000,
          225000,
          156400,
          200000,
          80000,
          12877,
          6304,
          17509,
          257000,
          134000,
          77262,
          38631,
          205600,
          105700,
          140000,
          110000,
          299500,
          245100,
          210000,
          151800,
          53654,
          51508,
          40777,
          51508,
          40777,
          160000,
          135000,
          120000,
          95000,
          250000,
          63000,
          237000,
          145000,
          130000,
          90000,
          120000,
          100000,
          174500,
          113000,
          183310,
          183310,
          145000,
          102500,
          210000,
          185000,
          174500,
          113000,
          122000,
          94000,
          220000,
          146000,
          300000,
          130000,
          24740,
          15897,
          145000,
          128000,
          182000,
          140000,
          122000,
          94000,
          77262,
          38631,
          300000,
          200000,
          135000,
          105500,
          252000,
          129000,
          110000,
          136000,
          104000,
          168000,
          130000,
          78990,
          43809,
          120000,
          95000,
          153400,
          122700,
          185000,
          160000,
          205000,
          185000,
          204500,
          142200,
          145000,
          87000,
          50000,
          234100,
          203500,
          223800,
          172100,
          180000,
          150000,
          232200,
          167200,
          197000,
          106000,
          180000,
          145000,
          225000,
          200000,
          170000,
          114000,
          291500,
          180000,
          196200,
          150900,
          168400,
          105200,
          95000,
          80000,
          116000,
          72000,
          207000,
          167000,
          145000,
          135000,
          105000,
          70000,
          180000,
          115000,
          133800,
          96100,
          120000,
          80000,
          140000,
          100000,
          150000,
          120000,
          140000,
          115000,
          297300,
          198200,
          297300,
          198200,
          202000,
          135000,
          110000,
          84000,
          219000,
          230000,
          196000,
          140000,
          110000,
          150000,
          100000,
          160000,
          110000,
          185900,
          129300,
          126100,
          72000,
          170000,
          150000,
          175000,
          140000,
          240500,
          137500,
          187500,
          165000,
          72914,
          25216,
          210000,
          165750,
          225000,
          165750,
          109006,
          67141,
          135000,
          115000,
          275000,
          175000,
          170000,
          140000,
          175308,
          100706,
          235000,
          135000,
          310000,
          229000,
          289076,
          202353,
          69751,
          37558,
          120000,
          100000,
          226700,
          133300,
          125000,
          85000,
          130000,
          80000,
          120000,
          100000,
          54094,
          18314,
          231250,
          138750,
          199000,
          162000,
          160000,
          135000,
          100000,
          200000,
          150000,
          160000,
          120000,
          250000,
          200000,
          150000,
          120000,
          150000,
          100000,
          133000,
          272550,
          198200,
          182000,
          140000,
          200000,
          160000,
          204500,
          142200,
          120000,
          105000,
          187500,
          175000,
          204500,
          142200,
          155000,
          64000,
          235000,
          185000,
          174500,
          113000,
          143100,
          113000,
          184000,
          142000,
          140000,
          120000,
          174500,
          113000,
          180560,
          115440,
          140000,
          120000,
          248100,
          145900,
          120000,
          110000,
          291500,
          180000,
          75344,
          63192,
          161800,
          141600,
          58331,
          46178,
          166000,
          128000,
          170000,
          110000,
          160000,
          75000,
          236000,
          182000,
          14307,
          130000,
          150000,
          100000,
          261500,
          134500,
          13989,
          130000,
          90000,
          160000,
          135000,
          125000,
          175000,
          155000,
          153600,
          106800,
          150000,
          140000,
          122000,
          94500,
          170000,
          130000,
          145000,
          128000,
          145000,
          100000,
          175000,
          120000,
          145000,
          115000,
          150000,
          150000,
          100000,
          150000,
          127500,
          126500,
          51000,
          260000,
          175000,
          40000,
          40000,
          250000,
          63000,
          210000,
          160000,
          272550,
          198200,
          94560,
          52533,
          220000,
          146000,
          150000,
          100000,
          248400,
          183600,
          150000,
          150000,
          40000,
          56723,
          120000,
          95000,
          160000,
          135000,
          24165,
          216000,
          144000,
          85000,
          65000,
          149000,
          119000,
          140000,
          120000,
          150000,
          110000,
          246000,
          201000,
          190000,
          155000,
          235000,
          185000,
          190000,
          160000,
          100000,
          130000,
          115000,
          92350,
          67723,
          105000,
          70000,
          204500,
          142200,
          192000,
          164000,
          185900,
          129300,
          130000,
          75000,
          175000,
          120000,
          167500,
          106500,
          75000,
          60000,
          184000,
          142000,
          145000,
          100000,
          10000,
          31795,
          44365,
          175000,
          120000,
          175000,
          120000,
          200000,
          145000,
          92350,
          73880,
          145000,
          100000,
          192000,
          164000,
          310000,
          239000,
          120000,
          95000,
          145000,
          135000,
          100000,
          78000,
          73546,
          36773,
          160000,
          120000,
          190000,
          150000,
          35610,
          125000,
          120000,
          95000,
          150000,
          100000,
          47280,
          37824,
          115934,
          81666,
          175000,
          140000,
          120000,
          95000,
          249500,
          149850,
          122500,
          100000,
          249500,
          149850,
          55000,
          48000,
          249500,
          149850,
          58837,
          190000,
          120000,
          127000,
          104000,
          210000,
          150000,
          210000,
          150000,
          210000,
          130000,
          182750,
          161500,
          102640,
          66100,
          210000,
          150000,
          198800,
          122600,
          130000,
          80000,
          136000,
          104000,
          150000,
          100000,
          160000,
          135000,
          216000,
          144000,
          159000,
          130000,
          115934,
          81666,
          215000,
          150000,
          246000,
          201000,
          187000,
          153000,
          255000,
          185000,
          430967,
          55410,
          50432,
          39925,
          169000,
          110600,
          60938,
          140000,
          120000,
          75000,
          60000,
          10000,
          50000,
          134000,
          124000,
          166700,
          119000,
          124234,
          74540,
          100000,
          65000,
          16904,
          200000,
          12000,
          220000,
          146000,
          68293,
          36773,
          110000,
          70000,
          50000,
          120000,
          95000,
          150000,
          100000,
          47280,
          37824,
          190000,
          135000,
          128000,
          81500,
          173000,
          110000,
          192000,
          120000,
          115934,
          81666,
          120000,
          95000,
          190000,
          194000,
          129400,
          201000,
          89200,
          165000,
          125000,
          230000,
          196000,
          130000,
          90000,
          150000,
          100000,
          230000,
          150000,
          153600,
          106800,
          130000,
          100000,
          216000,
          144000,
          180000,
          120000,
          160000,
          135000,
          192500,
          140000,
          152500,
          130000,
          65000,
          55000,
          178750,
          160000,
          63040,
          52533,
          165000,
          135000,
          170000,
          125000,
          105000,
          70000,
          130000,
          95000,
          203500,
          152000,
          197430,
          134760,
          120000,
          197000,
          99000,
          220000,
          162000,
          110446,
          79178,
          70186,
          51716,
          149040,
          113900,
          95000,
          115000,
          171000,
          13000,
          100000,
          78000,
          120000,
          95000,
          110000,
          70000,
          50000,
          185900,
          129300,
          150000,
          100000,
          230000,
          154600,
          204500,
          142200,
          160000,
          75000,
          47280,
          37824,
          213000,
          152000,
          140000,
          120000,
          110000,
          70000,
          227200,
          168000,
          20000,
          64090,
          60938,
          243000,
          183000,
          175000,
          150000,
          130000,
          90000,
          165000,
          124000,
          178000,
          132000,
          300000,
          130000,
          169000,
          110600,
          116000,
          96000,
          92350,
          70186,
          105000,
          70000,
          105236,
          194000,
          129400,
          190000,
          135000,
          100000,
          70000,
          189750,
          140250,
          130000,
          100000,
          160000,
          109000,
          250000,
          150000,
          206000,
          160000,
          135000,
          120000,
          115573,
          73546,
          160000,
          135000,
          150000,
          100000,
          120000,
          95000,
          68293,
          42026,
          191200,
          130000,
          191200,
          130000,
          66192,
          50000,
          230000,
          154600,
          120000,
          95000,
          140000,
          120000,
          169000,
          110600,
          80000,
          185900,
          129300,
          135000,
          110000,
          155000,
          140000,
          205000,
          150000,
          179500,
          134000,
          180000,
          120000,
          185900,
          129300,
          175000,
          145000,
          235000,
          175000,
          27317,
          160000,
          90000,
          68293,
          36773,
          145000,
          115000,
          165000,
          135000,
          168400,
          105200,
          86193,
          49253,
          200000,
          160000,
          47280,
          37824,
          198800,
          122600,
          100000,
          105066,
          130000,
          100000,
          104663,
          73880,
          125000,
          110000,
          165000,
          124000,
          148000,
          107000,
          150000,
          100000,
          160000,
          135000,
          120000,
          95000,
          153600,
          106800,
          100000,
          65000,
          120000,
          95000,
          63040,
          36773,
          310000,
          239000,
          299500,
          245100,
          168000,
          130000,
          136000,
          104000,
          161000,
          118000,
          205000,
          184000,
          185900,
          129300,
          247500,
          172200,
          68293,
          177000,
          131000,
          205000,
          184000,
          146000,
          102000,
          169000,
          110600,
          230000,
          196000,
          135000,
          100000,
          80000,
          65000,
          135000,
          100000,
          61566,
          43096,
          175000,
          135000,
          80000,
          231250,
          138750,
          193750,
          116250,
          231250,
          138750,
          231250,
          138750,
          231250,
          138750,
          193750,
          116250,
          208000,
          127000,
          300000,
          196000,
          204500,
          142200,
          45555,
          185900,
          129300,
          47280,
          37824,
          204500,
          142200,
          205000,
          185000,
          185900,
          129300,
          247500,
          172200,
          160000,
          135000,
          150000,
          100000,
          110000,
          95000,
          185900,
          129300,
          205000,
          184000,
          17684,
          375000,
          191200,
          130000,
          225000,
          156400,
          169000,
          110600,
          204500,
          142200,
          104663,
          80036,
          185900,
          129300,
          140700,
          93800,
          350000,
          135000,
          115934,
          81666,
          12000,
          104697,
          33000,
          34672,
          201000,
          119000,
          175000,
          150000,
          154560,
          123648,
          130000,
          100000,
          170000,
          145000,
          135000,
          100000,
          247500,
          172200,
          177500,
          134000,
          185900,
          129300,
          192564,
          144854,
          130000,
          105000,
          179305,
          142127,
          315000,
          225000,
          243900,
          156600,
          206000,
          160000,
          109000,
          79000,
          160000,
          109000,
          89306,
          182500,
          128500,
          160000,
          90000,
          77300,
          45600,
          127000,
          110000,
          210000,
          136000,
          12608,
          170000,
          140000,
          247500,
          172200,
          225000,
          184100,
          130000,
          90000,
          120000,
          100000,
          85000,
          78000,
          161000,
          110000,
          136000,
          104000,
          47280,
          37824,
          205000,
          160000,
          169000,
          110600,
          61566,
          49253,
          160000,
          130000,
          245000,
          180000,
          135000,
          100000,
          220000,
          150000,
          198440,
          144000,
          240000,
          170000,
          198440,
          144000,
          150000,
          100000,
          120000,
          95000,
          57872,
          64000,
          39925,
          187200,
          116100,
          150000,
          127000,
          275000,
          166000,
          159699,
          138938,
          76000,
          166700,
          119000,
          130000,
          100000,
          103432,
          92350,
          80000,
          52500,
          236000,
          182000,
          180000,
          140000,
          225000,
          156400,
          135000,
          100000,
          204500,
          142200,
          240000,
          125404,
          300000,
          130000,
          195000,
          175000,
          155000,
          110000,
          123000,
          92250,
          170000,
          150000,
          180000,
          100000,
          97000,
          90000,
          200000,
          160000,
          210000,
          180000,
          260000,
          180000,
          210000,
          157000,
          180000,
          100000,
          80000,
          52500,
          128000,
          81500,
          105000,
          70000,
          175000,
          122500,
          171000,
          117000,
          202800,
          104300,
          50432,
          36773,
          197000,
          99000,
          160000,
          110000,
          185900,
          129300,
          30000,
          78000,
          48000,
          170000,
          130000,
          150000,
          95000,
          78000,
          42000,
          345600,
          230400,
          145000,
          115000,
          78000,
          48000,
          175950,
          130050,
          205600,
          105700,
          236600,
          89200,
          84000,
          54000,
          80000,
          200000,
          73742,
          165000,
          33246,
          185900,
          129300,
          169000,
          110600,
          5409,
          75050,
          225000,
          184100,
          185900,
          129300,
          225000,
          156400,
          185900,
          129300,
          108000,
          8000,
          155000,
          38000,
          85000,
          65000,
          155000,
          38000,
          110820,
          92350,
          153600,
          106800,
          185000,
          50000,
          185900,
          129300,
          155000,
          38000,
          168000,
          130000,
          123400,
          88100,
          120000,
          55000,
          185900,
          129300,
          191200,
          130000,
          169000,
          110600,
          150000,
          120000,
          139000,
          122000,
          185900,
          129300,
          139600,
          85700,
          185000,
          50000,
          185900,
          129300,
          225000,
          156400,
          200000,
          175000,
          185900,
          129300,
          148500,
          98200,
          115000,
          95000,
          225000,
          66000,
          185000,
          50000,
          47280,
          37824,
          134000,
          98000,
          105000,
          62000,
          57000,
          161311,
          144200,
          115360,
          83171,
          38154,
          73546,
          42026,
          170000,
          150000,
          180000,
          160000,
          108000,
          200000,
          150000,
          125976,
          188700,
          160395,
          115934,
          81666,
          300000,
          225000,
          198440,
          144000,
          191475,
          141525,
          50432,
          36773,
          75648,
          156868,
          200000,
          198440,
          144000,
          69344,
          5132,
          90000,
          126080,
          84053,
          200000,
          180000,
          108000,
          85000,
          210000,
          180000,
          165000,
          132000,
          130000,
          110000,
          45050,
          42028,
          135000,
          178800,
          132100,
          20000,
          140000,
          110000,
          160000,
          85000,
          250000,
          63000,
          187200,
          116100,
          10000,
          200000,
          145000,
          229998,
          154545,
          215000,
          159000,
          229998,
          154545,
          50000,
          183000,
          99750,
          68400,
          236900,
          159200,
          243225,
          179775,
          175000,
          150000,
          210000,
          180000,
          148000,
          128000,
          190000,
          135000,
          130000,
          110000,
          191475,
          141525,
          160000,
          85000,
          218000,
          145300,
          195400,
          131300,
          105000,
          191475,
          141525,
          207000,
          153000,
          191475,
          141525,
          110000,
          99000,
          191475,
          141525,
          191475,
          141525,
          191475,
          141525,
          200000,
          135000,
          207000,
          153000,
          191475,
          141525,
          191475,
          141525,
          191475,
          141525,
          195700,
          130500,
          130000,
          84000,
          100000,
          60000,
          80036,
          67723,
          141300,
          102100,
          50432,
          36773,
          150000,
          102200,
          22892,
          144000,
          113000,
          31520,
          195400,
          131300,
          195400,
          131300,
          195400,
          131300,
          190000,
          135000,
          135000,
          80000,
          8050,
          160000,
          85000,
          178800,
          132100,
          60000,
          63040,
          50000,
          140000,
          105000,
          80036,
          67723,
          190000,
          140000,
          100000,
          60000,
          180000,
          165000,
          108000,
          20000,
          190000,
          135000,
          179400,
          154000,
          193900,
          129300,
          222640,
          182160,
          150000,
          100000,
          122500,
          100000,
          297500,
          260000,
          15000,
          193000,
          93000,
          73000,
          100000,
          60000,
          7799,
          136994,
          101570,
          250000,
          63000,
          134000,
          98000,
          191475,
          141525,
          57786,
          136000,
          112000,
          172000,
          140000,
          215000,
          164000,
          300000,
          130000,
          250000,
          63000,
          180000,
          150000,
          45390,
          250000,
          63000,
          191475,
          141525,
          97500,
          212800,
          142800,
          73546,
          50000,
          6359,
          151800,
          130240,
          165000,
          140250,
          135000,
          115000,
          179400,
          154000,
          191475,
          141525,
          191475,
          141525,
          191475,
          141525,
          75000,
          84053,
          73546,
          98506,
          86193,
          84053,
          73546,
          191475,
          141525,
          191475,
          141525,
          102663,
          80041,
          191475,
          141525,
          104611,
          82280,
          191475,
          141525,
          191475,
          141525,
          115000,
          31520,
          81000,
          66000,
          46000,
          80000,
          200000,
          180000,
          200000,
          204100,
          136100,
          250000,
          63000,
          118208,
          110820,
          19073,
          191475,
          141525,
          191475,
          141525,
          191475,
          141525,
          95000,
          70000,
          75000,
          7500,
          113000,
          170000,
          130000,
          113000,
          140000,
          50000,
          53368,
          175000,
          140000,
          29944,
          250000,
          63000,
          160000,
          119300,
          145000,
          105000,
          90000,
          146200,
          124270,
          225000,
          160000,
          54634,
          185800,
          137400,
          245000,
          180000,
          203500,
          152000,
          250000,
          63000,
          186000,
          148800,
          95386,
          128058,
          82000,
          110000,
          173000,
          203500,
          152000,
          186000,
          148800,
          6270,
          158000,
          134000,
          170000,
          120000,
          200000,
          150000,
          216200,
          144100,
          115573,
          89306,
          250000,
          63000,
          135000,
          85000,
          135000,
          85000,
          206000,
          175100,
          189650,
          164996,
          149040,
          113900,
          154000,
          126000,
          200000,
          150000,
          195700,
          130500,
          170000,
          135000,
          98506,
          73880,
          117000,
          99450,
          200000,
          135000,
          193900,
          129300,
          55410,
          86193,
          61566,
          175000,
          130000,
          188100,
          139860,
          248700,
          167100,
          5723,
          123400,
          88100,
          50432,
          245000,
          205000,
          141300,
          102100,
          141300,
          102100,
          50000,
          84053,
          61566,
          250000,
          63000,
          189500,
          140100,
          177600,
          131300,
          24000,
          24000,
          250000,
          63000,
          202900,
          131300,
          145000,
          115000,
          115000,
          193900,
          129300,
          180000,
          140000,
          216200,
          144100,
          216000,
          144000,
          150000,
          12171,
          53416,
          50000,
          250000,
          84053,
          131752,
          48000,
          260500,
          175100,
          210000,
          100000,
          55000,
          130000,
          77119,
          52008,
          30523,
          206699,
          99100,
          200000,
          54000,
          250000,
          63000,
          250000,
          63000,
          250000,
          63000,
          130000,
          100000,
          80000,
          160000,
          100000,
          221300,
          148700,
          30000,
          28368,
          91118,
          61566,
          60938,
          249260,
          185400,
          170000,
          130000,
          80036,
          128875,
          93700,
          180000,
          100000,
          136260,
          109280,
          160000,
          92000,
          200000,
          160000,
          135446,
          104663,
          117000,
          99450,
          129000,
          86000,
          13493,
          13493,
          160000,
          119300,
          100000,
          25000,
          65257,
          200000,
          180000,
          153000,
          210000,
          100000,
          150075,
          110925,
          22800,
          160000,
          92000,
          202900,
          131300,
          22809,
          15000,
          175000,
          135000,
          133766,
          83000,
          92350,
          67723,
          186000,
          148800,
          112900,
          90320,
          240000,
          160000,
          300000,
          200000,
          65666,
          200000,
          116976,
          92350,
          120000,
          112900,
          90320,
          145000,
          105400,
          49268,
          110820,
          92350,
          215300,
          158200,
          209100,
          154600,
          115934,
          81666,
          175000,
          155000,
          84053,
          164000,
          132000,
          170000,
          123000,
          189650,
          164996,
          52533,
          52533,
          115222,
          165400,
          132320,
          208775,
          147800,
          136994,
          101570,
          128875,
          93700,
          76309,
          35093,
          183600,
          100800,
          49253,
          36940,
          42026,
          31520,
          84053,
          73546,
          98506,
          86193,
          84053,
          73546,
          189650,
          164996,
          42026,
          31520,
          92350,
          73880,
          215300,
          140400,
          63040,
          47280,
          260000,
          180000,
          67723,
          43096,
          63040,
          47280,
          73880,
          55410,
          51064,
          60000,
          82900,
          63900,
          160000,
          112300,
          241000,
          159000,
          180000,
          80000,
          58000,
          58000,
          136000,
          108800,
          242000,
          200000,
          61566,
          36940,
          73880,
          49253,
          165220,
          120160,
          124190,
          90320,
          181940,
          132320,
          220110,
          160080,
          180000,
          120000,
          126500,
          106260,
          116000,
          99000,
          155000,
          120600,
          130000,
          90000,
          170000,
          150000,
          102100,
          84900,
          136620,
          99360,
          110820,
          98506,
          146000,
          123000,
          49253,
          43096,
          130000,
          110000,
          170000,
          135000,
          161342,
          137141,
          167000,
          123000,
          73880,
          61566,
          211500,
          138600,
          192400,
          90700,
          130000,
          61300,
          130000,
          61300,
          160000,
          113000,
          150000,
          95550,
          167000,
          115500,
          112900,
          90320,
          112900,
          90320,
          165400,
          132320,
          243900,
          156600,
          136600,
          109280,
          128875,
          93700,
          224000,
          167875,
          175000,
          135000,
          209100,
          154600,
          180000,
          160000,
          205300,
          140400,
          176000,
          144000,
          200100,
          160000,
          70500,
          54000,
          205300,
          140400,
          205300,
          184700,
          175100,
          140250,
          116150,
          99050,
          145000,
          130000,
          112900,
          90320,
          85000,
          75000,
          214000,
          192600,
          266400,
          213120,
          155000,
          115000,
          141300,
          102100,
          115934,
          81666,
          206699,
          99100,
          130000,
          110500,
          61566,
          43096,
          80000,
          60000,
          192564,
          144854,
          230000,
          150000,
          150260,
          109280,
          170000,
          150000,
          160000,
          130000,
          67000,
          52000,
          154000,
          126000,
          129000,
          99000,
          210000,
          140000,
          210000,
          140000,
          210000,
          140000,
          100000,
          69000,
          210000,
          140000,
          150075,
          110925,
          100000,
          25000,
          126500,
          106260,
          220110,
          160080,
          105000,
          100000,
          170000,
          135000,
          230000,
          140000,
          135000,
          50000,
          220000,
          140000,
          172386,
          86193,
          220000,
          120000,
          200000,
          120000,
          120000,
          65000,
          324000,
          216000,
          210000,
          100000,
          185100,
          104890,
          105000,
          80000,
          76814,
          117104,
          192037,
          120000,
          17805,
          30523,
          55685,
          52533,
          17805,
          75000,
          157000,
          69133,
          65000,
          68293,
          109000,
          67597,
          10000,
          20000,
          102839,
          200000,
          51081,
          78000,
          135000,
          115000,
          83864,
          40000,
          31520,
          59888,
          54742,
          89306,
          83171,
          165000,
          153000,
          100000,
          76814,
          33609,
          75000,
          20000,
          30469,
          69999,
          55475,
          61989,
          152500,
          120000,
          135000,
          405000,
          150000,
          240000,
          135000,
          80000,
          380000,
          120402,
          177000,
          65141,
          48000,
          20000,
          220000,
          77364,
          63711,
          150000,
          90000,
          100000,
          100000,
          100000,
          144000,
          155499,
          24000,
          38400,
          100000,
          82500,
          49646,
          40570,
          120000,
          84053,
          20000,
          125000,
          9466,
          120000,
          10354,
          110037,
          21013,
          50000,
          200000,
          60000,
          200000,
          100000,
          100000,
          82744,
          59303,
          62649,
          82528,
          170000,
          150000,
          55000,
          250000,
          80000,
          70000,
          130026,
          63831,
          68428,
          85000,
          230000,
          125000,
          120000,
          450000,
          46759,
          74130,
          127221,
          144000,
          13400,
          75774,
          150000,
          103000,
          153000,
          90000,
          90000,
          60000,
          50000,
          12000,
          5409,
          270000,
          54238,
          47282,
          153667,
          28476,
          110000,
          82528,
          250000,
          59102,
          80000,
          10000,
          138000,
          140000,
          79197,
          170000,
          80000,
          45760,
          100000,
          53192,
          235000,
          150000,
          79833,
          225000,
          76833,
          50180,
          88654,
          103160,
          113476,
          94564,
          30428,
          150000,
          115000,
          187442,
          51519,
          106000,
          112872,
          36259,
          150000,
          15966,
          95746,
          70000,
          76958,
          89294,
          29751,
          276000,
          188000,
          160000,
          105000,
          200000,
          174000,
          93000,
          28399,
          60757,
          90000,
          70139,
          6072,
          33511,
          170000,
          96282,
          12103,
          36643,
          72212,
          91000,
          99703,
          165000,
          80000,
          103691,
          21637,
          42000,
          115000,
          63810,
          260000,
          110000,
          180000,
          200000,
          109024,
          200000,
          256000,
          110000,
          79833,
          72500,
          185000,
          69741,
          100000,
          112000,
          150000,
          20171,
          55000,
          58000,
          100000,
          77684,
          85000,
          76833,
          105000,
          72000,
          65013,
          28016,
          111775,
          93150,
          160000,
          25532,
          66265,
          16904,
          63831,
          190000,
          141846,
          16228,
          71786,
          35735,
          135000,
          24823,
          54094,
          24342,
          9272,
          147000,
          96113,
          174000,
          135000,
          21844,
          125000,
          51321,
          40481,
          69741,
          50000,
          39916,
          87000,
          26005,
          90734,
          22611,
          5679,
          81000,
          40038,
          90000,
          61467,
          195000,
          37825,
          85000,
          416000,
          225000,
          56256,
          33808,
          116914,
          46597,
          8000,
          41689,
          114047,
          88654,
          5707,
          56000,
          28609,
          88654,
          6072,
          47899,
          98000,
          66022,
          56738,
          24823,
          120000,
          20000,
          325000,
          200000,
          45896,
          160000,
          50000,
          40189,
          12901,
          165000,
          5882,
          42197,
          185000,
          62726,
          90734,
          21669,
          110000,
          140000,
          120000,
          87738,
          61896,
          12000,
          76833,
          74000,
          152000,
          18000,
          60000,
          130000,
          18907,
          59102,
          173762,
          148261,
          38776,
          46809,
          18053,
          91237,
          62726,
          115000,
          235000,
          19609,
          12000,
          75000,
          62000,
          73000,
          45391,
          190200,
          118000,
          138350,
          130800,
          45618,
          168000,
          119059,
          423000,
          28369,
          165000,
          412000,
          151000,
          105000,
          100000,
          94665
         ],
         "xaxis": "x",
         "yaxis": "y"
        },
        {
         "line": {
          "color": "black"
         },
         "type": "scatter",
         "x": [
          0,
          4545.454545454545,
          9090.90909090909,
          13636.363636363636,
          18181.81818181818,
          22727.272727272724,
          27272.727272727272,
          31818.181818181816,
          36363.63636363636,
          40909.090909090904,
          45454.54545454545,
          49999.99999999999,
          54545.454545454544,
          59090.90909090909,
          63636.36363636363,
          68181.81818181818,
          72727.27272727272,
          77272.72727272726,
          81818.18181818181,
          86363.63636363635,
          90909.0909090909,
          95454.54545454544,
          99999.99999999999,
          104545.45454545453,
          109090.90909090909,
          113636.36363636363,
          118181.81818181818,
          122727.27272727272,
          127272.72727272726,
          131818.1818181818,
          136363.63636363635,
          140909.09090909088,
          145454.54545454544,
          150000,
          154545.45454545453,
          159090.9090909091,
          163636.36363636362,
          168181.81818181818,
          172727.2727272727,
          177272.72727272726,
          181818.1818181818,
          186363.63636363635,
          190909.09090909088,
          195454.54545454544,
          199999.99999999997,
          204545.45454545453,
          209090.90909090906,
          213636.36363636362,
          218181.81818181818,
          222727.2727272727,
          227272.72727272726,
          231818.1818181818,
          236363.63636363635,
          240909.09090909088,
          245454.54545454544,
          249999.99999999997,
          254545.45454545453,
          259090.90909090906,
          263636.3636363636,
          268181.8181818182,
          272727.2727272727,
          277272.72727272724,
          281818.18181818177,
          286363.63636363635,
          290909.0909090909,
          295454.5454545454,
          300000,
          304545.45454545453,
          309090.90909090906,
          313636.3636363636,
          318181.8181818182,
          322727.2727272727,
          327272.72727272724,
          331818.18181818177,
          336363.63636363635,
          340909.0909090909,
          345454.5454545454,
          349999.99999999994,
          354545.45454545453,
          359090.90909090906,
          363636.3636363636,
          368181.8181818182,
          372727.2727272727,
          377272.72727272724,
          381818.18181818177,
          386363.63636363635,
          390909.0909090909,
          395454.5454545454,
          399999.99999999994,
          404545.45454545453,
          409090.90909090906,
          413636.3636363636,
          418181.8181818181,
          422727.2727272727,
          427272.72727272724,
          431818.18181818177,
          436363.63636363635,
          440909.0909090909,
          445454.5454545454,
          450000
         ],
         "xaxis": "x2",
         "y": [
          4.5331165481974953e-7,
          6.453281496064415e-7,
          8.4230602685642e-7,
          0.000001023796223552067,
          0.0000011826932335209043,
          0.0000013301083956436125,
          0.0000014900219306105291,
          0.0000016866536067437239,
          0.0000019319783152960843,
          0.000002220200600913314,
          0.0000025313529436398573,
          0.000002840902475385,
          0.000003129433360209977,
          0.0000033874692550346506,
          0.0000036144494569859196,
          0.000003814978882253463,
          0.000003996704296221749,
          0.000004171434909139632,
          0.000004356375362188492,
          0.000004570152599195873,
          0.000004822616884847572,
          0.0000051057162061503465,
          0.000005395665890502231,
          0.000005667956723549651,
          0.000005913601251792111,
          0.000006141958747217803,
          0.00000636713371363284,
          0.0000065896734345867,
          0.000006788459095373852,
          0.000006927619690078288,
          0.000006971423649869608,
          0.000006897265318385736,
          0.00000670247006534449,
          0.000006405917585856681,
          0.000006045289697243268,
          0.000005668749030414129,
          0.000005321476595302247,
          0.000005031893870493023,
          0.000004804295929278613,
          0.00000462146635361691,
          0.000004455001588253217,
          0.000004276800834277755,
          0.000004065765080595043,
          0.0000038092292668981717,
          0.000003503869049394295,
          0.000003159258251311912,
          0.000002800167246720458,
          0.000002460978328408276,
          0.0000021726441139885095,
          0.0000019511905287159648,
          0.0000017955241250910789,
          0.000001692704553763457,
          0.000001623092792658003,
          0.000001562238883549609,
          0.0000014838101780161186,
          0.0000013678105650815847,
          0.0000012106501244865046,
          0.0000010282862684332276,
          8.480696670591955e-7,
          6.947574649146768e-7,
          5.807650407045898e-7,
          5.057542651069808e-7,
          4.622256735293177e-7,
          4.4052691974851283e-7,
          4.3035679581817794e-7,
          4.20880633585157e-7,
          4.0241529883792635e-7,
          3.6954331226697283e-7,
          3.229848901803791e-7,
          2.6846589272214683e-7,
          2.1355309709986946e-7,
          1.647291957000755e-7,
          1.2597456273342205e-7,
          9.857485175032563e-8,
          8.14443986019389e-8,
          7.17898561021975e-8,
          6.627950395407018e-8,
          6.247524117685215e-8,
          5.969068799782706e-8,
          5.855911989093274e-8,
          5.9570738627325485e-8,
          6.179690398811634e-8,
          6.294660902052496e-8,
          6.076172640606578e-8,
          5.460489458687153e-8,
          4.5986417567811054e-8,
          3.77098801434731e-8,
          3.234954540928343e-8,
          3.1071094983939125e-8,
          3.334637736992468e-8,
          3.745193400789318e-8,
          4.1288813445049954e-8,
          4.311823416060686e-8,
          4.203932712775643e-8,
          3.817181210896773e-8,
          3.250516331432852e-8,
          2.6411490657350707e-8,
          2.1005280732012135e-8,
          1.6710428464544473e-8,
          1.3301893170320638e-8
         ],
         "yaxis": "y2"
        }
       ],
       "layout": {
        "showlegend": false,
        "template": {},
        "title": {
         "text": "Salary of professionais in data carrer"
        },
        "xaxis": {
         "anchor": "y",
         "domain": [
          0,
          0.45
         ],
         "title": {
          "text": "Salary (USD)"
         }
        },
        "xaxis2": {
         "anchor": "y2",
         "domain": [
          0.55,
          1
         ],
         "title": {
          "text": "Salary (USD)"
         }
        },
        "yaxis": {
         "anchor": "x",
         "domain": [
          0,
          1
         ]
        },
        "yaxis2": {
         "anchor": "x2",
         "domain": [
          0,
          1
         ],
         "title": {
          "text": "Density"
         }
        }
       }
      }
     },
     "metadata": {},
     "output_type": "display_data"
    }
   ],
   "source": [
    "# array dos valores de salarios registrados\n",
    "salary = df[\"salary_in_usd\"].values\n",
    "\n",
    "# Calculando a curva de densidade\n",
    "kde = gaussian_kde(salary)\n",
    "x_kde = np.linspace(0, salary.max(), 100)\n",
    "y_kde = kde.evaluate(x_kde)\n",
    "\n",
    "# Criação do objeto de figuras com subplots\n",
    "fig = make_subplots(rows=1, cols=2)\n",
    "\n",
    "# Adição do boxplot no primeiro subplot\n",
    "fig.add_trace(go.Box(x=salary, name=\"Salary\", marker_color=\"black\"), row=1, col=1)\n",
    "\n",
    "# Adição do gráfico de densidade no segundo subplot\n",
    "fig.add_trace(go.Scatter(x=x_kde, y=y_kde, line=dict(color=\"black\")), row=1, col=2)\n",
    "\n",
    "# Personalização do layout da figura\n",
    "fig.update_layout(\n",
    "    title=\"Salary of professionais in data carrer\",\n",
    "    xaxis1_title=\"Salary (USD)\",\n",
    "    yaxis2_title=\"Density\",\n",
    "    xaxis2_title=\"Salary (USD)\",\n",
    "    showlegend=False,\n",
    "    template=None,\n",
    ")\n",
    "\n",
    "\n",
    "# Exibição da figura\n",
    "fig.show()"
   ]
  },
  {
   "attachments": {},
   "cell_type": "markdown",
   "metadata": {},
   "source": [
    "A distribution with positive skewness is a probability distribution where the right tail is longer than the left tail. This means that most of the values are concentrated on the left side of the graph, while a smaller number of values extend to the right. The mean is higher than the median and mode, indicating the presence of extreme values in the right tail of the distribution.\n",
    "\n",
    "A common example of a distribution with positive skewness is the salary distribution, where a large number of people earn low salaries, while a smaller number of people earn very high salaries, pulling the mean upwards."
   ]
  },
  {
   "attachments": {},
   "cell_type": "markdown",
   "metadata": {},
   "source": [
    "### remote_ratio: The overall amount of work done remotely, possible values are as follows: "
   ]
  },
  {
   "cell_type": "code",
   "execution_count": 34,
   "metadata": {},
   "outputs": [
    {
     "data": {
      "text/plain": [
       "array([100,  50,   0])"
      ]
     },
     "execution_count": 34,
     "metadata": {},
     "output_type": "execute_result"
    }
   ],
   "source": [
    "df[\"remote_ratio\"].unique()"
   ]
  },
  {
   "attachments": {},
   "cell_type": "markdown",
   "metadata": {},
   "source": [
    "- 0: No remote work (less than 20%)\n",
    "- 50: Partially remote\n",
    "- 100: Fully remote (more than 80%)"
   ]
  },
  {
   "cell_type": "code",
   "execution_count": 35,
   "metadata": {},
   "outputs": [
    {
     "data": {
      "text/plain": [
       "remote_ratio\n",
       "0      0.509957\n",
       "100    0.439182\n",
       "50     0.050861\n",
       "Name: proportion, dtype: float64"
      ]
     },
     "execution_count": 35,
     "metadata": {},
     "output_type": "execute_result"
    }
   ],
   "source": [
    "df[\"remote_ratio\"].value_counts(normalize=True)"
   ]
  },
  {
   "cell_type": "code",
   "execution_count": 36,
   "metadata": {},
   "outputs": [
    {
     "data": {
      "application/vnd.plotly.v1+json": {
       "config": {
        "plotlyServerURL": "https://plot.ly"
       },
       "data": [
        {
         "hole": 0.5,
         "hoverinfo": "label+value",
         "insidetextorientation": "auto",
         "labels": [
          "No remote work",
          "Fully remote",
          "Partially remote"
         ],
         "marker": {
          "colors": [
           "rgb(0,0,0)",
           "rgb(37,37,37)",
           "rgb(82,82,82)",
           "rgb(115,115,115)",
           "rgb(150,150,150)",
           "rgb(189,189,189)",
           "rgb(217,217,217)",
           "rgb(240,240,240)",
           "rgb(255,255,255)"
          ]
         },
         "textinfo": "percent+label",
         "type": "pie",
         "values": [
          1895,
          1632,
          189
         ]
        }
       ],
       "layout": {
        "annotations": [
         {
          "font": {
           "size": 20
          },
          "showarrow": false,
          "text": "3716",
          "x": 0.5,
          "y": 0.5
         }
        ],
        "template": {
         "data": {
          "bar": [
           {
            "error_x": {
             "color": "#2a3f5f"
            },
            "error_y": {
             "color": "#2a3f5f"
            },
            "marker": {
             "line": {
              "color": "#E5ECF6",
              "width": 0.5
             },
             "pattern": {
              "fillmode": "overlay",
              "size": 10,
              "solidity": 0.2
             }
            },
            "type": "bar"
           }
          ],
          "barpolar": [
           {
            "marker": {
             "line": {
              "color": "#E5ECF6",
              "width": 0.5
             },
             "pattern": {
              "fillmode": "overlay",
              "size": 10,
              "solidity": 0.2
             }
            },
            "type": "barpolar"
           }
          ],
          "carpet": [
           {
            "aaxis": {
             "endlinecolor": "#2a3f5f",
             "gridcolor": "white",
             "linecolor": "white",
             "minorgridcolor": "white",
             "startlinecolor": "#2a3f5f"
            },
            "baxis": {
             "endlinecolor": "#2a3f5f",
             "gridcolor": "white",
             "linecolor": "white",
             "minorgridcolor": "white",
             "startlinecolor": "#2a3f5f"
            },
            "type": "carpet"
           }
          ],
          "choropleth": [
           {
            "colorbar": {
             "outlinewidth": 0,
             "ticks": ""
            },
            "type": "choropleth"
           }
          ],
          "contour": [
           {
            "colorbar": {
             "outlinewidth": 0,
             "ticks": ""
            },
            "colorscale": [
             [
              0,
              "#0d0887"
             ],
             [
              0.1111111111111111,
              "#46039f"
             ],
             [
              0.2222222222222222,
              "#7201a8"
             ],
             [
              0.3333333333333333,
              "#9c179e"
             ],
             [
              0.4444444444444444,
              "#bd3786"
             ],
             [
              0.5555555555555556,
              "#d8576b"
             ],
             [
              0.6666666666666666,
              "#ed7953"
             ],
             [
              0.7777777777777778,
              "#fb9f3a"
             ],
             [
              0.8888888888888888,
              "#fdca26"
             ],
             [
              1,
              "#f0f921"
             ]
            ],
            "type": "contour"
           }
          ],
          "contourcarpet": [
           {
            "colorbar": {
             "outlinewidth": 0,
             "ticks": ""
            },
            "type": "contourcarpet"
           }
          ],
          "heatmap": [
           {
            "colorbar": {
             "outlinewidth": 0,
             "ticks": ""
            },
            "colorscale": [
             [
              0,
              "#0d0887"
             ],
             [
              0.1111111111111111,
              "#46039f"
             ],
             [
              0.2222222222222222,
              "#7201a8"
             ],
             [
              0.3333333333333333,
              "#9c179e"
             ],
             [
              0.4444444444444444,
              "#bd3786"
             ],
             [
              0.5555555555555556,
              "#d8576b"
             ],
             [
              0.6666666666666666,
              "#ed7953"
             ],
             [
              0.7777777777777778,
              "#fb9f3a"
             ],
             [
              0.8888888888888888,
              "#fdca26"
             ],
             [
              1,
              "#f0f921"
             ]
            ],
            "type": "heatmap"
           }
          ],
          "heatmapgl": [
           {
            "colorbar": {
             "outlinewidth": 0,
             "ticks": ""
            },
            "colorscale": [
             [
              0,
              "#0d0887"
             ],
             [
              0.1111111111111111,
              "#46039f"
             ],
             [
              0.2222222222222222,
              "#7201a8"
             ],
             [
              0.3333333333333333,
              "#9c179e"
             ],
             [
              0.4444444444444444,
              "#bd3786"
             ],
             [
              0.5555555555555556,
              "#d8576b"
             ],
             [
              0.6666666666666666,
              "#ed7953"
             ],
             [
              0.7777777777777778,
              "#fb9f3a"
             ],
             [
              0.8888888888888888,
              "#fdca26"
             ],
             [
              1,
              "#f0f921"
             ]
            ],
            "type": "heatmapgl"
           }
          ],
          "histogram": [
           {
            "marker": {
             "pattern": {
              "fillmode": "overlay",
              "size": 10,
              "solidity": 0.2
             }
            },
            "type": "histogram"
           }
          ],
          "histogram2d": [
           {
            "colorbar": {
             "outlinewidth": 0,
             "ticks": ""
            },
            "colorscale": [
             [
              0,
              "#0d0887"
             ],
             [
              0.1111111111111111,
              "#46039f"
             ],
             [
              0.2222222222222222,
              "#7201a8"
             ],
             [
              0.3333333333333333,
              "#9c179e"
             ],
             [
              0.4444444444444444,
              "#bd3786"
             ],
             [
              0.5555555555555556,
              "#d8576b"
             ],
             [
              0.6666666666666666,
              "#ed7953"
             ],
             [
              0.7777777777777778,
              "#fb9f3a"
             ],
             [
              0.8888888888888888,
              "#fdca26"
             ],
             [
              1,
              "#f0f921"
             ]
            ],
            "type": "histogram2d"
           }
          ],
          "histogram2dcontour": [
           {
            "colorbar": {
             "outlinewidth": 0,
             "ticks": ""
            },
            "colorscale": [
             [
              0,
              "#0d0887"
             ],
             [
              0.1111111111111111,
              "#46039f"
             ],
             [
              0.2222222222222222,
              "#7201a8"
             ],
             [
              0.3333333333333333,
              "#9c179e"
             ],
             [
              0.4444444444444444,
              "#bd3786"
             ],
             [
              0.5555555555555556,
              "#d8576b"
             ],
             [
              0.6666666666666666,
              "#ed7953"
             ],
             [
              0.7777777777777778,
              "#fb9f3a"
             ],
             [
              0.8888888888888888,
              "#fdca26"
             ],
             [
              1,
              "#f0f921"
             ]
            ],
            "type": "histogram2dcontour"
           }
          ],
          "mesh3d": [
           {
            "colorbar": {
             "outlinewidth": 0,
             "ticks": ""
            },
            "type": "mesh3d"
           }
          ],
          "parcoords": [
           {
            "line": {
             "colorbar": {
              "outlinewidth": 0,
              "ticks": ""
             }
            },
            "type": "parcoords"
           }
          ],
          "pie": [
           {
            "automargin": true,
            "type": "pie"
           }
          ],
          "scatter": [
           {
            "fillpattern": {
             "fillmode": "overlay",
             "size": 10,
             "solidity": 0.2
            },
            "type": "scatter"
           }
          ],
          "scatter3d": [
           {
            "line": {
             "colorbar": {
              "outlinewidth": 0,
              "ticks": ""
             }
            },
            "marker": {
             "colorbar": {
              "outlinewidth": 0,
              "ticks": ""
             }
            },
            "type": "scatter3d"
           }
          ],
          "scattercarpet": [
           {
            "marker": {
             "colorbar": {
              "outlinewidth": 0,
              "ticks": ""
             }
            },
            "type": "scattercarpet"
           }
          ],
          "scattergeo": [
           {
            "marker": {
             "colorbar": {
              "outlinewidth": 0,
              "ticks": ""
             }
            },
            "type": "scattergeo"
           }
          ],
          "scattergl": [
           {
            "marker": {
             "colorbar": {
              "outlinewidth": 0,
              "ticks": ""
             }
            },
            "type": "scattergl"
           }
          ],
          "scattermapbox": [
           {
            "marker": {
             "colorbar": {
              "outlinewidth": 0,
              "ticks": ""
             }
            },
            "type": "scattermapbox"
           }
          ],
          "scatterpolar": [
           {
            "marker": {
             "colorbar": {
              "outlinewidth": 0,
              "ticks": ""
             }
            },
            "type": "scatterpolar"
           }
          ],
          "scatterpolargl": [
           {
            "marker": {
             "colorbar": {
              "outlinewidth": 0,
              "ticks": ""
             }
            },
            "type": "scatterpolargl"
           }
          ],
          "scatterternary": [
           {
            "marker": {
             "colorbar": {
              "outlinewidth": 0,
              "ticks": ""
             }
            },
            "type": "scatterternary"
           }
          ],
          "surface": [
           {
            "colorbar": {
             "outlinewidth": 0,
             "ticks": ""
            },
            "colorscale": [
             [
              0,
              "#0d0887"
             ],
             [
              0.1111111111111111,
              "#46039f"
             ],
             [
              0.2222222222222222,
              "#7201a8"
             ],
             [
              0.3333333333333333,
              "#9c179e"
             ],
             [
              0.4444444444444444,
              "#bd3786"
             ],
             [
              0.5555555555555556,
              "#d8576b"
             ],
             [
              0.6666666666666666,
              "#ed7953"
             ],
             [
              0.7777777777777778,
              "#fb9f3a"
             ],
             [
              0.8888888888888888,
              "#fdca26"
             ],
             [
              1,
              "#f0f921"
             ]
            ],
            "type": "surface"
           }
          ],
          "table": [
           {
            "cells": {
             "fill": {
              "color": "#EBF0F8"
             },
             "line": {
              "color": "white"
             }
            },
            "header": {
             "fill": {
              "color": "#C8D4E3"
             },
             "line": {
              "color": "white"
             }
            },
            "type": "table"
           }
          ]
         },
         "layout": {
          "annotationdefaults": {
           "arrowcolor": "#2a3f5f",
           "arrowhead": 0,
           "arrowwidth": 1
          },
          "autotypenumbers": "strict",
          "coloraxis": {
           "colorbar": {
            "outlinewidth": 0,
            "ticks": ""
           }
          },
          "colorscale": {
           "diverging": [
            [
             0,
             "#8e0152"
            ],
            [
             0.1,
             "#c51b7d"
            ],
            [
             0.2,
             "#de77ae"
            ],
            [
             0.3,
             "#f1b6da"
            ],
            [
             0.4,
             "#fde0ef"
            ],
            [
             0.5,
             "#f7f7f7"
            ],
            [
             0.6,
             "#e6f5d0"
            ],
            [
             0.7,
             "#b8e186"
            ],
            [
             0.8,
             "#7fbc41"
            ],
            [
             0.9,
             "#4d9221"
            ],
            [
             1,
             "#276419"
            ]
           ],
           "sequential": [
            [
             0,
             "#0d0887"
            ],
            [
             0.1111111111111111,
             "#46039f"
            ],
            [
             0.2222222222222222,
             "#7201a8"
            ],
            [
             0.3333333333333333,
             "#9c179e"
            ],
            [
             0.4444444444444444,
             "#bd3786"
            ],
            [
             0.5555555555555556,
             "#d8576b"
            ],
            [
             0.6666666666666666,
             "#ed7953"
            ],
            [
             0.7777777777777778,
             "#fb9f3a"
            ],
            [
             0.8888888888888888,
             "#fdca26"
            ],
            [
             1,
             "#f0f921"
            ]
           ],
           "sequentialminus": [
            [
             0,
             "#0d0887"
            ],
            [
             0.1111111111111111,
             "#46039f"
            ],
            [
             0.2222222222222222,
             "#7201a8"
            ],
            [
             0.3333333333333333,
             "#9c179e"
            ],
            [
             0.4444444444444444,
             "#bd3786"
            ],
            [
             0.5555555555555556,
             "#d8576b"
            ],
            [
             0.6666666666666666,
             "#ed7953"
            ],
            [
             0.7777777777777778,
             "#fb9f3a"
            ],
            [
             0.8888888888888888,
             "#fdca26"
            ],
            [
             1,
             "#f0f921"
            ]
           ]
          },
          "colorway": [
           "#636efa",
           "#EF553B",
           "#00cc96",
           "#ab63fa",
           "#FFA15A",
           "#19d3f3",
           "#FF6692",
           "#B6E880",
           "#FF97FF",
           "#FECB52"
          ],
          "font": {
           "color": "#2a3f5f"
          },
          "geo": {
           "bgcolor": "white",
           "lakecolor": "white",
           "landcolor": "#E5ECF6",
           "showlakes": true,
           "showland": true,
           "subunitcolor": "white"
          },
          "hoverlabel": {
           "align": "left"
          },
          "hovermode": "closest",
          "mapbox": {
           "style": "light"
          },
          "paper_bgcolor": "white",
          "plot_bgcolor": "#E5ECF6",
          "polar": {
           "angularaxis": {
            "gridcolor": "white",
            "linecolor": "white",
            "ticks": ""
           },
           "bgcolor": "#E5ECF6",
           "radialaxis": {
            "gridcolor": "white",
            "linecolor": "white",
            "ticks": ""
           }
          },
          "scene": {
           "xaxis": {
            "backgroundcolor": "#E5ECF6",
            "gridcolor": "white",
            "gridwidth": 2,
            "linecolor": "white",
            "showbackground": true,
            "ticks": "",
            "zerolinecolor": "white"
           },
           "yaxis": {
            "backgroundcolor": "#E5ECF6",
            "gridcolor": "white",
            "gridwidth": 2,
            "linecolor": "white",
            "showbackground": true,
            "ticks": "",
            "zerolinecolor": "white"
           },
           "zaxis": {
            "backgroundcolor": "#E5ECF6",
            "gridcolor": "white",
            "gridwidth": 2,
            "linecolor": "white",
            "showbackground": true,
            "ticks": "",
            "zerolinecolor": "white"
           }
          },
          "shapedefaults": {
           "line": {
            "color": "#2a3f5f"
           }
          },
          "ternary": {
           "aaxis": {
            "gridcolor": "white",
            "linecolor": "white",
            "ticks": ""
           },
           "baxis": {
            "gridcolor": "white",
            "linecolor": "white",
            "ticks": ""
           },
           "bgcolor": "#E5ECF6",
           "caxis": {
            "gridcolor": "white",
            "linecolor": "white",
            "ticks": ""
           }
          },
          "title": {
           "x": 0.05
          },
          "xaxis": {
           "automargin": true,
           "gridcolor": "white",
           "linecolor": "white",
           "ticks": "",
           "title": {
            "standoff": 15
           },
           "zerolinecolor": "white",
           "zerolinewidth": 2
          },
          "yaxis": {
           "automargin": true,
           "gridcolor": "white",
           "linecolor": "white",
           "ticks": "",
           "title": {
            "standoff": 15
           },
           "zerolinecolor": "white",
           "zerolinewidth": 2
          }
         }
        },
        "title": {
         "text": "Tof professionals in the data career",
         "x": 0.5
        }
       }
      }
     },
     "metadata": {},
     "output_type": "display_data"
    }
   ],
   "source": [
    "data = df[\"remote_ratio\"].replace(\n",
    "    {0: \"No remote work\", 50: \"Partially remote\", 100: \"Fully remote\"}\n",
    ")\n",
    "\n",
    "# counts of unique values\n",
    "unique_values = data.value_counts()\n",
    "\n",
    "# frequency of values and the labels\n",
    "freq = unique_values.values\n",
    "labels = unique_values.index.values\n",
    "\n",
    "# sum of total experience levels\n",
    "total = sum(freq)\n",
    "\n",
    "# Cria a anotação com o valor total\n",
    "annotation = dict(font=dict(size=20), showarrow=False, text=str(total), x=0.5, y=0.5)\n",
    "\n",
    "# Criar o gráfico de rosca\n",
    "data = [\n",
    "    go.Pie(\n",
    "        labels=labels,\n",
    "        values=freq,\n",
    "        hole=0.5,\n",
    "        marker=dict(colors=list(reversed(colors.sequential.Greys))),\n",
    "        textinfo=\"percent+label\",\n",
    "        insidetextorientation=\"auto\",\n",
    "        hoverinfo=\"label+value\",\n",
    "    )\n",
    "]\n",
    "\n",
    "# Cria o layout do gráfico\n",
    "layout = go.Layout(\n",
    "    title={\n",
    "        \"text\": \"Tof professionals in the data career\",\n",
    "        \"x\": 0.5,\n",
    "        # \"xanchor\": \"center\",\n",
    "    },\n",
    "    # width=700,\n",
    "    # height=700,\n",
    "    annotations=[annotation],\n",
    ")\n",
    "\n",
    "# Adicionar título\n",
    "fig = go.Figure(data=data, layout=layout)\n",
    "\n",
    "# Mostrar o gráfico\n",
    "fig.show()"
   ]
  },
  {
   "attachments": {},
   "cell_type": "markdown",
   "metadata": {},
   "source": [
    "# Bivariate analysis"
   ]
  },
  {
   "attachments": {},
   "cell_type": "markdown",
   "metadata": {},
   "source": [
    "## Hypothesis class\n",
    "Used to assess the plausibility of a hypothesis by using sample data"
   ]
  },
  {
   "cell_type": "code",
   "execution_count": 37,
   "metadata": {},
   "outputs": [],
   "source": [
    "class HypothesisTest:\n",
    "    def __init__(self, df) -> None:\n",
    "        self._df = df\n",
    "\n",
    "    def t_test(self, var1: str, var2: str, h0: str, alpha=0.05) -> dict:\n",
    "        \"\"\"\n",
    "        Performs a t-test for two numerical variables in a DataFrame.\n",
    "\n",
    "        Parameters:\n",
    "        var1 (str): The name of the first numerical variable.\n",
    "        var2 (str): The name of the second numerical variable.\n",
    "        hypothesis (str): user's hypothesis in the form of a string, e.g. \"The mean is equal to 5\"\n",
    "        alpha (float, optional): The desired significance level for the test. Defaults to 0.05.\n",
    "\n",
    "        Returns:\n",
    "        dict: A dictionary containing the following fields:\n",
    "            - \"t\": The t-statistic calculated by the test.\n",
    "            - \"p_value\": The p-value calculated by the test.\n",
    "            - \"conclusion\": the result of the test, indicating whether the null hypothesis was rejected or not.\n",
    "        \"\"\"\n",
    "\n",
    "        df = self._df\n",
    "\n",
    "        # Calculates the t-statistic and p-value for the t-test\n",
    "        t_stat, p_val = ttest_ind(df[var1], df[var2])\n",
    "\n",
    "        # Determine conclusion\n",
    "        if p_val < alpha:\n",
    "            conclusion = f\"Reject null hypothesis: {h0}\"\n",
    "        else:\n",
    "            conclusion = f\"Fail to reject null hypothesis: {h0}\"\n",
    "\n",
    "        # Returns a dictionary with the results of the test\n",
    "        return {\"t\": t_stat, \"p_value\": p_val, \"conclusion\": conclusion}\n",
    "\n",
    "    def chi_square_test(self, var1: str, var2: str, h0: str, alpha=0.05) -> dict:\n",
    "        \"\"\"\n",
    "        Performs the chi-square test for two categorical variables of a DataFrame.\n",
    "\n",
    "        Parameters:\n",
    "            var1 (str): name of the first categorical variable.\n",
    "            var2 (str): name of the second categorical variable.\n",
    "            hypothesis (str): user's hypothesis in the form of a string, e.g. \"The mean is equal to 5\"\n",
    "            alpha (float): desired significance level for the test (usually 0.05 or 0.01).\n",
    "\n",
    "        Returns:\n",
    "            A dictionary with the following fields:\n",
    "            - \"chi2\": the calculated chi-square value.\n",
    "            - \"p_value\": the p-value calculated by the test.\n",
    "            - \"conclusion\": the result of the test, indicating whether the null hypothesis was rejected or not.\n",
    "        \"\"\"\n",
    "\n",
    "        df = self._df\n",
    "\n",
    "        # Creates a contingency table\n",
    "        contingency_table = pd.crosstab(df[var1], df[var2])\n",
    "\n",
    "        # Performs the chi-squared test\n",
    "        chi2, p_val, _, _ = chi2_contingency(contingency_table)\n",
    "\n",
    "        # Determine conclusion\n",
    "        if p_val < alpha:\n",
    "            conclusion = f\"Reject null hypothesis: {h0}\"\n",
    "        else:\n",
    "            conclusion = f\"Fail to reject null hypothesis: {h0}\"\n",
    "\n",
    "        # Returns a dictionary with the results of the test\n",
    "        return {\"chi²\": chi2, \"p_value\": p_val, \"conclusion\": conclusion}"
   ]
  },
  {
   "attachments": {},
   "cell_type": "markdown",
   "metadata": {},
   "source": [
    "## Categorical & Categorical"
   ]
  },
  {
   "cell_type": "code",
   "execution_count": 38,
   "metadata": {},
   "outputs": [
    {
     "data": {
      "text/plain": [
       "[('experience_level', 'employment_type'),\n",
       " ('experience_level', 'job_title'),\n",
       " ('experience_level', 'salary_currency'),\n",
       " ('experience_level', 'employee_residence'),\n",
       " ('experience_level', 'company_location'),\n",
       " ('experience_level', 'company_size'),\n",
       " ('employment_type', 'job_title'),\n",
       " ('employment_type', 'salary_currency'),\n",
       " ('employment_type', 'employee_residence'),\n",
       " ('employment_type', 'company_location'),\n",
       " ('employment_type', 'company_size'),\n",
       " ('job_title', 'salary_currency'),\n",
       " ('job_title', 'employee_residence'),\n",
       " ('job_title', 'company_location'),\n",
       " ('job_title', 'company_size'),\n",
       " ('salary_currency', 'employee_residence'),\n",
       " ('salary_currency', 'company_location'),\n",
       " ('salary_currency', 'company_size'),\n",
       " ('employee_residence', 'company_location'),\n",
       " ('employee_residence', 'company_size'),\n",
       " ('company_location', 'company_size')]"
      ]
     },
     "execution_count": 38,
     "metadata": {},
     "output_type": "execute_result"
    }
   ],
   "source": [
    "categorical_columns = categorical_df.columns.values\n",
    "\n",
    "bivariate_categorical_combinations = list(\n",
    "    itertools.combinations(categorical_columns, 2)\n",
    ")\n",
    "\n",
    "bivariate_categorical_combinations"
   ]
  },
  {
   "attachments": {},
   "cell_type": "markdown",
   "metadata": {},
   "source": [
    "Attributes such as \"salary_currency\", \"employment_type\", \"employee_residence\" and \"company_location\" may be disregarded in pairwise analysis of categorical variables, as they exhibit a very dominant distribution, as seen in the univariate analysis. For example the dominant currency is the dollar and the majority of data professionals work full-time. \n",
    "\n",
    "When the distribution of an attribute is dominant compared to other values, it may affect the pairwise analysis of categorical variables, as the variable may not exhibit sufficient variation to be considered relevant in the analysis. In the specific case of attributes salary_currency and employment_type, if they exhibit a very dominant distribution, it is possible that they may not bring much relevant information for the pairwise analysis of categorical variables. \n",
    "\n",
    "It is important to remember that the decision to disregard an attribute or not depends on the context and objective of the analysis. In some cases, even if the distribution of an attribute is dominant, it may still bring relevant information for the analysis."
   ]
  },
  {
   "cell_type": "code",
   "execution_count": 39,
   "metadata": {},
   "outputs": [
    {
     "data": {
      "text/plain": [
       "[('experience_level', 'job_title'),\n",
       " ('experience_level', 'company_size'),\n",
       " ('job_title', 'company_size')]"
      ]
     },
     "execution_count": 39,
     "metadata": {},
     "output_type": "execute_result"
    }
   ],
   "source": [
    "# List of all categorical columns\n",
    "categorical_columns = categorical_df.columns.values\n",
    "\n",
    "# Remove specific columns\n",
    "columns_to_exclude = [\n",
    "    \"salary_currency\",\n",
    "    \"employment_type\",\n",
    "    \"employee_residence\",\n",
    "    \"company_location\",\n",
    "]\n",
    "categorical_columns = [\n",
    "    col for col in categorical_columns if col not in columns_to_exclude\n",
    "]\n",
    "\n",
    "# Create combinations\n",
    "bivariate_categorical_combinations = list(\n",
    "    itertools.combinations(categorical_columns, 2)\n",
    ")\n",
    "\n",
    "bivariate_categorical_combinations"
   ]
  },
  {
   "attachments": {},
   "cell_type": "markdown",
   "metadata": {},
   "source": [
    "Since the distribution of the job_title attribute is considerable, I will adopt only three categories: Data Engineer, Data Scientist, and Data Analyst."
   ]
  },
  {
   "attachments": {},
   "cell_type": "markdown",
   "metadata": {},
   "source": [
    "## Experience level x Job Title"
   ]
  },
  {
   "cell_type": "code",
   "execution_count": 40,
   "metadata": {},
   "outputs": [
    {
     "data": {
      "application/vnd.plotly.v1+json": {
       "config": {
        "plotlyServerURL": "https://plot.ly"
       },
       "data": [
        {
         "name": "Director",
         "type": "bar",
         "x": [
          "Data Analyst",
          "Data Engineer",
          "Data Scientist"
         ],
         "y": [
          2,
          51,
          12
         ]
        },
        {
         "name": "Intermediate",
         "type": "bar",
         "x": [
          "Data Analyst",
          "Data Engineer",
          "Data Scientist"
         ],
         "y": [
          163,
          203,
          161
         ]
        },
        {
         "name": "Junior",
         "type": "bar",
         "x": [
          "Data Analyst",
          "Data Engineer",
          "Data Scientist"
         ],
         "y": [
          63,
          66,
          59
         ]
        },
        {
         "name": "Senior",
         "type": "bar",
         "x": [
          "Data Analyst",
          "Data Engineer",
          "Data Scientist"
         ],
         "y": [
          378,
          716,
          600
         ]
        }
       ],
       "layout": {
        "template": {
         "data": {
          "bar": [
           {
            "error_x": {
             "color": "#2a3f5f"
            },
            "error_y": {
             "color": "#2a3f5f"
            },
            "marker": {
             "line": {
              "color": "#E5ECF6",
              "width": 0.5
             },
             "pattern": {
              "fillmode": "overlay",
              "size": 10,
              "solidity": 0.2
             }
            },
            "type": "bar"
           }
          ],
          "barpolar": [
           {
            "marker": {
             "line": {
              "color": "#E5ECF6",
              "width": 0.5
             },
             "pattern": {
              "fillmode": "overlay",
              "size": 10,
              "solidity": 0.2
             }
            },
            "type": "barpolar"
           }
          ],
          "carpet": [
           {
            "aaxis": {
             "endlinecolor": "#2a3f5f",
             "gridcolor": "white",
             "linecolor": "white",
             "minorgridcolor": "white",
             "startlinecolor": "#2a3f5f"
            },
            "baxis": {
             "endlinecolor": "#2a3f5f",
             "gridcolor": "white",
             "linecolor": "white",
             "minorgridcolor": "white",
             "startlinecolor": "#2a3f5f"
            },
            "type": "carpet"
           }
          ],
          "choropleth": [
           {
            "colorbar": {
             "outlinewidth": 0,
             "ticks": ""
            },
            "type": "choropleth"
           }
          ],
          "contour": [
           {
            "colorbar": {
             "outlinewidth": 0,
             "ticks": ""
            },
            "colorscale": [
             [
              0,
              "#0d0887"
             ],
             [
              0.1111111111111111,
              "#46039f"
             ],
             [
              0.2222222222222222,
              "#7201a8"
             ],
             [
              0.3333333333333333,
              "#9c179e"
             ],
             [
              0.4444444444444444,
              "#bd3786"
             ],
             [
              0.5555555555555556,
              "#d8576b"
             ],
             [
              0.6666666666666666,
              "#ed7953"
             ],
             [
              0.7777777777777778,
              "#fb9f3a"
             ],
             [
              0.8888888888888888,
              "#fdca26"
             ],
             [
              1,
              "#f0f921"
             ]
            ],
            "type": "contour"
           }
          ],
          "contourcarpet": [
           {
            "colorbar": {
             "outlinewidth": 0,
             "ticks": ""
            },
            "type": "contourcarpet"
           }
          ],
          "heatmap": [
           {
            "colorbar": {
             "outlinewidth": 0,
             "ticks": ""
            },
            "colorscale": [
             [
              0,
              "#0d0887"
             ],
             [
              0.1111111111111111,
              "#46039f"
             ],
             [
              0.2222222222222222,
              "#7201a8"
             ],
             [
              0.3333333333333333,
              "#9c179e"
             ],
             [
              0.4444444444444444,
              "#bd3786"
             ],
             [
              0.5555555555555556,
              "#d8576b"
             ],
             [
              0.6666666666666666,
              "#ed7953"
             ],
             [
              0.7777777777777778,
              "#fb9f3a"
             ],
             [
              0.8888888888888888,
              "#fdca26"
             ],
             [
              1,
              "#f0f921"
             ]
            ],
            "type": "heatmap"
           }
          ],
          "heatmapgl": [
           {
            "colorbar": {
             "outlinewidth": 0,
             "ticks": ""
            },
            "colorscale": [
             [
              0,
              "#0d0887"
             ],
             [
              0.1111111111111111,
              "#46039f"
             ],
             [
              0.2222222222222222,
              "#7201a8"
             ],
             [
              0.3333333333333333,
              "#9c179e"
             ],
             [
              0.4444444444444444,
              "#bd3786"
             ],
             [
              0.5555555555555556,
              "#d8576b"
             ],
             [
              0.6666666666666666,
              "#ed7953"
             ],
             [
              0.7777777777777778,
              "#fb9f3a"
             ],
             [
              0.8888888888888888,
              "#fdca26"
             ],
             [
              1,
              "#f0f921"
             ]
            ],
            "type": "heatmapgl"
           }
          ],
          "histogram": [
           {
            "marker": {
             "pattern": {
              "fillmode": "overlay",
              "size": 10,
              "solidity": 0.2
             }
            },
            "type": "histogram"
           }
          ],
          "histogram2d": [
           {
            "colorbar": {
             "outlinewidth": 0,
             "ticks": ""
            },
            "colorscale": [
             [
              0,
              "#0d0887"
             ],
             [
              0.1111111111111111,
              "#46039f"
             ],
             [
              0.2222222222222222,
              "#7201a8"
             ],
             [
              0.3333333333333333,
              "#9c179e"
             ],
             [
              0.4444444444444444,
              "#bd3786"
             ],
             [
              0.5555555555555556,
              "#d8576b"
             ],
             [
              0.6666666666666666,
              "#ed7953"
             ],
             [
              0.7777777777777778,
              "#fb9f3a"
             ],
             [
              0.8888888888888888,
              "#fdca26"
             ],
             [
              1,
              "#f0f921"
             ]
            ],
            "type": "histogram2d"
           }
          ],
          "histogram2dcontour": [
           {
            "colorbar": {
             "outlinewidth": 0,
             "ticks": ""
            },
            "colorscale": [
             [
              0,
              "#0d0887"
             ],
             [
              0.1111111111111111,
              "#46039f"
             ],
             [
              0.2222222222222222,
              "#7201a8"
             ],
             [
              0.3333333333333333,
              "#9c179e"
             ],
             [
              0.4444444444444444,
              "#bd3786"
             ],
             [
              0.5555555555555556,
              "#d8576b"
             ],
             [
              0.6666666666666666,
              "#ed7953"
             ],
             [
              0.7777777777777778,
              "#fb9f3a"
             ],
             [
              0.8888888888888888,
              "#fdca26"
             ],
             [
              1,
              "#f0f921"
             ]
            ],
            "type": "histogram2dcontour"
           }
          ],
          "mesh3d": [
           {
            "colorbar": {
             "outlinewidth": 0,
             "ticks": ""
            },
            "type": "mesh3d"
           }
          ],
          "parcoords": [
           {
            "line": {
             "colorbar": {
              "outlinewidth": 0,
              "ticks": ""
             }
            },
            "type": "parcoords"
           }
          ],
          "pie": [
           {
            "automargin": true,
            "type": "pie"
           }
          ],
          "scatter": [
           {
            "fillpattern": {
             "fillmode": "overlay",
             "size": 10,
             "solidity": 0.2
            },
            "type": "scatter"
           }
          ],
          "scatter3d": [
           {
            "line": {
             "colorbar": {
              "outlinewidth": 0,
              "ticks": ""
             }
            },
            "marker": {
             "colorbar": {
              "outlinewidth": 0,
              "ticks": ""
             }
            },
            "type": "scatter3d"
           }
          ],
          "scattercarpet": [
           {
            "marker": {
             "colorbar": {
              "outlinewidth": 0,
              "ticks": ""
             }
            },
            "type": "scattercarpet"
           }
          ],
          "scattergeo": [
           {
            "marker": {
             "colorbar": {
              "outlinewidth": 0,
              "ticks": ""
             }
            },
            "type": "scattergeo"
           }
          ],
          "scattergl": [
           {
            "marker": {
             "colorbar": {
              "outlinewidth": 0,
              "ticks": ""
             }
            },
            "type": "scattergl"
           }
          ],
          "scattermapbox": [
           {
            "marker": {
             "colorbar": {
              "outlinewidth": 0,
              "ticks": ""
             }
            },
            "type": "scattermapbox"
           }
          ],
          "scatterpolar": [
           {
            "marker": {
             "colorbar": {
              "outlinewidth": 0,
              "ticks": ""
             }
            },
            "type": "scatterpolar"
           }
          ],
          "scatterpolargl": [
           {
            "marker": {
             "colorbar": {
              "outlinewidth": 0,
              "ticks": ""
             }
            },
            "type": "scatterpolargl"
           }
          ],
          "scatterternary": [
           {
            "marker": {
             "colorbar": {
              "outlinewidth": 0,
              "ticks": ""
             }
            },
            "type": "scatterternary"
           }
          ],
          "surface": [
           {
            "colorbar": {
             "outlinewidth": 0,
             "ticks": ""
            },
            "colorscale": [
             [
              0,
              "#0d0887"
             ],
             [
              0.1111111111111111,
              "#46039f"
             ],
             [
              0.2222222222222222,
              "#7201a8"
             ],
             [
              0.3333333333333333,
              "#9c179e"
             ],
             [
              0.4444444444444444,
              "#bd3786"
             ],
             [
              0.5555555555555556,
              "#d8576b"
             ],
             [
              0.6666666666666666,
              "#ed7953"
             ],
             [
              0.7777777777777778,
              "#fb9f3a"
             ],
             [
              0.8888888888888888,
              "#fdca26"
             ],
             [
              1,
              "#f0f921"
             ]
            ],
            "type": "surface"
           }
          ],
          "table": [
           {
            "cells": {
             "fill": {
              "color": "#EBF0F8"
             },
             "line": {
              "color": "white"
             }
            },
            "header": {
             "fill": {
              "color": "#C8D4E3"
             },
             "line": {
              "color": "white"
             }
            },
            "type": "table"
           }
          ]
         },
         "layout": {
          "annotationdefaults": {
           "arrowcolor": "#2a3f5f",
           "arrowhead": 0,
           "arrowwidth": 1
          },
          "autotypenumbers": "strict",
          "coloraxis": {
           "colorbar": {
            "outlinewidth": 0,
            "ticks": ""
           }
          },
          "colorscale": {
           "diverging": [
            [
             0,
             "#8e0152"
            ],
            [
             0.1,
             "#c51b7d"
            ],
            [
             0.2,
             "#de77ae"
            ],
            [
             0.3,
             "#f1b6da"
            ],
            [
             0.4,
             "#fde0ef"
            ],
            [
             0.5,
             "#f7f7f7"
            ],
            [
             0.6,
             "#e6f5d0"
            ],
            [
             0.7,
             "#b8e186"
            ],
            [
             0.8,
             "#7fbc41"
            ],
            [
             0.9,
             "#4d9221"
            ],
            [
             1,
             "#276419"
            ]
           ],
           "sequential": [
            [
             0,
             "#0d0887"
            ],
            [
             0.1111111111111111,
             "#46039f"
            ],
            [
             0.2222222222222222,
             "#7201a8"
            ],
            [
             0.3333333333333333,
             "#9c179e"
            ],
            [
             0.4444444444444444,
             "#bd3786"
            ],
            [
             0.5555555555555556,
             "#d8576b"
            ],
            [
             0.6666666666666666,
             "#ed7953"
            ],
            [
             0.7777777777777778,
             "#fb9f3a"
            ],
            [
             0.8888888888888888,
             "#fdca26"
            ],
            [
             1,
             "#f0f921"
            ]
           ],
           "sequentialminus": [
            [
             0,
             "#0d0887"
            ],
            [
             0.1111111111111111,
             "#46039f"
            ],
            [
             0.2222222222222222,
             "#7201a8"
            ],
            [
             0.3333333333333333,
             "#9c179e"
            ],
            [
             0.4444444444444444,
             "#bd3786"
            ],
            [
             0.5555555555555556,
             "#d8576b"
            ],
            [
             0.6666666666666666,
             "#ed7953"
            ],
            [
             0.7777777777777778,
             "#fb9f3a"
            ],
            [
             0.8888888888888888,
             "#fdca26"
            ],
            [
             1,
             "#f0f921"
            ]
           ]
          },
          "colorway": [
           "#636efa",
           "#EF553B",
           "#00cc96",
           "#ab63fa",
           "#FFA15A",
           "#19d3f3",
           "#FF6692",
           "#B6E880",
           "#FF97FF",
           "#FECB52"
          ],
          "font": {
           "color": "#2a3f5f"
          },
          "geo": {
           "bgcolor": "white",
           "lakecolor": "white",
           "landcolor": "#E5ECF6",
           "showlakes": true,
           "showland": true,
           "subunitcolor": "white"
          },
          "hoverlabel": {
           "align": "left"
          },
          "hovermode": "closest",
          "mapbox": {
           "style": "light"
          },
          "paper_bgcolor": "white",
          "plot_bgcolor": "#E5ECF6",
          "polar": {
           "angularaxis": {
            "gridcolor": "white",
            "linecolor": "white",
            "ticks": ""
           },
           "bgcolor": "#E5ECF6",
           "radialaxis": {
            "gridcolor": "white",
            "linecolor": "white",
            "ticks": ""
           }
          },
          "scene": {
           "xaxis": {
            "backgroundcolor": "#E5ECF6",
            "gridcolor": "white",
            "gridwidth": 2,
            "linecolor": "white",
            "showbackground": true,
            "ticks": "",
            "zerolinecolor": "white"
           },
           "yaxis": {
            "backgroundcolor": "#E5ECF6",
            "gridcolor": "white",
            "gridwidth": 2,
            "linecolor": "white",
            "showbackground": true,
            "ticks": "",
            "zerolinecolor": "white"
           },
           "zaxis": {
            "backgroundcolor": "#E5ECF6",
            "gridcolor": "white",
            "gridwidth": 2,
            "linecolor": "white",
            "showbackground": true,
            "ticks": "",
            "zerolinecolor": "white"
           }
          },
          "shapedefaults": {
           "line": {
            "color": "#2a3f5f"
           }
          },
          "ternary": {
           "aaxis": {
            "gridcolor": "white",
            "linecolor": "white",
            "ticks": ""
           },
           "baxis": {
            "gridcolor": "white",
            "linecolor": "white",
            "ticks": ""
           },
           "bgcolor": "#E5ECF6",
           "caxis": {
            "gridcolor": "white",
            "linecolor": "white",
            "ticks": ""
           }
          },
          "title": {
           "x": 0.05
          },
          "xaxis": {
           "automargin": true,
           "gridcolor": "white",
           "linecolor": "white",
           "ticks": "",
           "title": {
            "standoff": 15
           },
           "zerolinecolor": "white",
           "zerolinewidth": 2
          },
          "yaxis": {
           "automargin": true,
           "gridcolor": "white",
           "linecolor": "white",
           "ticks": "",
           "title": {
            "standoff": 15
           },
           "zerolinecolor": "white",
           "zerolinewidth": 2
          }
         }
        },
        "title": {
         "text": "Experience Level by Job Title"
        },
        "xaxis": {
         "title": {
          "text": "Job Title"
         }
        },
        "yaxis": {
         "title": {
          "text": "Count"
         }
        }
       }
      }
     },
     "metadata": {},
     "output_type": "display_data"
    }
   ],
   "source": [
    "df_copy = categorical_df.copy()\n",
    "\n",
    "analysis = categorical_df.loc[\n",
    "    categorical_df[\"job_title\"].isin(\n",
    "        [\"Data Engineer\", \"Data Scientist\", \"Data Analyst\"]\n",
    "    )\n",
    "]\n",
    "\n",
    "grouped_data = (\n",
    "    analysis.replace(\n",
    "        {\n",
    "            \"SE\": \"Senior\",\n",
    "            \"MI\": \"Intermediate\",\n",
    "            \"EN\": \"Junior\",\n",
    "            \"EX\": \"Director\",\n",
    "        }\n",
    "    )\n",
    "    .groupby([\"job_title\", \"experience_level\"])[\"experience_level\"]\n",
    "    .count()\n",
    "    .reset_index(name=\"count\")\n",
    ")\n",
    "\n",
    "fig = go.Figure()\n",
    "\n",
    "traces = [\n",
    "    go.Bar(\n",
    "        x=grouped_data[grouped_data[\"experience_level\"] == experience_level][\n",
    "            \"job_title\"\n",
    "        ],\n",
    "        y=grouped_data[grouped_data[\"experience_level\"] == experience_level][\"count\"],\n",
    "        name=experience_level,\n",
    "    )\n",
    "    for experience_level in grouped_data[\"experience_level\"].unique()\n",
    "]\n",
    "\n",
    "# Criando o layout do gráfico\n",
    "layout = go.Layout(\n",
    "    title=\"Experience Level by Job Title\",\n",
    "    xaxis=dict(title=\"Job Title\"),\n",
    "    yaxis=dict(title=\"Count\"),\n",
    ")\n",
    "\n",
    "# Adicionando as barras ao objeto Figure\n",
    "fig = go.Figure(data=traces, layout=layout)\n",
    "\n",
    "fig.show()"
   ]
  },
  {
   "attachments": {},
   "cell_type": "markdown",
   "metadata": {},
   "source": [
    "## Company Size x Job Title"
   ]
  },
  {
   "cell_type": "code",
   "execution_count": 41,
   "metadata": {},
   "outputs": [
    {
     "data": {
      "application/vnd.plotly.v1+json": {
       "config": {
        "plotlyServerURL": "https://plot.ly"
       },
       "data": [
        {
         "name": "Small Company (less than 50 employees)",
         "type": "bar",
         "x": [
          "Data Analyst",
          "Data Engineer",
          "Data Scientist"
         ],
         "y": [
          18,
          8,
          28
         ]
        },
        {
         "name": "Medium Company (50 to 250 employees)",
         "type": "bar",
         "x": [
          "Data Analyst",
          "Data Engineer",
          "Data Scientist"
         ],
         "y": [
          550,
          949,
          705
         ]
        },
        {
         "name": "Large Company (more than 250)",
         "type": "bar",
         "x": [
          "Data Analyst",
          "Data Engineer",
          "Data Scientist"
         ],
         "y": [
          38,
          79,
          99
         ]
        }
       ],
       "layout": {
        "template": {
         "data": {
          "bar": [
           {
            "error_x": {
             "color": "#2a3f5f"
            },
            "error_y": {
             "color": "#2a3f5f"
            },
            "marker": {
             "line": {
              "color": "#E5ECF6",
              "width": 0.5
             },
             "pattern": {
              "fillmode": "overlay",
              "size": 10,
              "solidity": 0.2
             }
            },
            "type": "bar"
           }
          ],
          "barpolar": [
           {
            "marker": {
             "line": {
              "color": "#E5ECF6",
              "width": 0.5
             },
             "pattern": {
              "fillmode": "overlay",
              "size": 10,
              "solidity": 0.2
             }
            },
            "type": "barpolar"
           }
          ],
          "carpet": [
           {
            "aaxis": {
             "endlinecolor": "#2a3f5f",
             "gridcolor": "white",
             "linecolor": "white",
             "minorgridcolor": "white",
             "startlinecolor": "#2a3f5f"
            },
            "baxis": {
             "endlinecolor": "#2a3f5f",
             "gridcolor": "white",
             "linecolor": "white",
             "minorgridcolor": "white",
             "startlinecolor": "#2a3f5f"
            },
            "type": "carpet"
           }
          ],
          "choropleth": [
           {
            "colorbar": {
             "outlinewidth": 0,
             "ticks": ""
            },
            "type": "choropleth"
           }
          ],
          "contour": [
           {
            "colorbar": {
             "outlinewidth": 0,
             "ticks": ""
            },
            "colorscale": [
             [
              0,
              "#0d0887"
             ],
             [
              0.1111111111111111,
              "#46039f"
             ],
             [
              0.2222222222222222,
              "#7201a8"
             ],
             [
              0.3333333333333333,
              "#9c179e"
             ],
             [
              0.4444444444444444,
              "#bd3786"
             ],
             [
              0.5555555555555556,
              "#d8576b"
             ],
             [
              0.6666666666666666,
              "#ed7953"
             ],
             [
              0.7777777777777778,
              "#fb9f3a"
             ],
             [
              0.8888888888888888,
              "#fdca26"
             ],
             [
              1,
              "#f0f921"
             ]
            ],
            "type": "contour"
           }
          ],
          "contourcarpet": [
           {
            "colorbar": {
             "outlinewidth": 0,
             "ticks": ""
            },
            "type": "contourcarpet"
           }
          ],
          "heatmap": [
           {
            "colorbar": {
             "outlinewidth": 0,
             "ticks": ""
            },
            "colorscale": [
             [
              0,
              "#0d0887"
             ],
             [
              0.1111111111111111,
              "#46039f"
             ],
             [
              0.2222222222222222,
              "#7201a8"
             ],
             [
              0.3333333333333333,
              "#9c179e"
             ],
             [
              0.4444444444444444,
              "#bd3786"
             ],
             [
              0.5555555555555556,
              "#d8576b"
             ],
             [
              0.6666666666666666,
              "#ed7953"
             ],
             [
              0.7777777777777778,
              "#fb9f3a"
             ],
             [
              0.8888888888888888,
              "#fdca26"
             ],
             [
              1,
              "#f0f921"
             ]
            ],
            "type": "heatmap"
           }
          ],
          "heatmapgl": [
           {
            "colorbar": {
             "outlinewidth": 0,
             "ticks": ""
            },
            "colorscale": [
             [
              0,
              "#0d0887"
             ],
             [
              0.1111111111111111,
              "#46039f"
             ],
             [
              0.2222222222222222,
              "#7201a8"
             ],
             [
              0.3333333333333333,
              "#9c179e"
             ],
             [
              0.4444444444444444,
              "#bd3786"
             ],
             [
              0.5555555555555556,
              "#d8576b"
             ],
             [
              0.6666666666666666,
              "#ed7953"
             ],
             [
              0.7777777777777778,
              "#fb9f3a"
             ],
             [
              0.8888888888888888,
              "#fdca26"
             ],
             [
              1,
              "#f0f921"
             ]
            ],
            "type": "heatmapgl"
           }
          ],
          "histogram": [
           {
            "marker": {
             "pattern": {
              "fillmode": "overlay",
              "size": 10,
              "solidity": 0.2
             }
            },
            "type": "histogram"
           }
          ],
          "histogram2d": [
           {
            "colorbar": {
             "outlinewidth": 0,
             "ticks": ""
            },
            "colorscale": [
             [
              0,
              "#0d0887"
             ],
             [
              0.1111111111111111,
              "#46039f"
             ],
             [
              0.2222222222222222,
              "#7201a8"
             ],
             [
              0.3333333333333333,
              "#9c179e"
             ],
             [
              0.4444444444444444,
              "#bd3786"
             ],
             [
              0.5555555555555556,
              "#d8576b"
             ],
             [
              0.6666666666666666,
              "#ed7953"
             ],
             [
              0.7777777777777778,
              "#fb9f3a"
             ],
             [
              0.8888888888888888,
              "#fdca26"
             ],
             [
              1,
              "#f0f921"
             ]
            ],
            "type": "histogram2d"
           }
          ],
          "histogram2dcontour": [
           {
            "colorbar": {
             "outlinewidth": 0,
             "ticks": ""
            },
            "colorscale": [
             [
              0,
              "#0d0887"
             ],
             [
              0.1111111111111111,
              "#46039f"
             ],
             [
              0.2222222222222222,
              "#7201a8"
             ],
             [
              0.3333333333333333,
              "#9c179e"
             ],
             [
              0.4444444444444444,
              "#bd3786"
             ],
             [
              0.5555555555555556,
              "#d8576b"
             ],
             [
              0.6666666666666666,
              "#ed7953"
             ],
             [
              0.7777777777777778,
              "#fb9f3a"
             ],
             [
              0.8888888888888888,
              "#fdca26"
             ],
             [
              1,
              "#f0f921"
             ]
            ],
            "type": "histogram2dcontour"
           }
          ],
          "mesh3d": [
           {
            "colorbar": {
             "outlinewidth": 0,
             "ticks": ""
            },
            "type": "mesh3d"
           }
          ],
          "parcoords": [
           {
            "line": {
             "colorbar": {
              "outlinewidth": 0,
              "ticks": ""
             }
            },
            "type": "parcoords"
           }
          ],
          "pie": [
           {
            "automargin": true,
            "type": "pie"
           }
          ],
          "scatter": [
           {
            "fillpattern": {
             "fillmode": "overlay",
             "size": 10,
             "solidity": 0.2
            },
            "type": "scatter"
           }
          ],
          "scatter3d": [
           {
            "line": {
             "colorbar": {
              "outlinewidth": 0,
              "ticks": ""
             }
            },
            "marker": {
             "colorbar": {
              "outlinewidth": 0,
              "ticks": ""
             }
            },
            "type": "scatter3d"
           }
          ],
          "scattercarpet": [
           {
            "marker": {
             "colorbar": {
              "outlinewidth": 0,
              "ticks": ""
             }
            },
            "type": "scattercarpet"
           }
          ],
          "scattergeo": [
           {
            "marker": {
             "colorbar": {
              "outlinewidth": 0,
              "ticks": ""
             }
            },
            "type": "scattergeo"
           }
          ],
          "scattergl": [
           {
            "marker": {
             "colorbar": {
              "outlinewidth": 0,
              "ticks": ""
             }
            },
            "type": "scattergl"
           }
          ],
          "scattermapbox": [
           {
            "marker": {
             "colorbar": {
              "outlinewidth": 0,
              "ticks": ""
             }
            },
            "type": "scattermapbox"
           }
          ],
          "scatterpolar": [
           {
            "marker": {
             "colorbar": {
              "outlinewidth": 0,
              "ticks": ""
             }
            },
            "type": "scatterpolar"
           }
          ],
          "scatterpolargl": [
           {
            "marker": {
             "colorbar": {
              "outlinewidth": 0,
              "ticks": ""
             }
            },
            "type": "scatterpolargl"
           }
          ],
          "scatterternary": [
           {
            "marker": {
             "colorbar": {
              "outlinewidth": 0,
              "ticks": ""
             }
            },
            "type": "scatterternary"
           }
          ],
          "surface": [
           {
            "colorbar": {
             "outlinewidth": 0,
             "ticks": ""
            },
            "colorscale": [
             [
              0,
              "#0d0887"
             ],
             [
              0.1111111111111111,
              "#46039f"
             ],
             [
              0.2222222222222222,
              "#7201a8"
             ],
             [
              0.3333333333333333,
              "#9c179e"
             ],
             [
              0.4444444444444444,
              "#bd3786"
             ],
             [
              0.5555555555555556,
              "#d8576b"
             ],
             [
              0.6666666666666666,
              "#ed7953"
             ],
             [
              0.7777777777777778,
              "#fb9f3a"
             ],
             [
              0.8888888888888888,
              "#fdca26"
             ],
             [
              1,
              "#f0f921"
             ]
            ],
            "type": "surface"
           }
          ],
          "table": [
           {
            "cells": {
             "fill": {
              "color": "#EBF0F8"
             },
             "line": {
              "color": "white"
             }
            },
            "header": {
             "fill": {
              "color": "#C8D4E3"
             },
             "line": {
              "color": "white"
             }
            },
            "type": "table"
           }
          ]
         },
         "layout": {
          "annotationdefaults": {
           "arrowcolor": "#2a3f5f",
           "arrowhead": 0,
           "arrowwidth": 1
          },
          "autotypenumbers": "strict",
          "coloraxis": {
           "colorbar": {
            "outlinewidth": 0,
            "ticks": ""
           }
          },
          "colorscale": {
           "diverging": [
            [
             0,
             "#8e0152"
            ],
            [
             0.1,
             "#c51b7d"
            ],
            [
             0.2,
             "#de77ae"
            ],
            [
             0.3,
             "#f1b6da"
            ],
            [
             0.4,
             "#fde0ef"
            ],
            [
             0.5,
             "#f7f7f7"
            ],
            [
             0.6,
             "#e6f5d0"
            ],
            [
             0.7,
             "#b8e186"
            ],
            [
             0.8,
             "#7fbc41"
            ],
            [
             0.9,
             "#4d9221"
            ],
            [
             1,
             "#276419"
            ]
           ],
           "sequential": [
            [
             0,
             "#0d0887"
            ],
            [
             0.1111111111111111,
             "#46039f"
            ],
            [
             0.2222222222222222,
             "#7201a8"
            ],
            [
             0.3333333333333333,
             "#9c179e"
            ],
            [
             0.4444444444444444,
             "#bd3786"
            ],
            [
             0.5555555555555556,
             "#d8576b"
            ],
            [
             0.6666666666666666,
             "#ed7953"
            ],
            [
             0.7777777777777778,
             "#fb9f3a"
            ],
            [
             0.8888888888888888,
             "#fdca26"
            ],
            [
             1,
             "#f0f921"
            ]
           ],
           "sequentialminus": [
            [
             0,
             "#0d0887"
            ],
            [
             0.1111111111111111,
             "#46039f"
            ],
            [
             0.2222222222222222,
             "#7201a8"
            ],
            [
             0.3333333333333333,
             "#9c179e"
            ],
            [
             0.4444444444444444,
             "#bd3786"
            ],
            [
             0.5555555555555556,
             "#d8576b"
            ],
            [
             0.6666666666666666,
             "#ed7953"
            ],
            [
             0.7777777777777778,
             "#fb9f3a"
            ],
            [
             0.8888888888888888,
             "#fdca26"
            ],
            [
             1,
             "#f0f921"
            ]
           ]
          },
          "colorway": [
           "#636efa",
           "#EF553B",
           "#00cc96",
           "#ab63fa",
           "#FFA15A",
           "#19d3f3",
           "#FF6692",
           "#B6E880",
           "#FF97FF",
           "#FECB52"
          ],
          "font": {
           "color": "#2a3f5f"
          },
          "geo": {
           "bgcolor": "white",
           "lakecolor": "white",
           "landcolor": "#E5ECF6",
           "showlakes": true,
           "showland": true,
           "subunitcolor": "white"
          },
          "hoverlabel": {
           "align": "left"
          },
          "hovermode": "closest",
          "mapbox": {
           "style": "light"
          },
          "paper_bgcolor": "white",
          "plot_bgcolor": "#E5ECF6",
          "polar": {
           "angularaxis": {
            "gridcolor": "white",
            "linecolor": "white",
            "ticks": ""
           },
           "bgcolor": "#E5ECF6",
           "radialaxis": {
            "gridcolor": "white",
            "linecolor": "white",
            "ticks": ""
           }
          },
          "scene": {
           "xaxis": {
            "backgroundcolor": "#E5ECF6",
            "gridcolor": "white",
            "gridwidth": 2,
            "linecolor": "white",
            "showbackground": true,
            "ticks": "",
            "zerolinecolor": "white"
           },
           "yaxis": {
            "backgroundcolor": "#E5ECF6",
            "gridcolor": "white",
            "gridwidth": 2,
            "linecolor": "white",
            "showbackground": true,
            "ticks": "",
            "zerolinecolor": "white"
           },
           "zaxis": {
            "backgroundcolor": "#E5ECF6",
            "gridcolor": "white",
            "gridwidth": 2,
            "linecolor": "white",
            "showbackground": true,
            "ticks": "",
            "zerolinecolor": "white"
           }
          },
          "shapedefaults": {
           "line": {
            "color": "#2a3f5f"
           }
          },
          "ternary": {
           "aaxis": {
            "gridcolor": "white",
            "linecolor": "white",
            "ticks": ""
           },
           "baxis": {
            "gridcolor": "white",
            "linecolor": "white",
            "ticks": ""
           },
           "bgcolor": "#E5ECF6",
           "caxis": {
            "gridcolor": "white",
            "linecolor": "white",
            "ticks": ""
           }
          },
          "title": {
           "x": 0.05
          },
          "xaxis": {
           "automargin": true,
           "gridcolor": "white",
           "linecolor": "white",
           "ticks": "",
           "title": {
            "standoff": 15
           },
           "zerolinecolor": "white",
           "zerolinewidth": 2
          },
          "yaxis": {
           "automargin": true,
           "gridcolor": "white",
           "linecolor": "white",
           "ticks": "",
           "title": {
            "standoff": 15
           },
           "zerolinecolor": "white",
           "zerolinewidth": 2
          }
         }
        },
        "title": {
         "text": "Company Size by Job Title"
        },
        "xaxis": {
         "title": {
          "text": "Job Title"
         }
        },
        "yaxis": {
         "title": {
          "text": "Count"
         }
        }
       }
      }
     },
     "metadata": {},
     "output_type": "display_data"
    }
   ],
   "source": [
    "df_copy = categorical_df.copy()\n",
    "\n",
    "analysis = categorical_df.loc[\n",
    "    categorical_df[\"job_title\"].isin(\n",
    "        [\"Data Engineer\", \"Data Scientist\", \"Data Analyst\"]\n",
    "    )\n",
    "]\n",
    "\n",
    "\n",
    "grouped_data = (\n",
    "    analysis.groupby([\"job_title\", \"company_size\"])[\"company_size\"]\n",
    "    .count()\n",
    "    .reset_index(name=\"count\")\n",
    ")\n",
    "\n",
    "\n",
    "fig = go.Figure()\n",
    "\n",
    "# Criando as barras para small company\n",
    "small_company = go.Bar(\n",
    "    x=grouped_data[grouped_data[\"company_size\"] == \"S\"][\"job_title\"],\n",
    "    y=grouped_data[grouped_data[\"company_size\"] == \"S\"][\"count\"],\n",
    "    name=\"Small Company (less than 50 employees)\",\n",
    ")\n",
    "\n",
    "# Criando as barras para os EUA\n",
    "medium_company = go.Bar(\n",
    "    x=grouped_data[grouped_data[\"company_size\"] == \"M\"][\"job_title\"],\n",
    "    y=grouped_data[grouped_data[\"company_size\"] == \"M\"][\"count\"],\n",
    "    name=\"Medium Company (50 to 250 employees)\",\n",
    ")\n",
    "\n",
    "# Criando as barras para os EUA\n",
    "large_company = go.Bar(\n",
    "    x=grouped_data[grouped_data[\"company_size\"] == \"L\"][\"job_title\"],\n",
    "    y=grouped_data[grouped_data[\"company_size\"] == \"L\"][\"count\"],\n",
    "    name=\"Large Company (more than 250)\",\n",
    ")\n",
    "\n",
    "# Criando o layout do gráfico\n",
    "layout = go.Layout(\n",
    "    title=\"Company Size by Job Title\",\n",
    "    xaxis=dict(title=\"Job Title\"),\n",
    "    yaxis=dict(title=\"Count\"),\n",
    ")\n",
    "\n",
    "# Adicionando as barras ao objeto Figure\n",
    "fig = go.Figure(data=[small_company, medium_company, large_company], layout=layout)\n",
    "\n",
    "fig.show()"
   ]
  },
  {
   "attachments": {},
   "cell_type": "markdown",
   "metadata": {},
   "source": [
    "## Experience level x Company Size"
   ]
  },
  {
   "cell_type": "code",
   "execution_count": 42,
   "metadata": {},
   "outputs": [
    {
     "data": {
      "text/html": [
       "<div>\n",
       "<style scoped>\n",
       "    .dataframe tbody tr th:only-of-type {\n",
       "        vertical-align: middle;\n",
       "    }\n",
       "\n",
       "    .dataframe tbody tr th {\n",
       "        vertical-align: top;\n",
       "    }\n",
       "\n",
       "    .dataframe thead th {\n",
       "        text-align: right;\n",
       "    }\n",
       "</style>\n",
       "<table border=\"1\" class=\"dataframe\">\n",
       "  <thead>\n",
       "    <tr style=\"text-align: right;\">\n",
       "      <th></th>\n",
       "      <th>company_size</th>\n",
       "      <th>experience_level</th>\n",
       "      <th>count</th>\n",
       "      <th>proportion</th>\n",
       "    </tr>\n",
       "  </thead>\n",
       "  <tbody>\n",
       "    <tr>\n",
       "      <th>8</th>\n",
       "      <td>Small company</td>\n",
       "      <td>Junior</td>\n",
       "      <td>49</td>\n",
       "      <td>0.335616</td>\n",
       "    </tr>\n",
       "    <tr>\n",
       "      <th>9</th>\n",
       "      <td>Small company</td>\n",
       "      <td>Executive</td>\n",
       "      <td>6</td>\n",
       "      <td>0.041096</td>\n",
       "    </tr>\n",
       "    <tr>\n",
       "      <th>10</th>\n",
       "      <td>Small company</td>\n",
       "      <td>Medium</td>\n",
       "      <td>48</td>\n",
       "      <td>0.328767</td>\n",
       "    </tr>\n",
       "    <tr>\n",
       "      <th>11</th>\n",
       "      <td>Small company</td>\n",
       "      <td>Senior</td>\n",
       "      <td>43</td>\n",
       "      <td>0.294521</td>\n",
       "    </tr>\n",
       "    <tr>\n",
       "      <th>4</th>\n",
       "      <td>Medium company</td>\n",
       "      <td>Junior</td>\n",
       "      <td>171</td>\n",
       "      <td>0.054790</td>\n",
       "    </tr>\n",
       "    <tr>\n",
       "      <th>5</th>\n",
       "      <td>Medium company</td>\n",
       "      <td>Executive</td>\n",
       "      <td>95</td>\n",
       "      <td>0.030439</td>\n",
       "    </tr>\n",
       "    <tr>\n",
       "      <th>6</th>\n",
       "      <td>Medium company</td>\n",
       "      <td>Medium</td>\n",
       "      <td>615</td>\n",
       "      <td>0.197052</td>\n",
       "    </tr>\n",
       "    <tr>\n",
       "      <th>7</th>\n",
       "      <td>Medium company</td>\n",
       "      <td>Senior</td>\n",
       "      <td>2240</td>\n",
       "      <td>0.717719</td>\n",
       "    </tr>\n",
       "    <tr>\n",
       "      <th>0</th>\n",
       "      <td>Large company</td>\n",
       "      <td>Junior</td>\n",
       "      <td>98</td>\n",
       "      <td>0.218263</td>\n",
       "    </tr>\n",
       "    <tr>\n",
       "      <th>1</th>\n",
       "      <td>Large company</td>\n",
       "      <td>Executive</td>\n",
       "      <td>13</td>\n",
       "      <td>0.028953</td>\n",
       "    </tr>\n",
       "    <tr>\n",
       "      <th>2</th>\n",
       "      <td>Large company</td>\n",
       "      <td>Medium</td>\n",
       "      <td>134</td>\n",
       "      <td>0.298441</td>\n",
       "    </tr>\n",
       "    <tr>\n",
       "      <th>3</th>\n",
       "      <td>Large company</td>\n",
       "      <td>Senior</td>\n",
       "      <td>204</td>\n",
       "      <td>0.454343</td>\n",
       "    </tr>\n",
       "  </tbody>\n",
       "</table>\n",
       "</div>"
      ],
      "text/plain": [
       "      company_size experience_level  count  proportion\n",
       "8    Small company           Junior     49    0.335616\n",
       "9    Small company        Executive      6    0.041096\n",
       "10   Small company           Medium     48    0.328767\n",
       "11   Small company           Senior     43    0.294521\n",
       "4   Medium company           Junior    171    0.054790\n",
       "5   Medium company        Executive     95    0.030439\n",
       "6   Medium company           Medium    615    0.197052\n",
       "7   Medium company           Senior   2240    0.717719\n",
       "0    Large company           Junior     98    0.218263\n",
       "1    Large company        Executive     13    0.028953\n",
       "2    Large company           Medium    134    0.298441\n",
       "3    Large company           Senior    204    0.454343"
      ]
     },
     "execution_count": 42,
     "metadata": {},
     "output_type": "execute_result"
    }
   ],
   "source": [
    "grouped_data = (\n",
    "    df.groupby([\"company_size\", \"experience_level\"])[\"experience_level\"]\n",
    "    .count()\n",
    "    .reset_index(name=\"count\")\n",
    ")\n",
    "\n",
    "grouped_data[\"proportion\"] = grouped_data.groupby([\"company_size\"])[\n",
    "    \"count\"\n",
    "].transform(lambda x: x / x.sum())\n",
    "\n",
    "grouped_data[\"company_size\"].replace(\n",
    "    {\"L\": \"Large company\", \"M\": \"Medium company\", \"S\": \"Small company\"}, inplace=True\n",
    ")\n",
    "grouped_data[\"experience_level\"].replace(\n",
    "    {\"EN\": \"Junior\", \"MI\": \"Medium\", \"SE\": \"Senior\", \"EX\": \"Executive\"}, inplace=True\n",
    ")\n",
    "\n",
    "# Define a ordem desejada\n",
    "cat_order = pd.CategoricalDtype(categories=[\"Small company\", \"Medium company\", \"Large company\"], ordered=True)\n",
    "\n",
    "# Converte a coluna \"company_size\" em uma coluna categórica com a ordem definida\n",
    "grouped_data[\"company_size\"] = grouped_data[\"company_size\"].astype(cat_order)\n",
    "\n",
    "# Classifica os dados pela coluna \"company_size\"\n",
    "grouped_data = grouped_data.sort_values(\"company_size\")\n",
    "\n",
    "grouped_data"
   ]
  },
  {
   "cell_type": "code",
   "execution_count": 43,
   "metadata": {},
   "outputs": [
    {
     "data": {
      "application/vnd.plotly.v1+json": {
       "config": {
        "plotlyServerURL": "https://plot.ly"
       },
       "data": [
        {
         "name": "Junior",
         "type": "bar",
         "x": [
          "Small company",
          "Medium company",
          "Large company"
         ],
         "y": [
          0.3356164383561644,
          0.05479013136815123,
          0.2182628062360802
         ]
        },
        {
         "name": "Medium",
         "type": "bar",
         "x": [
          "Small company",
          "Medium company",
          "Large company"
         ],
         "y": [
          0.3287671232876712,
          0.19705222685036847,
          0.2984409799554566
         ]
        },
        {
         "name": "Senior",
         "type": "bar",
         "x": [
          "Small company",
          "Medium company",
          "Large company"
         ],
         "y": [
          0.2945205479452055,
          0.7177186799102852,
          0.45434298440979953
         ]
        },
        {
         "name": "Executive",
         "type": "bar",
         "x": [
          "Small company",
          "Medium company",
          "Large company"
         ],
         "y": [
          0.0410958904109589,
          0.03043896187119513,
          0.028953229398663696
         ]
        }
       ],
       "layout": {
        "template": {
         "data": {
          "bar": [
           {
            "error_x": {
             "color": "#2a3f5f"
            },
            "error_y": {
             "color": "#2a3f5f"
            },
            "marker": {
             "line": {
              "color": "#E5ECF6",
              "width": 0.5
             },
             "pattern": {
              "fillmode": "overlay",
              "size": 10,
              "solidity": 0.2
             }
            },
            "type": "bar"
           }
          ],
          "barpolar": [
           {
            "marker": {
             "line": {
              "color": "#E5ECF6",
              "width": 0.5
             },
             "pattern": {
              "fillmode": "overlay",
              "size": 10,
              "solidity": 0.2
             }
            },
            "type": "barpolar"
           }
          ],
          "carpet": [
           {
            "aaxis": {
             "endlinecolor": "#2a3f5f",
             "gridcolor": "white",
             "linecolor": "white",
             "minorgridcolor": "white",
             "startlinecolor": "#2a3f5f"
            },
            "baxis": {
             "endlinecolor": "#2a3f5f",
             "gridcolor": "white",
             "linecolor": "white",
             "minorgridcolor": "white",
             "startlinecolor": "#2a3f5f"
            },
            "type": "carpet"
           }
          ],
          "choropleth": [
           {
            "colorbar": {
             "outlinewidth": 0,
             "ticks": ""
            },
            "type": "choropleth"
           }
          ],
          "contour": [
           {
            "colorbar": {
             "outlinewidth": 0,
             "ticks": ""
            },
            "colorscale": [
             [
              0,
              "#0d0887"
             ],
             [
              0.1111111111111111,
              "#46039f"
             ],
             [
              0.2222222222222222,
              "#7201a8"
             ],
             [
              0.3333333333333333,
              "#9c179e"
             ],
             [
              0.4444444444444444,
              "#bd3786"
             ],
             [
              0.5555555555555556,
              "#d8576b"
             ],
             [
              0.6666666666666666,
              "#ed7953"
             ],
             [
              0.7777777777777778,
              "#fb9f3a"
             ],
             [
              0.8888888888888888,
              "#fdca26"
             ],
             [
              1,
              "#f0f921"
             ]
            ],
            "type": "contour"
           }
          ],
          "contourcarpet": [
           {
            "colorbar": {
             "outlinewidth": 0,
             "ticks": ""
            },
            "type": "contourcarpet"
           }
          ],
          "heatmap": [
           {
            "colorbar": {
             "outlinewidth": 0,
             "ticks": ""
            },
            "colorscale": [
             [
              0,
              "#0d0887"
             ],
             [
              0.1111111111111111,
              "#46039f"
             ],
             [
              0.2222222222222222,
              "#7201a8"
             ],
             [
              0.3333333333333333,
              "#9c179e"
             ],
             [
              0.4444444444444444,
              "#bd3786"
             ],
             [
              0.5555555555555556,
              "#d8576b"
             ],
             [
              0.6666666666666666,
              "#ed7953"
             ],
             [
              0.7777777777777778,
              "#fb9f3a"
             ],
             [
              0.8888888888888888,
              "#fdca26"
             ],
             [
              1,
              "#f0f921"
             ]
            ],
            "type": "heatmap"
           }
          ],
          "heatmapgl": [
           {
            "colorbar": {
             "outlinewidth": 0,
             "ticks": ""
            },
            "colorscale": [
             [
              0,
              "#0d0887"
             ],
             [
              0.1111111111111111,
              "#46039f"
             ],
             [
              0.2222222222222222,
              "#7201a8"
             ],
             [
              0.3333333333333333,
              "#9c179e"
             ],
             [
              0.4444444444444444,
              "#bd3786"
             ],
             [
              0.5555555555555556,
              "#d8576b"
             ],
             [
              0.6666666666666666,
              "#ed7953"
             ],
             [
              0.7777777777777778,
              "#fb9f3a"
             ],
             [
              0.8888888888888888,
              "#fdca26"
             ],
             [
              1,
              "#f0f921"
             ]
            ],
            "type": "heatmapgl"
           }
          ],
          "histogram": [
           {
            "marker": {
             "pattern": {
              "fillmode": "overlay",
              "size": 10,
              "solidity": 0.2
             }
            },
            "type": "histogram"
           }
          ],
          "histogram2d": [
           {
            "colorbar": {
             "outlinewidth": 0,
             "ticks": ""
            },
            "colorscale": [
             [
              0,
              "#0d0887"
             ],
             [
              0.1111111111111111,
              "#46039f"
             ],
             [
              0.2222222222222222,
              "#7201a8"
             ],
             [
              0.3333333333333333,
              "#9c179e"
             ],
             [
              0.4444444444444444,
              "#bd3786"
             ],
             [
              0.5555555555555556,
              "#d8576b"
             ],
             [
              0.6666666666666666,
              "#ed7953"
             ],
             [
              0.7777777777777778,
              "#fb9f3a"
             ],
             [
              0.8888888888888888,
              "#fdca26"
             ],
             [
              1,
              "#f0f921"
             ]
            ],
            "type": "histogram2d"
           }
          ],
          "histogram2dcontour": [
           {
            "colorbar": {
             "outlinewidth": 0,
             "ticks": ""
            },
            "colorscale": [
             [
              0,
              "#0d0887"
             ],
             [
              0.1111111111111111,
              "#46039f"
             ],
             [
              0.2222222222222222,
              "#7201a8"
             ],
             [
              0.3333333333333333,
              "#9c179e"
             ],
             [
              0.4444444444444444,
              "#bd3786"
             ],
             [
              0.5555555555555556,
              "#d8576b"
             ],
             [
              0.6666666666666666,
              "#ed7953"
             ],
             [
              0.7777777777777778,
              "#fb9f3a"
             ],
             [
              0.8888888888888888,
              "#fdca26"
             ],
             [
              1,
              "#f0f921"
             ]
            ],
            "type": "histogram2dcontour"
           }
          ],
          "mesh3d": [
           {
            "colorbar": {
             "outlinewidth": 0,
             "ticks": ""
            },
            "type": "mesh3d"
           }
          ],
          "parcoords": [
           {
            "line": {
             "colorbar": {
              "outlinewidth": 0,
              "ticks": ""
             }
            },
            "type": "parcoords"
           }
          ],
          "pie": [
           {
            "automargin": true,
            "type": "pie"
           }
          ],
          "scatter": [
           {
            "fillpattern": {
             "fillmode": "overlay",
             "size": 10,
             "solidity": 0.2
            },
            "type": "scatter"
           }
          ],
          "scatter3d": [
           {
            "line": {
             "colorbar": {
              "outlinewidth": 0,
              "ticks": ""
             }
            },
            "marker": {
             "colorbar": {
              "outlinewidth": 0,
              "ticks": ""
             }
            },
            "type": "scatter3d"
           }
          ],
          "scattercarpet": [
           {
            "marker": {
             "colorbar": {
              "outlinewidth": 0,
              "ticks": ""
             }
            },
            "type": "scattercarpet"
           }
          ],
          "scattergeo": [
           {
            "marker": {
             "colorbar": {
              "outlinewidth": 0,
              "ticks": ""
             }
            },
            "type": "scattergeo"
           }
          ],
          "scattergl": [
           {
            "marker": {
             "colorbar": {
              "outlinewidth": 0,
              "ticks": ""
             }
            },
            "type": "scattergl"
           }
          ],
          "scattermapbox": [
           {
            "marker": {
             "colorbar": {
              "outlinewidth": 0,
              "ticks": ""
             }
            },
            "type": "scattermapbox"
           }
          ],
          "scatterpolar": [
           {
            "marker": {
             "colorbar": {
              "outlinewidth": 0,
              "ticks": ""
             }
            },
            "type": "scatterpolar"
           }
          ],
          "scatterpolargl": [
           {
            "marker": {
             "colorbar": {
              "outlinewidth": 0,
              "ticks": ""
             }
            },
            "type": "scatterpolargl"
           }
          ],
          "scatterternary": [
           {
            "marker": {
             "colorbar": {
              "outlinewidth": 0,
              "ticks": ""
             }
            },
            "type": "scatterternary"
           }
          ],
          "surface": [
           {
            "colorbar": {
             "outlinewidth": 0,
             "ticks": ""
            },
            "colorscale": [
             [
              0,
              "#0d0887"
             ],
             [
              0.1111111111111111,
              "#46039f"
             ],
             [
              0.2222222222222222,
              "#7201a8"
             ],
             [
              0.3333333333333333,
              "#9c179e"
             ],
             [
              0.4444444444444444,
              "#bd3786"
             ],
             [
              0.5555555555555556,
              "#d8576b"
             ],
             [
              0.6666666666666666,
              "#ed7953"
             ],
             [
              0.7777777777777778,
              "#fb9f3a"
             ],
             [
              0.8888888888888888,
              "#fdca26"
             ],
             [
              1,
              "#f0f921"
             ]
            ],
            "type": "surface"
           }
          ],
          "table": [
           {
            "cells": {
             "fill": {
              "color": "#EBF0F8"
             },
             "line": {
              "color": "white"
             }
            },
            "header": {
             "fill": {
              "color": "#C8D4E3"
             },
             "line": {
              "color": "white"
             }
            },
            "type": "table"
           }
          ]
         },
         "layout": {
          "annotationdefaults": {
           "arrowcolor": "#2a3f5f",
           "arrowhead": 0,
           "arrowwidth": 1
          },
          "autotypenumbers": "strict",
          "coloraxis": {
           "colorbar": {
            "outlinewidth": 0,
            "ticks": ""
           }
          },
          "colorscale": {
           "diverging": [
            [
             0,
             "#8e0152"
            ],
            [
             0.1,
             "#c51b7d"
            ],
            [
             0.2,
             "#de77ae"
            ],
            [
             0.3,
             "#f1b6da"
            ],
            [
             0.4,
             "#fde0ef"
            ],
            [
             0.5,
             "#f7f7f7"
            ],
            [
             0.6,
             "#e6f5d0"
            ],
            [
             0.7,
             "#b8e186"
            ],
            [
             0.8,
             "#7fbc41"
            ],
            [
             0.9,
             "#4d9221"
            ],
            [
             1,
             "#276419"
            ]
           ],
           "sequential": [
            [
             0,
             "#0d0887"
            ],
            [
             0.1111111111111111,
             "#46039f"
            ],
            [
             0.2222222222222222,
             "#7201a8"
            ],
            [
             0.3333333333333333,
             "#9c179e"
            ],
            [
             0.4444444444444444,
             "#bd3786"
            ],
            [
             0.5555555555555556,
             "#d8576b"
            ],
            [
             0.6666666666666666,
             "#ed7953"
            ],
            [
             0.7777777777777778,
             "#fb9f3a"
            ],
            [
             0.8888888888888888,
             "#fdca26"
            ],
            [
             1,
             "#f0f921"
            ]
           ],
           "sequentialminus": [
            [
             0,
             "#0d0887"
            ],
            [
             0.1111111111111111,
             "#46039f"
            ],
            [
             0.2222222222222222,
             "#7201a8"
            ],
            [
             0.3333333333333333,
             "#9c179e"
            ],
            [
             0.4444444444444444,
             "#bd3786"
            ],
            [
             0.5555555555555556,
             "#d8576b"
            ],
            [
             0.6666666666666666,
             "#ed7953"
            ],
            [
             0.7777777777777778,
             "#fb9f3a"
            ],
            [
             0.8888888888888888,
             "#fdca26"
            ],
            [
             1,
             "#f0f921"
            ]
           ]
          },
          "colorway": [
           "#636efa",
           "#EF553B",
           "#00cc96",
           "#ab63fa",
           "#FFA15A",
           "#19d3f3",
           "#FF6692",
           "#B6E880",
           "#FF97FF",
           "#FECB52"
          ],
          "font": {
           "color": "#2a3f5f"
          },
          "geo": {
           "bgcolor": "white",
           "lakecolor": "white",
           "landcolor": "#E5ECF6",
           "showlakes": true,
           "showland": true,
           "subunitcolor": "white"
          },
          "hoverlabel": {
           "align": "left"
          },
          "hovermode": "closest",
          "mapbox": {
           "style": "light"
          },
          "paper_bgcolor": "white",
          "plot_bgcolor": "#E5ECF6",
          "polar": {
           "angularaxis": {
            "gridcolor": "white",
            "linecolor": "white",
            "ticks": ""
           },
           "bgcolor": "#E5ECF6",
           "radialaxis": {
            "gridcolor": "white",
            "linecolor": "white",
            "ticks": ""
           }
          },
          "scene": {
           "xaxis": {
            "backgroundcolor": "#E5ECF6",
            "gridcolor": "white",
            "gridwidth": 2,
            "linecolor": "white",
            "showbackground": true,
            "ticks": "",
            "zerolinecolor": "white"
           },
           "yaxis": {
            "backgroundcolor": "#E5ECF6",
            "gridcolor": "white",
            "gridwidth": 2,
            "linecolor": "white",
            "showbackground": true,
            "ticks": "",
            "zerolinecolor": "white"
           },
           "zaxis": {
            "backgroundcolor": "#E5ECF6",
            "gridcolor": "white",
            "gridwidth": 2,
            "linecolor": "white",
            "showbackground": true,
            "ticks": "",
            "zerolinecolor": "white"
           }
          },
          "shapedefaults": {
           "line": {
            "color": "#2a3f5f"
           }
          },
          "ternary": {
           "aaxis": {
            "gridcolor": "white",
            "linecolor": "white",
            "ticks": ""
           },
           "baxis": {
            "gridcolor": "white",
            "linecolor": "white",
            "ticks": ""
           },
           "bgcolor": "#E5ECF6",
           "caxis": {
            "gridcolor": "white",
            "linecolor": "white",
            "ticks": ""
           }
          },
          "title": {
           "x": 0.05
          },
          "xaxis": {
           "automargin": true,
           "gridcolor": "white",
           "linecolor": "white",
           "ticks": "",
           "title": {
            "standoff": 15
           },
           "zerolinecolor": "white",
           "zerolinewidth": 2
          },
          "yaxis": {
           "automargin": true,
           "gridcolor": "white",
           "linecolor": "white",
           "ticks": "",
           "title": {
            "standoff": 15
           },
           "zerolinecolor": "white",
           "zerolinewidth": 2
          }
         }
        },
        "title": {
         "text": "Proportional Experience Level by Company Size"
        },
        "xaxis": {
         "title": {
          "text": "Company Size"
         }
        },
        "yaxis": {
         "title": {
          "text": "Proportional Percentage of Experience Level"
         }
        }
       }
      }
     },
     "metadata": {},
     "output_type": "display_data"
    }
   ],
   "source": [
    "fig = go.Figure()\n",
    "\n",
    "company_size = [\"Small company\", \"Medium company\", \"Large company\"]\n",
    "\n",
    "traces = [\n",
    "    go.Bar(\n",
    "        x=company_size,\n",
    "        y=grouped_data[(grouped_data[\"experience_level\"] == experience_level)][\n",
    "            \"proportion\"\n",
    "        ],\n",
    "        name=experience_level,\n",
    "    )\n",
    "    for i, experience_level in enumerate([\"Junior\", \"Medium\", \"Senior\", \"Executive\"])\n",
    "]\n",
    "\n",
    "# Criando o layout do gráfico\n",
    "layout = go.Layout(\n",
    "    title=\"Proportional Experience Level by Company Size\",\n",
    "    xaxis=dict(title=\"Company Size\"),\n",
    "    yaxis=dict(title=\"Proportional Percentage of Experience Level\"),\n",
    ")\n",
    "\n",
    "# Adicionando as barras ao objeto Figure\n",
    "fig = go.Figure(data=traces, layout=layout)\n",
    "\n",
    "fig.show()"
   ]
  },
  {
   "attachments": {},
   "cell_type": "markdown",
   "metadata": {},
   "source": [
    "### Hypothesis test"
   ]
  },
  {
   "attachments": {},
   "cell_type": "markdown",
   "metadata": {},
   "source": [
    "The distribution of seniority levels among professionals does not differ significantly between companies of different sizes"
   ]
  },
  {
   "cell_type": "code",
   "execution_count": 44,
   "metadata": {},
   "outputs": [
    {
     "data": {
      "text/plain": [
       "{'chi²': 334.8121342444997,\n",
       " 'p_value': 2.806529402003438e-69,\n",
       " 'conclusion': 'Reject null hypothesis: The distribution of seniority levels among professionals does not differ significantly between companies of different sizes'}"
      ]
     },
     "execution_count": 44,
     "metadata": {},
     "output_type": "execute_result"
    }
   ],
   "source": [
    "hypothesis = HypothesisTest(categorical_df)\n",
    "\n",
    "hypothesis.chi_square_test(\n",
    "    \"experience_level\",\n",
    "    \"company_size\",\n",
    "    h0=\"The distribution of seniority levels among professionals does not differ significantly between companies of different sizes\",\n",
    ")"
   ]
  },
  {
   "attachments": {},
   "cell_type": "markdown",
   "metadata": {},
   "source": [
    "Strong evidence against the null hypothesis and suggests that the distribution of seniority levels among professionals differs between companies of different sizes."
   ]
  },
  {
   "attachments": {},
   "cell_type": "markdown",
   "metadata": {},
   "source": [
    "## Numerical & Numerical"
   ]
  },
  {
   "cell_type": "code",
   "execution_count": 45,
   "metadata": {},
   "outputs": [
    {
     "data": {
      "text/plain": [
       "[('work_year', 'salary'),\n",
       " ('work_year', 'salary_in_usd'),\n",
       " ('work_year', 'remote_ratio'),\n",
       " ('salary', 'salary_in_usd'),\n",
       " ('salary', 'remote_ratio'),\n",
       " ('salary_in_usd', 'remote_ratio')]"
      ]
     },
     "execution_count": 45,
     "metadata": {},
     "output_type": "execute_result"
    }
   ],
   "source": [
    "numerical_columns = numerical_df.columns.values\n",
    "\n",
    "bivariate_numerical_combinations = list(\n",
    "    itertools.combinations(numerical_columns, 2)\n",
    ")\n",
    "\n",
    "bivariate_numerical_combinations"
   ]
  },
  {
   "cell_type": "code",
   "execution_count": null,
   "metadata": {},
   "outputs": [],
   "source": []
  },
  {
   "cell_type": "code",
   "execution_count": 46,
   "metadata": {},
   "outputs": [
    {
     "data": {
      "text/plain": [
       "[('work_year', 'salary_in_usd'),\n",
       " ('work_year', 'remote_ratio'),\n",
       " ('salary_in_usd', 'remote_ratio')]"
      ]
     },
     "execution_count": 46,
     "metadata": {},
     "output_type": "execute_result"
    }
   ],
   "source": [
    "# List of all categorical columns\n",
    "numerical_columns = numerical_df.columns.values\n",
    "\n",
    "# Remove specific columns\n",
    "columns_to_exclude = [\"salary\"]\n",
    "numerical_columns = [\n",
    "    col for col in numerical_columns if col not in columns_to_exclude\n",
    "]\n",
    "\n",
    "# Create combinations\n",
    "bivariate_numerical_combinations = list(\n",
    "    itertools.combinations(numerical_columns, 2)\n",
    ")\n",
    "\n",
    "bivariate_numerical_combinations"
   ]
  },
  {
   "attachments": {},
   "cell_type": "markdown",
   "metadata": {},
   "source": [
    "## Work Year x Remote Ratio"
   ]
  },
  {
   "cell_type": "code",
   "execution_count": 86,
   "metadata": {},
   "outputs": [
    {
     "data": {
      "text/html": [
       "<div>\n",
       "<style scoped>\n",
       "    .dataframe tbody tr th:only-of-type {\n",
       "        vertical-align: middle;\n",
       "    }\n",
       "\n",
       "    .dataframe tbody tr th {\n",
       "        vertical-align: top;\n",
       "    }\n",
       "\n",
       "    .dataframe thead th {\n",
       "        text-align: right;\n",
       "    }\n",
       "</style>\n",
       "<table border=\"1\" class=\"dataframe\">\n",
       "  <thead>\n",
       "    <tr style=\"text-align: right;\">\n",
       "      <th></th>\n",
       "      <th>work_year</th>\n",
       "      <th>remote_ratio</th>\n",
       "      <th>count</th>\n",
       "      <th>proportion</th>\n",
       "    </tr>\n",
       "  </thead>\n",
       "  <tbody>\n",
       "    <tr>\n",
       "      <th>0</th>\n",
       "      <td>2020</td>\n",
       "      <td>In-Office</td>\n",
       "      <td>16</td>\n",
       "      <td>21.1</td>\n",
       "    </tr>\n",
       "    <tr>\n",
       "      <th>1</th>\n",
       "      <td>2020</td>\n",
       "      <td>Hybrid</td>\n",
       "      <td>21</td>\n",
       "      <td>27.6</td>\n",
       "    </tr>\n",
       "    <tr>\n",
       "      <th>2</th>\n",
       "      <td>2020</td>\n",
       "      <td>Remote</td>\n",
       "      <td>39</td>\n",
       "      <td>51.3</td>\n",
       "    </tr>\n",
       "    <tr>\n",
       "      <th>3</th>\n",
       "      <td>2021</td>\n",
       "      <td>In-Office</td>\n",
       "      <td>34</td>\n",
       "      <td>14.8</td>\n",
       "    </tr>\n",
       "    <tr>\n",
       "      <th>4</th>\n",
       "      <td>2021</td>\n",
       "      <td>Hybrid</td>\n",
       "      <td>76</td>\n",
       "      <td>33.0</td>\n",
       "    </tr>\n",
       "    <tr>\n",
       "      <th>5</th>\n",
       "      <td>2021</td>\n",
       "      <td>Remote</td>\n",
       "      <td>120</td>\n",
       "      <td>52.2</td>\n",
       "    </tr>\n",
       "    <tr>\n",
       "      <th>6</th>\n",
       "      <td>2022</td>\n",
       "      <td>In-Office</td>\n",
       "      <td>711</td>\n",
       "      <td>42.7</td>\n",
       "    </tr>\n",
       "    <tr>\n",
       "      <th>7</th>\n",
       "      <td>2022</td>\n",
       "      <td>Hybrid</td>\n",
       "      <td>62</td>\n",
       "      <td>3.7</td>\n",
       "    </tr>\n",
       "    <tr>\n",
       "      <th>8</th>\n",
       "      <td>2022</td>\n",
       "      <td>Remote</td>\n",
       "      <td>891</td>\n",
       "      <td>53.5</td>\n",
       "    </tr>\n",
       "    <tr>\n",
       "      <th>9</th>\n",
       "      <td>2023</td>\n",
       "      <td>In-Office</td>\n",
       "      <td>1134</td>\n",
       "      <td>64.9</td>\n",
       "    </tr>\n",
       "    <tr>\n",
       "      <th>10</th>\n",
       "      <td>2023</td>\n",
       "      <td>Hybrid</td>\n",
       "      <td>30</td>\n",
       "      <td>1.7</td>\n",
       "    </tr>\n",
       "    <tr>\n",
       "      <th>11</th>\n",
       "      <td>2023</td>\n",
       "      <td>Remote</td>\n",
       "      <td>582</td>\n",
       "      <td>33.3</td>\n",
       "    </tr>\n",
       "  </tbody>\n",
       "</table>\n",
       "</div>"
      ],
      "text/plain": [
       "    work_year remote_ratio  count  proportion\n",
       "0        2020    In-Office     16        21.1\n",
       "1        2020       Hybrid     21        27.6\n",
       "2        2020       Remote     39        51.3\n",
       "3        2021    In-Office     34        14.8\n",
       "4        2021       Hybrid     76        33.0\n",
       "5        2021       Remote    120        52.2\n",
       "6        2022    In-Office    711        42.7\n",
       "7        2022       Hybrid     62         3.7\n",
       "8        2022       Remote    891        53.5\n",
       "9        2023    In-Office   1134        64.9\n",
       "10       2023       Hybrid     30         1.7\n",
       "11       2023       Remote    582        33.3"
      ]
     },
     "execution_count": 86,
     "metadata": {},
     "output_type": "execute_result"
    }
   ],
   "source": [
    "grouped_data = (\n",
    "    df.groupby([\"work_year\", \"remote_ratio\"])[\"remote_ratio\"]\n",
    "    .count()\n",
    "    .reset_index(name=\"count\")\n",
    ")\n",
    "\n",
    "grouped_data[\"proportion\"] = (\n",
    "    grouped_data.groupby([\"work_year\"])[\"count\"].transform(lambda x: x / x.sum()) * 100\n",
    ")\n",
    "\n",
    "grouped_data[\"proportion\"] = grouped_data[\"proportion\"].round(1)\n",
    "\n",
    "grouped_data[\"remote_ratio\"].replace(\n",
    "    {0: \"In-Office\", 50: \"Hybrid\", 100: \"Remote\"}, inplace=True\n",
    ")\n",
    "\n",
    "grouped_data\n"
   ]
  },
  {
   "cell_type": "code",
   "execution_count": 92,
   "metadata": {},
   "outputs": [
    {
     "data": {
      "application/vnd.plotly.v1+json": {
       "config": {
        "plotlyServerURL": "https://plot.ly"
       },
       "data": [
        {
         "marker": {
          "color": "rgb(0,0,0)"
         },
         "name": "In-Office",
         "text": [
          "21.1%",
          "14.8%",
          "42.7%",
          "64.9%"
         ],
         "textposition": "auto",
         "type": "bar",
         "x": [
          2020,
          2021,
          2022,
          2023
         ],
         "y": [
          21.1,
          14.8,
          42.7,
          64.9
         ]
        },
        {
         "marker": {
          "color": "rgb(115,115,115)"
         },
         "name": "Hybrid",
         "text": [
          "27.6%",
          "33.0%",
          "3.7%",
          "1.7%"
         ],
         "textposition": "auto",
         "type": "bar",
         "x": [
          2020,
          2021,
          2022,
          2023
         ],
         "y": [
          27.6,
          33,
          3.7,
          1.7
         ]
        },
        {
         "marker": {
          "color": "rgb(217,217,217)"
         },
         "name": "Remote",
         "text": [
          "51.3%",
          "52.2%",
          "53.5%",
          "33.3%"
         ],
         "textposition": "auto",
         "type": "bar",
         "x": [
          2020,
          2021,
          2022,
          2023
         ],
         "y": [
          51.3,
          52.2,
          53.5,
          33.3
         ]
        }
       ],
       "layout": {
        "plot_bgcolor": "white",
        "template": {
         "data": {
          "bar": [
           {
            "error_x": {
             "color": "#2a3f5f"
            },
            "error_y": {
             "color": "#2a3f5f"
            },
            "marker": {
             "line": {
              "color": "#E5ECF6",
              "width": 0.5
             },
             "pattern": {
              "fillmode": "overlay",
              "size": 10,
              "solidity": 0.2
             }
            },
            "type": "bar"
           }
          ],
          "barpolar": [
           {
            "marker": {
             "line": {
              "color": "#E5ECF6",
              "width": 0.5
             },
             "pattern": {
              "fillmode": "overlay",
              "size": 10,
              "solidity": 0.2
             }
            },
            "type": "barpolar"
           }
          ],
          "carpet": [
           {
            "aaxis": {
             "endlinecolor": "#2a3f5f",
             "gridcolor": "white",
             "linecolor": "white",
             "minorgridcolor": "white",
             "startlinecolor": "#2a3f5f"
            },
            "baxis": {
             "endlinecolor": "#2a3f5f",
             "gridcolor": "white",
             "linecolor": "white",
             "minorgridcolor": "white",
             "startlinecolor": "#2a3f5f"
            },
            "type": "carpet"
           }
          ],
          "choropleth": [
           {
            "colorbar": {
             "outlinewidth": 0,
             "ticks": ""
            },
            "type": "choropleth"
           }
          ],
          "contour": [
           {
            "colorbar": {
             "outlinewidth": 0,
             "ticks": ""
            },
            "colorscale": [
             [
              0,
              "#0d0887"
             ],
             [
              0.1111111111111111,
              "#46039f"
             ],
             [
              0.2222222222222222,
              "#7201a8"
             ],
             [
              0.3333333333333333,
              "#9c179e"
             ],
             [
              0.4444444444444444,
              "#bd3786"
             ],
             [
              0.5555555555555556,
              "#d8576b"
             ],
             [
              0.6666666666666666,
              "#ed7953"
             ],
             [
              0.7777777777777778,
              "#fb9f3a"
             ],
             [
              0.8888888888888888,
              "#fdca26"
             ],
             [
              1,
              "#f0f921"
             ]
            ],
            "type": "contour"
           }
          ],
          "contourcarpet": [
           {
            "colorbar": {
             "outlinewidth": 0,
             "ticks": ""
            },
            "type": "contourcarpet"
           }
          ],
          "heatmap": [
           {
            "colorbar": {
             "outlinewidth": 0,
             "ticks": ""
            },
            "colorscale": [
             [
              0,
              "#0d0887"
             ],
             [
              0.1111111111111111,
              "#46039f"
             ],
             [
              0.2222222222222222,
              "#7201a8"
             ],
             [
              0.3333333333333333,
              "#9c179e"
             ],
             [
              0.4444444444444444,
              "#bd3786"
             ],
             [
              0.5555555555555556,
              "#d8576b"
             ],
             [
              0.6666666666666666,
              "#ed7953"
             ],
             [
              0.7777777777777778,
              "#fb9f3a"
             ],
             [
              0.8888888888888888,
              "#fdca26"
             ],
             [
              1,
              "#f0f921"
             ]
            ],
            "type": "heatmap"
           }
          ],
          "heatmapgl": [
           {
            "colorbar": {
             "outlinewidth": 0,
             "ticks": ""
            },
            "colorscale": [
             [
              0,
              "#0d0887"
             ],
             [
              0.1111111111111111,
              "#46039f"
             ],
             [
              0.2222222222222222,
              "#7201a8"
             ],
             [
              0.3333333333333333,
              "#9c179e"
             ],
             [
              0.4444444444444444,
              "#bd3786"
             ],
             [
              0.5555555555555556,
              "#d8576b"
             ],
             [
              0.6666666666666666,
              "#ed7953"
             ],
             [
              0.7777777777777778,
              "#fb9f3a"
             ],
             [
              0.8888888888888888,
              "#fdca26"
             ],
             [
              1,
              "#f0f921"
             ]
            ],
            "type": "heatmapgl"
           }
          ],
          "histogram": [
           {
            "marker": {
             "pattern": {
              "fillmode": "overlay",
              "size": 10,
              "solidity": 0.2
             }
            },
            "type": "histogram"
           }
          ],
          "histogram2d": [
           {
            "colorbar": {
             "outlinewidth": 0,
             "ticks": ""
            },
            "colorscale": [
             [
              0,
              "#0d0887"
             ],
             [
              0.1111111111111111,
              "#46039f"
             ],
             [
              0.2222222222222222,
              "#7201a8"
             ],
             [
              0.3333333333333333,
              "#9c179e"
             ],
             [
              0.4444444444444444,
              "#bd3786"
             ],
             [
              0.5555555555555556,
              "#d8576b"
             ],
             [
              0.6666666666666666,
              "#ed7953"
             ],
             [
              0.7777777777777778,
              "#fb9f3a"
             ],
             [
              0.8888888888888888,
              "#fdca26"
             ],
             [
              1,
              "#f0f921"
             ]
            ],
            "type": "histogram2d"
           }
          ],
          "histogram2dcontour": [
           {
            "colorbar": {
             "outlinewidth": 0,
             "ticks": ""
            },
            "colorscale": [
             [
              0,
              "#0d0887"
             ],
             [
              0.1111111111111111,
              "#46039f"
             ],
             [
              0.2222222222222222,
              "#7201a8"
             ],
             [
              0.3333333333333333,
              "#9c179e"
             ],
             [
              0.4444444444444444,
              "#bd3786"
             ],
             [
              0.5555555555555556,
              "#d8576b"
             ],
             [
              0.6666666666666666,
              "#ed7953"
             ],
             [
              0.7777777777777778,
              "#fb9f3a"
             ],
             [
              0.8888888888888888,
              "#fdca26"
             ],
             [
              1,
              "#f0f921"
             ]
            ],
            "type": "histogram2dcontour"
           }
          ],
          "mesh3d": [
           {
            "colorbar": {
             "outlinewidth": 0,
             "ticks": ""
            },
            "type": "mesh3d"
           }
          ],
          "parcoords": [
           {
            "line": {
             "colorbar": {
              "outlinewidth": 0,
              "ticks": ""
             }
            },
            "type": "parcoords"
           }
          ],
          "pie": [
           {
            "automargin": true,
            "type": "pie"
           }
          ],
          "scatter": [
           {
            "fillpattern": {
             "fillmode": "overlay",
             "size": 10,
             "solidity": 0.2
            },
            "type": "scatter"
           }
          ],
          "scatter3d": [
           {
            "line": {
             "colorbar": {
              "outlinewidth": 0,
              "ticks": ""
             }
            },
            "marker": {
             "colorbar": {
              "outlinewidth": 0,
              "ticks": ""
             }
            },
            "type": "scatter3d"
           }
          ],
          "scattercarpet": [
           {
            "marker": {
             "colorbar": {
              "outlinewidth": 0,
              "ticks": ""
             }
            },
            "type": "scattercarpet"
           }
          ],
          "scattergeo": [
           {
            "marker": {
             "colorbar": {
              "outlinewidth": 0,
              "ticks": ""
             }
            },
            "type": "scattergeo"
           }
          ],
          "scattergl": [
           {
            "marker": {
             "colorbar": {
              "outlinewidth": 0,
              "ticks": ""
             }
            },
            "type": "scattergl"
           }
          ],
          "scattermapbox": [
           {
            "marker": {
             "colorbar": {
              "outlinewidth": 0,
              "ticks": ""
             }
            },
            "type": "scattermapbox"
           }
          ],
          "scatterpolar": [
           {
            "marker": {
             "colorbar": {
              "outlinewidth": 0,
              "ticks": ""
             }
            },
            "type": "scatterpolar"
           }
          ],
          "scatterpolargl": [
           {
            "marker": {
             "colorbar": {
              "outlinewidth": 0,
              "ticks": ""
             }
            },
            "type": "scatterpolargl"
           }
          ],
          "scatterternary": [
           {
            "marker": {
             "colorbar": {
              "outlinewidth": 0,
              "ticks": ""
             }
            },
            "type": "scatterternary"
           }
          ],
          "surface": [
           {
            "colorbar": {
             "outlinewidth": 0,
             "ticks": ""
            },
            "colorscale": [
             [
              0,
              "#0d0887"
             ],
             [
              0.1111111111111111,
              "#46039f"
             ],
             [
              0.2222222222222222,
              "#7201a8"
             ],
             [
              0.3333333333333333,
              "#9c179e"
             ],
             [
              0.4444444444444444,
              "#bd3786"
             ],
             [
              0.5555555555555556,
              "#d8576b"
             ],
             [
              0.6666666666666666,
              "#ed7953"
             ],
             [
              0.7777777777777778,
              "#fb9f3a"
             ],
             [
              0.8888888888888888,
              "#fdca26"
             ],
             [
              1,
              "#f0f921"
             ]
            ],
            "type": "surface"
           }
          ],
          "table": [
           {
            "cells": {
             "fill": {
              "color": "#EBF0F8"
             },
             "line": {
              "color": "white"
             }
            },
            "header": {
             "fill": {
              "color": "#C8D4E3"
             },
             "line": {
              "color": "white"
             }
            },
            "type": "table"
           }
          ]
         },
         "layout": {
          "annotationdefaults": {
           "arrowcolor": "#2a3f5f",
           "arrowhead": 0,
           "arrowwidth": 1
          },
          "autotypenumbers": "strict",
          "coloraxis": {
           "colorbar": {
            "outlinewidth": 0,
            "ticks": ""
           }
          },
          "colorscale": {
           "diverging": [
            [
             0,
             "#8e0152"
            ],
            [
             0.1,
             "#c51b7d"
            ],
            [
             0.2,
             "#de77ae"
            ],
            [
             0.3,
             "#f1b6da"
            ],
            [
             0.4,
             "#fde0ef"
            ],
            [
             0.5,
             "#f7f7f7"
            ],
            [
             0.6,
             "#e6f5d0"
            ],
            [
             0.7,
             "#b8e186"
            ],
            [
             0.8,
             "#7fbc41"
            ],
            [
             0.9,
             "#4d9221"
            ],
            [
             1,
             "#276419"
            ]
           ],
           "sequential": [
            [
             0,
             "#0d0887"
            ],
            [
             0.1111111111111111,
             "#46039f"
            ],
            [
             0.2222222222222222,
             "#7201a8"
            ],
            [
             0.3333333333333333,
             "#9c179e"
            ],
            [
             0.4444444444444444,
             "#bd3786"
            ],
            [
             0.5555555555555556,
             "#d8576b"
            ],
            [
             0.6666666666666666,
             "#ed7953"
            ],
            [
             0.7777777777777778,
             "#fb9f3a"
            ],
            [
             0.8888888888888888,
             "#fdca26"
            ],
            [
             1,
             "#f0f921"
            ]
           ],
           "sequentialminus": [
            [
             0,
             "#0d0887"
            ],
            [
             0.1111111111111111,
             "#46039f"
            ],
            [
             0.2222222222222222,
             "#7201a8"
            ],
            [
             0.3333333333333333,
             "#9c179e"
            ],
            [
             0.4444444444444444,
             "#bd3786"
            ],
            [
             0.5555555555555556,
             "#d8576b"
            ],
            [
             0.6666666666666666,
             "#ed7953"
            ],
            [
             0.7777777777777778,
             "#fb9f3a"
            ],
            [
             0.8888888888888888,
             "#fdca26"
            ],
            [
             1,
             "#f0f921"
            ]
           ]
          },
          "colorway": [
           "#636efa",
           "#EF553B",
           "#00cc96",
           "#ab63fa",
           "#FFA15A",
           "#19d3f3",
           "#FF6692",
           "#B6E880",
           "#FF97FF",
           "#FECB52"
          ],
          "font": {
           "color": "#2a3f5f"
          },
          "geo": {
           "bgcolor": "white",
           "lakecolor": "white",
           "landcolor": "#E5ECF6",
           "showlakes": true,
           "showland": true,
           "subunitcolor": "white"
          },
          "hoverlabel": {
           "align": "left"
          },
          "hovermode": "closest",
          "mapbox": {
           "style": "light"
          },
          "paper_bgcolor": "white",
          "plot_bgcolor": "#E5ECF6",
          "polar": {
           "angularaxis": {
            "gridcolor": "white",
            "linecolor": "white",
            "ticks": ""
           },
           "bgcolor": "#E5ECF6",
           "radialaxis": {
            "gridcolor": "white",
            "linecolor": "white",
            "ticks": ""
           }
          },
          "scene": {
           "xaxis": {
            "backgroundcolor": "#E5ECF6",
            "gridcolor": "white",
            "gridwidth": 2,
            "linecolor": "white",
            "showbackground": true,
            "ticks": "",
            "zerolinecolor": "white"
           },
           "yaxis": {
            "backgroundcolor": "#E5ECF6",
            "gridcolor": "white",
            "gridwidth": 2,
            "linecolor": "white",
            "showbackground": true,
            "ticks": "",
            "zerolinecolor": "white"
           },
           "zaxis": {
            "backgroundcolor": "#E5ECF6",
            "gridcolor": "white",
            "gridwidth": 2,
            "linecolor": "white",
            "showbackground": true,
            "ticks": "",
            "zerolinecolor": "white"
           }
          },
          "shapedefaults": {
           "line": {
            "color": "#2a3f5f"
           }
          },
          "ternary": {
           "aaxis": {
            "gridcolor": "white",
            "linecolor": "white",
            "ticks": ""
           },
           "baxis": {
            "gridcolor": "white",
            "linecolor": "white",
            "ticks": ""
           },
           "bgcolor": "#E5ECF6",
           "caxis": {
            "gridcolor": "white",
            "linecolor": "white",
            "ticks": ""
           }
          },
          "title": {
           "x": 0.05
          },
          "xaxis": {
           "automargin": true,
           "gridcolor": "white",
           "linecolor": "white",
           "ticks": "",
           "title": {
            "standoff": 15
           },
           "zerolinecolor": "white",
           "zerolinewidth": 2
          },
          "yaxis": {
           "automargin": true,
           "gridcolor": "white",
           "linecolor": "white",
           "ticks": "",
           "title": {
            "standoff": 15
           },
           "zerolinecolor": "white",
           "zerolinewidth": 2
          }
         }
        },
        "title": {
         "text": "Proportional Work Models per Year"
        },
        "xaxis": {
         "title": {
          "text": "Year"
         }
        },
        "yaxis": {
         "title": {
          "text": "Proportional Percentage of Work Models"
         }
        }
       }
      }
     },
     "metadata": {},
     "output_type": "display_data"
    }
   ],
   "source": [
    "\n",
    "\n",
    "# Criando uma lista de cores de cinza para cada employee_type\n",
    "gray_colors = {\n",
    "    \"In-Office\": colors.sequential.Greys[8],\n",
    "    \"Hybrid\": colors.sequential.Greys[5],\n",
    "    \"Remote\": colors.sequential.Greys[2],\n",
    "}\n",
    "\n",
    "# Criando as barras\n",
    "traces = [\n",
    "    go.Bar(\n",
    "        x=grouped_data[grouped_data[\"remote_ratio\"] == employee_type][\"work_year\"],\n",
    "        y=grouped_data[grouped_data[\"remote_ratio\"] == employee_type][\"proportion\"],\n",
    "        name=employee_type,\n",
    "        marker=dict(color=gray_colors[employee_type]),\n",
    "        text=[\n",
    "            f\"{val:.1f}%\"\n",
    "            for val in grouped_data[grouped_data[\"remote_ratio\"] == employee_type][\n",
    "                \"proportion\"\n",
    "            ]\n",
    "        ],\n",
    "        textposition=\"auto\",\n",
    "    )\n",
    "    for i, employee_type in enumerate([\"In-Office\", \"Hybrid\", \"Remote\"])\n",
    "]\n",
    "\n",
    "# Criando o layout do gráfico\n",
    "layout = go.Layout(\n",
    "    title=\"Proportional Work Models per Year\",\n",
    "    xaxis=dict(title=\"Year\"),\n",
    "    yaxis=dict(title=\"Proportional Percentage of Work Models\"),\n",
    "    plot_bgcolor=\"white\",\n",
    ")\n",
    "\n",
    "# Adicionando as barras ao objeto Figure\n",
    "fig = go.Figure(data=traces, layout=layout)\n",
    "\n",
    "fig.show()\n"
   ]
  },
  {
   "attachments": {},
   "cell_type": "markdown",
   "metadata": {},
   "source": [
    "## Numerical & Categorical"
   ]
  },
  {
   "attachments": {},
   "cell_type": "markdown",
   "metadata": {},
   "source": [
    "## Hypotesis test"
   ]
  },
  {
   "attachments": {},
   "cell_type": "markdown",
   "metadata": {},
   "source": [
    "Profissionais mais experientes trabalham em empresas maiores?"
   ]
  },
  {
   "attachments": {},
   "cell_type": "markdown",
   "metadata": {},
   "source": [
    "### Trend Salary [USD] per top job_title"
   ]
  },
  {
   "cell_type": "code",
   "execution_count": 50,
   "metadata": {},
   "outputs": [
    {
     "data": {
      "application/vnd.plotly.v1+json": {
       "config": {
        "plotlyServerURL": "https://plot.ly"
       },
       "data": [
        {
         "mode": "lines",
         "name": "Data Analyst",
         "type": "scatter",
         "x": [
          2020,
          2021,
          2022,
          2023
         ],
         "y": [
          88900,
          135000,
          170000,
          187000
         ]
        },
        {
         "mode": "lines",
         "name": "Data Engineer",
         "type": "scatter",
         "x": [
          2020,
          2021,
          2022,
          2023
         ],
         "y": [
          147959.99999999994,
          200000,
          239000,
          252000
         ]
        },
        {
         "mode": "lines",
         "name": "Data Scientist",
         "type": "scatter",
         "x": [
          2020,
          2021,
          2022,
          2023
         ],
         "y": [
          138350,
          149550,
          215240,
          259937.5
         ]
        }
       ],
       "layout": {
        "template": {},
        "xaxis": {
         "dtick": 1,
         "range": [
          2019.5,
          2023.5
         ]
        }
       }
      }
     },
     "metadata": {},
     "output_type": "display_data"
    }
   ],
   "source": [
    "trend_salary = df.loc[\n",
    "    df[\"job_title\"].isin([\"Data Engineer\", \"Data Scientist\", \"Data Analyst\"])\n",
    "]\n",
    "\n",
    "trend_salary = trend_salary.loc[:, [\"work_year\", \"job_title\", \"salary_in_usd\"]]\n",
    "\n",
    "# agrupar por percentil e calcular a média do salário\n",
    "grouped = trend_salary.groupby([\"work_year\", \"job_title\"]).quantile(0.95)\n",
    "\n",
    "grouped.reset_index(inplace=True)\n",
    "\n",
    "# new figure\n",
    "fig = go.Figure()\n",
    "\n",
    "for job_title in grouped[\"job_title\"].unique():\n",
    "    data = grouped[grouped[\"job_title\"] == job_title]\n",
    "    fig.add_trace(\n",
    "        go.Scatter(\n",
    "            x=data[\"work_year\"], y=data[\"salary_in_usd\"], mode=\"lines\", name=job_title\n",
    "        )\n",
    "    )\n",
    "\n",
    "# Definir os limites e intervalo do eixo x\n",
    "fig.update_layout(xaxis=dict(range=[2019.5, 2023.5], dtick=1), template=None)\n",
    "\n",
    "# Exibir o gráfico\n",
    "fig.show()"
   ]
  },
  {
   "cell_type": "code",
   "execution_count": 51,
   "metadata": {},
   "outputs": [
    {
     "data": {
      "text/html": [
       "<div>\n",
       "<style scoped>\n",
       "    .dataframe tbody tr th:only-of-type {\n",
       "        vertical-align: middle;\n",
       "    }\n",
       "\n",
       "    .dataframe tbody tr th {\n",
       "        vertical-align: top;\n",
       "    }\n",
       "\n",
       "    .dataframe thead th {\n",
       "        text-align: right;\n",
       "    }\n",
       "</style>\n",
       "<table border=\"1\" class=\"dataframe\">\n",
       "  <thead>\n",
       "    <tr style=\"text-align: right;\">\n",
       "      <th></th>\n",
       "      <th>work_year</th>\n",
       "      <th>salary</th>\n",
       "      <th>salary_in_usd</th>\n",
       "      <th>remote_ratio</th>\n",
       "      <th>experience_level_EN</th>\n",
       "      <th>experience_level_EX</th>\n",
       "      <th>experience_level_MI</th>\n",
       "      <th>experience_level_SE</th>\n",
       "      <th>employment_type_CT</th>\n",
       "      <th>employment_type_FL</th>\n",
       "      <th>...</th>\n",
       "      <th>company_location_SI</th>\n",
       "      <th>company_location_SK</th>\n",
       "      <th>company_location_TH</th>\n",
       "      <th>company_location_TR</th>\n",
       "      <th>company_location_UA</th>\n",
       "      <th>company_location_US</th>\n",
       "      <th>company_location_VN</th>\n",
       "      <th>company_size_L</th>\n",
       "      <th>company_size_M</th>\n",
       "      <th>company_size_S</th>\n",
       "    </tr>\n",
       "  </thead>\n",
       "  <tbody>\n",
       "    <tr>\n",
       "      <th>0</th>\n",
       "      <td>2023</td>\n",
       "      <td>100000</td>\n",
       "      <td>100000</td>\n",
       "      <td>100</td>\n",
       "      <td>True</td>\n",
       "      <td>False</td>\n",
       "      <td>False</td>\n",
       "      <td>False</td>\n",
       "      <td>False</td>\n",
       "      <td>False</td>\n",
       "      <td>...</td>\n",
       "      <td>False</td>\n",
       "      <td>False</td>\n",
       "      <td>False</td>\n",
       "      <td>False</td>\n",
       "      <td>False</td>\n",
       "      <td>False</td>\n",
       "      <td>False</td>\n",
       "      <td>True</td>\n",
       "      <td>False</td>\n",
       "      <td>False</td>\n",
       "    </tr>\n",
       "    <tr>\n",
       "      <th>1</th>\n",
       "      <td>2023</td>\n",
       "      <td>30000</td>\n",
       "      <td>30000</td>\n",
       "      <td>100</td>\n",
       "      <td>True</td>\n",
       "      <td>False</td>\n",
       "      <td>False</td>\n",
       "      <td>False</td>\n",
       "      <td>False</td>\n",
       "      <td>False</td>\n",
       "      <td>...</td>\n",
       "      <td>False</td>\n",
       "      <td>False</td>\n",
       "      <td>False</td>\n",
       "      <td>False</td>\n",
       "      <td>False</td>\n",
       "      <td>False</td>\n",
       "      <td>False</td>\n",
       "      <td>True</td>\n",
       "      <td>False</td>\n",
       "      <td>False</td>\n",
       "    </tr>\n",
       "    <tr>\n",
       "      <th>2</th>\n",
       "      <td>2022</td>\n",
       "      <td>1650000</td>\n",
       "      <td>20984</td>\n",
       "      <td>50</td>\n",
       "      <td>False</td>\n",
       "      <td>False</td>\n",
       "      <td>True</td>\n",
       "      <td>False</td>\n",
       "      <td>False</td>\n",
       "      <td>False</td>\n",
       "      <td>...</td>\n",
       "      <td>False</td>\n",
       "      <td>False</td>\n",
       "      <td>False</td>\n",
       "      <td>False</td>\n",
       "      <td>False</td>\n",
       "      <td>False</td>\n",
       "      <td>False</td>\n",
       "      <td>True</td>\n",
       "      <td>False</td>\n",
       "      <td>False</td>\n",
       "    </tr>\n",
       "    <tr>\n",
       "      <th>3</th>\n",
       "      <td>2023</td>\n",
       "      <td>204620</td>\n",
       "      <td>204620</td>\n",
       "      <td>0</td>\n",
       "      <td>True</td>\n",
       "      <td>False</td>\n",
       "      <td>False</td>\n",
       "      <td>False</td>\n",
       "      <td>False</td>\n",
       "      <td>False</td>\n",
       "      <td>...</td>\n",
       "      <td>False</td>\n",
       "      <td>False</td>\n",
       "      <td>False</td>\n",
       "      <td>False</td>\n",
       "      <td>False</td>\n",
       "      <td>True</td>\n",
       "      <td>False</td>\n",
       "      <td>True</td>\n",
       "      <td>False</td>\n",
       "      <td>False</td>\n",
       "    </tr>\n",
       "    <tr>\n",
       "      <th>4</th>\n",
       "      <td>2023</td>\n",
       "      <td>110680</td>\n",
       "      <td>110680</td>\n",
       "      <td>0</td>\n",
       "      <td>True</td>\n",
       "      <td>False</td>\n",
       "      <td>False</td>\n",
       "      <td>False</td>\n",
       "      <td>False</td>\n",
       "      <td>False</td>\n",
       "      <td>...</td>\n",
       "      <td>False</td>\n",
       "      <td>False</td>\n",
       "      <td>False</td>\n",
       "      <td>False</td>\n",
       "      <td>False</td>\n",
       "      <td>True</td>\n",
       "      <td>False</td>\n",
       "      <td>True</td>\n",
       "      <td>False</td>\n",
       "      <td>False</td>\n",
       "    </tr>\n",
       "    <tr>\n",
       "      <th>...</th>\n",
       "      <td>...</td>\n",
       "      <td>...</td>\n",
       "      <td>...</td>\n",
       "      <td>...</td>\n",
       "      <td>...</td>\n",
       "      <td>...</td>\n",
       "      <td>...</td>\n",
       "      <td>...</td>\n",
       "      <td>...</td>\n",
       "      <td>...</td>\n",
       "      <td>...</td>\n",
       "      <td>...</td>\n",
       "      <td>...</td>\n",
       "      <td>...</td>\n",
       "      <td>...</td>\n",
       "      <td>...</td>\n",
       "      <td>...</td>\n",
       "      <td>...</td>\n",
       "      <td>...</td>\n",
       "      <td>...</td>\n",
       "      <td>...</td>\n",
       "    </tr>\n",
       "    <tr>\n",
       "      <th>3711</th>\n",
       "      <td>2020</td>\n",
       "      <td>412000</td>\n",
       "      <td>412000</td>\n",
       "      <td>100</td>\n",
       "      <td>False</td>\n",
       "      <td>False</td>\n",
       "      <td>False</td>\n",
       "      <td>True</td>\n",
       "      <td>False</td>\n",
       "      <td>False</td>\n",
       "      <td>...</td>\n",
       "      <td>False</td>\n",
       "      <td>False</td>\n",
       "      <td>False</td>\n",
       "      <td>False</td>\n",
       "      <td>False</td>\n",
       "      <td>True</td>\n",
       "      <td>False</td>\n",
       "      <td>True</td>\n",
       "      <td>False</td>\n",
       "      <td>False</td>\n",
       "    </tr>\n",
       "    <tr>\n",
       "      <th>3712</th>\n",
       "      <td>2021</td>\n",
       "      <td>151000</td>\n",
       "      <td>151000</td>\n",
       "      <td>100</td>\n",
       "      <td>False</td>\n",
       "      <td>False</td>\n",
       "      <td>True</td>\n",
       "      <td>False</td>\n",
       "      <td>False</td>\n",
       "      <td>False</td>\n",
       "      <td>...</td>\n",
       "      <td>False</td>\n",
       "      <td>False</td>\n",
       "      <td>False</td>\n",
       "      <td>False</td>\n",
       "      <td>False</td>\n",
       "      <td>True</td>\n",
       "      <td>False</td>\n",
       "      <td>True</td>\n",
       "      <td>False</td>\n",
       "      <td>False</td>\n",
       "    </tr>\n",
       "    <tr>\n",
       "      <th>3713</th>\n",
       "      <td>2020</td>\n",
       "      <td>105000</td>\n",
       "      <td>105000</td>\n",
       "      <td>100</td>\n",
       "      <td>True</td>\n",
       "      <td>False</td>\n",
       "      <td>False</td>\n",
       "      <td>False</td>\n",
       "      <td>False</td>\n",
       "      <td>False</td>\n",
       "      <td>...</td>\n",
       "      <td>False</td>\n",
       "      <td>False</td>\n",
       "      <td>False</td>\n",
       "      <td>False</td>\n",
       "      <td>False</td>\n",
       "      <td>True</td>\n",
       "      <td>False</td>\n",
       "      <td>False</td>\n",
       "      <td>False</td>\n",
       "      <td>True</td>\n",
       "    </tr>\n",
       "    <tr>\n",
       "      <th>3714</th>\n",
       "      <td>2020</td>\n",
       "      <td>100000</td>\n",
       "      <td>100000</td>\n",
       "      <td>100</td>\n",
       "      <td>True</td>\n",
       "      <td>False</td>\n",
       "      <td>False</td>\n",
       "      <td>False</td>\n",
       "      <td>True</td>\n",
       "      <td>False</td>\n",
       "      <td>...</td>\n",
       "      <td>False</td>\n",
       "      <td>False</td>\n",
       "      <td>False</td>\n",
       "      <td>False</td>\n",
       "      <td>False</td>\n",
       "      <td>True</td>\n",
       "      <td>False</td>\n",
       "      <td>True</td>\n",
       "      <td>False</td>\n",
       "      <td>False</td>\n",
       "    </tr>\n",
       "    <tr>\n",
       "      <th>3715</th>\n",
       "      <td>2021</td>\n",
       "      <td>7000000</td>\n",
       "      <td>94665</td>\n",
       "      <td>50</td>\n",
       "      <td>False</td>\n",
       "      <td>False</td>\n",
       "      <td>False</td>\n",
       "      <td>True</td>\n",
       "      <td>False</td>\n",
       "      <td>False</td>\n",
       "      <td>...</td>\n",
       "      <td>False</td>\n",
       "      <td>False</td>\n",
       "      <td>False</td>\n",
       "      <td>False</td>\n",
       "      <td>False</td>\n",
       "      <td>False</td>\n",
       "      <td>False</td>\n",
       "      <td>True</td>\n",
       "      <td>False</td>\n",
       "      <td>False</td>\n",
       "    </tr>\n",
       "  </tbody>\n",
       "</table>\n",
       "<p>3716 rows × 276 columns</p>\n",
       "</div>"
      ],
      "text/plain": [
       "      work_year   salary  salary_in_usd  remote_ratio  experience_level_EN   \n",
       "0          2023   100000         100000           100                 True  \\\n",
       "1          2023    30000          30000           100                 True   \n",
       "2          2022  1650000          20984            50                False   \n",
       "3          2023   204620         204620             0                 True   \n",
       "4          2023   110680         110680             0                 True   \n",
       "...         ...      ...            ...           ...                  ...   \n",
       "3711       2020   412000         412000           100                False   \n",
       "3712       2021   151000         151000           100                False   \n",
       "3713       2020   105000         105000           100                 True   \n",
       "3714       2020   100000         100000           100                 True   \n",
       "3715       2021  7000000          94665            50                False   \n",
       "\n",
       "      experience_level_EX  experience_level_MI  experience_level_SE   \n",
       "0                   False                False                False  \\\n",
       "1                   False                False                False   \n",
       "2                   False                 True                False   \n",
       "3                   False                False                False   \n",
       "4                   False                False                False   \n",
       "...                   ...                  ...                  ...   \n",
       "3711                False                False                 True   \n",
       "3712                False                 True                False   \n",
       "3713                False                False                False   \n",
       "3714                False                False                False   \n",
       "3715                False                False                 True   \n",
       "\n",
       "      employment_type_CT  employment_type_FL  ...  company_location_SI   \n",
       "0                  False               False  ...                False  \\\n",
       "1                  False               False  ...                False   \n",
       "2                  False               False  ...                False   \n",
       "3                  False               False  ...                False   \n",
       "4                  False               False  ...                False   \n",
       "...                  ...                 ...  ...                  ...   \n",
       "3711               False               False  ...                False   \n",
       "3712               False               False  ...                False   \n",
       "3713               False               False  ...                False   \n",
       "3714                True               False  ...                False   \n",
       "3715               False               False  ...                False   \n",
       "\n",
       "      company_location_SK  company_location_TH  company_location_TR   \n",
       "0                   False                False                False  \\\n",
       "1                   False                False                False   \n",
       "2                   False                False                False   \n",
       "3                   False                False                False   \n",
       "4                   False                False                False   \n",
       "...                   ...                  ...                  ...   \n",
       "3711                False                False                False   \n",
       "3712                False                False                False   \n",
       "3713                False                False                False   \n",
       "3714                False                False                False   \n",
       "3715                False                False                False   \n",
       "\n",
       "      company_location_UA  company_location_US  company_location_VN   \n",
       "0                   False                False                False  \\\n",
       "1                   False                False                False   \n",
       "2                   False                False                False   \n",
       "3                   False                 True                False   \n",
       "4                   False                 True                False   \n",
       "...                   ...                  ...                  ...   \n",
       "3711                False                 True                False   \n",
       "3712                False                 True                False   \n",
       "3713                False                 True                False   \n",
       "3714                False                 True                False   \n",
       "3715                False                False                False   \n",
       "\n",
       "      company_size_L  company_size_M  company_size_S  \n",
       "0               True           False           False  \n",
       "1               True           False           False  \n",
       "2               True           False           False  \n",
       "3               True           False           False  \n",
       "4               True           False           False  \n",
       "...              ...             ...             ...  \n",
       "3711            True           False           False  \n",
       "3712            True           False           False  \n",
       "3713           False           False            True  \n",
       "3714            True           False           False  \n",
       "3715            True           False           False  \n",
       "\n",
       "[3716 rows x 276 columns]"
      ]
     },
     "execution_count": 51,
     "metadata": {},
     "output_type": "execute_result"
    }
   ],
   "source": [
    "pd.get_dummies(df)"
   ]
  },
  {
   "attachments": {},
   "cell_type": "markdown",
   "metadata": {},
   "source": [
    "# Multivariate analysis\n",
    "Multivariate analysis is used to understand how various independent variables are related to the dependent variable, allowing us to predict or explain the value of the dependent variable based on the independent variables. The choice of the response variable depends on the analysis objectives and the nature of the data. Generally, the response variable is the variable of greatest interest and the one we want to explain or predict.\n",
    "\n",
    "In our case, the dependent variable will be the professional's salary in dollars in the data career. Do our independent attributes explain these records? Let's find out."
   ]
  },
  {
   "attachments": {},
   "cell_type": "markdown",
   "metadata": {},
   "source": [
    "## Correlation analysis"
   ]
  },
  {
   "cell_type": "code",
   "execution_count": 52,
   "metadata": {},
   "outputs": [
    {
     "data": {
      "text/plain": [
       "salary_currency      -0.481475\n",
       "company_location     -0.368022\n",
       "employee_residence   -0.361293\n",
       "job_title            -0.156190\n",
       "employment_type      -0.116628\n",
       "remote_ratio         -0.060190\n",
       "company_size          0.018920\n",
       "work_year             0.211624\n",
       "experience_level      0.459580\n",
       "salary                0.882722\n",
       "salary_in_usd         1.000000\n",
       "Name: salary_in_usd, dtype: float64"
      ]
     },
     "execution_count": 52,
     "metadata": {},
     "output_type": "execute_result"
    }
   ],
   "source": [
    "df_copy = df.copy()\n",
    "\n",
    "# Selecionar as colunas categóricas\n",
    "colunas_categoricas = df_copy.select_dtypes(include=[\"object\"]).columns\n",
    "\n",
    "# Aplicar factorize em cada coluna categórica\n",
    "for coluna in colunas_categoricas:\n",
    "    df_copy[coluna], _ = pd.factorize(df_copy[coluna])\n",
    "\n",
    "# Calcule a matriz de correlação entre todos os atributos numéricos e \"salario\"\n",
    "corr_matrix = df_copy.corr(method=\"spearman\")[\"salary_in_usd\"].sort_values(\n",
    "    ascending=True\n",
    ")\n",
    "corr_matrix"
   ]
  },
  {
   "cell_type": "code",
   "execution_count": 53,
   "metadata": {},
   "outputs": [
    {
     "data": {
      "application/vnd.plotly.v1+json": {
       "config": {
        "plotlyServerURL": "https://plot.ly"
       },
       "data": [
        {
         "marker": {
          "cmax": 1,
          "cmin": -1,
          "color": [
           -0.48147461174686484,
           -0.3680216469432287,
           -0.3612925342848386,
           -0.1561895428144953,
           -0.11662776413787868,
           -0.060189974940176444,
           0.018919542988243377,
           0.211623613523155,
           0.45958024431306455,
           0.8827221676935333,
           1
          ],
          "colorbar": {
           "title": {
            "text": "Correlation"
           }
          },
          "colorscale": [
           [
            0,
            "rgb(255,255,255)"
           ],
           [
            0.125,
            "rgb(240,240,240)"
           ],
           [
            0.25,
            "rgb(217,217,217)"
           ],
           [
            0.375,
            "rgb(189,189,189)"
           ],
           [
            0.5,
            "rgb(150,150,150)"
           ],
           [
            0.625,
            "rgb(115,115,115)"
           ],
           [
            0.75,
            "rgb(82,82,82)"
           ],
           [
            0.875,
            "rgb(37,37,37)"
           ],
           [
            1,
            "rgb(0,0,0)"
           ]
          ]
         },
         "orientation": "h",
         "type": "bar",
         "x": [
          -0.48147461174686484,
          -0.3680216469432287,
          -0.3612925342848386,
          -0.1561895428144953,
          -0.11662776413787868,
          -0.060189974940176444,
          0.018919542988243377,
          0.211623613523155,
          0.45958024431306455,
          0.8827221676935333,
          1
         ],
         "y": [
          "salary_currency",
          "company_location",
          "employee_residence",
          "job_title",
          "employment_type",
          "remote_ratio",
          "company_size",
          "work_year",
          "experience_level",
          "salary",
          "salary_in_usd"
         ]
        }
       ],
       "layout": {
        "margin": {
         "l": 130
        },
        "template": {},
        "title": {
         "text": "Correlation of Salary (USD) with other features"
        },
        "xaxis": {
         "title": {
          "text": "Correlation"
         }
        }
       }
      }
     },
     "metadata": {},
     "output_type": "display_data"
    }
   ],
   "source": [
    "# Create bar plot\n",
    "fig = go.Figure(\n",
    "    go.Bar(\n",
    "        x=corr_matrix.values,\n",
    "        y=corr_matrix.index,\n",
    "        orientation=\"h\",\n",
    "        marker=dict(\n",
    "            color=corr_matrix.values,\n",
    "            colorscale=\"Greys\",\n",
    "            colorbar=dict(title=\"Correlation\"),\n",
    "            cmin=-1,\n",
    "            cmax=1,\n",
    "        ),\n",
    "    )\n",
    ")\n",
    "\n",
    "# Configure layout\n",
    "fig.update_layout(\n",
    "    title=\"Correlation of Salary (USD) with other features\",\n",
    "    xaxis_title=\"Correlation\",\n",
    "    # yaxis_title=\"Features\",\n",
    "    template=None,\n",
    "    margin=dict(l=130),\n",
    ")\n",
    "# Show figure\n",
    "fig.show()"
   ]
  },
  {
   "attachments": {},
   "cell_type": "markdown",
   "metadata": {},
   "source": [
    "There is a weak positive correlation between the variables \"work_year\", \"experience_level\", and \"company_size\". It is interesting to note that regardless of the professional's level of experience and the size of the company, they justify the salary paid (+), but not highly correlated, which may seem illogical (causality). One hypothesis that can be attributed to the result is the demand for these professionals in the job market.\n",
    "\n",
    "On the negative side, the variables \"company_location\" and \"employee_residence\" stand out with a negative correlation. Interpreting it, one can say that the location of the professional and the company does not matter that much. This is justified by the high distribution between remote and on-site jobs (50/50)."
   ]
  },
  {
   "attachments": {},
   "cell_type": "markdown",
   "metadata": {},
   "source": [
    "## Regression Analysis"
   ]
  },
  {
   "cell_type": "code",
   "execution_count": 54,
   "metadata": {},
   "outputs": [
    {
     "data": {
      "text/html": [
       "<table class=\"simpletable\">\n",
       "<caption>OLS Regression Results</caption>\n",
       "<tr>\n",
       "  <th>Dep. Variable:</th>      <td>salary_in_usd</td>  <th>  R-squared:         </th> <td>   0.291</td> \n",
       "</tr>\n",
       "<tr>\n",
       "  <th>Model:</th>                   <td>OLS</td>       <th>  Adj. R-squared:    </th> <td>   0.289</td> \n",
       "</tr>\n",
       "<tr>\n",
       "  <th>Method:</th>             <td>Least Squares</td>  <th>  F-statistic:       </th> <td>   152.0</td> \n",
       "</tr>\n",
       "<tr>\n",
       "  <th>Date:</th>             <td>Wed, 12 Apr 2023</td> <th>  Prob (F-statistic):</th> <td>9.84e-268</td>\n",
       "</tr>\n",
       "<tr>\n",
       "  <th>Time:</th>                 <td>14:16:39</td>     <th>  Log-Likelihood:    </th> <td> -45700.</td> \n",
       "</tr>\n",
       "<tr>\n",
       "  <th>No. Observations:</th>      <td>  3716</td>      <th>  AIC:               </th> <td>9.142e+04</td>\n",
       "</tr>\n",
       "<tr>\n",
       "  <th>Df Residuals:</th>          <td>  3705</td>      <th>  BIC:               </th> <td>9.149e+04</td>\n",
       "</tr>\n",
       "<tr>\n",
       "  <th>Df Model:</th>              <td>    10</td>      <th>                     </th>     <td> </td>    \n",
       "</tr>\n",
       "<tr>\n",
       "  <th>Covariance Type:</th>      <td>nonrobust</td>    <th>                     </th>     <td> </td>    \n",
       "</tr>\n",
       "</table>\n",
       "<table class=\"simpletable\">\n",
       "<tr>\n",
       "           <td></td>             <th>coef</th>     <th>std err</th>      <th>t</th>      <th>P>|t|</th>  <th>[0.025</th>    <th>0.975]</th>  \n",
       "</tr>\n",
       "<tr>\n",
       "  <th>const</th>              <td>-1.533e+07</td> <td> 2.81e+06</td> <td>   -5.445</td> <td> 0.000</td> <td>-2.08e+07</td> <td>-9.81e+06</td>\n",
       "</tr>\n",
       "<tr>\n",
       "  <th>work_year</th>          <td> 7628.6638</td> <td> 1391.964</td> <td>    5.481</td> <td> 0.000</td> <td> 4899.574</td> <td> 1.04e+04</td>\n",
       "</tr>\n",
       "<tr>\n",
       "  <th>experience_level</th>   <td> 3.234e+04</td> <td> 1358.553</td> <td>   23.805</td> <td> 0.000</td> <td> 2.97e+04</td> <td>  3.5e+04</td>\n",
       "</tr>\n",
       "<tr>\n",
       "  <th>employment_type</th>    <td>  423.4098</td> <td> 4508.270</td> <td>    0.094</td> <td> 0.925</td> <td>-8415.524</td> <td> 9262.344</td>\n",
       "</tr>\n",
       "<tr>\n",
       "  <th>job_title</th>          <td>  -72.6713</td> <td>   62.102</td> <td>   -1.170</td> <td> 0.242</td> <td> -194.429</td> <td>   49.086</td>\n",
       "</tr>\n",
       "<tr>\n",
       "  <th>salary</th>             <td>    0.0057</td> <td>    0.001</td> <td>    4.241</td> <td> 0.000</td> <td>    0.003</td> <td>    0.008</td>\n",
       "</tr>\n",
       "<tr>\n",
       "  <th>salary_currency</th>    <td>-7643.6169</td> <td>  562.323</td> <td>  -13.593</td> <td> 0.000</td> <td>-8746.110</td> <td>-6541.124</td>\n",
       "</tr>\n",
       "<tr>\n",
       "  <th>employee_residence</th> <td> -331.8822</td> <td>  163.547</td> <td>   -2.029</td> <td> 0.043</td> <td> -652.533</td> <td>  -11.231</td>\n",
       "</tr>\n",
       "<tr>\n",
       "  <th>remote_ratio</th>       <td>  -13.0176</td> <td>   18.512</td> <td>   -0.703</td> <td> 0.482</td> <td>  -49.312</td> <td>   23.277</td>\n",
       "</tr>\n",
       "<tr>\n",
       "  <th>company_location</th>   <td> -504.5905</td> <td>  180.018</td> <td>   -2.803</td> <td> 0.005</td> <td> -857.535</td> <td> -151.646</td>\n",
       "</tr>\n",
       "<tr>\n",
       "  <th>company_size</th>       <td>-6735.6517</td> <td> 2285.065</td> <td>   -2.948</td> <td> 0.003</td> <td>-1.12e+04</td> <td>-2255.543</td>\n",
       "</tr>\n",
       "</table>\n",
       "<table class=\"simpletable\">\n",
       "<tr>\n",
       "  <th>Omnibus:</th>       <td>580.874</td> <th>  Durbin-Watson:     </th> <td>   1.930</td> \n",
       "</tr>\n",
       "<tr>\n",
       "  <th>Prob(Omnibus):</th> <td> 0.000</td>  <th>  Jarque-Bera (JB):  </th> <td>1411.855</td> \n",
       "</tr>\n",
       "<tr>\n",
       "  <th>Skew:</th>          <td> 0.879</td>  <th>  Prob(JB):          </th> <td>2.63e-307</td>\n",
       "</tr>\n",
       "<tr>\n",
       "  <th>Kurtosis:</th>      <td> 5.455</td>  <th>  Cond. No.          </th> <td>2.27e+09</td> \n",
       "</tr>\n",
       "</table><br/><br/>Notes:<br/>[1] Standard Errors assume that the covariance matrix of the errors is correctly specified.<br/>[2] The condition number is large, 2.27e+09. This might indicate that there are<br/>strong multicollinearity or other numerical problems."
      ],
      "text/plain": [
       "<class 'statsmodels.iolib.summary.Summary'>\n",
       "\"\"\"\n",
       "                            OLS Regression Results                            \n",
       "==============================================================================\n",
       "Dep. Variable:          salary_in_usd   R-squared:                       0.291\n",
       "Model:                            OLS   Adj. R-squared:                  0.289\n",
       "Method:                 Least Squares   F-statistic:                     152.0\n",
       "Date:                Wed, 12 Apr 2023   Prob (F-statistic):          9.84e-268\n",
       "Time:                        14:16:39   Log-Likelihood:                -45700.\n",
       "No. Observations:                3716   AIC:                         9.142e+04\n",
       "Df Residuals:                    3705   BIC:                         9.149e+04\n",
       "Df Model:                          10                                         \n",
       "Covariance Type:            nonrobust                                         \n",
       "======================================================================================\n",
       "                         coef    std err          t      P>|t|      [0.025      0.975]\n",
       "--------------------------------------------------------------------------------------\n",
       "const              -1.533e+07   2.81e+06     -5.445      0.000   -2.08e+07   -9.81e+06\n",
       "work_year           7628.6638   1391.964      5.481      0.000    4899.574    1.04e+04\n",
       "experience_level    3.234e+04   1358.553     23.805      0.000    2.97e+04     3.5e+04\n",
       "employment_type      423.4098   4508.270      0.094      0.925   -8415.524    9262.344\n",
       "job_title            -72.6713     62.102     -1.170      0.242    -194.429      49.086\n",
       "salary                 0.0057      0.001      4.241      0.000       0.003       0.008\n",
       "salary_currency    -7643.6169    562.323    -13.593      0.000   -8746.110   -6541.124\n",
       "employee_residence  -331.8822    163.547     -2.029      0.043    -652.533     -11.231\n",
       "remote_ratio         -13.0176     18.512     -0.703      0.482     -49.312      23.277\n",
       "company_location    -504.5905    180.018     -2.803      0.005    -857.535    -151.646\n",
       "company_size       -6735.6517   2285.065     -2.948      0.003   -1.12e+04   -2255.543\n",
       "==============================================================================\n",
       "Omnibus:                      580.874   Durbin-Watson:                   1.930\n",
       "Prob(Omnibus):                  0.000   Jarque-Bera (JB):             1411.855\n",
       "Skew:                           0.879   Prob(JB):                    2.63e-307\n",
       "Kurtosis:                       5.455   Cond. No.                     2.27e+09\n",
       "==============================================================================\n",
       "\n",
       "Notes:\n",
       "[1] Standard Errors assume that the covariance matrix of the errors is correctly specified.\n",
       "[2] The condition number is large, 2.27e+09. This might indicate that there are\n",
       "strong multicollinearity or other numerical problems.\n",
       "\"\"\""
      ]
     },
     "execution_count": 54,
     "metadata": {},
     "output_type": "execute_result"
    }
   ],
   "source": [
    "import pandas as pd\n",
    "\n",
    "\n",
    "data = df.copy()\n",
    "\n",
    "# Selecionar as colunas categóricas\n",
    "colunas_categoricas = data.select_dtypes(include=[\"object\"]).columns\n",
    "\n",
    "# Aplicar factorize em cada coluna categórica\n",
    "for coluna in colunas_categoricas:\n",
    "    data[coluna], _ = pd.factorize(data[coluna])\n",
    "\n",
    "\n",
    "# Define a variável dependente e as independentes\n",
    "y = data[\"salary_in_usd\"]\n",
    "X = data.drop(\"salary_in_usd\", axis=1)\n",
    "\n",
    "# Adiciona a constante\n",
    "X = sm.add_constant(X)\n",
    "\n",
    "# Ajusta o modelo de regressão\n",
    "model = sm.OLS(y, X).fit()\n",
    "\n",
    "# Imprime os resultados\n",
    "model.summary()"
   ]
  },
  {
   "attachments": {},
   "cell_type": "markdown",
   "metadata": {},
   "source": [
    " - R-squared: The coefficient of determination is a measure of how well the regression model fits the data. In this case, the R-squared value of 0.185 indicates that 18.5% of the variation in the dependent variable (salary_in_usd) is explained by the independent variables.\n",
    "\n",
    " - Adjusted R-squared: This is the same as R-squared, but adjusted for the number of independent variables in the model. The adjusted R-squared value of 0.182 indicates that the model still explains 18.2% of the variation in the dependent variable, even after accounting for the number of independent variables.\n",
    "\n",
    " - F-statistic: This is a measure of how well the overall model fits the data. In this case, the F-statistic of 82.98 indicates that the model is a good fit for the data, with a very low probability (2.09e-154) of getting such a result by chance.\n",
    "\n",
    " - P-values: These indicate the statistical significance of the coefficients for each independent variable. In this case, all variables except job_title, remote_ratio, and company_size have p-values less than 0.05, indicating that they are statistically significant and have a meaningful impact on the dependent variable.\n",
    "\n",
    " - Coefficients: These represent the estimated change in the dependent variable for a one-unit change in the independent variable, holding all other independent variables constant. For example, the coefficient for work_year is 1.097e+04, which means that for every additional year, the predicted salary_in_usd increases by approximately $10,970, holding all other variables constant.\n",
    "\n",
    " - Standard errors: These indicate the precision of the coefficient estimates. In general, smaller standard errors indicate more precise estimates.\n",
    "\n",
    " - Omnibus test: This is a test of whether the residuals (the difference between the predicted and actual values of the dependent variable) are normally distributed. In this case, the probability value is very low (p < 0.001), indicating that the residuals are not normally distributed.\n",
    "\n",
    " - Durbin-Watson test: This is a test for autocorrelation in the residuals. In this case, the value of 1.839 indicates that there is a moderate positive autocorrelation.\n",
    "\n",
    " - Jarque-Bera test: This is a test of whether the residuals are normally distributed, based on measures of skewness and kurtosis. In this case, the probability value is very low (p < 0.001), indicating that the residuals are not normally distributed.\n",
    "\n",
    " - Condition number: This is a measure of the amount of multicollinearity (correlation between independent variables) in the model. In this case, the large value of 2.26e+09 indicates that there may be strong multicollinearity between some of the independent variables."
   ]
  },
  {
   "attachments": {},
   "cell_type": "markdown",
   "metadata": {},
   "source": [
    "# Feature Engineering"
   ]
  },
  {
   "attachments": {},
   "cell_type": "markdown",
   "metadata": {},
   "source": [
    "O objetivo desse capitulo é demonstrar alguma tecnica de engenharia de variaveis para aplicar ao modelo dos dados. Nesse caso irei realizei um modelo de NLP que consegue classificar com certo grau de precisao as profissoes reportadas e classificar em categorias, assim termos uma nova variavel de entrada por exemplo"
   ]
  },
  {
   "attachments": {},
   "cell_type": "markdown",
   "metadata": {},
   "source": [
    "## NLP data job classification\n",
    "O objetivo é classificar a descricao do trabalho registrado em 4 grandes areas: Cientista de Dados, Engenhenheiros de Dados, Analista de Dados e Engenheiro de Inteligencia Artifical"
   ]
  },
  {
   "cell_type": "code",
   "execution_count": 55,
   "metadata": {},
   "outputs": [],
   "source": [
    "def text_to_lower(text: str) -> str:\n",
    "    text = text.lower()\n",
    "    text = re.sub(r\"[^\\w\\s]\", \"\", text)\n",
    "    return text"
   ]
  },
  {
   "cell_type": "code",
   "execution_count": 56,
   "metadata": {},
   "outputs": [
    {
     "data": {
      "text/plain": [
       "array(['3d', 'ai', 'analyst', 'analytics', 'applied', 'architect',\n",
       "       'autonomous', 'azure', 'bi', 'big', 'business', 'cloud',\n",
       "       'compliance', 'computer', 'consultant', 'data', 'database', 'deep',\n",
       "       'developer', 'devops', 'director', 'engineer', 'etl', 'finance',\n",
       "       'financial', 'head', 'infrastructure', 'insight', 'intelligence',\n",
       "       'lead', 'learning', 'machine', 'management', 'manager',\n",
       "       'marketing', 'ml', 'mlops', 'nlp', 'operations', 'power',\n",
       "       'principal', 'product', 'programmer', 'quality', 'research',\n",
       "       'researcher', 'science', 'scientist', 'software', 'specialist',\n",
       "       'staff', 'tech', 'technician', 'vehicle', 'vision'], dtype=object)"
      ]
     },
     "execution_count": 56,
     "metadata": {},
     "output_type": "execute_result"
    }
   ],
   "source": [
    "jobs = df[\"job_title\"].values\n",
    "jobs = [text_to_lower(job) for job in jobs]\n",
    "\n",
    "# Vetoriza os títulos utilizando o TfidfVectorizer\n",
    "vectorizer = TfidfVectorizer(stop_words=\"english\")\n",
    "X = vectorizer.fit_transform(jobs)\n",
    "vectorizer.get_feature_names_out()"
   ]
  },
  {
   "cell_type": "code",
   "execution_count": 57,
   "metadata": {},
   "outputs": [
    {
     "data": {
      "text/html": [
       "<div>\n",
       "<style scoped>\n",
       "    .dataframe tbody tr th:only-of-type {\n",
       "        vertical-align: middle;\n",
       "    }\n",
       "\n",
       "    .dataframe tbody tr th {\n",
       "        vertical-align: top;\n",
       "    }\n",
       "\n",
       "    .dataframe thead th {\n",
       "        text-align: right;\n",
       "    }\n",
       "</style>\n",
       "<table border=\"1\" class=\"dataframe\">\n",
       "  <thead>\n",
       "    <tr style=\"text-align: right;\">\n",
       "      <th></th>\n",
       "      <th>job_title</th>\n",
       "      <th>job_role</th>\n",
       "    </tr>\n",
       "  </thead>\n",
       "  <tbody>\n",
       "    <tr>\n",
       "      <th>0</th>\n",
       "      <td>data quality analyst</td>\n",
       "      <td>data engineer</td>\n",
       "    </tr>\n",
       "    <tr>\n",
       "      <th>1</th>\n",
       "      <td>compliance data analyst</td>\n",
       "      <td>data engineer</td>\n",
       "    </tr>\n",
       "    <tr>\n",
       "      <th>2</th>\n",
       "      <td>machine learning engineer</td>\n",
       "      <td>data analyst</td>\n",
       "    </tr>\n",
       "    <tr>\n",
       "      <th>3</th>\n",
       "      <td>applied scientist</td>\n",
       "      <td>data scientist</td>\n",
       "    </tr>\n",
       "    <tr>\n",
       "      <th>4</th>\n",
       "      <td>applied scientist</td>\n",
       "      <td>data scientist</td>\n",
       "    </tr>\n",
       "    <tr>\n",
       "      <th>...</th>\n",
       "      <td>...</td>\n",
       "      <td>...</td>\n",
       "    </tr>\n",
       "    <tr>\n",
       "      <th>3711</th>\n",
       "      <td>data scientist</td>\n",
       "      <td>data scientist</td>\n",
       "    </tr>\n",
       "    <tr>\n",
       "      <th>3712</th>\n",
       "      <td>principal data scientist</td>\n",
       "      <td>data scientist</td>\n",
       "    </tr>\n",
       "    <tr>\n",
       "      <th>3713</th>\n",
       "      <td>data scientist</td>\n",
       "      <td>data scientist</td>\n",
       "    </tr>\n",
       "    <tr>\n",
       "      <th>3714</th>\n",
       "      <td>business data analyst</td>\n",
       "      <td>data engineer</td>\n",
       "    </tr>\n",
       "    <tr>\n",
       "      <th>3715</th>\n",
       "      <td>data science manager</td>\n",
       "      <td>machine learning engineer</td>\n",
       "    </tr>\n",
       "  </tbody>\n",
       "</table>\n",
       "<p>3716 rows × 2 columns</p>\n",
       "</div>"
      ],
      "text/plain": [
       "                      job_title                   job_role\n",
       "0          data quality analyst              data engineer\n",
       "1       compliance data analyst              data engineer\n",
       "2     machine learning engineer               data analyst\n",
       "3             applied scientist             data scientist\n",
       "4             applied scientist             data scientist\n",
       "...                         ...                        ...\n",
       "3711             data scientist             data scientist\n",
       "3712   principal data scientist             data scientist\n",
       "3713             data scientist             data scientist\n",
       "3714      business data analyst              data engineer\n",
       "3715       data science manager  machine learning engineer\n",
       "\n",
       "[3716 rows x 2 columns]"
      ]
     },
     "execution_count": 57,
     "metadata": {},
     "output_type": "execute_result"
    }
   ],
   "source": [
    "# Define o dicionário de mapeamento de valores numéricos para nomes de rótulos\n",
    "job_roles = {\n",
    "    0: \"data scientist\",\n",
    "    1: \"data analyst\",\n",
    "    2: \"machine learning engineer\",\n",
    "    3: \"data engineer\",\n",
    "}\n",
    "\n",
    "# Executa o k-means com k=4\n",
    "kmeans = KMeans(n_clusters=len(job_roles), random_state=0, n_init=10).fit(X)\n",
    "\n",
    "# Cria um DataFrame com os títulos e os grupos atribuídos pelo KMeans\n",
    "job_title_classificator_df = pd.DataFrame(\n",
    "    {\"job_title\": jobs, \"job_role\": kmeans.labels_}\n",
    ")\n",
    "\n",
    "\n",
    "# Substitui os valores numéricos pelos nomes de rótulos no DataFrame\n",
    "job_title_classificator_df = job_title_classificator_df.replace({\"job_role\": job_roles})\n",
    "\n",
    "# Imprime o DataFrame com os títulos, grupos e rótulos\n",
    "job_title_classificator_df"
   ]
  },
  {
   "cell_type": "code",
   "execution_count": 58,
   "metadata": {},
   "outputs": [
    {
     "name": "stdout",
     "output_type": "stream",
     "text": [
      "data scientist\n",
      "['applied scientist' 'data scientist' 'research scientist'\n",
      " 'applied data scientist' 'ai scientist' 'lead data scientist'\n",
      " 'data scientist lead' 'product data scientist' 'principal data scientist'\n",
      " 'staff data scientist']\n",
      "\n",
      "\n",
      "data analyst\n",
      "['machine learning engineer' 'applied machine learning engineer'\n",
      " 'machine learning researcher' 'machine learning scientist'\n",
      " 'applied machine learning scientist' 'deep learning researcher'\n",
      " 'machine learning infrastructure engineer' 'deep learning engineer'\n",
      " 'machine learning software engineer' 'machine learning research engineer'\n",
      " 'machine learning developer' 'principal machine learning engineer'\n",
      " 'machine learning manager' 'lead machine learning engineer'\n",
      " 'head of machine learning']\n",
      "\n",
      "\n",
      "machine learning engineer\n",
      "['data engineer' 'research engineer' 'computer vision engineer'\n",
      " 'data architect' 'ai developer' 'business intelligence engineer'\n",
      " 'analytics engineer' 'data analytics manager' 'etl engineer'\n",
      " 'data devops engineer' 'head of data' 'data science manager'\n",
      " 'data manager' 'big data engineer' 'data specialist' 'bi data engineer'\n",
      " 'director of data science' 'mlops engineer'\n",
      " 'autonomous vehicle technician' 'cloud database engineer'\n",
      " 'data infrastructure engineer' 'ml engineer' 'software data engineer'\n",
      " 'ai programmer' 'data operations engineer' 'bi developer'\n",
      " 'data science lead' 'data science consultant' 'data analytics specialist'\n",
      " 'head of data science' 'big data architect'\n",
      " 'computer vision software engineer' 'azure data engineer'\n",
      " 'marketing data engineer' 'data analytics lead' 'data lead'\n",
      " 'data science engineer' 'nlp engineer' 'manager data management'\n",
      " '3d computer vision researcher' 'data analytics engineer'\n",
      " 'data analytics consultant' 'data management specialist'\n",
      " 'data science tech lead' 'cloud data engineer' 'power bi developer'\n",
      " 'principal data architect' 'etl developer' 'cloud data architect'\n",
      " 'lead data engineer' 'principal data engineer']\n",
      "\n",
      "\n",
      "data engineer\n",
      "['data quality analyst' 'compliance data analyst' 'data analyst'\n",
      " 'business data analyst' 'staff data analyst' 'lead data analyst'\n",
      " 'financial data analyst' 'bi analyst' 'bi data analyst' 'insight analyst'\n",
      " 'product data analyst' 'data operations analyst' 'marketing data analyst'\n",
      " 'principal data analyst' 'finance data analyst']\n",
      "\n",
      "\n"
     ]
    }
   ],
   "source": [
    "for job_role in list(job_roles.values()):\n",
    "    print(job_role)\n",
    "    print(\n",
    "        job_title_classificator_df.loc[\n",
    "            job_title_classificator_df[\"job_role\"] == job_role\n",
    "        ][\"job_title\"].unique()\n",
    "    )\n",
    "    print(\"\\n\")"
   ]
  },
  {
   "cell_type": "code",
   "execution_count": 59,
   "metadata": {},
   "outputs": [
    {
     "data": {
      "text/plain": [
       "array([[ 0.09621789,  0.3808771 ],\n",
       "       [ 0.0906006 ,  0.3398964 ],\n",
       "       [-0.29810578, -0.00925404],\n",
       "       ...,\n",
       "       [ 0.63058696, -0.36947838],\n",
       "       [ 0.10068258,  0.41370375],\n",
       "       [ 0.06072973,  0.11672312]])"
      ]
     },
     "execution_count": 59,
     "metadata": {},
     "output_type": "execute_result"
    }
   ],
   "source": [
    "# Reduce the dimensionality of the data to 2 principal components using PCA\n",
    "pca = PCA(n_components=2)\n",
    "X_pca = pca.fit_transform(X.toarray())\n",
    "\n",
    "X_pca"
   ]
  },
  {
   "cell_type": "code",
   "execution_count": 60,
   "metadata": {},
   "outputs": [
    {
     "data": {
      "text/html": [
       "<div>\n",
       "<style scoped>\n",
       "    .dataframe tbody tr th:only-of-type {\n",
       "        vertical-align: middle;\n",
       "    }\n",
       "\n",
       "    .dataframe tbody tr th {\n",
       "        vertical-align: top;\n",
       "    }\n",
       "\n",
       "    .dataframe thead th {\n",
       "        text-align: right;\n",
       "    }\n",
       "</style>\n",
       "<table border=\"1\" class=\"dataframe\">\n",
       "  <thead>\n",
       "    <tr style=\"text-align: right;\">\n",
       "      <th></th>\n",
       "      <th>job_title</th>\n",
       "      <th>job_role</th>\n",
       "      <th>pc1</th>\n",
       "      <th>pc2</th>\n",
       "    </tr>\n",
       "  </thead>\n",
       "  <tbody>\n",
       "    <tr>\n",
       "      <th>0</th>\n",
       "      <td>data quality analyst</td>\n",
       "      <td>data engineer</td>\n",
       "      <td>0.096218</td>\n",
       "      <td>0.380877</td>\n",
       "    </tr>\n",
       "    <tr>\n",
       "      <th>1</th>\n",
       "      <td>compliance data analyst</td>\n",
       "      <td>data engineer</td>\n",
       "      <td>0.090601</td>\n",
       "      <td>0.339896</td>\n",
       "    </tr>\n",
       "    <tr>\n",
       "      <th>2</th>\n",
       "      <td>machine learning engineer</td>\n",
       "      <td>data analyst</td>\n",
       "      <td>-0.298106</td>\n",
       "      <td>-0.009254</td>\n",
       "    </tr>\n",
       "    <tr>\n",
       "      <th>3</th>\n",
       "      <td>applied scientist</td>\n",
       "      <td>data scientist</td>\n",
       "      <td>0.373257</td>\n",
       "      <td>-0.104208</td>\n",
       "    </tr>\n",
       "    <tr>\n",
       "      <th>4</th>\n",
       "      <td>applied scientist</td>\n",
       "      <td>data scientist</td>\n",
       "      <td>0.373257</td>\n",
       "      <td>-0.104208</td>\n",
       "    </tr>\n",
       "    <tr>\n",
       "      <th>...</th>\n",
       "      <td>...</td>\n",
       "      <td>...</td>\n",
       "      <td>...</td>\n",
       "      <td>...</td>\n",
       "    </tr>\n",
       "    <tr>\n",
       "      <th>3711</th>\n",
       "      <td>data scientist</td>\n",
       "      <td>data scientist</td>\n",
       "      <td>0.630587</td>\n",
       "      <td>-0.369478</td>\n",
       "    </tr>\n",
       "    <tr>\n",
       "      <th>3712</th>\n",
       "      <td>principal data scientist</td>\n",
       "      <td>data scientist</td>\n",
       "      <td>0.270867</td>\n",
       "      <td>-0.060649</td>\n",
       "    </tr>\n",
       "    <tr>\n",
       "      <th>3713</th>\n",
       "      <td>data scientist</td>\n",
       "      <td>data scientist</td>\n",
       "      <td>0.630587</td>\n",
       "      <td>-0.369478</td>\n",
       "    </tr>\n",
       "    <tr>\n",
       "      <th>3714</th>\n",
       "      <td>business data analyst</td>\n",
       "      <td>data engineer</td>\n",
       "      <td>0.100683</td>\n",
       "      <td>0.413704</td>\n",
       "    </tr>\n",
       "    <tr>\n",
       "      <th>3715</th>\n",
       "      <td>data science manager</td>\n",
       "      <td>machine learning engineer</td>\n",
       "      <td>0.060730</td>\n",
       "      <td>0.116723</td>\n",
       "    </tr>\n",
       "  </tbody>\n",
       "</table>\n",
       "<p>3716 rows × 4 columns</p>\n",
       "</div>"
      ],
      "text/plain": [
       "                      job_title                   job_role       pc1       pc2\n",
       "0          data quality analyst              data engineer  0.096218  0.380877\n",
       "1       compliance data analyst              data engineer  0.090601  0.339896\n",
       "2     machine learning engineer               data analyst -0.298106 -0.009254\n",
       "3             applied scientist             data scientist  0.373257 -0.104208\n",
       "4             applied scientist             data scientist  0.373257 -0.104208\n",
       "...                         ...                        ...       ...       ...\n",
       "3711             data scientist             data scientist  0.630587 -0.369478\n",
       "3712   principal data scientist             data scientist  0.270867 -0.060649\n",
       "3713             data scientist             data scientist  0.630587 -0.369478\n",
       "3714      business data analyst              data engineer  0.100683  0.413704\n",
       "3715       data science manager  machine learning engineer  0.060730  0.116723\n",
       "\n",
       "[3716 rows x 4 columns]"
      ]
     },
     "execution_count": 60,
     "metadata": {},
     "output_type": "execute_result"
    }
   ],
   "source": [
    "# Create a DataFrame with job titles, groups, and principal component coordinates\n",
    "job_title_classificator_df[\"pc1\"] = X_pca[:, 0]\n",
    "job_title_classificator_df[\"pc2\"] = X_pca[:, 1]\n",
    "\n",
    "job_title_classificator_df"
   ]
  },
  {
   "cell_type": "code",
   "execution_count": 61,
   "metadata": {},
   "outputs": [
    {
     "data": {
      "application/vnd.plotly.v1+json": {
       "config": {
        "plotlyServerURL": "https://plot.ly"
       },
       "data": [
        {
         "hoverinfo": "text",
         "marker": {
          "color": "rgb(0, 0, 0)",
          "size": 11
         },
         "mode": "markers",
         "name": "data scientist",
         "text": [
          "applied scientist",
          "applied scientist",
          "data scientist",
          "data scientist",
          "data scientist",
          "data scientist",
          "data scientist",
          "data scientist",
          "data scientist",
          "data scientist",
          "data scientist",
          "data scientist",
          "data scientist",
          "data scientist",
          "applied scientist",
          "applied scientist",
          "data scientist",
          "data scientist",
          "data scientist",
          "data scientist",
          "data scientist",
          "data scientist",
          "data scientist",
          "research scientist",
          "data scientist",
          "data scientist",
          "data scientist",
          "data scientist",
          "data scientist",
          "data scientist",
          "applied data scientist",
          "applied scientist",
          "applied scientist",
          "applied scientist",
          "applied scientist",
          "data scientist",
          "data scientist",
          "data scientist",
          "data scientist",
          "data scientist",
          "data scientist",
          "data scientist",
          "data scientist",
          "applied data scientist",
          "data scientist",
          "data scientist",
          "data scientist",
          "data scientist",
          "data scientist",
          "data scientist",
          "data scientist",
          "data scientist",
          "data scientist",
          "data scientist",
          "data scientist",
          "data scientist",
          "data scientist",
          "applied scientist",
          "applied scientist",
          "applied scientist",
          "applied scientist",
          "research scientist",
          "research scientist",
          "applied scientist",
          "applied scientist",
          "data scientist",
          "data scientist",
          "data scientist",
          "data scientist",
          "data scientist",
          "data scientist",
          "data scientist",
          "data scientist",
          "applied scientist",
          "applied scientist",
          "research scientist",
          "research scientist",
          "data scientist",
          "data scientist",
          "data scientist",
          "data scientist",
          "data scientist",
          "data scientist",
          "data scientist",
          "data scientist",
          "data scientist",
          "data scientist",
          "data scientist",
          "data scientist",
          "data scientist",
          "data scientist",
          "data scientist",
          "applied scientist",
          "applied scientist",
          "data scientist",
          "data scientist",
          "data scientist",
          "data scientist",
          "data scientist",
          "data scientist",
          "research scientist",
          "research scientist",
          "data scientist",
          "data scientist",
          "data scientist",
          "data scientist",
          "data scientist",
          "data scientist",
          "data scientist",
          "data scientist",
          "data scientist",
          "data scientist",
          "data scientist",
          "data scientist",
          "data scientist",
          "data scientist",
          "data scientist",
          "data scientist",
          "data scientist",
          "data scientist",
          "data scientist",
          "data scientist",
          "applied scientist",
          "applied scientist",
          "applied scientist",
          "applied scientist",
          "applied scientist",
          "applied scientist",
          "data scientist",
          "data scientist",
          "data scientist",
          "data scientist",
          "data scientist",
          "data scientist",
          "data scientist",
          "data scientist",
          "research scientist",
          "research scientist",
          "data scientist",
          "data scientist",
          "data scientist",
          "data scientist",
          "data scientist",
          "data scientist",
          "research scientist",
          "research scientist",
          "data scientist",
          "data scientist",
          "research scientist",
          "research scientist",
          "ai scientist",
          "data scientist",
          "data scientist",
          "data scientist",
          "data scientist",
          "data scientist",
          "data scientist",
          "data scientist",
          "data scientist",
          "data scientist",
          "data scientist",
          "data scientist",
          "data scientist",
          "data scientist",
          "data scientist",
          "data scientist",
          "data scientist",
          "data scientist",
          "data scientist",
          "data scientist",
          "data scientist",
          "data scientist",
          "data scientist",
          "lead data scientist",
          "data scientist",
          "data scientist",
          "data scientist",
          "data scientist",
          "data scientist",
          "data scientist",
          "data scientist",
          "data scientist",
          "data scientist",
          "data scientist",
          "data scientist",
          "data scientist",
          "data scientist",
          "data scientist",
          "data scientist",
          "data scientist",
          "data scientist",
          "data scientist",
          "data scientist",
          "data scientist",
          "data scientist",
          "data scientist",
          "data scientist",
          "applied scientist",
          "applied scientist",
          "data scientist",
          "data scientist",
          "data scientist",
          "data scientist",
          "data scientist",
          "data scientist",
          "research scientist",
          "research scientist",
          "data scientist",
          "data scientist",
          "data scientist",
          "research scientist",
          "research scientist",
          "data scientist",
          "data scientist",
          "data scientist",
          "data scientist",
          "data scientist",
          "data scientist",
          "research scientist",
          "research scientist",
          "data scientist",
          "data scientist",
          "data scientist",
          "data scientist",
          "data scientist",
          "data scientist",
          "research scientist",
          "research scientist",
          "data scientist",
          "data scientist",
          "research scientist",
          "research scientist",
          "data scientist",
          "data scientist",
          "data scientist",
          "research scientist",
          "research scientist",
          "data scientist",
          "data scientist",
          "data scientist",
          "data scientist",
          "data scientist",
          "data scientist",
          "data scientist",
          "data scientist",
          "data scientist",
          "data scientist",
          "data scientist",
          "data scientist",
          "data scientist",
          "data scientist",
          "data scientist",
          "data scientist",
          "data scientist",
          "data scientist",
          "research scientist",
          "research scientist",
          "data scientist",
          "data scientist",
          "research scientist",
          "research scientist",
          "data scientist",
          "data scientist",
          "data scientist",
          "data scientist",
          "research scientist",
          "research scientist",
          "data scientist",
          "data scientist",
          "data scientist",
          "data scientist",
          "data scientist",
          "lead data scientist",
          "data scientist",
          "data scientist",
          "data scientist",
          "ai scientist",
          "data scientist",
          "data scientist",
          "data scientist",
          "data scientist",
          "data scientist",
          "data scientist",
          "data scientist",
          "data scientist",
          "ai scientist",
          "data scientist",
          "data scientist",
          "data scientist",
          "data scientist",
          "data scientist",
          "data scientist",
          "data scientist",
          "data scientist",
          "data scientist",
          "data scientist",
          "data scientist",
          "data scientist",
          "data scientist",
          "data scientist",
          "data scientist",
          "research scientist",
          "research scientist",
          "research scientist",
          "research scientist",
          "data scientist",
          "data scientist",
          "data scientist",
          "data scientist",
          "data scientist",
          "data scientist",
          "data scientist",
          "data scientist",
          "data scientist",
          "data scientist",
          "research scientist",
          "research scientist",
          "data scientist",
          "data scientist",
          "data scientist",
          "data scientist",
          "data scientist",
          "research scientist",
          "research scientist",
          "data scientist",
          "data scientist",
          "data scientist",
          "data scientist",
          "data scientist",
          "data scientist",
          "data scientist",
          "data scientist",
          "research scientist",
          "research scientist",
          "data scientist",
          "data scientist",
          "data scientist",
          "data scientist",
          "research scientist",
          "applied scientist",
          "applied scientist",
          "data scientist",
          "data scientist",
          "data scientist",
          "data scientist",
          "data scientist",
          "data scientist",
          "applied scientist",
          "applied scientist",
          "data scientist",
          "data scientist",
          "data scientist",
          "data scientist",
          "data scientist",
          "data scientist",
          "data scientist",
          "data scientist",
          "data scientist",
          "data scientist",
          "data scientist",
          "data scientist",
          "data scientist",
          "data scientist",
          "data scientist",
          "data scientist",
          "data scientist",
          "data scientist",
          "data scientist",
          "data scientist",
          "data scientist",
          "data scientist",
          "data scientist",
          "data scientist",
          "data scientist",
          "data scientist",
          "data scientist",
          "data scientist",
          "data scientist",
          "data scientist",
          "data scientist",
          "applied data scientist",
          "data scientist",
          "data scientist",
          "data scientist",
          "data scientist",
          "research scientist",
          "research scientist",
          "data scientist",
          "data scientist",
          "data scientist",
          "data scientist",
          "data scientist",
          "data scientist",
          "data scientist",
          "data scientist",
          "data scientist",
          "data scientist",
          "data scientist",
          "data scientist",
          "data scientist",
          "data scientist",
          "data scientist",
          "data scientist",
          "data scientist",
          "data scientist",
          "data scientist",
          "data scientist",
          "data scientist",
          "data scientist",
          "data scientist",
          "data scientist",
          "data scientist",
          "data scientist",
          "data scientist",
          "data scientist",
          "data scientist",
          "data scientist",
          "data scientist",
          "data scientist",
          "research scientist",
          "research scientist",
          "data scientist",
          "data scientist",
          "research scientist",
          "research scientist",
          "data scientist",
          "data scientist",
          "data scientist",
          "data scientist",
          "applied scientist",
          "applied scientist",
          "data scientist",
          "data scientist",
          "applied scientist",
          "applied scientist",
          "data scientist",
          "data scientist",
          "research scientist",
          "research scientist",
          "data scientist",
          "data scientist",
          "data scientist",
          "data scientist",
          "data scientist",
          "data scientist",
          "research scientist",
          "research scientist",
          "research scientist",
          "research scientist",
          "data scientist",
          "data scientist",
          "data scientist",
          "data scientist",
          "data scientist",
          "data scientist",
          "data scientist",
          "data scientist",
          "applied scientist",
          "applied scientist",
          "data scientist",
          "data scientist",
          "data scientist",
          "data scientist",
          "data scientist",
          "data scientist",
          "research scientist",
          "research scientist",
          "data scientist",
          "data scientist",
          "data scientist",
          "data scientist",
          "data scientist",
          "data scientist",
          "data scientist",
          "data scientist",
          "data scientist",
          "data scientist",
          "data scientist",
          "data scientist",
          "applied data scientist",
          "data scientist",
          "data scientist",
          "data scientist",
          "data scientist",
          "data scientist",
          "data scientist",
          "lead data scientist",
          "data scientist",
          "data scientist",
          "data scientist",
          "data scientist",
          "data scientist",
          "data scientist",
          "data scientist",
          "data scientist",
          "applied scientist",
          "applied scientist",
          "data scientist",
          "data scientist",
          "data scientist",
          "applied scientist",
          "applied scientist",
          "data scientist",
          "data scientist",
          "ai scientist",
          "data scientist",
          "data scientist",
          "data scientist",
          "data scientist",
          "data scientist",
          "data scientist",
          "research scientist",
          "research scientist",
          "data scientist",
          "data scientist",
          "data scientist",
          "data scientist",
          "research scientist",
          "research scientist",
          "data scientist",
          "data scientist",
          "data scientist",
          "data scientist",
          "data scientist",
          "data scientist",
          "ai scientist",
          "data scientist",
          "data scientist",
          "data scientist",
          "data scientist",
          "data scientist",
          "data scientist",
          "data scientist",
          "data scientist",
          "applied scientist",
          "applied scientist",
          "data scientist",
          "data scientist",
          "data scientist",
          "data scientist",
          "data scientist",
          "data scientist",
          "data scientist",
          "data scientist",
          "data scientist",
          "data scientist",
          "data scientist",
          "data scientist",
          "data scientist",
          "data scientist",
          "data scientist",
          "data scientist",
          "data scientist",
          "data scientist",
          "data scientist",
          "data scientist",
          "data scientist",
          "data scientist",
          "data scientist",
          "data scientist",
          "data scientist",
          "data scientist",
          "data scientist",
          "data scientist",
          "data scientist",
          "data scientist",
          "data scientist",
          "data scientist",
          "data scientist",
          "data scientist",
          "data scientist",
          "data scientist",
          "data scientist",
          "data scientist",
          "data scientist",
          "applied scientist",
          "applied scientist",
          "data scientist",
          "data scientist",
          "applied scientist",
          "applied scientist",
          "applied scientist",
          "applied scientist",
          "data scientist",
          "data scientist",
          "data scientist",
          "research scientist",
          "research scientist",
          "data scientist",
          "data scientist",
          "data scientist",
          "data scientist",
          "data scientist",
          "data scientist",
          "data scientist",
          "data scientist",
          "applied scientist",
          "applied scientist",
          "data scientist",
          "data scientist",
          "data scientist",
          "data scientist",
          "data scientist",
          "data scientist",
          "data scientist",
          "data scientist",
          "data scientist",
          "data scientist",
          "data scientist",
          "data scientist",
          "data scientist",
          "data scientist",
          "data scientist",
          "data scientist",
          "data scientist",
          "data scientist lead",
          "data scientist",
          "data scientist",
          "data scientist",
          "data scientist",
          "data scientist",
          "data scientist",
          "data scientist",
          "data scientist",
          "data scientist",
          "data scientist",
          "data scientist",
          "data scientist",
          "data scientist",
          "data scientist",
          "data scientist",
          "data scientist",
          "data scientist",
          "data scientist",
          "data scientist",
          "data scientist",
          "data scientist",
          "data scientist",
          "data scientist",
          "data scientist",
          "data scientist",
          "data scientist",
          "data scientist",
          "data scientist",
          "data scientist",
          "data scientist",
          "data scientist",
          "data scientist",
          "data scientist",
          "data scientist",
          "data scientist",
          "data scientist",
          "data scientist",
          "data scientist",
          "data scientist",
          "data scientist",
          "data scientist",
          "data scientist",
          "product data scientist",
          "data scientist",
          "data scientist",
          "data scientist",
          "data scientist",
          "data scientist",
          "data scientist",
          "data scientist",
          "data scientist",
          "data scientist",
          "data scientist",
          "data scientist",
          "data scientist",
          "data scientist",
          "data scientist",
          "data scientist",
          "data scientist",
          "data scientist",
          "data scientist",
          "data scientist",
          "data scientist",
          "data scientist",
          "data scientist",
          "data scientist",
          "data scientist",
          "data scientist",
          "data scientist",
          "data scientist",
          "data scientist",
          "data scientist",
          "data scientist",
          "data scientist",
          "data scientist",
          "data scientist",
          "data scientist",
          "applied scientist",
          "applied scientist",
          "data scientist",
          "lead data scientist",
          "data scientist",
          "data scientist",
          "research scientist",
          "research scientist",
          "data scientist",
          "data scientist",
          "data scientist",
          "ai scientist",
          "data scientist lead",
          "data scientist",
          "data scientist",
          "data scientist",
          "data scientist",
          "data scientist",
          "data scientist",
          "data scientist",
          "data scientist",
          "data scientist",
          "data scientist",
          "data scientist",
          "data scientist",
          "data scientist",
          "data scientist",
          "data scientist",
          "data scientist",
          "data scientist",
          "data scientist",
          "data scientist",
          "data scientist",
          "data scientist",
          "data scientist",
          "data scientist",
          "data scientist",
          "data scientist",
          "data scientist",
          "data scientist",
          "data scientist",
          "data scientist",
          "data scientist",
          "ai scientist",
          "data scientist",
          "data scientist",
          "data scientist",
          "data scientist",
          "data scientist",
          "data scientist",
          "data scientist",
          "data scientist",
          "data scientist",
          "data scientist",
          "data scientist",
          "data scientist",
          "data scientist",
          "data scientist",
          "applied scientist",
          "applied scientist",
          "data scientist",
          "data scientist",
          "data scientist",
          "data scientist",
          "data scientist",
          "data scientist",
          "data scientist",
          "data scientist",
          "data scientist",
          "data scientist",
          "data scientist",
          "data scientist",
          "data scientist",
          "data scientist",
          "data scientist",
          "data scientist",
          "data scientist",
          "data scientist",
          "data scientist",
          "data scientist",
          "data scientist",
          "data scientist",
          "data scientist",
          "ai scientist",
          "data scientist",
          "data scientist",
          "data scientist",
          "data scientist",
          "data scientist",
          "data scientist",
          "data scientist",
          "data scientist",
          "data scientist",
          "data scientist",
          "data scientist",
          "data scientist",
          "data scientist",
          "data scientist",
          "lead data scientist",
          "data scientist",
          "data scientist",
          "research scientist",
          "data scientist",
          "data scientist",
          "data scientist",
          "data scientist",
          "data scientist",
          "data scientist",
          "data scientist",
          "data scientist",
          "data scientist",
          "data scientist",
          "data scientist",
          "data scientist",
          "data scientist",
          "data scientist",
          "data scientist",
          "data scientist",
          "lead data scientist",
          "data scientist",
          "data scientist",
          "data scientist",
          "applied data scientist",
          "research scientist",
          "data scientist",
          "data scientist",
          "data scientist",
          "data scientist",
          "data scientist",
          "data scientist",
          "data scientist",
          "data scientist",
          "data scientist",
          "data scientist",
          "data scientist",
          "ai scientist",
          "data scientist",
          "data scientist",
          "data scientist",
          "data scientist",
          "data scientist",
          "ai scientist",
          "ai scientist",
          "data scientist",
          "data scientist",
          "data scientist",
          "data scientist",
          "data scientist",
          "data scientist",
          "data scientist",
          "data scientist",
          "data scientist",
          "data scientist",
          "data scientist",
          "data scientist",
          "data scientist",
          "data scientist",
          "data scientist",
          "data scientist",
          "data scientist",
          "data scientist",
          "data scientist",
          "data scientist",
          "data scientist",
          "data scientist",
          "data scientist",
          "data scientist",
          "data scientist",
          "data scientist",
          "data scientist",
          "data scientist",
          "data scientist",
          "data scientist",
          "data scientist",
          "data scientist",
          "data scientist",
          "data scientist",
          "data scientist",
          "data scientist",
          "data scientist",
          "data scientist",
          "data scientist",
          "data scientist",
          "data scientist",
          "data scientist",
          "data scientist",
          "data scientist",
          "data scientist",
          "data scientist",
          "data scientist",
          "data scientist",
          "data scientist",
          "data scientist",
          "data scientist",
          "data scientist",
          "data scientist",
          "data scientist",
          "data scientist",
          "data scientist",
          "data scientist",
          "data scientist",
          "data scientist",
          "data scientist",
          "data scientist",
          "data scientist",
          "data scientist",
          "data scientist",
          "data scientist",
          "applied data scientist",
          "data scientist",
          "data scientist",
          "data scientist",
          "data scientist",
          "data scientist",
          "research scientist",
          "data scientist",
          "data scientist",
          "data scientist",
          "data scientist",
          "research scientist",
          "research scientist",
          "research scientist",
          "data scientist",
          "data scientist",
          "applied data scientist",
          "data scientist",
          "applied data scientist",
          "data scientist",
          "principal data scientist",
          "data scientist",
          "data scientist",
          "data scientist",
          "research scientist",
          "principal data scientist",
          "data scientist",
          "data scientist",
          "lead data scientist",
          "data scientist",
          "applied data scientist",
          "research scientist",
          "data scientist",
          "research scientist",
          "data scientist",
          "data scientist",
          "data scientist",
          "data scientist",
          "ai scientist",
          "applied data scientist",
          "research scientist",
          "data scientist",
          "data scientist",
          "research scientist",
          "data scientist",
          "data scientist",
          "data scientist",
          "data scientist",
          "research scientist",
          "data scientist",
          "data scientist",
          "data scientist",
          "data scientist",
          "research scientist",
          "lead data scientist",
          "research scientist",
          "data scientist",
          "research scientist",
          "data scientist",
          "ai scientist",
          "data scientist",
          "data scientist",
          "data scientist",
          "staff data scientist",
          "data scientist",
          "data scientist",
          "lead data scientist",
          "data scientist",
          "data scientist",
          "data scientist",
          "research scientist",
          "data scientist",
          "data scientist",
          "data scientist",
          "data scientist",
          "data scientist",
          "data scientist",
          "data scientist",
          "data scientist",
          "principal data scientist",
          "data scientist",
          "data scientist",
          "data scientist",
          "data scientist",
          "research scientist",
          "ai scientist",
          "data scientist",
          "research scientist",
          "data scientist",
          "data scientist",
          "data scientist",
          "data scientist",
          "data scientist",
          "data scientist",
          "data scientist",
          "data scientist",
          "principal data scientist",
          "principal data scientist",
          "data scientist",
          "data scientist",
          "ai scientist",
          "data scientist",
          "data scientist",
          "data scientist",
          "principal data scientist",
          "ai scientist",
          "data scientist",
          "data scientist",
          "data scientist",
          "data scientist",
          "data scientist",
          "principal data scientist",
          "data scientist"
         ],
         "type": "scatter",
         "x": [
          -0.10420775994017697,
          -0.10420775994017697,
          -0.36947838114853143,
          -0.36947838114853143,
          -0.36947838114853143,
          -0.36947838114853143,
          -0.36947838114853143,
          -0.36947838114853143,
          -0.36947838114853143,
          -0.36947838114853143,
          -0.36947838114853143,
          -0.36947838114853143,
          -0.36947838114853143,
          -0.36947838114853143,
          -0.10420775994017697,
          -0.10420775994017697,
          -0.36947838114853143,
          -0.36947838114853143,
          -0.36947838114853143,
          -0.36947838114853143,
          -0.36947838114853143,
          -0.36947838114853143,
          -0.36947838114853143,
          -0.12578977541646025,
          -0.36947838114853143,
          -0.36947838114853143,
          -0.36947838114853143,
          -0.36947838114853143,
          -0.36947838114853143,
          -0.36947838114853143,
          -0.12247854576096054,
          -0.10420775994017697,
          -0.10420775994017697,
          -0.10420775994017697,
          -0.10420775994017697,
          -0.36947838114853143,
          -0.36947838114853143,
          -0.36947838114853143,
          -0.36947838114853143,
          -0.36947838114853143,
          -0.36947838114853143,
          -0.36947838114853143,
          -0.36947838114853143,
          -0.12247854576096054,
          -0.36947838114853143,
          -0.36947838114853143,
          -0.36947838114853143,
          -0.36947838114853143,
          -0.36947838114853143,
          -0.36947838114853143,
          -0.36947838114853143,
          -0.36947838114853143,
          -0.36947838114853143,
          -0.36947838114853143,
          -0.36947838114853143,
          -0.36947838114853143,
          -0.36947838114853143,
          -0.10420775994017697,
          -0.10420775994017697,
          -0.10420775994017697,
          -0.10420775994017697,
          -0.12578977541646025,
          -0.12578977541646025,
          -0.10420775994017697,
          -0.10420775994017697,
          -0.36947838114853143,
          -0.36947838114853143,
          -0.36947838114853143,
          -0.36947838114853143,
          -0.36947838114853143,
          -0.36947838114853143,
          -0.36947838114853143,
          -0.36947838114853143,
          -0.10420775994017697,
          -0.10420775994017697,
          -0.12578977541646025,
          -0.12578977541646025,
          -0.36947838114853143,
          -0.36947838114853143,
          -0.36947838114853143,
          -0.36947838114853143,
          -0.36947838114853143,
          -0.36947838114853143,
          -0.36947838114853143,
          -0.36947838114853143,
          -0.36947838114853143,
          -0.36947838114853143,
          -0.36947838114853143,
          -0.36947838114853143,
          -0.36947838114853143,
          -0.36947838114853143,
          -0.36947838114853143,
          -0.10420775994017697,
          -0.10420775994017697,
          -0.36947838114853143,
          -0.36947838114853143,
          -0.36947838114853143,
          -0.36947838114853143,
          -0.36947838114853143,
          -0.36947838114853143,
          -0.12578977541646025,
          -0.12578977541646025,
          -0.36947838114853143,
          -0.36947838114853143,
          -0.36947838114853143,
          -0.36947838114853143,
          -0.36947838114853143,
          -0.36947838114853143,
          -0.36947838114853143,
          -0.36947838114853143,
          -0.36947838114853143,
          -0.36947838114853143,
          -0.36947838114853143,
          -0.36947838114853143,
          -0.36947838114853143,
          -0.36947838114853143,
          -0.36947838114853143,
          -0.36947838114853143,
          -0.36947838114853143,
          -0.36947838114853143,
          -0.36947838114853143,
          -0.36947838114853143,
          -0.10420775994017697,
          -0.10420775994017697,
          -0.10420775994017697,
          -0.10420775994017697,
          -0.10420775994017697,
          -0.10420775994017697,
          -0.36947838114853143,
          -0.36947838114853143,
          -0.36947838114853143,
          -0.36947838114853143,
          -0.36947838114853143,
          -0.36947838114853143,
          -0.36947838114853143,
          -0.36947838114853143,
          -0.12578977541646025,
          -0.12578977541646025,
          -0.36947838114853143,
          -0.36947838114853143,
          -0.36947838114853143,
          -0.36947838114853143,
          -0.36947838114853143,
          -0.36947838114853143,
          -0.12578977541646025,
          -0.12578977541646025,
          -0.36947838114853143,
          -0.36947838114853143,
          -0.12578977541646025,
          -0.12578977541646025,
          -0.06350483272956857,
          -0.36947838114853143,
          -0.36947838114853143,
          -0.36947838114853143,
          -0.36947838114853143,
          -0.36947838114853143,
          -0.36947838114853143,
          -0.36947838114853143,
          -0.36947838114853143,
          -0.36947838114853143,
          -0.36947838114853143,
          -0.36947838114853143,
          -0.36947838114853143,
          -0.36947838114853143,
          -0.36947838114853143,
          -0.36947838114853143,
          -0.36947838114853143,
          -0.36947838114853143,
          -0.36947838114853143,
          -0.36947838114853143,
          -0.36947838114853143,
          -0.36947838114853143,
          -0.36947838114853143,
          -0.08507117177494226,
          -0.36947838114853143,
          -0.36947838114853143,
          -0.36947838114853143,
          -0.36947838114853143,
          -0.36947838114853143,
          -0.36947838114853143,
          -0.36947838114853143,
          -0.36947838114853143,
          -0.36947838114853143,
          -0.36947838114853143,
          -0.36947838114853143,
          -0.36947838114853143,
          -0.36947838114853143,
          -0.36947838114853143,
          -0.36947838114853143,
          -0.36947838114853143,
          -0.36947838114853143,
          -0.36947838114853143,
          -0.36947838114853143,
          -0.36947838114853143,
          -0.36947838114853143,
          -0.36947838114853143,
          -0.36947838114853143,
          -0.10420775994017697,
          -0.10420775994017697,
          -0.36947838114853143,
          -0.36947838114853143,
          -0.36947838114853143,
          -0.36947838114853143,
          -0.36947838114853143,
          -0.36947838114853143,
          -0.12578977541646025,
          -0.12578977541646025,
          -0.36947838114853143,
          -0.36947838114853143,
          -0.36947838114853143,
          -0.12578977541646025,
          -0.12578977541646025,
          -0.36947838114853143,
          -0.36947838114853143,
          -0.36947838114853143,
          -0.36947838114853143,
          -0.36947838114853143,
          -0.36947838114853143,
          -0.12578977541646025,
          -0.12578977541646025,
          -0.36947838114853143,
          -0.36947838114853143,
          -0.36947838114853143,
          -0.36947838114853143,
          -0.36947838114853143,
          -0.36947838114853143,
          -0.12578977541646025,
          -0.12578977541646025,
          -0.36947838114853143,
          -0.36947838114853143,
          -0.12578977541646025,
          -0.12578977541646025,
          -0.36947838114853143,
          -0.36947838114853143,
          -0.36947838114853143,
          -0.12578977541646025,
          -0.12578977541646025,
          -0.36947838114853143,
          -0.36947838114853143,
          -0.36947838114853143,
          -0.36947838114853143,
          -0.36947838114853143,
          -0.36947838114853143,
          -0.36947838114853143,
          -0.36947838114853143,
          -0.36947838114853143,
          -0.36947838114853143,
          -0.36947838114853143,
          -0.36947838114853143,
          -0.36947838114853143,
          -0.36947838114853143,
          -0.36947838114853143,
          -0.36947838114853143,
          -0.36947838114853143,
          -0.36947838114853143,
          -0.12578977541646025,
          -0.12578977541646025,
          -0.36947838114853143,
          -0.36947838114853143,
          -0.12578977541646025,
          -0.12578977541646025,
          -0.36947838114853143,
          -0.36947838114853143,
          -0.36947838114853143,
          -0.36947838114853143,
          -0.12578977541646025,
          -0.12578977541646025,
          -0.36947838114853143,
          -0.36947838114853143,
          -0.36947838114853143,
          -0.36947838114853143,
          -0.36947838114853143,
          -0.08507117177494226,
          -0.36947838114853143,
          -0.36947838114853143,
          -0.36947838114853143,
          -0.06350483272956857,
          -0.36947838114853143,
          -0.36947838114853143,
          -0.36947838114853143,
          -0.36947838114853143,
          -0.36947838114853143,
          -0.36947838114853143,
          -0.36947838114853143,
          -0.36947838114853143,
          -0.06350483272956857,
          -0.36947838114853143,
          -0.36947838114853143,
          -0.36947838114853143,
          -0.36947838114853143,
          -0.36947838114853143,
          -0.36947838114853143,
          -0.36947838114853143,
          -0.36947838114853143,
          -0.36947838114853143,
          -0.36947838114853143,
          -0.36947838114853143,
          -0.36947838114853143,
          -0.36947838114853143,
          -0.36947838114853143,
          -0.36947838114853143,
          -0.12578977541646025,
          -0.12578977541646025,
          -0.12578977541646025,
          -0.12578977541646025,
          -0.36947838114853143,
          -0.36947838114853143,
          -0.36947838114853143,
          -0.36947838114853143,
          -0.36947838114853143,
          -0.36947838114853143,
          -0.36947838114853143,
          -0.36947838114853143,
          -0.36947838114853143,
          -0.36947838114853143,
          -0.12578977541646025,
          -0.12578977541646025,
          -0.36947838114853143,
          -0.36947838114853143,
          -0.36947838114853143,
          -0.36947838114853143,
          -0.36947838114853143,
          -0.12578977541646025,
          -0.12578977541646025,
          -0.36947838114853143,
          -0.36947838114853143,
          -0.36947838114853143,
          -0.36947838114853143,
          -0.36947838114853143,
          -0.36947838114853143,
          -0.36947838114853143,
          -0.36947838114853143,
          -0.12578977541646025,
          -0.12578977541646025,
          -0.36947838114853143,
          -0.36947838114853143,
          -0.36947838114853143,
          -0.36947838114853143,
          -0.12578977541646025,
          -0.10420775994017697,
          -0.10420775994017697,
          -0.36947838114853143,
          -0.36947838114853143,
          -0.36947838114853143,
          -0.36947838114853143,
          -0.36947838114853143,
          -0.36947838114853143,
          -0.10420775994017697,
          -0.10420775994017697,
          -0.36947838114853143,
          -0.36947838114853143,
          -0.36947838114853143,
          -0.36947838114853143,
          -0.36947838114853143,
          -0.36947838114853143,
          -0.36947838114853143,
          -0.36947838114853143,
          -0.36947838114853143,
          -0.36947838114853143,
          -0.36947838114853143,
          -0.36947838114853143,
          -0.36947838114853143,
          -0.36947838114853143,
          -0.36947838114853143,
          -0.36947838114853143,
          -0.36947838114853143,
          -0.36947838114853143,
          -0.36947838114853143,
          -0.36947838114853143,
          -0.36947838114853143,
          -0.36947838114853143,
          -0.36947838114853143,
          -0.36947838114853143,
          -0.36947838114853143,
          -0.36947838114853143,
          -0.36947838114853143,
          -0.36947838114853143,
          -0.36947838114853143,
          -0.36947838114853143,
          -0.36947838114853143,
          -0.12247854576096054,
          -0.36947838114853143,
          -0.36947838114853143,
          -0.36947838114853143,
          -0.36947838114853143,
          -0.12578977541646025,
          -0.12578977541646025,
          -0.36947838114853143,
          -0.36947838114853143,
          -0.36947838114853143,
          -0.36947838114853143,
          -0.36947838114853143,
          -0.36947838114853143,
          -0.36947838114853143,
          -0.36947838114853143,
          -0.36947838114853143,
          -0.36947838114853143,
          -0.36947838114853143,
          -0.36947838114853143,
          -0.36947838114853143,
          -0.36947838114853143,
          -0.36947838114853143,
          -0.36947838114853143,
          -0.36947838114853143,
          -0.36947838114853143,
          -0.36947838114853143,
          -0.36947838114853143,
          -0.36947838114853143,
          -0.36947838114853143,
          -0.36947838114853143,
          -0.36947838114853143,
          -0.36947838114853143,
          -0.36947838114853143,
          -0.36947838114853143,
          -0.36947838114853143,
          -0.36947838114853143,
          -0.36947838114853143,
          -0.36947838114853143,
          -0.36947838114853143,
          -0.12578977541646025,
          -0.12578977541646025,
          -0.36947838114853143,
          -0.36947838114853143,
          -0.12578977541646025,
          -0.12578977541646025,
          -0.36947838114853143,
          -0.36947838114853143,
          -0.36947838114853143,
          -0.36947838114853143,
          -0.10420775994017697,
          -0.10420775994017697,
          -0.36947838114853143,
          -0.36947838114853143,
          -0.10420775994017697,
          -0.10420775994017697,
          -0.36947838114853143,
          -0.36947838114853143,
          -0.12578977541646025,
          -0.12578977541646025,
          -0.36947838114853143,
          -0.36947838114853143,
          -0.36947838114853143,
          -0.36947838114853143,
          -0.36947838114853143,
          -0.36947838114853143,
          -0.12578977541646025,
          -0.12578977541646025,
          -0.12578977541646025,
          -0.12578977541646025,
          -0.36947838114853143,
          -0.36947838114853143,
          -0.36947838114853143,
          -0.36947838114853143,
          -0.36947838114853143,
          -0.36947838114853143,
          -0.36947838114853143,
          -0.36947838114853143,
          -0.10420775994017697,
          -0.10420775994017697,
          -0.36947838114853143,
          -0.36947838114853143,
          -0.36947838114853143,
          -0.36947838114853143,
          -0.36947838114853143,
          -0.36947838114853143,
          -0.12578977541646025,
          -0.12578977541646025,
          -0.36947838114853143,
          -0.36947838114853143,
          -0.36947838114853143,
          -0.36947838114853143,
          -0.36947838114853143,
          -0.36947838114853143,
          -0.36947838114853143,
          -0.36947838114853143,
          -0.36947838114853143,
          -0.36947838114853143,
          -0.36947838114853143,
          -0.36947838114853143,
          -0.12247854576096054,
          -0.36947838114853143,
          -0.36947838114853143,
          -0.36947838114853143,
          -0.36947838114853143,
          -0.36947838114853143,
          -0.36947838114853143,
          -0.08507117177494226,
          -0.36947838114853143,
          -0.36947838114853143,
          -0.36947838114853143,
          -0.36947838114853143,
          -0.36947838114853143,
          -0.36947838114853143,
          -0.36947838114853143,
          -0.36947838114853143,
          -0.10420775994017697,
          -0.10420775994017697,
          -0.36947838114853143,
          -0.36947838114853143,
          -0.36947838114853143,
          -0.10420775994017697,
          -0.10420775994017697,
          -0.36947838114853143,
          -0.36947838114853143,
          -0.06350483272956857,
          -0.36947838114853143,
          -0.36947838114853143,
          -0.36947838114853143,
          -0.36947838114853143,
          -0.36947838114853143,
          -0.36947838114853143,
          -0.12578977541646025,
          -0.12578977541646025,
          -0.36947838114853143,
          -0.36947838114853143,
          -0.36947838114853143,
          -0.36947838114853143,
          -0.12578977541646025,
          -0.12578977541646025,
          -0.36947838114853143,
          -0.36947838114853143,
          -0.36947838114853143,
          -0.36947838114853143,
          -0.36947838114853143,
          -0.36947838114853143,
          -0.06350483272956857,
          -0.36947838114853143,
          -0.36947838114853143,
          -0.36947838114853143,
          -0.36947838114853143,
          -0.36947838114853143,
          -0.36947838114853143,
          -0.36947838114853143,
          -0.36947838114853143,
          -0.10420775994017697,
          -0.10420775994017697,
          -0.36947838114853143,
          -0.36947838114853143,
          -0.36947838114853143,
          -0.36947838114853143,
          -0.36947838114853143,
          -0.36947838114853143,
          -0.36947838114853143,
          -0.36947838114853143,
          -0.36947838114853143,
          -0.36947838114853143,
          -0.36947838114853143,
          -0.36947838114853143,
          -0.36947838114853143,
          -0.36947838114853143,
          -0.36947838114853143,
          -0.36947838114853143,
          -0.36947838114853143,
          -0.36947838114853143,
          -0.36947838114853143,
          -0.36947838114853143,
          -0.36947838114853143,
          -0.36947838114853143,
          -0.36947838114853143,
          -0.36947838114853143,
          -0.36947838114853143,
          -0.36947838114853143,
          -0.36947838114853143,
          -0.36947838114853143,
          -0.36947838114853143,
          -0.36947838114853143,
          -0.36947838114853143,
          -0.36947838114853143,
          -0.36947838114853143,
          -0.36947838114853143,
          -0.36947838114853143,
          -0.36947838114853143,
          -0.36947838114853143,
          -0.36947838114853143,
          -0.36947838114853143,
          -0.10420775994017697,
          -0.10420775994017697,
          -0.36947838114853143,
          -0.36947838114853143,
          -0.10420775994017697,
          -0.10420775994017697,
          -0.10420775994017697,
          -0.10420775994017697,
          -0.36947838114853143,
          -0.36947838114853143,
          -0.36947838114853143,
          -0.12578977541646025,
          -0.12578977541646025,
          -0.36947838114853143,
          -0.36947838114853143,
          -0.36947838114853143,
          -0.36947838114853143,
          -0.36947838114853143,
          -0.36947838114853143,
          -0.36947838114853143,
          -0.36947838114853143,
          -0.10420775994017697,
          -0.10420775994017697,
          -0.36947838114853143,
          -0.36947838114853143,
          -0.36947838114853143,
          -0.36947838114853143,
          -0.36947838114853143,
          -0.36947838114853143,
          -0.36947838114853143,
          -0.36947838114853143,
          -0.36947838114853143,
          -0.36947838114853143,
          -0.36947838114853143,
          -0.36947838114853143,
          -0.36947838114853143,
          -0.36947838114853143,
          -0.36947838114853143,
          -0.36947838114853143,
          -0.36947838114853143,
          -0.08507117177494226,
          -0.36947838114853143,
          -0.36947838114853143,
          -0.36947838114853143,
          -0.36947838114853143,
          -0.36947838114853143,
          -0.36947838114853143,
          -0.36947838114853143,
          -0.36947838114853143,
          -0.36947838114853143,
          -0.36947838114853143,
          -0.36947838114853143,
          -0.36947838114853143,
          -0.36947838114853143,
          -0.36947838114853143,
          -0.36947838114853143,
          -0.36947838114853143,
          -0.36947838114853143,
          -0.36947838114853143,
          -0.36947838114853143,
          -0.36947838114853143,
          -0.36947838114853143,
          -0.36947838114853143,
          -0.36947838114853143,
          -0.36947838114853143,
          -0.36947838114853143,
          -0.36947838114853143,
          -0.36947838114853143,
          -0.36947838114853143,
          -0.36947838114853143,
          -0.36947838114853143,
          -0.36947838114853143,
          -0.36947838114853143,
          -0.36947838114853143,
          -0.36947838114853143,
          -0.36947838114853143,
          -0.36947838114853143,
          -0.36947838114853143,
          -0.36947838114853143,
          -0.36947838114853143,
          -0.36947838114853143,
          -0.36947838114853143,
          -0.36947838114853143,
          -0.043700152758497285,
          -0.36947838114853143,
          -0.36947838114853143,
          -0.36947838114853143,
          -0.36947838114853143,
          -0.36947838114853143,
          -0.36947838114853143,
          -0.36947838114853143,
          -0.36947838114853143,
          -0.36947838114853143,
          -0.36947838114853143,
          -0.36947838114853143,
          -0.36947838114853143,
          -0.36947838114853143,
          -0.36947838114853143,
          -0.36947838114853143,
          -0.36947838114853143,
          -0.36947838114853143,
          -0.36947838114853143,
          -0.36947838114853143,
          -0.36947838114853143,
          -0.36947838114853143,
          -0.36947838114853143,
          -0.36947838114853143,
          -0.36947838114853143,
          -0.36947838114853143,
          -0.36947838114853143,
          -0.36947838114853143,
          -0.36947838114853143,
          -0.36947838114853143,
          -0.36947838114853143,
          -0.36947838114853143,
          -0.36947838114853143,
          -0.36947838114853143,
          -0.36947838114853143,
          -0.10420775994017697,
          -0.10420775994017697,
          -0.36947838114853143,
          -0.08507117177494226,
          -0.36947838114853143,
          -0.36947838114853143,
          -0.12578977541646025,
          -0.12578977541646025,
          -0.36947838114853143,
          -0.36947838114853143,
          -0.36947838114853143,
          -0.06350483272956857,
          -0.08507117177494226,
          -0.36947838114853143,
          -0.36947838114853143,
          -0.36947838114853143,
          -0.36947838114853143,
          -0.36947838114853143,
          -0.36947838114853143,
          -0.36947838114853143,
          -0.36947838114853143,
          -0.36947838114853143,
          -0.36947838114853143,
          -0.36947838114853143,
          -0.36947838114853143,
          -0.36947838114853143,
          -0.36947838114853143,
          -0.36947838114853143,
          -0.36947838114853143,
          -0.36947838114853143,
          -0.36947838114853143,
          -0.36947838114853143,
          -0.36947838114853143,
          -0.36947838114853143,
          -0.36947838114853143,
          -0.36947838114853143,
          -0.36947838114853143,
          -0.36947838114853143,
          -0.36947838114853143,
          -0.36947838114853143,
          -0.36947838114853143,
          -0.36947838114853143,
          -0.36947838114853143,
          -0.06350483272956857,
          -0.36947838114853143,
          -0.36947838114853143,
          -0.36947838114853143,
          -0.36947838114853143,
          -0.36947838114853143,
          -0.36947838114853143,
          -0.36947838114853143,
          -0.36947838114853143,
          -0.36947838114853143,
          -0.36947838114853143,
          -0.36947838114853143,
          -0.36947838114853143,
          -0.36947838114853143,
          -0.36947838114853143,
          -0.10420775994017697,
          -0.10420775994017697,
          -0.36947838114853143,
          -0.36947838114853143,
          -0.36947838114853143,
          -0.36947838114853143,
          -0.36947838114853143,
          -0.36947838114853143,
          -0.36947838114853143,
          -0.36947838114853143,
          -0.36947838114853143,
          -0.36947838114853143,
          -0.36947838114853143,
          -0.36947838114853143,
          -0.36947838114853143,
          -0.36947838114853143,
          -0.36947838114853143,
          -0.36947838114853143,
          -0.36947838114853143,
          -0.36947838114853143,
          -0.36947838114853143,
          -0.36947838114853143,
          -0.36947838114853143,
          -0.36947838114853143,
          -0.36947838114853143,
          -0.06350483272956857,
          -0.36947838114853143,
          -0.36947838114853143,
          -0.36947838114853143,
          -0.36947838114853143,
          -0.36947838114853143,
          -0.36947838114853143,
          -0.36947838114853143,
          -0.36947838114853143,
          -0.36947838114853143,
          -0.36947838114853143,
          -0.36947838114853143,
          -0.36947838114853143,
          -0.36947838114853143,
          -0.36947838114853143,
          -0.08507117177494226,
          -0.36947838114853143,
          -0.36947838114853143,
          -0.12578977541646025,
          -0.36947838114853143,
          -0.36947838114853143,
          -0.36947838114853143,
          -0.36947838114853143,
          -0.36947838114853143,
          -0.36947838114853143,
          -0.36947838114853143,
          -0.36947838114853143,
          -0.36947838114853143,
          -0.36947838114853143,
          -0.36947838114853143,
          -0.36947838114853143,
          -0.36947838114853143,
          -0.36947838114853143,
          -0.36947838114853143,
          -0.36947838114853143,
          -0.08507117177494226,
          -0.36947838114853143,
          -0.36947838114853143,
          -0.36947838114853143,
          -0.12247854576096054,
          -0.12578977541646025,
          -0.36947838114853143,
          -0.36947838114853143,
          -0.36947838114853143,
          -0.36947838114853143,
          -0.36947838114853143,
          -0.36947838114853143,
          -0.36947838114853143,
          -0.36947838114853143,
          -0.36947838114853143,
          -0.36947838114853143,
          -0.36947838114853143,
          -0.06350483272956857,
          -0.36947838114853143,
          -0.36947838114853143,
          -0.36947838114853143,
          -0.36947838114853143,
          -0.36947838114853143,
          -0.06350483272956857,
          -0.06350483272956857,
          -0.36947838114853143,
          -0.36947838114853143,
          -0.36947838114853143,
          -0.36947838114853143,
          -0.36947838114853143,
          -0.36947838114853143,
          -0.36947838114853143,
          -0.36947838114853143,
          -0.36947838114853143,
          -0.36947838114853143,
          -0.36947838114853143,
          -0.36947838114853143,
          -0.36947838114853143,
          -0.36947838114853143,
          -0.36947838114853143,
          -0.36947838114853143,
          -0.36947838114853143,
          -0.36947838114853143,
          -0.36947838114853143,
          -0.36947838114853143,
          -0.36947838114853143,
          -0.36947838114853143,
          -0.36947838114853143,
          -0.36947838114853143,
          -0.36947838114853143,
          -0.36947838114853143,
          -0.36947838114853143,
          -0.36947838114853143,
          -0.36947838114853143,
          -0.36947838114853143,
          -0.36947838114853143,
          -0.36947838114853143,
          -0.36947838114853143,
          -0.36947838114853143,
          -0.36947838114853143,
          -0.36947838114853143,
          -0.36947838114853143,
          -0.36947838114853143,
          -0.36947838114853143,
          -0.36947838114853143,
          -0.36947838114853143,
          -0.36947838114853143,
          -0.36947838114853143,
          -0.36947838114853143,
          -0.36947838114853143,
          -0.36947838114853143,
          -0.36947838114853143,
          -0.36947838114853143,
          -0.36947838114853143,
          -0.36947838114853143,
          -0.36947838114853143,
          -0.36947838114853143,
          -0.36947838114853143,
          -0.36947838114853143,
          -0.36947838114853143,
          -0.36947838114853143,
          -0.36947838114853143,
          -0.36947838114853143,
          -0.36947838114853143,
          -0.36947838114853143,
          -0.36947838114853143,
          -0.36947838114853143,
          -0.36947838114853143,
          -0.36947838114853143,
          -0.36947838114853143,
          -0.12247854576096054,
          -0.36947838114853143,
          -0.36947838114853143,
          -0.36947838114853143,
          -0.36947838114853143,
          -0.36947838114853143,
          -0.12578977541646025,
          -0.36947838114853143,
          -0.36947838114853143,
          -0.36947838114853143,
          -0.36947838114853143,
          -0.12578977541646025,
          -0.12578977541646025,
          -0.12578977541646025,
          -0.36947838114853143,
          -0.36947838114853143,
          -0.12247854576096054,
          -0.36947838114853143,
          -0.12247854576096054,
          -0.36947838114853143,
          -0.06064882328096455,
          -0.36947838114853143,
          -0.36947838114853143,
          -0.36947838114853143,
          -0.12578977541646025,
          -0.06064882328096455,
          -0.36947838114853143,
          -0.36947838114853143,
          -0.08507117177494226,
          -0.36947838114853143,
          -0.12247854576096054,
          -0.12578977541646025,
          -0.36947838114853143,
          -0.12578977541646025,
          -0.36947838114853143,
          -0.36947838114853143,
          -0.36947838114853143,
          -0.36947838114853143,
          -0.06350483272956857,
          -0.12247854576096054,
          -0.12578977541646025,
          -0.36947838114853143,
          -0.36947838114853143,
          -0.12578977541646025,
          -0.36947838114853143,
          -0.36947838114853143,
          -0.36947838114853143,
          -0.36947838114853143,
          -0.12578977541646025,
          -0.36947838114853143,
          -0.36947838114853143,
          -0.36947838114853143,
          -0.36947838114853143,
          -0.12578977541646025,
          -0.08507117177494226,
          -0.12578977541646025,
          -0.36947838114853143,
          -0.12578977541646025,
          -0.36947838114853143,
          -0.06350483272956857,
          -0.36947838114853143,
          -0.36947838114853143,
          -0.36947838114853143,
          -0.0307509915844428,
          -0.36947838114853143,
          -0.36947838114853143,
          -0.08507117177494226,
          -0.36947838114853143,
          -0.36947838114853143,
          -0.36947838114853143,
          -0.12578977541646025,
          -0.36947838114853143,
          -0.36947838114853143,
          -0.36947838114853143,
          -0.36947838114853143,
          -0.36947838114853143,
          -0.36947838114853143,
          -0.36947838114853143,
          -0.36947838114853143,
          -0.06064882328096455,
          -0.36947838114853143,
          -0.36947838114853143,
          -0.36947838114853143,
          -0.36947838114853143,
          -0.12578977541646025,
          -0.06350483272956857,
          -0.36947838114853143,
          -0.12578977541646025,
          -0.36947838114853143,
          -0.36947838114853143,
          -0.36947838114853143,
          -0.36947838114853143,
          -0.36947838114853143,
          -0.36947838114853143,
          -0.36947838114853143,
          -0.36947838114853143,
          -0.06064882328096455,
          -0.06064882328096455,
          -0.36947838114853143,
          -0.36947838114853143,
          -0.06350483272956857,
          -0.36947838114853143,
          -0.36947838114853143,
          -0.36947838114853143,
          -0.06064882328096455,
          -0.06350483272956857,
          -0.36947838114853143,
          -0.36947838114853143,
          -0.36947838114853143,
          -0.36947838114853143,
          -0.36947838114853143,
          -0.06064882328096455,
          -0.36947838114853143
         ],
         "y": [
          0.3732567932591552,
          0.3732567932591552,
          0.6305869639457404,
          0.6305869639457404,
          0.6305869639457404,
          0.6305869639457404,
          0.6305869639457404,
          0.6305869639457404,
          0.6305869639457404,
          0.6305869639457404,
          0.6305869639457404,
          0.6305869639457404,
          0.6305869639457404,
          0.6305869639457404,
          0.3732567932591552,
          0.3732567932591552,
          0.6305869639457404,
          0.6305869639457404,
          0.6305869639457404,
          0.6305869639457404,
          0.6305869639457404,
          0.6305869639457404,
          0.6305869639457404,
          0.3940752212762024,
          0.6305869639457404,
          0.6305869639457404,
          0.6305869639457404,
          0.6305869639457404,
          0.6305869639457404,
          0.6305869639457404,
          0.3561493138286965,
          0.3732567932591552,
          0.3732567932591552,
          0.3732567932591552,
          0.3732567932591552,
          0.6305869639457404,
          0.6305869639457404,
          0.6305869639457404,
          0.6305869639457404,
          0.6305869639457404,
          0.6305869639457404,
          0.6305869639457404,
          0.6305869639457404,
          0.3561493138286965,
          0.6305869639457404,
          0.6305869639457404,
          0.6305869639457404,
          0.6305869639457404,
          0.6305869639457404,
          0.6305869639457404,
          0.6305869639457404,
          0.6305869639457404,
          0.6305869639457404,
          0.6305869639457404,
          0.6305869639457404,
          0.6305869639457404,
          0.6305869639457404,
          0.3732567932591552,
          0.3732567932591552,
          0.3732567932591552,
          0.3732567932591552,
          0.3940752212762024,
          0.3940752212762024,
          0.3732567932591552,
          0.3732567932591552,
          0.6305869639457404,
          0.6305869639457404,
          0.6305869639457404,
          0.6305869639457404,
          0.6305869639457404,
          0.6305869639457404,
          0.6305869639457404,
          0.6305869639457404,
          0.3732567932591552,
          0.3732567932591552,
          0.3940752212762024,
          0.3940752212762024,
          0.6305869639457404,
          0.6305869639457404,
          0.6305869639457404,
          0.6305869639457404,
          0.6305869639457404,
          0.6305869639457404,
          0.6305869639457404,
          0.6305869639457404,
          0.6305869639457404,
          0.6305869639457404,
          0.6305869639457404,
          0.6305869639457404,
          0.6305869639457404,
          0.6305869639457404,
          0.6305869639457404,
          0.3732567932591552,
          0.3732567932591552,
          0.6305869639457404,
          0.6305869639457404,
          0.6305869639457404,
          0.6305869639457404,
          0.6305869639457404,
          0.6305869639457404,
          0.3940752212762024,
          0.3940752212762024,
          0.6305869639457404,
          0.6305869639457404,
          0.6305869639457404,
          0.6305869639457404,
          0.6305869639457404,
          0.6305869639457404,
          0.6305869639457404,
          0.6305869639457404,
          0.6305869639457404,
          0.6305869639457404,
          0.6305869639457404,
          0.6305869639457404,
          0.6305869639457404,
          0.6305869639457404,
          0.6305869639457404,
          0.6305869639457404,
          0.6305869639457404,
          0.6305869639457404,
          0.6305869639457404,
          0.6305869639457404,
          0.3732567932591552,
          0.3732567932591552,
          0.3732567932591552,
          0.3732567932591552,
          0.3732567932591552,
          0.3732567932591552,
          0.6305869639457404,
          0.6305869639457404,
          0.6305869639457404,
          0.6305869639457404,
          0.6305869639457404,
          0.6305869639457404,
          0.6305869639457404,
          0.6305869639457404,
          0.3940752212762024,
          0.3940752212762024,
          0.6305869639457404,
          0.6305869639457404,
          0.6305869639457404,
          0.6305869639457404,
          0.6305869639457404,
          0.6305869639457404,
          0.3940752212762024,
          0.3940752212762024,
          0.6305869639457404,
          0.6305869639457404,
          0.3940752212762024,
          0.3940752212762024,
          0.310932608895349,
          0.6305869639457404,
          0.6305869639457404,
          0.6305869639457404,
          0.6305869639457404,
          0.6305869639457404,
          0.6305869639457404,
          0.6305869639457404,
          0.6305869639457404,
          0.6305869639457404,
          0.6305869639457404,
          0.6305869639457404,
          0.6305869639457404,
          0.6305869639457404,
          0.6305869639457404,
          0.6305869639457404,
          0.6305869639457404,
          0.6305869639457404,
          0.6305869639457404,
          0.6305869639457404,
          0.6305869639457404,
          0.6305869639457404,
          0.6305869639457404,
          0.3041979336195378,
          0.6305869639457404,
          0.6305869639457404,
          0.6305869639457404,
          0.6305869639457404,
          0.6305869639457404,
          0.6305869639457404,
          0.6305869639457404,
          0.6305869639457404,
          0.6305869639457404,
          0.6305869639457404,
          0.6305869639457404,
          0.6305869639457404,
          0.6305869639457404,
          0.6305869639457404,
          0.6305869639457404,
          0.6305869639457404,
          0.6305869639457404,
          0.6305869639457404,
          0.6305869639457404,
          0.6305869639457404,
          0.6305869639457404,
          0.6305869639457404,
          0.6305869639457404,
          0.3732567932591552,
          0.3732567932591552,
          0.6305869639457404,
          0.6305869639457404,
          0.6305869639457404,
          0.6305869639457404,
          0.6305869639457404,
          0.6305869639457404,
          0.3940752212762024,
          0.3940752212762024,
          0.6305869639457404,
          0.6305869639457404,
          0.6305869639457404,
          0.3940752212762024,
          0.3940752212762024,
          0.6305869639457404,
          0.6305869639457404,
          0.6305869639457404,
          0.6305869639457404,
          0.6305869639457404,
          0.6305869639457404,
          0.3940752212762024,
          0.3940752212762024,
          0.6305869639457404,
          0.6305869639457404,
          0.6305869639457404,
          0.6305869639457404,
          0.6305869639457404,
          0.6305869639457404,
          0.3940752212762024,
          0.3940752212762024,
          0.6305869639457404,
          0.6305869639457404,
          0.3940752212762024,
          0.3940752212762024,
          0.6305869639457404,
          0.6305869639457404,
          0.6305869639457404,
          0.3940752212762024,
          0.3940752212762024,
          0.6305869639457404,
          0.6305869639457404,
          0.6305869639457404,
          0.6305869639457404,
          0.6305869639457404,
          0.6305869639457404,
          0.6305869639457404,
          0.6305869639457404,
          0.6305869639457404,
          0.6305869639457404,
          0.6305869639457404,
          0.6305869639457404,
          0.6305869639457404,
          0.6305869639457404,
          0.6305869639457404,
          0.6305869639457404,
          0.6305869639457404,
          0.6305869639457404,
          0.3940752212762024,
          0.3940752212762024,
          0.6305869639457404,
          0.6305869639457404,
          0.3940752212762024,
          0.3940752212762024,
          0.6305869639457404,
          0.6305869639457404,
          0.6305869639457404,
          0.6305869639457404,
          0.3940752212762024,
          0.3940752212762024,
          0.6305869639457404,
          0.6305869639457404,
          0.6305869639457404,
          0.6305869639457404,
          0.6305869639457404,
          0.3041979336195378,
          0.6305869639457404,
          0.6305869639457404,
          0.6305869639457404,
          0.310932608895349,
          0.6305869639457404,
          0.6305869639457404,
          0.6305869639457404,
          0.6305869639457404,
          0.6305869639457404,
          0.6305869639457404,
          0.6305869639457404,
          0.6305869639457404,
          0.310932608895349,
          0.6305869639457404,
          0.6305869639457404,
          0.6305869639457404,
          0.6305869639457404,
          0.6305869639457404,
          0.6305869639457404,
          0.6305869639457404,
          0.6305869639457404,
          0.6305869639457404,
          0.6305869639457404,
          0.6305869639457404,
          0.6305869639457404,
          0.6305869639457404,
          0.6305869639457404,
          0.6305869639457404,
          0.3940752212762024,
          0.3940752212762024,
          0.3940752212762024,
          0.3940752212762024,
          0.6305869639457404,
          0.6305869639457404,
          0.6305869639457404,
          0.6305869639457404,
          0.6305869639457404,
          0.6305869639457404,
          0.6305869639457404,
          0.6305869639457404,
          0.6305869639457404,
          0.6305869639457404,
          0.3940752212762024,
          0.3940752212762024,
          0.6305869639457404,
          0.6305869639457404,
          0.6305869639457404,
          0.6305869639457404,
          0.6305869639457404,
          0.3940752212762024,
          0.3940752212762024,
          0.6305869639457404,
          0.6305869639457404,
          0.6305869639457404,
          0.6305869639457404,
          0.6305869639457404,
          0.6305869639457404,
          0.6305869639457404,
          0.6305869639457404,
          0.3940752212762024,
          0.3940752212762024,
          0.6305869639457404,
          0.6305869639457404,
          0.6305869639457404,
          0.6305869639457404,
          0.3940752212762024,
          0.3732567932591552,
          0.3732567932591552,
          0.6305869639457404,
          0.6305869639457404,
          0.6305869639457404,
          0.6305869639457404,
          0.6305869639457404,
          0.6305869639457404,
          0.3732567932591552,
          0.3732567932591552,
          0.6305869639457404,
          0.6305869639457404,
          0.6305869639457404,
          0.6305869639457404,
          0.6305869639457404,
          0.6305869639457404,
          0.6305869639457404,
          0.6305869639457404,
          0.6305869639457404,
          0.6305869639457404,
          0.6305869639457404,
          0.6305869639457404,
          0.6305869639457404,
          0.6305869639457404,
          0.6305869639457404,
          0.6305869639457404,
          0.6305869639457404,
          0.6305869639457404,
          0.6305869639457404,
          0.6305869639457404,
          0.6305869639457404,
          0.6305869639457404,
          0.6305869639457404,
          0.6305869639457404,
          0.6305869639457404,
          0.6305869639457404,
          0.6305869639457404,
          0.6305869639457404,
          0.6305869639457404,
          0.6305869639457404,
          0.6305869639457404,
          0.3561493138286965,
          0.6305869639457404,
          0.6305869639457404,
          0.6305869639457404,
          0.6305869639457404,
          0.3940752212762024,
          0.3940752212762024,
          0.6305869639457404,
          0.6305869639457404,
          0.6305869639457404,
          0.6305869639457404,
          0.6305869639457404,
          0.6305869639457404,
          0.6305869639457404,
          0.6305869639457404,
          0.6305869639457404,
          0.6305869639457404,
          0.6305869639457404,
          0.6305869639457404,
          0.6305869639457404,
          0.6305869639457404,
          0.6305869639457404,
          0.6305869639457404,
          0.6305869639457404,
          0.6305869639457404,
          0.6305869639457404,
          0.6305869639457404,
          0.6305869639457404,
          0.6305869639457404,
          0.6305869639457404,
          0.6305869639457404,
          0.6305869639457404,
          0.6305869639457404,
          0.6305869639457404,
          0.6305869639457404,
          0.6305869639457404,
          0.6305869639457404,
          0.6305869639457404,
          0.6305869639457404,
          0.3940752212762024,
          0.3940752212762024,
          0.6305869639457404,
          0.6305869639457404,
          0.3940752212762024,
          0.3940752212762024,
          0.6305869639457404,
          0.6305869639457404,
          0.6305869639457404,
          0.6305869639457404,
          0.3732567932591552,
          0.3732567932591552,
          0.6305869639457404,
          0.6305869639457404,
          0.3732567932591552,
          0.3732567932591552,
          0.6305869639457404,
          0.6305869639457404,
          0.3940752212762024,
          0.3940752212762024,
          0.6305869639457404,
          0.6305869639457404,
          0.6305869639457404,
          0.6305869639457404,
          0.6305869639457404,
          0.6305869639457404,
          0.3940752212762024,
          0.3940752212762024,
          0.3940752212762024,
          0.3940752212762024,
          0.6305869639457404,
          0.6305869639457404,
          0.6305869639457404,
          0.6305869639457404,
          0.6305869639457404,
          0.6305869639457404,
          0.6305869639457404,
          0.6305869639457404,
          0.3732567932591552,
          0.3732567932591552,
          0.6305869639457404,
          0.6305869639457404,
          0.6305869639457404,
          0.6305869639457404,
          0.6305869639457404,
          0.6305869639457404,
          0.3940752212762024,
          0.3940752212762024,
          0.6305869639457404,
          0.6305869639457404,
          0.6305869639457404,
          0.6305869639457404,
          0.6305869639457404,
          0.6305869639457404,
          0.6305869639457404,
          0.6305869639457404,
          0.6305869639457404,
          0.6305869639457404,
          0.6305869639457404,
          0.6305869639457404,
          0.3561493138286965,
          0.6305869639457404,
          0.6305869639457404,
          0.6305869639457404,
          0.6305869639457404,
          0.6305869639457404,
          0.6305869639457404,
          0.3041979336195378,
          0.6305869639457404,
          0.6305869639457404,
          0.6305869639457404,
          0.6305869639457404,
          0.6305869639457404,
          0.6305869639457404,
          0.6305869639457404,
          0.6305869639457404,
          0.3732567932591552,
          0.3732567932591552,
          0.6305869639457404,
          0.6305869639457404,
          0.6305869639457404,
          0.3732567932591552,
          0.3732567932591552,
          0.6305869639457404,
          0.6305869639457404,
          0.310932608895349,
          0.6305869639457404,
          0.6305869639457404,
          0.6305869639457404,
          0.6305869639457404,
          0.6305869639457404,
          0.6305869639457404,
          0.3940752212762024,
          0.3940752212762024,
          0.6305869639457404,
          0.6305869639457404,
          0.6305869639457404,
          0.6305869639457404,
          0.3940752212762024,
          0.3940752212762024,
          0.6305869639457404,
          0.6305869639457404,
          0.6305869639457404,
          0.6305869639457404,
          0.6305869639457404,
          0.6305869639457404,
          0.310932608895349,
          0.6305869639457404,
          0.6305869639457404,
          0.6305869639457404,
          0.6305869639457404,
          0.6305869639457404,
          0.6305869639457404,
          0.6305869639457404,
          0.6305869639457404,
          0.3732567932591552,
          0.3732567932591552,
          0.6305869639457404,
          0.6305869639457404,
          0.6305869639457404,
          0.6305869639457404,
          0.6305869639457404,
          0.6305869639457404,
          0.6305869639457404,
          0.6305869639457404,
          0.6305869639457404,
          0.6305869639457404,
          0.6305869639457404,
          0.6305869639457404,
          0.6305869639457404,
          0.6305869639457404,
          0.6305869639457404,
          0.6305869639457404,
          0.6305869639457404,
          0.6305869639457404,
          0.6305869639457404,
          0.6305869639457404,
          0.6305869639457404,
          0.6305869639457404,
          0.6305869639457404,
          0.6305869639457404,
          0.6305869639457404,
          0.6305869639457404,
          0.6305869639457404,
          0.6305869639457404,
          0.6305869639457404,
          0.6305869639457404,
          0.6305869639457404,
          0.6305869639457404,
          0.6305869639457404,
          0.6305869639457404,
          0.6305869639457404,
          0.6305869639457404,
          0.6305869639457404,
          0.6305869639457404,
          0.6305869639457404,
          0.3732567932591552,
          0.3732567932591552,
          0.6305869639457404,
          0.6305869639457404,
          0.3732567932591552,
          0.3732567932591552,
          0.3732567932591552,
          0.3732567932591552,
          0.6305869639457404,
          0.6305869639457404,
          0.6305869639457404,
          0.3940752212762024,
          0.3940752212762024,
          0.6305869639457404,
          0.6305869639457404,
          0.6305869639457404,
          0.6305869639457404,
          0.6305869639457404,
          0.6305869639457404,
          0.6305869639457404,
          0.6305869639457404,
          0.3732567932591552,
          0.3732567932591552,
          0.6305869639457404,
          0.6305869639457404,
          0.6305869639457404,
          0.6305869639457404,
          0.6305869639457404,
          0.6305869639457404,
          0.6305869639457404,
          0.6305869639457404,
          0.6305869639457404,
          0.6305869639457404,
          0.6305869639457404,
          0.6305869639457404,
          0.6305869639457404,
          0.6305869639457404,
          0.6305869639457404,
          0.6305869639457404,
          0.6305869639457404,
          0.3041979336195378,
          0.6305869639457404,
          0.6305869639457404,
          0.6305869639457404,
          0.6305869639457404,
          0.6305869639457404,
          0.6305869639457404,
          0.6305869639457404,
          0.6305869639457404,
          0.6305869639457404,
          0.6305869639457404,
          0.6305869639457404,
          0.6305869639457404,
          0.6305869639457404,
          0.6305869639457404,
          0.6305869639457404,
          0.6305869639457404,
          0.6305869639457404,
          0.6305869639457404,
          0.6305869639457404,
          0.6305869639457404,
          0.6305869639457404,
          0.6305869639457404,
          0.6305869639457404,
          0.6305869639457404,
          0.6305869639457404,
          0.6305869639457404,
          0.6305869639457404,
          0.6305869639457404,
          0.6305869639457404,
          0.6305869639457404,
          0.6305869639457404,
          0.6305869639457404,
          0.6305869639457404,
          0.6305869639457404,
          0.6305869639457404,
          0.6305869639457404,
          0.6305869639457404,
          0.6305869639457404,
          0.6305869639457404,
          0.6305869639457404,
          0.6305869639457404,
          0.6305869639457404,
          0.25219544345535105,
          0.6305869639457404,
          0.6305869639457404,
          0.6305869639457404,
          0.6305869639457404,
          0.6305869639457404,
          0.6305869639457404,
          0.6305869639457404,
          0.6305869639457404,
          0.6305869639457404,
          0.6305869639457404,
          0.6305869639457404,
          0.6305869639457404,
          0.6305869639457404,
          0.6305869639457404,
          0.6305869639457404,
          0.6305869639457404,
          0.6305869639457404,
          0.6305869639457404,
          0.6305869639457404,
          0.6305869639457404,
          0.6305869639457404,
          0.6305869639457404,
          0.6305869639457404,
          0.6305869639457404,
          0.6305869639457404,
          0.6305869639457404,
          0.6305869639457404,
          0.6305869639457404,
          0.6305869639457404,
          0.6305869639457404,
          0.6305869639457404,
          0.6305869639457404,
          0.6305869639457404,
          0.6305869639457404,
          0.3732567932591552,
          0.3732567932591552,
          0.6305869639457404,
          0.3041979336195378,
          0.6305869639457404,
          0.6305869639457404,
          0.3940752212762024,
          0.3940752212762024,
          0.6305869639457404,
          0.6305869639457404,
          0.6305869639457404,
          0.310932608895349,
          0.3041979336195378,
          0.6305869639457404,
          0.6305869639457404,
          0.6305869639457404,
          0.6305869639457404,
          0.6305869639457404,
          0.6305869639457404,
          0.6305869639457404,
          0.6305869639457404,
          0.6305869639457404,
          0.6305869639457404,
          0.6305869639457404,
          0.6305869639457404,
          0.6305869639457404,
          0.6305869639457404,
          0.6305869639457404,
          0.6305869639457404,
          0.6305869639457404,
          0.6305869639457404,
          0.6305869639457404,
          0.6305869639457404,
          0.6305869639457404,
          0.6305869639457404,
          0.6305869639457404,
          0.6305869639457404,
          0.6305869639457404,
          0.6305869639457404,
          0.6305869639457404,
          0.6305869639457404,
          0.6305869639457404,
          0.6305869639457404,
          0.310932608895349,
          0.6305869639457404,
          0.6305869639457404,
          0.6305869639457404,
          0.6305869639457404,
          0.6305869639457404,
          0.6305869639457404,
          0.6305869639457404,
          0.6305869639457404,
          0.6305869639457404,
          0.6305869639457404,
          0.6305869639457404,
          0.6305869639457404,
          0.6305869639457404,
          0.6305869639457404,
          0.3732567932591552,
          0.3732567932591552,
          0.6305869639457404,
          0.6305869639457404,
          0.6305869639457404,
          0.6305869639457404,
          0.6305869639457404,
          0.6305869639457404,
          0.6305869639457404,
          0.6305869639457404,
          0.6305869639457404,
          0.6305869639457404,
          0.6305869639457404,
          0.6305869639457404,
          0.6305869639457404,
          0.6305869639457404,
          0.6305869639457404,
          0.6305869639457404,
          0.6305869639457404,
          0.6305869639457404,
          0.6305869639457404,
          0.6305869639457404,
          0.6305869639457404,
          0.6305869639457404,
          0.6305869639457404,
          0.310932608895349,
          0.6305869639457404,
          0.6305869639457404,
          0.6305869639457404,
          0.6305869639457404,
          0.6305869639457404,
          0.6305869639457404,
          0.6305869639457404,
          0.6305869639457404,
          0.6305869639457404,
          0.6305869639457404,
          0.6305869639457404,
          0.6305869639457404,
          0.6305869639457404,
          0.6305869639457404,
          0.3041979336195378,
          0.6305869639457404,
          0.6305869639457404,
          0.3940752212762024,
          0.6305869639457404,
          0.6305869639457404,
          0.6305869639457404,
          0.6305869639457404,
          0.6305869639457404,
          0.6305869639457404,
          0.6305869639457404,
          0.6305869639457404,
          0.6305869639457404,
          0.6305869639457404,
          0.6305869639457404,
          0.6305869639457404,
          0.6305869639457404,
          0.6305869639457404,
          0.6305869639457404,
          0.6305869639457404,
          0.3041979336195378,
          0.6305869639457404,
          0.6305869639457404,
          0.6305869639457404,
          0.3561493138286965,
          0.3940752212762024,
          0.6305869639457404,
          0.6305869639457404,
          0.6305869639457404,
          0.6305869639457404,
          0.6305869639457404,
          0.6305869639457404,
          0.6305869639457404,
          0.6305869639457404,
          0.6305869639457404,
          0.6305869639457404,
          0.6305869639457404,
          0.310932608895349,
          0.6305869639457404,
          0.6305869639457404,
          0.6305869639457404,
          0.6305869639457404,
          0.6305869639457404,
          0.310932608895349,
          0.310932608895349,
          0.6305869639457404,
          0.6305869639457404,
          0.6305869639457404,
          0.6305869639457404,
          0.6305869639457404,
          0.6305869639457404,
          0.6305869639457404,
          0.6305869639457404,
          0.6305869639457404,
          0.6305869639457404,
          0.6305869639457404,
          0.6305869639457404,
          0.6305869639457404,
          0.6305869639457404,
          0.6305869639457404,
          0.6305869639457404,
          0.6305869639457404,
          0.6305869639457404,
          0.6305869639457404,
          0.6305869639457404,
          0.6305869639457404,
          0.6305869639457404,
          0.6305869639457404,
          0.6305869639457404,
          0.6305869639457404,
          0.6305869639457404,
          0.6305869639457404,
          0.6305869639457404,
          0.6305869639457404,
          0.6305869639457404,
          0.6305869639457404,
          0.6305869639457404,
          0.6305869639457404,
          0.6305869639457404,
          0.6305869639457404,
          0.6305869639457404,
          0.6305869639457404,
          0.6305869639457404,
          0.6305869639457404,
          0.6305869639457404,
          0.6305869639457404,
          0.6305869639457404,
          0.6305869639457404,
          0.6305869639457404,
          0.6305869639457404,
          0.6305869639457404,
          0.6305869639457404,
          0.6305869639457404,
          0.6305869639457404,
          0.6305869639457404,
          0.6305869639457404,
          0.6305869639457404,
          0.6305869639457404,
          0.6305869639457404,
          0.6305869639457404,
          0.6305869639457404,
          0.6305869639457404,
          0.6305869639457404,
          0.6305869639457404,
          0.6305869639457404,
          0.6305869639457404,
          0.6305869639457404,
          0.6305869639457404,
          0.6305869639457404,
          0.6305869639457404,
          0.3561493138286965,
          0.6305869639457404,
          0.6305869639457404,
          0.6305869639457404,
          0.6305869639457404,
          0.6305869639457404,
          0.3940752212762024,
          0.6305869639457404,
          0.6305869639457404,
          0.6305869639457404,
          0.6305869639457404,
          0.3940752212762024,
          0.3940752212762024,
          0.3940752212762024,
          0.6305869639457404,
          0.6305869639457404,
          0.3561493138286965,
          0.6305869639457404,
          0.3561493138286965,
          0.6305869639457404,
          0.270867318309241,
          0.6305869639457404,
          0.6305869639457404,
          0.6305869639457404,
          0.3940752212762024,
          0.270867318309241,
          0.6305869639457404,
          0.6305869639457404,
          0.3041979336195378,
          0.6305869639457404,
          0.3561493138286965,
          0.3940752212762024,
          0.6305869639457404,
          0.3940752212762024,
          0.6305869639457404,
          0.6305869639457404,
          0.6305869639457404,
          0.6305869639457404,
          0.310932608895349,
          0.3561493138286965,
          0.3940752212762024,
          0.6305869639457404,
          0.6305869639457404,
          0.3940752212762024,
          0.6305869639457404,
          0.6305869639457404,
          0.6305869639457404,
          0.6305869639457404,
          0.3940752212762024,
          0.6305869639457404,
          0.6305869639457404,
          0.6305869639457404,
          0.6305869639457404,
          0.3940752212762024,
          0.3041979336195378,
          0.3940752212762024,
          0.6305869639457404,
          0.3940752212762024,
          0.6305869639457404,
          0.310932608895349,
          0.6305869639457404,
          0.6305869639457404,
          0.6305869639457404,
          0.23377941576268232,
          0.6305869639457404,
          0.6305869639457404,
          0.3041979336195378,
          0.6305869639457404,
          0.6305869639457404,
          0.6305869639457404,
          0.3940752212762024,
          0.6305869639457404,
          0.6305869639457404,
          0.6305869639457404,
          0.6305869639457404,
          0.6305869639457404,
          0.6305869639457404,
          0.6305869639457404,
          0.6305869639457404,
          0.270867318309241,
          0.6305869639457404,
          0.6305869639457404,
          0.6305869639457404,
          0.6305869639457404,
          0.3940752212762024,
          0.310932608895349,
          0.6305869639457404,
          0.3940752212762024,
          0.6305869639457404,
          0.6305869639457404,
          0.6305869639457404,
          0.6305869639457404,
          0.6305869639457404,
          0.6305869639457404,
          0.6305869639457404,
          0.6305869639457404,
          0.270867318309241,
          0.270867318309241,
          0.6305869639457404,
          0.6305869639457404,
          0.310932608895349,
          0.6305869639457404,
          0.6305869639457404,
          0.6305869639457404,
          0.270867318309241,
          0.310932608895349,
          0.6305869639457404,
          0.6305869639457404,
          0.6305869639457404,
          0.6305869639457404,
          0.6305869639457404,
          0.270867318309241,
          0.6305869639457404
         ]
        },
        {
         "hoverinfo": "text",
         "marker": {
          "color": "rgb(63, 63, 63)",
          "size": 11
         },
         "mode": "markers",
         "name": "data analyst",
         "text": [
          "machine learning engineer",
          "machine learning engineer",
          "applied machine learning engineer",
          "machine learning engineer",
          "machine learning engineer",
          "machine learning engineer",
          "machine learning engineer",
          "machine learning engineer",
          "machine learning engineer",
          "machine learning engineer",
          "machine learning engineer",
          "machine learning engineer",
          "machine learning engineer",
          "machine learning engineer",
          "machine learning engineer",
          "machine learning engineer",
          "machine learning engineer",
          "machine learning engineer",
          "machine learning engineer",
          "machine learning researcher",
          "machine learning engineer",
          "machine learning engineer",
          "machine learning engineer",
          "machine learning engineer",
          "machine learning engineer",
          "machine learning engineer",
          "machine learning engineer",
          "machine learning engineer",
          "machine learning engineer",
          "machine learning engineer",
          "machine learning engineer",
          "machine learning engineer",
          "machine learning engineer",
          "machine learning engineer",
          "machine learning engineer",
          "machine learning engineer",
          "machine learning scientist",
          "machine learning scientist",
          "machine learning engineer",
          "machine learning engineer",
          "machine learning engineer",
          "machine learning engineer",
          "machine learning engineer",
          "machine learning engineer",
          "machine learning engineer",
          "machine learning scientist",
          "machine learning scientist",
          "applied machine learning scientist",
          "applied machine learning scientist",
          "machine learning engineer",
          "machine learning engineer",
          "machine learning engineer",
          "machine learning engineer",
          "machine learning engineer",
          "machine learning engineer",
          "machine learning engineer",
          "machine learning engineer",
          "machine learning engineer",
          "machine learning engineer",
          "machine learning engineer",
          "machine learning engineer",
          "deep learning researcher",
          "machine learning engineer",
          "machine learning engineer",
          "machine learning engineer",
          "machine learning engineer",
          "machine learning engineer",
          "machine learning engineer",
          "machine learning engineer",
          "machine learning engineer",
          "machine learning scientist",
          "machine learning scientist",
          "machine learning engineer",
          "machine learning engineer",
          "machine learning infrastructure engineer",
          "machine learning infrastructure engineer",
          "machine learning engineer",
          "machine learning engineer",
          "machine learning engineer",
          "machine learning engineer",
          "machine learning engineer",
          "machine learning engineer",
          "machine learning engineer",
          "machine learning engineer",
          "machine learning engineer",
          "machine learning engineer",
          "machine learning engineer",
          "machine learning engineer",
          "machine learning engineer",
          "machine learning engineer",
          "machine learning engineer",
          "machine learning engineer",
          "machine learning engineer",
          "machine learning engineer",
          "machine learning engineer",
          "machine learning engineer",
          "machine learning infrastructure engineer",
          "machine learning infrastructure engineer",
          "applied machine learning engineer",
          "machine learning engineer",
          "machine learning engineer",
          "machine learning engineer",
          "machine learning engineer",
          "deep learning engineer",
          "deep learning engineer",
          "machine learning engineer",
          "machine learning engineer",
          "machine learning engineer",
          "machine learning engineer",
          "machine learning engineer",
          "machine learning engineer",
          "machine learning engineer",
          "machine learning engineer",
          "machine learning engineer",
          "machine learning engineer",
          "machine learning engineer",
          "machine learning engineer",
          "machine learning software engineer",
          "machine learning software engineer",
          "machine learning software engineer",
          "machine learning software engineer",
          "machine learning infrastructure engineer",
          "machine learning infrastructure engineer",
          "machine learning engineer",
          "machine learning engineer",
          "machine learning engineer",
          "machine learning engineer",
          "machine learning engineer",
          "machine learning engineer",
          "machine learning engineer",
          "machine learning engineer",
          "machine learning engineer",
          "machine learning engineer",
          "machine learning engineer",
          "machine learning software engineer",
          "machine learning engineer",
          "machine learning engineer",
          "machine learning engineer",
          "machine learning engineer",
          "machine learning engineer",
          "machine learning engineer",
          "machine learning engineer",
          "machine learning engineer",
          "machine learning engineer",
          "machine learning engineer",
          "machine learning engineer",
          "machine learning engineer",
          "machine learning engineer",
          "machine learning engineer",
          "machine learning engineer",
          "machine learning engineer",
          "machine learning engineer",
          "machine learning engineer",
          "machine learning engineer",
          "machine learning engineer",
          "machine learning engineer",
          "machine learning engineer",
          "machine learning engineer",
          "machine learning engineer",
          "machine learning engineer",
          "machine learning engineer",
          "machine learning engineer",
          "machine learning engineer",
          "machine learning engineer",
          "machine learning engineer",
          "machine learning engineer",
          "machine learning engineer",
          "machine learning engineer",
          "machine learning engineer",
          "machine learning engineer",
          "machine learning engineer",
          "machine learning engineer",
          "machine learning research engineer",
          "machine learning scientist",
          "machine learning scientist",
          "machine learning engineer",
          "machine learning engineer",
          "deep learning engineer",
          "deep learning engineer",
          "machine learning engineer",
          "machine learning engineer",
          "machine learning engineer",
          "machine learning engineer",
          "machine learning engineer",
          "machine learning engineer",
          "machine learning engineer",
          "machine learning engineer",
          "machine learning engineer",
          "machine learning engineer",
          "applied machine learning scientist",
          "machine learning engineer",
          "machine learning engineer",
          "machine learning software engineer",
          "machine learning software engineer",
          "machine learning developer",
          "machine learning engineer",
          "machine learning engineer",
          "machine learning engineer",
          "machine learning engineer",
          "machine learning engineer",
          "machine learning engineer",
          "machine learning software engineer",
          "machine learning engineer",
          "machine learning engineer",
          "machine learning engineer",
          "machine learning engineer",
          "machine learning engineer",
          "machine learning engineer",
          "machine learning engineer",
          "machine learning engineer",
          "machine learning engineer",
          "machine learning engineer",
          "machine learning engineer",
          "principal machine learning engineer",
          "machine learning engineer",
          "machine learning engineer",
          "machine learning researcher",
          "machine learning researcher",
          "machine learning engineer",
          "machine learning engineer",
          "machine learning researcher",
          "machine learning researcher",
          "machine learning scientist",
          "machine learning scientist",
          "machine learning engineer",
          "machine learning engineer",
          "machine learning software engineer",
          "machine learning software engineer",
          "machine learning researcher",
          "machine learning engineer",
          "machine learning engineer",
          "machine learning engineer",
          "machine learning engineer",
          "machine learning research engineer",
          "deep learning engineer",
          "deep learning engineer",
          "machine learning engineer",
          "machine learning engineer",
          "machine learning engineer",
          "machine learning engineer",
          "machine learning engineer",
          "machine learning engineer",
          "machine learning engineer",
          "machine learning engineer",
          "machine learning engineer",
          "machine learning engineer",
          "machine learning engineer",
          "machine learning engineer",
          "machine learning developer",
          "machine learning scientist",
          "machine learning engineer",
          "machine learning engineer",
          "machine learning engineer",
          "machine learning engineer",
          "machine learning engineer",
          "machine learning engineer",
          "machine learning engineer",
          "machine learning engineer",
          "machine learning engineer",
          "machine learning engineer",
          "machine learning engineer",
          "machine learning manager",
          "machine learning manager",
          "lead machine learning engineer",
          "machine learning engineer",
          "machine learning engineer",
          "machine learning engineer",
          "machine learning engineer",
          "machine learning engineer",
          "machine learning engineer",
          "machine learning engineer",
          "machine learning engineer",
          "machine learning engineer",
          "machine learning engineer",
          "machine learning engineer",
          "applied machine learning scientist",
          "machine learning research engineer",
          "machine learning scientist",
          "machine learning scientist",
          "machine learning developer",
          "machine learning scientist",
          "machine learning scientist",
          "applied machine learning scientist",
          "machine learning infrastructure engineer",
          "machine learning infrastructure engineer",
          "lead machine learning engineer",
          "machine learning engineer",
          "applied machine learning scientist",
          "machine learning engineer",
          "machine learning engineer",
          "machine learning engineer",
          "machine learning engineer",
          "machine learning engineer",
          "machine learning engineer",
          "machine learning engineer",
          "machine learning engineer",
          "machine learning engineer",
          "machine learning engineer",
          "machine learning engineer",
          "machine learning engineer",
          "machine learning engineer",
          "machine learning engineer",
          "machine learning engineer",
          "machine learning engineer",
          "machine learning engineer",
          "machine learning engineer",
          "machine learning scientist",
          "machine learning scientist",
          "machine learning research engineer",
          "applied machine learning scientist",
          "applied machine learning scientist",
          "machine learning engineer",
          "machine learning engineer",
          "machine learning engineer",
          "machine learning developer",
          "machine learning scientist",
          "machine learning engineer",
          "machine learning engineer",
          "machine learning engineer",
          "machine learning engineer",
          "machine learning engineer",
          "machine learning engineer",
          "machine learning engineer",
          "machine learning engineer",
          "head of machine learning",
          "machine learning engineer",
          "machine learning engineer",
          "machine learning engineer",
          "machine learning engineer",
          "machine learning scientist",
          "machine learning scientist",
          "machine learning engineer",
          "machine learning engineer",
          "machine learning engineer",
          "machine learning engineer",
          "machine learning engineer",
          "machine learning engineer",
          "machine learning developer",
          "machine learning manager",
          "machine learning engineer",
          "machine learning infrastructure engineer",
          "applied machine learning scientist",
          "machine learning engineer",
          "machine learning engineer",
          "machine learning engineer",
          "machine learning scientist",
          "machine learning developer",
          "applied machine learning scientist",
          "applied machine learning scientist",
          "lead machine learning engineer",
          "machine learning engineer",
          "machine learning scientist",
          "machine learning developer",
          "machine learning engineer",
          "machine learning engineer",
          "machine learning engineer",
          "machine learning engineer",
          "machine learning engineer",
          "machine learning scientist",
          "machine learning infrastructure engineer",
          "machine learning engineer",
          "machine learning scientist",
          "machine learning engineer",
          "machine learning engineer",
          "machine learning engineer",
          "machine learning engineer",
          "machine learning engineer",
          "machine learning engineer",
          "machine learning engineer",
          "machine learning engineer",
          "machine learning infrastructure engineer",
          "machine learning scientist",
          "machine learning engineer",
          "machine learning engineer",
          "machine learning engineer",
          "machine learning engineer",
          "machine learning scientist",
          "machine learning engineer",
          "machine learning engineer",
          "applied machine learning scientist"
         ],
         "type": "scatter",
         "x": [
          -0.00925403512773422,
          -0.00925403512773419,
          0.017867465474244778,
          -0.00925403512773419,
          -0.00925403512773419,
          -0.00925403512773419,
          -0.00925403512773419,
          -0.00925403512773419,
          -0.00925403512773419,
          -0.00925403512773419,
          -0.00925403512773419,
          -0.00925403512773419,
          -0.00925403512773419,
          -0.00925403512773419,
          -0.00925403512773419,
          -0.00925403512773419,
          -0.00925403512773419,
          -0.00925403512773419,
          -0.00925403512773419,
          0.11336661236802825,
          -0.00925403512773419,
          -0.00925403512773419,
          -0.00925403512773419,
          -0.00925403512773419,
          -0.00925403512773419,
          -0.00925403512773419,
          -0.00925403512773419,
          -0.00925403512773419,
          -0.00925403512773419,
          -0.00925403512773419,
          -0.00925403512773419,
          -0.00925403512773419,
          -0.00925403512773419,
          -0.00925403512773419,
          -0.00925403512773419,
          -0.00925403512773419,
          -0.10646892147478691,
          -0.10646892147478691,
          -0.00925403512773419,
          -0.00925403512773419,
          -0.00925403512773419,
          -0.00925403512773419,
          -0.00925403512773419,
          -0.00925403512773419,
          -0.00925403512773419,
          -0.10646892147478691,
          -0.10646892147478691,
          -0.054354635975400536,
          -0.054354635975400536,
          -0.00925403512773419,
          -0.00925403512773419,
          -0.00925403512773419,
          -0.00925403512773419,
          -0.00925403512773419,
          -0.00925403512773419,
          -0.00925403512773419,
          -0.00925403512773419,
          -0.00925403512773419,
          -0.00925403512773419,
          -0.00925403512773419,
          -0.00925403512773419,
          0.11559507043351452,
          -0.00925403512773419,
          -0.00925403512773419,
          -0.00925403512773419,
          -0.00925403512773419,
          -0.00925403512773419,
          -0.00925403512773419,
          -0.00925403512773419,
          -0.00925403512773419,
          -0.10646892147478691,
          -0.10646892147478691,
          -0.00925403512773419,
          -0.00925403512773419,
          0.038765420904703626,
          0.038765420904703626,
          -0.00925403512773419,
          -0.00925403512773419,
          -0.00925403512773419,
          -0.00925403512773419,
          -0.00925403512773419,
          -0.00925403512773419,
          -0.00925403512773419,
          -0.00925403512773419,
          -0.00925403512773419,
          -0.00925403512773419,
          -0.00925403512773419,
          -0.00925403512773419,
          -0.00925403512773419,
          -0.00925403512773419,
          -0.00925403512773419,
          -0.00925403512773419,
          -0.00925403512773419,
          -0.00925403512773419,
          -0.00925403512773419,
          -0.00925403512773419,
          0.038765420904703626,
          0.038765420904703626,
          0.017867465474244778,
          -0.00925403512773419,
          -0.00925403512773419,
          -0.00925403512773419,
          -0.00925403512773419,
          0.040547263900648646,
          0.040547263900648646,
          -0.00925403512773419,
          -0.00925403512773419,
          -0.00925403512773419,
          -0.00925403512773419,
          -0.00925403512773419,
          -0.00925403512773419,
          -0.00925403512773419,
          -0.00925403512773419,
          -0.00925403512773419,
          -0.00925403512773419,
          -0.00925403512773419,
          -0.00925403512773419,
          0.03894090632530498,
          0.03894090632530498,
          0.03894090632530498,
          0.03894090632530498,
          0.038765420904703626,
          0.038765420904703626,
          -0.00925403512773419,
          -0.00925403512773419,
          -0.00925403512773419,
          -0.00925403512773419,
          -0.00925403512773419,
          -0.00925403512773419,
          -0.00925403512773419,
          -0.00925403512773419,
          -0.00925403512773419,
          -0.00925403512773419,
          -0.00925403512773419,
          0.03894090632530498,
          -0.00925403512773419,
          -0.00925403512773419,
          -0.00925403512773419,
          -0.00925403512773419,
          -0.00925403512773419,
          -0.00925403512773419,
          -0.00925403512773419,
          -0.00925403512773419,
          -0.00925403512773419,
          -0.00925403512773419,
          -0.00925403512773419,
          -0.00925403512773419,
          -0.00925403512773419,
          -0.00925403512773419,
          -0.00925403512773419,
          -0.00925403512773419,
          -0.00925403512773419,
          -0.00925403512773419,
          -0.00925403512773419,
          -0.00925403512773419,
          -0.00925403512773419,
          -0.00925403512773419,
          -0.00925403512773419,
          -0.00925403512773419,
          -0.00925403512773419,
          -0.00925403512773419,
          -0.00925403512773419,
          -0.00925403512773419,
          -0.00925403512773419,
          -0.00925403512773419,
          -0.00925403512773419,
          -0.00925403512773419,
          -0.00925403512773419,
          -0.00925403512773419,
          -0.00925403512773419,
          -0.00925403512773419,
          -0.00925403512773419,
          0.010347792741022517,
          -0.10646892147478691,
          -0.10646892147478691,
          -0.00925403512773419,
          -0.00925403512773419,
          0.040547263900648646,
          0.040547263900648646,
          -0.00925403512773419,
          -0.00925403512773419,
          -0.00925403512773419,
          -0.00925403512773419,
          -0.00925403512773419,
          -0.00925403512773419,
          -0.00925403512773419,
          -0.00925403512773419,
          -0.00925403512773419,
          -0.00925403512773419,
          -0.054354635975400536,
          -0.00925403512773419,
          -0.00925403512773419,
          0.03894090632530498,
          0.03894090632530498,
          0.11642639412395614,
          -0.00925403512773419,
          -0.00925403512773419,
          -0.00925403512773419,
          -0.00925403512773419,
          -0.00925403512773419,
          -0.00925403512773419,
          0.03894090632530498,
          -0.00925403512773419,
          -0.00925403512773419,
          -0.00925403512773419,
          -0.00925403512773419,
          -0.00925403512773419,
          -0.00925403512773419,
          -0.00925403512773419,
          -0.00925403512773419,
          -0.00925403512773419,
          -0.00925403512773419,
          -0.00925403512773419,
          0.04076317621498726,
          -0.00925403512773419,
          -0.00925403512773419,
          0.11336661236802825,
          0.11336661236802825,
          -0.00925403512773419,
          -0.00925403512773419,
          0.11336661236802825,
          0.11336661236802825,
          -0.10646892147478691,
          -0.10646892147478691,
          -0.00925403512773419,
          -0.00925403512773419,
          0.03894090632530498,
          0.03894090632530498,
          0.11336661236802825,
          -0.00925403512773419,
          -0.00925403512773419,
          -0.00925403512773419,
          -0.00925403512773419,
          0.010347792741022517,
          0.040547263900648646,
          0.040547263900648646,
          -0.00925403512773419,
          -0.00925403512773419,
          -0.00925403512773419,
          -0.00925403512773419,
          -0.00925403512773419,
          -0.00925403512773419,
          -0.00925403512773419,
          -0.00925403512773419,
          -0.00925403512773419,
          -0.00925403512773419,
          -0.00925403512773419,
          -0.00925403512773419,
          0.11642639412395614,
          -0.10646892147478691,
          -0.00925403512773419,
          -0.00925403512773419,
          -0.00925403512773419,
          -0.00925403512773419,
          -0.00925403512773419,
          -0.00925403512773419,
          -0.00925403512773419,
          -0.00925403512773419,
          -0.00925403512773419,
          -0.00925403512773419,
          -0.00925403512773419,
          0.12296986036461115,
          0.12296986036461115,
          0.035052013109969436,
          -0.00925403512773419,
          -0.00925403512773419,
          -0.00925403512773419,
          -0.00925403512773419,
          -0.00925403512773419,
          -0.00925403512773419,
          -0.00925403512773419,
          -0.00925403512773419,
          -0.00925403512773419,
          -0.00925403512773419,
          -0.00925403512773419,
          -0.054354635975400536,
          0.010347792741022517,
          -0.10646892147478691,
          -0.10646892147478691,
          0.11642639412395614,
          -0.10646892147478691,
          -0.10646892147478691,
          -0.054354635975400536,
          0.038765420904703626,
          0.038765420904703626,
          0.035052013109969436,
          -0.00925403512773419,
          -0.054354635975400536,
          -0.00925403512773419,
          -0.00925403512773419,
          -0.00925403512773419,
          -0.00925403512773419,
          -0.00925403512773419,
          -0.00925403512773419,
          -0.00925403512773419,
          -0.00925403512773419,
          -0.00925403512773419,
          -0.00925403512773419,
          -0.00925403512773419,
          -0.00925403512773419,
          -0.00925403512773419,
          -0.00925403512773419,
          -0.00925403512773419,
          -0.00925403512773419,
          -0.00925403512773419,
          -0.00925403512773419,
          -0.10646892147478691,
          -0.10646892147478691,
          0.010347792741022517,
          -0.054354635975400536,
          -0.054354635975400536,
          -0.00925403512773419,
          -0.00925403512773419,
          -0.00925403512773419,
          0.11642639412395614,
          -0.10646892147478691,
          -0.00925403512773419,
          -0.00925403512773419,
          -0.00925403512773419,
          -0.00925403512773419,
          -0.00925403512773419,
          -0.00925403512773419,
          -0.00925403512773419,
          -0.00925403512773419,
          0.11448788637056438,
          -0.00925403512773419,
          -0.00925403512773419,
          -0.00925403512773419,
          -0.00925403512773419,
          -0.10646892147478691,
          -0.10646892147478691,
          -0.00925403512773419,
          -0.00925403512773419,
          -0.00925403512773419,
          -0.00925403512773419,
          -0.00925403512773419,
          -0.00925403512773419,
          0.11642639412395614,
          0.12296986036461115,
          -0.00925403512773419,
          0.038765420904703626,
          -0.054354635975400536,
          -0.00925403512773419,
          -0.00925403512773419,
          -0.00925403512773419,
          -0.10646892147478691,
          0.11642639412395614,
          -0.054354635975400536,
          -0.054354635975400536,
          0.035052013109969436,
          -0.00925403512773419,
          -0.10646892147478691,
          0.11642639412395614,
          -0.00925403512773419,
          -0.00925403512773419,
          -0.00925403512773419,
          -0.00925403512773419,
          -0.00925403512773419,
          -0.10646892147478691,
          0.038765420904703626,
          -0.00925403512773419,
          -0.10646892147478691,
          -0.00925403512773419,
          -0.00925403512773419,
          -0.00925403512773419,
          -0.00925403512773419,
          -0.00925403512773419,
          -0.00925403512773419,
          -0.00925403512773419,
          -0.00925403512773419,
          0.038765420904703626,
          -0.10646892147478691,
          -0.00925403512773419,
          -0.00925403512773419,
          -0.00925403512773419,
          -0.00925403512773419,
          -0.10646892147478691,
          -0.00925403512773419,
          -0.00925403512773419,
          -0.054354635975400536
         ],
         "y": [
          -0.2981057776184853,
          -0.2981057776184853,
          -0.17469984341579142,
          -0.2981057776184853,
          -0.2981057776184853,
          -0.2981057776184853,
          -0.2981057776184853,
          -0.2981057776184853,
          -0.2981057776184853,
          -0.2981057776184853,
          -0.2981057776184853,
          -0.2981057776184853,
          -0.2981057776184853,
          -0.2981057776184853,
          -0.2981057776184853,
          -0.2981057776184853,
          -0.2981057776184853,
          -0.2981057776184853,
          -0.2981057776184853,
          0.0029747763548205125,
          -0.2981057776184853,
          -0.2981057776184853,
          -0.2981057776184853,
          -0.2981057776184853,
          -0.2981057776184853,
          -0.2981057776184853,
          -0.2981057776184853,
          -0.2981057776184853,
          -0.2981057776184853,
          -0.2981057776184853,
          -0.2981057776184853,
          -0.2981057776184853,
          -0.2981057776184853,
          -0.2981057776184853,
          -0.2981057776184853,
          -0.2981057776184853,
          0.2626740994654324,
          0.2626740994654324,
          -0.2981057776184853,
          -0.2981057776184853,
          -0.2981057776184853,
          -0.2981057776184853,
          -0.2981057776184853,
          -0.2981057776184853,
          -0.2981057776184853,
          0.2626740994654324,
          0.2626740994654324,
          0.22957821027297018,
          0.22957821027297018,
          -0.2981057776184853,
          -0.2981057776184853,
          -0.2981057776184853,
          -0.2981057776184853,
          -0.2981057776184853,
          -0.2981057776184853,
          -0.2981057776184853,
          -0.2981057776184853,
          -0.2981057776184853,
          -0.2981057776184853,
          -0.2981057776184853,
          -0.2981057776184853,
          0.03753671908807969,
          -0.2981057776184853,
          -0.2981057776184853,
          -0.2981057776184853,
          -0.2981057776184853,
          -0.2981057776184853,
          -0.2981057776184853,
          -0.2981057776184853,
          -0.2981057776184853,
          0.2626740994654324,
          0.2626740994654324,
          -0.2981057776184853,
          -0.2981057776184853,
          -0.1638571139934479,
          -0.1638571139934479,
          -0.2981057776184853,
          -0.2981057776184853,
          -0.2981057776184853,
          -0.2981057776184853,
          -0.2981057776184853,
          -0.2981057776184853,
          -0.2981057776184853,
          -0.2981057776184853,
          -0.2981057776184853,
          -0.2981057776184853,
          -0.2981057776184853,
          -0.2981057776184853,
          -0.2981057776184853,
          -0.2981057776184853,
          -0.2981057776184853,
          -0.2981057776184853,
          -0.2981057776184853,
          -0.2981057776184853,
          -0.2981057776184853,
          -0.2981057776184853,
          -0.1638571139934479,
          -0.1638571139934479,
          -0.17469984341579142,
          -0.2981057776184853,
          -0.2981057776184853,
          -0.2981057776184853,
          -0.2981057776184853,
          -0.13258525123009768,
          -0.13258525123009768,
          -0.2981057776184853,
          -0.2981057776184853,
          -0.2981057776184853,
          -0.2981057776184853,
          -0.2981057776184853,
          -0.2981057776184853,
          -0.2981057776184853,
          -0.2981057776184853,
          -0.2981057776184853,
          -0.2981057776184853,
          -0.2981057776184853,
          -0.2981057776184853,
          -0.16333044495998977,
          -0.16333044495998977,
          -0.16333044495998977,
          -0.16333044495998977,
          -0.1638571139934479,
          -0.1638571139934479,
          -0.2981057776184853,
          -0.2981057776184853,
          -0.2981057776184853,
          -0.2981057776184853,
          -0.2981057776184853,
          -0.2981057776184853,
          -0.2981057776184853,
          -0.2981057776184853,
          -0.2981057776184853,
          -0.2981057776184853,
          -0.2981057776184853,
          -0.16333044495998977,
          -0.2981057776184853,
          -0.2981057776184853,
          -0.2981057776184853,
          -0.2981057776184853,
          -0.2981057776184853,
          -0.2981057776184853,
          -0.2981057776184853,
          -0.2981057776184853,
          -0.2981057776184853,
          -0.2981057776184853,
          -0.2981057776184853,
          -0.2981057776184853,
          -0.2981057776184853,
          -0.2981057776184853,
          -0.2981057776184853,
          -0.2981057776184853,
          -0.2981057776184853,
          -0.2981057776184853,
          -0.2981057776184853,
          -0.2981057776184853,
          -0.2981057776184853,
          -0.2981057776184853,
          -0.2981057776184853,
          -0.2981057776184853,
          -0.2981057776184853,
          -0.2981057776184853,
          -0.2981057776184853,
          -0.2981057776184853,
          -0.2981057776184853,
          -0.2981057776184853,
          -0.2981057776184853,
          -0.2981057776184853,
          -0.2981057776184853,
          -0.2981057776184853,
          -0.2981057776184853,
          -0.2981057776184853,
          -0.2981057776184853,
          -0.18794001967039622,
          0.2626740994654324,
          0.2626740994654324,
          -0.2981057776184853,
          -0.2981057776184853,
          -0.13258525123009768,
          -0.13258525123009768,
          -0.2981057776184853,
          -0.2981057776184853,
          -0.2981057776184853,
          -0.2981057776184853,
          -0.2981057776184853,
          -0.2981057776184853,
          -0.2981057776184853,
          -0.2981057776184853,
          -0.2981057776184853,
          -0.2981057776184853,
          0.22957821027297018,
          -0.2981057776184853,
          -0.2981057776184853,
          -0.16333044495998977,
          -0.16333044495998977,
          -0.003862262138286246,
          -0.2981057776184853,
          -0.2981057776184853,
          -0.2981057776184853,
          -0.2981057776184853,
          -0.2981057776184853,
          -0.2981057776184853,
          -0.16333044495998977,
          -0.2981057776184853,
          -0.2981057776184853,
          -0.2981057776184853,
          -0.2981057776184853,
          -0.2981057776184853,
          -0.2981057776184853,
          -0.2981057776184853,
          -0.2981057776184853,
          -0.2981057776184853,
          -0.2981057776184853,
          -0.2981057776184853,
          -0.1543451796172633,
          -0.2981057776184853,
          -0.2981057776184853,
          0.0029747763548205125,
          0.0029747763548205125,
          -0.2981057776184853,
          -0.2981057776184853,
          0.0029747763548205125,
          0.0029747763548205125,
          0.2626740994654324,
          0.2626740994654324,
          -0.2981057776184853,
          -0.2981057776184853,
          -0.16333044495998977,
          -0.16333044495998977,
          0.0029747763548205125,
          -0.2981057776184853,
          -0.2981057776184853,
          -0.2981057776184853,
          -0.2981057776184853,
          -0.18794001967039622,
          -0.13258525123009768,
          -0.13258525123009768,
          -0.2981057776184853,
          -0.2981057776184853,
          -0.2981057776184853,
          -0.2981057776184853,
          -0.2981057776184853,
          -0.2981057776184853,
          -0.2981057776184853,
          -0.2981057776184853,
          -0.2981057776184853,
          -0.2981057776184853,
          -0.2981057776184853,
          -0.2981057776184853,
          -0.003862262138286246,
          0.2626740994654324,
          -0.2981057776184853,
          -0.2981057776184853,
          -0.2981057776184853,
          -0.2981057776184853,
          -0.2981057776184853,
          -0.2981057776184853,
          -0.2981057776184853,
          -0.2981057776184853,
          -0.2981057776184853,
          -0.2981057776184853,
          -0.2981057776184853,
          -0.008400168277774032,
          -0.008400168277774032,
          -0.1762666734344158,
          -0.2981057776184853,
          -0.2981057776184853,
          -0.2981057776184853,
          -0.2981057776184853,
          -0.2981057776184853,
          -0.2981057776184853,
          -0.2981057776184853,
          -0.2981057776184853,
          -0.2981057776184853,
          -0.2981057776184853,
          -0.2981057776184853,
          0.22957821027297018,
          -0.18794001967039622,
          0.2626740994654324,
          0.2626740994654324,
          -0.003862262138286246,
          0.2626740994654324,
          0.2626740994654324,
          0.22957821027297018,
          -0.1638571139934479,
          -0.1638571139934479,
          -0.1762666734344158,
          -0.2981057776184853,
          0.22957821027297018,
          -0.2981057776184853,
          -0.2981057776184853,
          -0.2981057776184853,
          -0.2981057776184853,
          -0.2981057776184853,
          -0.2981057776184853,
          -0.2981057776184853,
          -0.2981057776184853,
          -0.2981057776184853,
          -0.2981057776184853,
          -0.2981057776184853,
          -0.2981057776184853,
          -0.2981057776184853,
          -0.2981057776184853,
          -0.2981057776184853,
          -0.2981057776184853,
          -0.2981057776184853,
          -0.2981057776184853,
          0.2626740994654324,
          0.2626740994654324,
          -0.18794001967039622,
          0.22957821027297018,
          0.22957821027297018,
          -0.2981057776184853,
          -0.2981057776184853,
          -0.2981057776184853,
          -0.003862262138286246,
          0.2626740994654324,
          -0.2981057776184853,
          -0.2981057776184853,
          -0.2981057776184853,
          -0.2981057776184853,
          -0.2981057776184853,
          -0.2981057776184853,
          -0.2981057776184853,
          -0.2981057776184853,
          0.00041459670526680485,
          -0.2981057776184853,
          -0.2981057776184853,
          -0.2981057776184853,
          -0.2981057776184853,
          0.2626740994654324,
          0.2626740994654324,
          -0.2981057776184853,
          -0.2981057776184853,
          -0.2981057776184853,
          -0.2981057776184853,
          -0.2981057776184853,
          -0.2981057776184853,
          -0.003862262138286246,
          -0.008400168277774032,
          -0.2981057776184853,
          -0.1638571139934479,
          0.22957821027297018,
          -0.2981057776184853,
          -0.2981057776184853,
          -0.2981057776184853,
          0.2626740994654324,
          -0.003862262138286246,
          0.22957821027297018,
          0.22957821027297018,
          -0.1762666734344158,
          -0.2981057776184853,
          0.2626740994654324,
          -0.003862262138286246,
          -0.2981057776184853,
          -0.2981057776184853,
          -0.2981057776184853,
          -0.2981057776184853,
          -0.2981057776184853,
          0.2626740994654324,
          -0.1638571139934479,
          -0.2981057776184853,
          0.2626740994654324,
          -0.2981057776184853,
          -0.2981057776184853,
          -0.2981057776184853,
          -0.2981057776184853,
          -0.2981057776184853,
          -0.2981057776184853,
          -0.2981057776184853,
          -0.2981057776184853,
          -0.1638571139934479,
          0.2626740994654324,
          -0.2981057776184853,
          -0.2981057776184853,
          -0.2981057776184853,
          -0.2981057776184853,
          0.2626740994654324,
          -0.2981057776184853,
          -0.2981057776184853,
          0.22957821027297018
         ]
        },
        {
         "hoverinfo": "text",
         "marker": {
          "color": "rgb(127, 127, 127)",
          "size": 11
         },
         "mode": "markers",
         "name": "machine learning engineer",
         "text": [
          "data engineer",
          "data engineer",
          "data engineer",
          "data engineer",
          "research engineer",
          "research engineer",
          "data engineer",
          "data engineer",
          "data engineer",
          "data engineer",
          "data engineer",
          "data engineer",
          "data engineer",
          "data engineer",
          "computer vision engineer",
          "computer vision engineer",
          "data architect",
          "data architect",
          "data engineer",
          "data engineer",
          "ai developer",
          "business intelligence engineer",
          "business intelligence engineer",
          "data engineer",
          "data engineer",
          "data engineer",
          "data engineer",
          "data engineer",
          "data engineer",
          "data engineer",
          "data engineer",
          "data engineer",
          "data engineer",
          "analytics engineer",
          "analytics engineer",
          "data engineer",
          "data engineer",
          "research engineer",
          "research engineer",
          "analytics engineer",
          "analytics engineer",
          "analytics engineer",
          "analytics engineer",
          "analytics engineer",
          "analytics engineer",
          "data engineer",
          "data engineer",
          "data engineer",
          "data engineer",
          "data analytics manager",
          "data analytics manager",
          "data engineer",
          "data engineer",
          "data engineer",
          "data engineer",
          "data engineer",
          "data engineer",
          "data engineer",
          "data engineer",
          "analytics engineer",
          "analytics engineer",
          "data engineer",
          "data engineer",
          "data engineer",
          "data engineer",
          "data engineer",
          "data engineer",
          "analytics engineer",
          "analytics engineer",
          "data engineer",
          "data engineer",
          "data engineer",
          "data engineer",
          "data engineer",
          "data engineer",
          "etl engineer",
          "etl engineer",
          "data engineer",
          "data engineer",
          "research engineer",
          "research engineer",
          "data architect",
          "data architect",
          "data architect",
          "data architect",
          "data devops engineer",
          "data engineer",
          "data engineer",
          "data engineer",
          "data engineer",
          "data engineer",
          "data engineer",
          "computer vision engineer",
          "computer vision engineer",
          "data engineer",
          "ai developer",
          "data engineer",
          "data engineer",
          "data engineer",
          "data engineer",
          "data engineer",
          "data engineer",
          "head of data",
          "head of data",
          "ai developer",
          "data engineer",
          "data engineer",
          "data engineer",
          "data engineer",
          "data science manager",
          "data science manager",
          "analytics engineer",
          "analytics engineer",
          "data engineer",
          "data engineer",
          "research engineer",
          "research engineer",
          "data engineer",
          "data engineer",
          "data engineer",
          "data engineer",
          "analytics engineer",
          "analytics engineer",
          "analytics engineer",
          "analytics engineer",
          "data engineer",
          "data engineer",
          "data engineer",
          "data engineer",
          "analytics engineer",
          "analytics engineer",
          "data engineer",
          "data engineer",
          "data manager",
          "data manager",
          "data manager",
          "data manager",
          "ai developer",
          "data architect",
          "data architect",
          "data engineer",
          "data engineer",
          "data engineer",
          "data engineer",
          "data engineer",
          "data engineer",
          "data engineer",
          "data engineer",
          "big data engineer",
          "data engineer",
          "data engineer",
          "data engineer",
          "data engineer",
          "data specialist",
          "data specialist",
          "data engineer",
          "data engineer",
          "data analytics manager",
          "data analytics manager",
          "data engineer",
          "data engineer",
          "data engineer",
          "data engineer",
          "bi data engineer",
          "data engineer",
          "data engineer",
          "data engineer",
          "data engineer",
          "analytics engineer",
          "analytics engineer",
          "research engineer",
          "research engineer",
          "data architect",
          "data architect",
          "research engineer",
          "research engineer",
          "data engineer",
          "data engineer",
          "data manager",
          "data manager",
          "data engineer",
          "data engineer",
          "data engineer",
          "data engineer",
          "data engineer",
          "data engineer",
          "data engineer",
          "data engineer",
          "data architect",
          "data architect",
          "data engineer",
          "data engineer",
          "data engineer",
          "data engineer",
          "data engineer",
          "data engineer",
          "data engineer",
          "director of data science",
          "director of data science",
          "data engineer",
          "data engineer",
          "ai developer",
          "ai developer",
          "mlops engineer",
          "mlops engineer",
          "data engineer",
          "data engineer",
          "data engineer",
          "data engineer",
          "data engineer",
          "data engineer",
          "data engineer",
          "data engineer",
          "research engineer",
          "research engineer",
          "data architect",
          "data architect",
          "data architect",
          "data architect",
          "data engineer",
          "data engineer",
          "data engineer",
          "data engineer",
          "data engineer",
          "data engineer",
          "analytics engineer",
          "analytics engineer",
          "data engineer",
          "data engineer",
          "data engineer",
          "data engineer",
          "data engineer",
          "data engineer",
          "autonomous vehicle technician",
          "data engineer",
          "data engineer",
          "data engineer",
          "data engineer",
          "data engineer",
          "data engineer",
          "data engineer",
          "data engineer",
          "data engineer",
          "data engineer",
          "data engineer",
          "data engineer",
          "data engineer",
          "data engineer",
          "data engineer",
          "data engineer",
          "data engineer",
          "data engineer",
          "data engineer",
          "data engineer",
          "data engineer",
          "data engineer",
          "data engineer",
          "data engineer",
          "data engineer",
          "data engineer",
          "data engineer",
          "data engineer",
          "data engineer",
          "data engineer",
          "data engineer",
          "data engineer",
          "data architect",
          "data architect",
          "data engineer",
          "data engineer",
          "data engineer",
          "data engineer",
          "data architect",
          "data architect",
          "data engineer",
          "data engineer",
          "data engineer",
          "data engineer",
          "cloud database engineer",
          "data engineer",
          "data engineer",
          "research engineer",
          "research engineer",
          "data architect",
          "data architect",
          "data manager",
          "data manager",
          "analytics engineer",
          "analytics engineer",
          "data engineer",
          "data engineer",
          "data science manager",
          "data science manager",
          "data engineer",
          "data engineer",
          "data engineer",
          "data engineer",
          "data engineer",
          "data engineer",
          "data engineer",
          "data engineer",
          "data engineer",
          "data engineer",
          "data infrastructure engineer",
          "data infrastructure engineer",
          "analytics engineer",
          "analytics engineer",
          "ml engineer",
          "ml engineer",
          "data architect",
          "data architect",
          "software data engineer",
          "ai programmer",
          "ai developer",
          "data engineer",
          "data engineer",
          "data engineer",
          "data engineer",
          "data engineer",
          "data engineer",
          "analytics engineer",
          "analytics engineer",
          "data engineer",
          "data engineer",
          "data operations engineer",
          "data operations engineer",
          "data engineer",
          "data engineer",
          "data engineer",
          "data engineer",
          "data engineer",
          "data engineer",
          "data engineer",
          "data engineer",
          "bi developer",
          "data science lead",
          "data engineer",
          "data engineer",
          "ml engineer",
          "ml engineer",
          "analytics engineer",
          "analytics engineer",
          "data engineer",
          "data engineer",
          "data science manager",
          "data science manager",
          "data analytics manager",
          "data analytics manager",
          "data engineer",
          "data engineer",
          "data architect",
          "data architect",
          "data engineer",
          "data engineer",
          "data science manager",
          "data science manager",
          "data science consultant",
          "data science consultant",
          "data engineer",
          "data engineer",
          "data engineer",
          "data engineer",
          "data analytics specialist",
          "data analytics specialist",
          "ai developer",
          "data engineer",
          "data engineer",
          "data engineer",
          "data engineer",
          "data engineer",
          "data engineer",
          "software data engineer",
          "data engineer",
          "data engineer",
          "data engineer",
          "data engineer",
          "data engineer",
          "data engineer",
          "data engineer",
          "data engineer",
          "data engineer",
          "data engineer",
          "data engineer",
          "data engineer",
          "data engineer",
          "data engineer",
          "data manager",
          "data manager",
          "data engineer",
          "data engineer",
          "data engineer",
          "data engineer",
          "data engineer",
          "data engineer",
          "data engineer",
          "data engineer",
          "data engineer",
          "data engineer",
          "data engineer",
          "data engineer",
          "data engineer",
          "data engineer",
          "data engineer",
          "data engineer",
          "analytics engineer",
          "analytics engineer",
          "data engineer",
          "data engineer",
          "data engineer",
          "data engineer",
          "data analytics manager",
          "data analytics manager",
          "data engineer",
          "data engineer",
          "head of data",
          "data science manager",
          "data science manager",
          "data science manager",
          "computer vision engineer",
          "ai developer",
          "data engineer",
          "data engineer",
          "data science consultant",
          "data engineer",
          "data engineer",
          "data architect",
          "data architect",
          "data engineer",
          "data engineer",
          "research engineer",
          "research engineer",
          "data engineer",
          "data engineer",
          "data manager",
          "data manager",
          "head of data science",
          "head of data science",
          "data engineer",
          "data engineer",
          "data engineer",
          "data engineer",
          "data engineer",
          "data engineer",
          "data engineer",
          "data engineer",
          "data science manager",
          "data science manager",
          "data manager",
          "data manager",
          "data engineer",
          "data engineer",
          "data engineer",
          "data engineer",
          "data engineer",
          "data engineer",
          "data engineer",
          "data engineer",
          "data engineer",
          "data engineer",
          "research engineer",
          "research engineer",
          "analytics engineer",
          "analytics engineer",
          "data engineer",
          "data engineer",
          "data engineer",
          "data engineer",
          "analytics engineer",
          "analytics engineer",
          "data manager",
          "data manager",
          "data engineer",
          "data engineer",
          "data engineer",
          "data infrastructure engineer",
          "data infrastructure engineer",
          "data infrastructure engineer",
          "data infrastructure engineer",
          "data science manager",
          "data science manager",
          "data engineer",
          "data engineer",
          "data architect",
          "data architect",
          "data engineer",
          "data engineer",
          "data engineer",
          "data engineer",
          "data engineer",
          "data engineer",
          "data engineer",
          "data engineer",
          "data engineer",
          "data engineer",
          "data engineer",
          "data engineer",
          "data science lead",
          "data science lead",
          "data engineer",
          "data engineer",
          "data engineer",
          "data engineer",
          "data engineer",
          "data engineer",
          "data science lead",
          "data science lead",
          "data architect",
          "data architect",
          "data manager",
          "data manager",
          "research engineer",
          "research engineer",
          "data engineer",
          "data engineer",
          "data engineer",
          "data engineer",
          "data architect",
          "data architect",
          "data engineer",
          "data engineer",
          "data engineer",
          "data engineer",
          "data engineer",
          "data engineer",
          "big data architect",
          "data engineer",
          "data engineer",
          "data engineer",
          "data engineer",
          "data engineer",
          "data engineer",
          "data engineer",
          "data engineer",
          "data engineer",
          "data engineer",
          "data engineer",
          "data engineer",
          "data engineer",
          "data engineer",
          "data architect",
          "data architect",
          "data architect",
          "data architect",
          "data science manager",
          "data science manager",
          "data engineer",
          "data engineer",
          "data science lead",
          "data science lead",
          "data engineer",
          "data engineer",
          "data engineer",
          "data engineer",
          "data engineer",
          "data engineer",
          "computer vision software engineer",
          "data engineer",
          "data engineer",
          "data engineer",
          "data engineer",
          "data engineer",
          "data engineer",
          "research engineer",
          "research engineer",
          "data engineer",
          "data engineer",
          "director of data science",
          "azure data engineer",
          "data engineer",
          "bi developer",
          "bi developer",
          "data analytics manager",
          "data analytics manager",
          "data engineer",
          "data engineer",
          "data engineer",
          "data engineer",
          "ml engineer",
          "ml engineer",
          "data engineer",
          "data engineer",
          "data analytics manager",
          "data analytics manager",
          "data engineer",
          "data engineer",
          "data engineer",
          "data engineer",
          "data engineer",
          "data engineer",
          "data engineer",
          "data engineer",
          "data engineer",
          "data engineer",
          "data engineer",
          "data engineer",
          "data engineer",
          "data engineer",
          "data engineer",
          "data engineer",
          "head of data science",
          "head of data science",
          "bi developer",
          "bi developer",
          "data engineer",
          "data engineer",
          "data manager",
          "data manager",
          "big data engineer",
          "data engineer",
          "data engineer",
          "data engineer",
          "data engineer",
          "data engineer",
          "data engineer",
          "marketing data engineer",
          "data architect",
          "data architect",
          "data engineer",
          "data engineer",
          "data engineer",
          "data engineer",
          "head of data science",
          "data science manager",
          "data science manager",
          "data manager",
          "data manager",
          "analytics engineer",
          "analytics engineer",
          "analytics engineer",
          "analytics engineer",
          "data engineer",
          "data engineer",
          "data engineer",
          "data engineer",
          "data engineer",
          "data engineer",
          "data engineer",
          "data engineer",
          "data engineer",
          "data engineer",
          "data engineer",
          "data engineer",
          "data engineer",
          "data engineer",
          "data engineer",
          "data engineer",
          "data engineer",
          "data engineer",
          "data engineer",
          "data engineer",
          "data engineer",
          "data engineer",
          "data engineer",
          "data engineer",
          "ml engineer",
          "ml engineer",
          "ai developer",
          "data engineer",
          "data engineer",
          "data engineer",
          "data engineer",
          "data engineer",
          "data engineer",
          "data engineer",
          "data engineer",
          "data engineer",
          "data engineer",
          "computer vision engineer",
          "ai developer",
          "data analytics lead",
          "data engineer",
          "data engineer",
          "bi developer",
          "bi developer",
          "data science manager",
          "data science manager",
          "data engineer",
          "data engineer",
          "data engineer",
          "data engineer",
          "data engineer",
          "data engineer",
          "data architect",
          "data architect",
          "data architect",
          "data architect",
          "data science consultant",
          "data science consultant",
          "data engineer",
          "data engineer",
          "computer vision engineer",
          "data science consultant",
          "data science consultant",
          "data engineer",
          "data engineer",
          "data engineer",
          "data engineer",
          "data engineer",
          "data engineer",
          "ml engineer",
          "ml engineer",
          "data engineer",
          "data engineer",
          "bi developer",
          "bi developer",
          "data lead",
          "data lead",
          "data engineer",
          "data engineer",
          "data engineer",
          "data engineer",
          "data engineer",
          "data engineer",
          "data engineer",
          "data engineer",
          "analytics engineer",
          "analytics engineer",
          "data engineer",
          "data engineer",
          "data architect",
          "data architect",
          "data engineer",
          "data engineer",
          "data science engineer",
          "data science engineer",
          "cloud database engineer",
          "cloud database engineer",
          "data science manager",
          "data science manager",
          "data engineer",
          "data engineer",
          "bi developer",
          "bi developer",
          "data engineer",
          "data engineer",
          "data engineer",
          "data engineer",
          "nlp engineer",
          "nlp engineer",
          "data engineer",
          "data engineer",
          "nlp engineer",
          "nlp engineer",
          "data engineer",
          "data engineer",
          "ml engineer",
          "ml engineer",
          "data engineer",
          "data engineer",
          "research engineer",
          "research engineer",
          "data engineer",
          "data engineer",
          "data engineer",
          "data engineer",
          "data engineer",
          "data engineer",
          "data engineer",
          "data engineer",
          "data engineer",
          "data engineer",
          "research engineer",
          "research engineer",
          "research engineer",
          "research engineer",
          "data analytics manager",
          "data engineer",
          "data engineer",
          "data engineer",
          "data engineer",
          "computer vision engineer",
          "computer vision engineer",
          "data architect",
          "data architect",
          "data architect",
          "data architect",
          "data engineer",
          "data engineer",
          "data engineer",
          "data engineer",
          "data engineer",
          "data engineer",
          "data architect",
          "data architect",
          "data engineer",
          "data engineer",
          "data engineer",
          "data engineer",
          "data engineer",
          "data engineer",
          "manager data management",
          "data engineer",
          "data engineer",
          "data engineer",
          "data engineer",
          "data science consultant",
          "data science consultant",
          "data engineer",
          "data engineer",
          "data science consultant",
          "data science consultant",
          "data engineer",
          "data engineer",
          "data engineer",
          "data engineer",
          "data engineer",
          "data engineer",
          "data engineer",
          "data engineer",
          "ai programmer",
          "data engineer",
          "data engineer",
          "data engineer",
          "data engineer",
          "data engineer",
          "data engineer",
          "data engineer",
          "data engineer",
          "data science consultant",
          "data engineer",
          "data engineer",
          "data engineer",
          "data engineer",
          "ml engineer",
          "ml engineer",
          "cloud database engineer",
          "cloud database engineer",
          "data engineer",
          "data engineer",
          "data engineer",
          "data engineer",
          "data engineer",
          "data engineer",
          "data engineer",
          "data engineer",
          "data science manager",
          "data science manager",
          "data engineer",
          "data engineer",
          "nlp engineer",
          "data engineer",
          "data engineer",
          "data engineer",
          "data engineer",
          "data engineer",
          "data engineer",
          "data engineer",
          "data engineer",
          "data engineer",
          "data engineer",
          "data engineer",
          "data engineer",
          "data engineer",
          "data engineer",
          "data engineer",
          "data engineer",
          "data engineer",
          "data engineer",
          "data engineer",
          "data engineer",
          "data engineer",
          "data engineer",
          "data engineer",
          "research engineer",
          "research engineer",
          "analytics engineer",
          "analytics engineer",
          "computer vision engineer",
          "data engineer",
          "data engineer",
          "data engineer",
          "data engineer",
          "data engineer",
          "data engineer",
          "data engineer",
          "data engineer",
          "data engineer",
          "data engineer",
          "data engineer",
          "data engineer",
          "data engineer",
          "data engineer",
          "data engineer",
          "data engineer",
          "bi developer",
          "bi developer",
          "3d computer vision researcher",
          "mlops engineer",
          "mlops engineer",
          "data engineer",
          "data engineer",
          "data engineer",
          "data engineer",
          "data specialist",
          "data specialist",
          "data engineer",
          "data engineer",
          "data architect",
          "data architect",
          "data engineer",
          "data engineer",
          "data engineer",
          "data engineer",
          "data engineer",
          "data engineer",
          "data engineer",
          "data engineer",
          "data engineer",
          "data engineer",
          "data engineer",
          "data engineer",
          "analytics engineer",
          "analytics engineer",
          "data engineer",
          "data engineer",
          "data engineer",
          "data engineer",
          "data engineer",
          "data engineer",
          "data engineer",
          "data engineer",
          "data engineer",
          "data engineer",
          "data science consultant",
          "data science consultant",
          "data architect",
          "data architect",
          "data analytics engineer",
          "data engineer",
          "data engineer",
          "data engineer",
          "data engineer",
          "data specialist",
          "data specialist",
          "data analytics consultant",
          "data engineer",
          "data engineer",
          "data engineer",
          "data engineer",
          "data engineer",
          "data engineer",
          "3d computer vision researcher",
          "ml engineer",
          "ml engineer",
          "data engineer",
          "data engineer",
          "data engineer",
          "data engineer",
          "data engineer",
          "data engineer",
          "data engineer",
          "data engineer",
          "data architect",
          "data architect",
          "research engineer",
          "research engineer",
          "data engineer",
          "data engineer",
          "data engineer",
          "data engineer",
          "data engineer",
          "data engineer",
          "data engineer",
          "data engineer",
          "data engineer",
          "data engineer",
          "data engineer",
          "data engineer",
          "3d computer vision researcher",
          "data engineer",
          "data engineer",
          "data engineer",
          "data engineer",
          "data engineer",
          "data engineer",
          "analytics engineer",
          "analytics engineer",
          "data analytics manager",
          "data analytics manager",
          "data engineer",
          "data engineer",
          "data engineer",
          "data engineer",
          "data architect",
          "data architect",
          "data science consultant",
          "data engineer",
          "data engineer",
          "data engineer",
          "data engineer",
          "data engineer",
          "data engineer",
          "data specialist",
          "data specialist",
          "data engineer",
          "data engineer",
          "data engineer",
          "data engineer",
          "analytics engineer",
          "analytics engineer",
          "data engineer",
          "data engineer",
          "data engineer",
          "data engineer",
          "data engineer",
          "data engineer",
          "data engineer",
          "data engineer",
          "data engineer",
          "data engineer",
          "data engineer",
          "data engineer",
          "data engineer",
          "data engineer",
          "data science manager",
          "data science manager",
          "data engineer",
          "data engineer",
          "data science manager",
          "data science manager",
          "data management specialist",
          "data engineer",
          "data engineer",
          "data engineer",
          "data engineer",
          "data engineer",
          "data engineer",
          "data engineer",
          "data engineer",
          "data engineer",
          "data engineer",
          "data engineer",
          "data engineer",
          "data engineer",
          "data engineer",
          "analytics engineer",
          "analytics engineer",
          "data engineer",
          "data engineer",
          "analytics engineer",
          "analytics engineer",
          "analytics engineer",
          "analytics engineer",
          "data engineer",
          "data engineer",
          "autonomous vehicle technician",
          "data engineer",
          "data engineer",
          "data engineer",
          "data engineer",
          "data science tech lead",
          "data engineer",
          "data engineer",
          "data engineer",
          "data engineer",
          "data engineer",
          "data engineer",
          "data engineer",
          "data engineer",
          "data architect",
          "data architect",
          "data engineer",
          "data engineer",
          "data engineer",
          "data engineer",
          "data engineer",
          "data engineer",
          "data engineer",
          "data engineer",
          "data manager",
          "data manager",
          "data architect",
          "data architect",
          "cloud data engineer",
          "data engineer",
          "data engineer",
          "data engineer",
          "data engineer",
          "data engineer",
          "data engineer",
          "data engineer",
          "data engineer",
          "head of data",
          "head of data",
          "data engineer",
          "data engineer",
          "data engineer",
          "data engineer",
          "data engineer",
          "data engineer",
          "data engineer",
          "data engineer",
          "data engineer",
          "data engineer",
          "data engineer",
          "data engineer",
          "analytics engineer",
          "analytics engineer",
          "data engineer",
          "data engineer",
          "research engineer",
          "data engineer",
          "data engineer",
          "data engineer",
          "data engineer",
          "data engineer",
          "data engineer",
          "data engineer",
          "data engineer",
          "ml engineer",
          "ml engineer",
          "data engineer",
          "data engineer",
          "data engineer",
          "data engineer",
          "data engineer",
          "data engineer",
          "analytics engineer",
          "analytics engineer",
          "data architect",
          "data architect",
          "data operations engineer",
          "data operations engineer",
          "data engineer",
          "data engineer",
          "data engineer",
          "data engineer",
          "data engineer",
          "data engineer",
          "analytics engineer",
          "analytics engineer",
          "data engineer",
          "data engineer",
          "data engineer",
          "data engineer",
          "data architect",
          "data architect",
          "data engineer",
          "data engineer",
          "data engineer",
          "data engineer",
          "data science lead",
          "data engineer",
          "data engineer",
          "power bi developer",
          "data engineer",
          "data engineer",
          "data engineer",
          "data engineer",
          "data engineer",
          "data engineer",
          "data engineer",
          "data engineer",
          "data engineer",
          "analytics engineer",
          "analytics engineer",
          "data science consultant",
          "data science consultant",
          "data engineer",
          "data engineer",
          "data engineer",
          "data engineer",
          "data engineer",
          "data engineer",
          "ml engineer",
          "ml engineer",
          "data architect",
          "data architect",
          "data manager",
          "data manager",
          "big data engineer",
          "principal data architect",
          "data engineer",
          "data engineer",
          "data engineer",
          "data engineer",
          "data architect",
          "data architect",
          "data manager",
          "data engineer",
          "data engineer",
          "data engineer",
          "data engineer",
          "nlp engineer",
          "data engineer",
          "data engineer",
          "analytics engineer",
          "analytics engineer",
          "data engineer",
          "data engineer",
          "analytics engineer",
          "analytics engineer",
          "data analytics engineer",
          "data engineer",
          "data engineer",
          "data engineer",
          "data engineer",
          "etl developer",
          "etl developer",
          "data engineer",
          "data engineer",
          "data engineer",
          "data engineer",
          "data engineer",
          "data engineer",
          "data engineer",
          "data engineer",
          "data science manager",
          "data science manager",
          "data engineer",
          "data engineer",
          "data architect",
          "data architect",
          "analytics engineer",
          "analytics engineer",
          "data engineer",
          "data engineer",
          "ml engineer",
          "ml engineer",
          "data specialist",
          "data engineer",
          "data engineer",
          "ml engineer",
          "ml engineer",
          "data operations engineer",
          "data operations engineer",
          "data engineer",
          "data engineer",
          "data engineer",
          "data engineer",
          "data architect",
          "data architect",
          "data architect",
          "data architect",
          "data architect",
          "data architect",
          "data engineer",
          "data engineer",
          "data engineer",
          "data engineer",
          "data engineer",
          "data engineer",
          "nlp engineer",
          "data engineer",
          "data engineer",
          "data engineer",
          "data engineer",
          "analytics engineer",
          "analytics engineer",
          "data operations engineer",
          "data operations engineer",
          "data architect",
          "data architect",
          "data science manager",
          "data science manager",
          "data engineer",
          "data engineer",
          "analytics engineer",
          "analytics engineer",
          "data engineer",
          "data engineer",
          "data engineer",
          "data operations engineer",
          "data operations engineer",
          "etl developer",
          "etl developer",
          "data manager",
          "data manager",
          "director of data science",
          "data engineer",
          "data engineer",
          "data engineer",
          "data engineer",
          "data engineer",
          "data engineer",
          "data engineer",
          "data engineer",
          "data engineer",
          "data engineer",
          "data engineer",
          "analytics engineer",
          "analytics engineer",
          "data engineer",
          "data engineer",
          "data engineer",
          "data engineer",
          "data engineer",
          "data engineer",
          "data engineer",
          "data engineer",
          "analytics engineer",
          "analytics engineer",
          "data engineer",
          "data engineer",
          "data engineer",
          "analytics engineer",
          "analytics engineer",
          "computer vision software engineer",
          "data specialist",
          "data specialist",
          "analytics engineer",
          "data analytics consultant",
          "analytics engineer",
          "analytics engineer",
          "data engineer",
          "data engineer",
          "etl developer",
          "etl developer",
          "data engineer",
          "data engineer",
          "analytics engineer",
          "analytics engineer",
          "analytics engineer",
          "analytics engineer",
          "data engineer",
          "data engineer",
          "data science manager",
          "data science manager",
          "analytics engineer",
          "analytics engineer",
          "etl developer",
          "etl developer",
          "data engineer",
          "data engineer",
          "data science manager",
          "data science manager",
          "data architect",
          "data architect",
          "data engineer",
          "data engineer",
          "data engineer",
          "data engineer",
          "analytics engineer",
          "analytics engineer",
          "data engineer",
          "data engineer",
          "data engineer",
          "data engineer",
          "data engineer",
          "data engineer",
          "data engineer",
          "data engineer",
          "data architect",
          "data architect",
          "data architect",
          "data architect",
          "data science manager",
          "data science manager",
          "data engineer",
          "data engineer",
          "data engineer",
          "data engineer",
          "data engineer",
          "data engineer",
          "data engineer",
          "data engineer",
          "cloud data architect",
          "analytics engineer",
          "data science manager",
          "data science manager",
          "data engineer",
          "data engineer",
          "data engineer",
          "data engineer",
          "analytics engineer",
          "analytics engineer",
          "data engineer",
          "data engineer",
          "data architect",
          "data architect",
          "data engineer",
          "data engineer",
          "analytics engineer",
          "data engineer",
          "data engineer",
          "data specialist",
          "data specialist",
          "data engineer",
          "data engineer",
          "data science manager",
          "data science manager",
          "data engineer",
          "data engineer",
          "data engineer",
          "data engineer",
          "data engineer",
          "data engineer",
          "data engineer",
          "data engineer",
          "data engineer",
          "data engineer",
          "data engineer",
          "data engineer",
          "data engineer",
          "data engineer",
          "data science manager",
          "data engineer",
          "data engineer",
          "ml engineer",
          "ml engineer",
          "data science manager",
          "data science manager",
          "data engineer",
          "data analytics manager",
          "data analytics manager",
          "data engineer",
          "data engineer",
          "data engineer",
          "data engineer",
          "data engineer",
          "data engineer",
          "etl developer",
          "etl developer",
          "lead data engineer",
          "data engineer",
          "data engineer",
          "data architect",
          "data architect",
          "data engineer",
          "data engineer",
          "data engineer",
          "data engineer",
          "data engineer",
          "data engineer",
          "data engineer",
          "data engineer",
          "data engineer",
          "data engineer",
          "data engineer",
          "data engineer",
          "data engineer",
          "data engineer",
          "data engineer",
          "data engineer",
          "data engineer",
          "data engineer",
          "data science engineer",
          "data engineer",
          "data engineer",
          "data science manager",
          "data science manager",
          "data engineer",
          "data engineer",
          "data engineer",
          "data engineer",
          "data engineer",
          "data engineer",
          "data engineer",
          "data engineer",
          "data engineer",
          "data engineer",
          "data engineer",
          "data engineer",
          "data engineer",
          "data engineer",
          "data science manager",
          "data science manager",
          "data engineer",
          "data engineer",
          "data architect",
          "data architect",
          "data engineer",
          "data engineer",
          "data engineer",
          "data engineer",
          "data engineer",
          "data engineer",
          "data engineer",
          "data engineer",
          "head of data science",
          "head of data science",
          "analytics engineer",
          "analytics engineer",
          "data engineer",
          "data engineer",
          "data engineer",
          "data engineer",
          "data engineer",
          "data engineer",
          "data engineer",
          "data engineer",
          "analytics engineer",
          "analytics engineer",
          "data engineer",
          "data engineer",
          "data engineer",
          "data engineer",
          "data architect",
          "data architect",
          "data engineer",
          "data engineer",
          "data engineer",
          "data engineer",
          "data engineer",
          "data engineer",
          "data architect",
          "data architect",
          "data analytics manager",
          "data analytics manager",
          "data engineer",
          "data engineer",
          "data engineer",
          "data engineer",
          "data engineer",
          "data engineer",
          "data engineer",
          "data engineer",
          "data engineer",
          "data engineer",
          "data engineer",
          "data engineer",
          "director of data science",
          "data engineer",
          "data engineer",
          "computer vision engineer",
          "head of data",
          "head of data",
          "data engineer",
          "data engineer",
          "head of data",
          "data engineer",
          "data engineer",
          "data science manager",
          "data analytics lead",
          "data engineer",
          "data science manager",
          "data engineer",
          "data analytics engineer",
          "ml engineer",
          "ml engineer",
          "computer vision software engineer",
          "computer vision engineer",
          "data engineer",
          "computer vision engineer",
          "ml engineer",
          "principal data engineer",
          "big data engineer",
          "data engineer",
          "data engineer",
          "data engineer",
          "data engineer",
          "data architect",
          "data architect",
          "director of data science",
          "data engineer",
          "big data engineer",
          "director of data science",
          "data science consultant",
          "head of data science",
          "head of data",
          "data analytics manager",
          "data engineer",
          "data science engineer",
          "data science manager",
          "data science consultant",
          "data engineer",
          "data engineer",
          "3d computer vision researcher",
          "ml engineer",
          "director of data science",
          "data engineer",
          "data analytics engineer",
          "data engineer",
          "data analytics engineer",
          "head of data",
          "data engineer",
          "data science consultant",
          "lead data engineer",
          "data engineer",
          "data engineer",
          "data engineer",
          "data engineer",
          "data engineer",
          "data engineer",
          "data engineer",
          "ml engineer",
          "computer vision software engineer",
          "computer vision software engineer",
          "cloud data engineer",
          "lead data engineer",
          "data engineer",
          "cloud data engineer",
          "data engineer",
          "data engineer",
          "data engineer",
          "data engineer",
          "data engineer",
          "data engineer",
          "data engineer",
          "big data architect",
          "data engineer",
          "head of data science",
          "data architect",
          "big data engineer",
          "data engineer",
          "ml engineer",
          "data engineer",
          "data engineer",
          "data engineer",
          "data engineer",
          "data science consultant",
          "data engineer",
          "data engineer",
          "data engineer",
          "data engineer",
          "lead data engineer",
          "director of data science",
          "big data engineer",
          "data science manager",
          "data science manager",
          "lead data engineer",
          "data science consultant",
          "data analytics engineer",
          "data engineer",
          "big data engineer",
          "data science consultant",
          "data engineer",
          "big data engineer",
          "data science consultant",
          "lead data engineer",
          "computer vision engineer",
          "data engineer",
          "data engineer",
          "data analytics manager",
          "data engineer",
          "director of data science",
          "data science engineer",
          "data engineer",
          "big data engineer",
          "principal data engineer",
          "data engineer",
          "data analytics manager",
          "data engineer",
          "data science manager",
          "big data engineer",
          "computer vision engineer",
          "computer vision engineer",
          "data engineer",
          "data science manager",
          "data engineer",
          "director of data science",
          "data engineer",
          "data specialist",
          "data science manager"
         ],
         "type": "scatter",
         "x": [
          -0.2134460948451417,
          -0.2134460948451417,
          -0.2134460948451417,
          -0.2134460948451417,
          -0.025285003711494242,
          -0.025285003711494242,
          -0.2134460948451417,
          -0.2134460948451417,
          -0.2134460948451417,
          -0.2134460948451417,
          -0.2134460948451417,
          -0.2134460948451417,
          -0.2134460948451417,
          -0.2134460948451417,
          0.04884269788275171,
          0.04884269788275171,
          0.10572438611642415,
          0.10572438611642415,
          -0.2134460948451417,
          -0.2134460948451417,
          0.12007620517583815,
          0.06489155222266903,
          0.06489155222266903,
          -0.2134460948451417,
          -0.2134460948451417,
          -0.2134460948451417,
          -0.2134460948451417,
          -0.2134460948451417,
          -0.2134460948451417,
          -0.2134460948451417,
          -0.2134460948451417,
          -0.2134460948451417,
          -0.2134460948451417,
          -0.010265709753628036,
          -0.010265709753628036,
          -0.2134460948451417,
          -0.2134460948451417,
          -0.025285003711494242,
          -0.025285003711494242,
          -0.010265709753628036,
          -0.010265709753628036,
          -0.010265709753628036,
          -0.010265709753628036,
          -0.010265709753628036,
          -0.010265709753628036,
          -0.2134460948451417,
          -0.2134460948451417,
          -0.2134460948451417,
          -0.2134460948451417,
          0.10782112920932822,
          0.10782112920932822,
          -0.2134460948451417,
          -0.2134460948451417,
          -0.2134460948451417,
          -0.2134460948451417,
          -0.2134460948451417,
          -0.2134460948451417,
          -0.2134460948451417,
          -0.2134460948451417,
          -0.010265709753628036,
          -0.010265709753628036,
          -0.2134460948451417,
          -0.2134460948451417,
          -0.2134460948451417,
          -0.2134460948451417,
          -0.2134460948451417,
          -0.2134460948451417,
          -0.010265709753628036,
          -0.010265709753628036,
          -0.2134460948451417,
          -0.2134460948451417,
          -0.2134460948451417,
          -0.2134460948451417,
          -0.2134460948451417,
          -0.2134460948451417,
          0.0310241203276127,
          0.0310241203276127,
          -0.2134460948451417,
          -0.2134460948451417,
          -0.025285003711494242,
          -0.025285003711494242,
          0.10572438611642415,
          0.10572438611642415,
          0.10572438611642415,
          0.10572438611642415,
          0.033107753485800334,
          -0.2134460948451417,
          -0.2134460948451417,
          -0.2134460948451417,
          -0.2134460948451417,
          -0.2134460948451417,
          -0.2134460948451417,
          0.04884269788275171,
          0.04884269788275171,
          -0.2134460948451417,
          0.12007620517583815,
          -0.2134460948451417,
          -0.2134460948451417,
          -0.2134460948451417,
          -0.2134460948451417,
          -0.2134460948451417,
          -0.2134460948451417,
          0.09785125352867172,
          0.09785125352867172,
          0.12007620517583815,
          -0.2134460948451417,
          -0.2134460948451417,
          -0.2134460948451417,
          -0.2134460948451417,
          0.11672312425494044,
          0.11672312425494044,
          -0.010265709753628036,
          -0.010265709753628036,
          -0.2134460948451417,
          -0.2134460948451417,
          -0.025285003711494242,
          -0.025285003711494242,
          -0.2134460948451417,
          -0.2134460948451417,
          -0.2134460948451417,
          -0.2134460948451417,
          -0.010265709753628036,
          -0.010265709753628036,
          -0.010265709753628036,
          -0.010265709753628036,
          -0.2134460948451417,
          -0.2134460948451417,
          -0.2134460948451417,
          -0.2134460948451417,
          -0.010265709753628036,
          -0.010265709753628036,
          -0.2134460948451417,
          -0.2134460948451417,
          0.10365322017241951,
          0.10365322017241951,
          0.10365322017241951,
          0.10365322017241951,
          0.12007620517583815,
          0.10572438611642415,
          0.10572438611642415,
          -0.2134460948451417,
          -0.2134460948451417,
          -0.2134460948451417,
          -0.2134460948451417,
          -0.2134460948451417,
          -0.2134460948451417,
          -0.2134460948451417,
          -0.2134460948451417,
          0.011373626883234999,
          -0.2134460948451417,
          -0.2134460948451417,
          -0.2134460948451417,
          -0.2134460948451417,
          0.0978865184491098,
          0.0978865184491098,
          -0.2134460948451417,
          -0.2134460948451417,
          0.10782112920932822,
          0.10782112920932822,
          -0.2134460948451417,
          -0.2134460948451417,
          -0.2134460948451417,
          -0.2134460948451417,
          0.012034690500157546,
          -0.2134460948451417,
          -0.2134460948451417,
          -0.2134460948451417,
          -0.2134460948451417,
          -0.010265709753628036,
          -0.010265709753628036,
          -0.025285003711494242,
          -0.025285003711494242,
          0.10572438611642415,
          0.10572438611642415,
          -0.025285003711494242,
          -0.025285003711494242,
          -0.2134460948451417,
          -0.2134460948451417,
          0.10365322017241951,
          0.10365322017241951,
          -0.2134460948451417,
          -0.2134460948451417,
          -0.2134460948451417,
          -0.2134460948451417,
          -0.2134460948451417,
          -0.2134460948451417,
          -0.2134460948451417,
          -0.2134460948451417,
          0.10572438611642415,
          0.10572438611642415,
          -0.2134460948451417,
          -0.2134460948451417,
          -0.2134460948451417,
          -0.2134460948451417,
          -0.2134460948451417,
          -0.2134460948451417,
          -0.2134460948451417,
          0.10858246523475411,
          0.10858246523475411,
          -0.2134460948451417,
          -0.2134460948451417,
          0.12007620517583815,
          0.12007620517583815,
          0.039785271565533555,
          0.039785271565533555,
          -0.2134460948451417,
          -0.2134460948451417,
          -0.2134460948451417,
          -0.2134460948451417,
          -0.2134460948451417,
          -0.2134460948451417,
          -0.2134460948451417,
          -0.2134460948451417,
          -0.025285003711494242,
          -0.025285003711494242,
          0.10572438611642415,
          0.10572438611642415,
          0.10572438611642415,
          0.10572438611642415,
          -0.2134460948451417,
          -0.2134460948451417,
          -0.2134460948451417,
          -0.2134460948451417,
          -0.2134460948451417,
          -0.2134460948451417,
          -0.010265709753628036,
          -0.010265709753628036,
          -0.2134460948451417,
          -0.2134460948451417,
          -0.2134460948451417,
          -0.2134460948451417,
          -0.2134460948451417,
          -0.2134460948451417,
          0.1159551342246162,
          -0.2134460948451417,
          -0.2134460948451417,
          -0.2134460948451417,
          -0.2134460948451417,
          -0.2134460948451417,
          -0.2134460948451417,
          -0.2134460948451417,
          -0.2134460948451417,
          -0.2134460948451417,
          -0.2134460948451417,
          -0.2134460948451417,
          -0.2134460948451417,
          -0.2134460948451417,
          -0.2134460948451417,
          -0.2134460948451417,
          -0.2134460948451417,
          -0.2134460948451417,
          -0.2134460948451417,
          -0.2134460948451417,
          -0.2134460948451417,
          -0.2134460948451417,
          -0.2134460948451417,
          -0.2134460948451417,
          -0.2134460948451417,
          -0.2134460948451417,
          -0.2134460948451417,
          -0.2134460948451417,
          -0.2134460948451417,
          -0.2134460948451417,
          -0.2134460948451417,
          -0.2134460948451417,
          -0.2134460948451417,
          0.10572438611642415,
          0.10572438611642415,
          -0.2134460948451417,
          -0.2134460948451417,
          -0.2134460948451417,
          -0.2134460948451417,
          0.10572438611642415,
          0.10572438611642415,
          -0.2134460948451417,
          -0.2134460948451417,
          -0.2134460948451417,
          -0.2134460948451417,
          0.0585143136693012,
          -0.2134460948451417,
          -0.2134460948451417,
          -0.025285003711494242,
          -0.025285003711494242,
          0.10572438611642415,
          0.10572438611642415,
          0.10365322017241951,
          0.10365322017241951,
          -0.010265709753628036,
          -0.010265709753628036,
          -0.2134460948451417,
          -0.2134460948451417,
          0.11672312425494044,
          0.11672312425494044,
          -0.2134460948451417,
          -0.2134460948451417,
          -0.2134460948451417,
          -0.2134460948451417,
          -0.2134460948451417,
          -0.2134460948451417,
          -0.2134460948451417,
          -0.2134460948451417,
          -0.2134460948451417,
          -0.2134460948451417,
          0.007795217836858704,
          0.007795217836858704,
          -0.010265709753628036,
          -0.010265709753628036,
          0.017402574346204507,
          0.017402574346204507,
          0.10572438611642415,
          0.10572438611642415,
          0.008006276427315608,
          0.11597191567626569,
          0.12007620517583815,
          -0.2134460948451417,
          -0.2134460948451417,
          -0.2134460948451417,
          -0.2134460948451417,
          -0.2134460948451417,
          -0.2134460948451417,
          -0.010265709753628036,
          -0.010265709753628036,
          -0.2134460948451417,
          -0.2134460948451417,
          0.012522716411254398,
          0.012522716411254398,
          -0.2134460948451417,
          -0.2134460948451417,
          -0.2134460948451417,
          -0.2134460948451417,
          -0.2134460948451417,
          -0.2134460948451417,
          -0.2134460948451417,
          -0.2134460948451417,
          0.1341638013482276,
          0.10908431993680456,
          -0.2134460948451417,
          -0.2134460948451417,
          0.017402574346204507,
          0.017402574346204507,
          -0.010265709753628036,
          -0.010265709753628036,
          -0.2134460948451417,
          -0.2134460948451417,
          0.11672312425494044,
          0.11672312425494044,
          0.10782112920932822,
          0.10782112920932822,
          -0.2134460948451417,
          -0.2134460948451417,
          0.10572438611642415,
          0.10572438611642415,
          -0.2134460948451417,
          -0.2134460948451417,
          0.11672312425494044,
          0.11672312425494044,
          0.10953352335163996,
          0.10953352335163996,
          -0.2134460948451417,
          -0.2134460948451417,
          -0.2134460948451417,
          -0.2134460948451417,
          0.10167937299422712,
          0.10167937299422712,
          0.12007620517583815,
          -0.2134460948451417,
          -0.2134460948451417,
          -0.2134460948451417,
          -0.2134460948451417,
          -0.2134460948451417,
          -0.2134460948451417,
          0.008006276427315608,
          -0.2134460948451417,
          -0.2134460948451417,
          -0.2134460948451417,
          -0.2134460948451417,
          -0.2134460948451417,
          -0.2134460948451417,
          -0.2134460948451417,
          -0.2134460948451417,
          -0.2134460948451417,
          -0.2134460948451417,
          -0.2134460948451417,
          -0.2134460948451417,
          -0.2134460948451417,
          -0.2134460948451417,
          0.10365322017241951,
          0.10365322017241951,
          -0.2134460948451417,
          -0.2134460948451417,
          -0.2134460948451417,
          -0.2134460948451417,
          -0.2134460948451417,
          -0.2134460948451417,
          -0.2134460948451417,
          -0.2134460948451417,
          -0.2134460948451417,
          -0.2134460948451417,
          -0.2134460948451417,
          -0.2134460948451417,
          -0.2134460948451417,
          -0.2134460948451417,
          -0.2134460948451417,
          -0.2134460948451417,
          -0.010265709753628036,
          -0.010265709753628036,
          -0.2134460948451417,
          -0.2134460948451417,
          -0.2134460948451417,
          -0.2134460948451417,
          0.10782112920932822,
          0.10782112920932822,
          -0.2134460948451417,
          -0.2134460948451417,
          0.09785125352867172,
          0.11672312425494044,
          0.11672312425494044,
          0.11672312425494044,
          0.04884269788275171,
          0.12007620517583815,
          -0.2134460948451417,
          -0.2134460948451417,
          0.10953352335163996,
          -0.2134460948451417,
          -0.2134460948451417,
          0.10572438611642415,
          0.10572438611642415,
          -0.2134460948451417,
          -0.2134460948451417,
          -0.025285003711494242,
          -0.025285003711494242,
          -0.2134460948451417,
          -0.2134460948451417,
          0.10365322017241951,
          0.10365322017241951,
          0.10925575017483126,
          0.10925575017483126,
          -0.2134460948451417,
          -0.2134460948451417,
          -0.2134460948451417,
          -0.2134460948451417,
          -0.2134460948451417,
          -0.2134460948451417,
          -0.2134460948451417,
          -0.2134460948451417,
          0.11672312425494044,
          0.11672312425494044,
          0.10365322017241951,
          0.10365322017241951,
          -0.2134460948451417,
          -0.2134460948451417,
          -0.2134460948451417,
          -0.2134460948451417,
          -0.2134460948451417,
          -0.2134460948451417,
          -0.2134460948451417,
          -0.2134460948451417,
          -0.2134460948451417,
          -0.2134460948451417,
          -0.025285003711494242,
          -0.025285003711494242,
          -0.010265709753628036,
          -0.010265709753628036,
          -0.2134460948451417,
          -0.2134460948451417,
          -0.2134460948451417,
          -0.2134460948451417,
          -0.010265709753628036,
          -0.010265709753628036,
          0.10365322017241951,
          0.10365322017241951,
          -0.2134460948451417,
          -0.2134460948451417,
          -0.2134460948451417,
          0.007795217836858704,
          0.007795217836858704,
          0.007795217836858704,
          0.007795217836858704,
          0.11672312425494044,
          0.11672312425494044,
          -0.2134460948451417,
          -0.2134460948451417,
          0.10572438611642415,
          0.10572438611642415,
          -0.2134460948451417,
          -0.2134460948451417,
          -0.2134460948451417,
          -0.2134460948451417,
          -0.2134460948451417,
          -0.2134460948451417,
          -0.2134460948451417,
          -0.2134460948451417,
          -0.2134460948451417,
          -0.2134460948451417,
          -0.2134460948451417,
          -0.2134460948451417,
          0.10908431993680456,
          0.10908431993680456,
          -0.2134460948451417,
          -0.2134460948451417,
          -0.2134460948451417,
          -0.2134460948451417,
          -0.2134460948451417,
          -0.2134460948451417,
          0.10908431993680456,
          0.10908431993680456,
          0.10572438611642415,
          0.10572438611642415,
          0.10365322017241951,
          0.10365322017241951,
          -0.025285003711494242,
          -0.025285003711494242,
          -0.2134460948451417,
          -0.2134460948451417,
          -0.2134460948451417,
          -0.2134460948451417,
          0.10572438611642415,
          0.10572438611642415,
          -0.2134460948451417,
          -0.2134460948451417,
          -0.2134460948451417,
          -0.2134460948451417,
          -0.2134460948451417,
          -0.2134460948451417,
          0.11024760265002809,
          -0.2134460948451417,
          -0.2134460948451417,
          -0.2134460948451417,
          -0.2134460948451417,
          -0.2134460948451417,
          -0.2134460948451417,
          -0.2134460948451417,
          -0.2134460948451417,
          -0.2134460948451417,
          -0.2134460948451417,
          -0.2134460948451417,
          -0.2134460948451417,
          -0.2134460948451417,
          -0.2134460948451417,
          0.10572438611642415,
          0.10572438611642415,
          0.10572438611642415,
          0.10572438611642415,
          0.11672312425494044,
          0.11672312425494044,
          -0.2134460948451417,
          -0.2134460948451417,
          0.10908431993680456,
          0.10908431993680456,
          -0.2134460948451417,
          -0.2134460948451417,
          -0.2134460948451417,
          -0.2134460948451417,
          -0.2134460948451417,
          -0.2134460948451417,
          0.06229419279602896,
          -0.2134460948451417,
          -0.2134460948451417,
          -0.2134460948451417,
          -0.2134460948451417,
          -0.2134460948451417,
          -0.2134460948451417,
          -0.025285003711494242,
          -0.025285003711494242,
          -0.2134460948451417,
          -0.2134460948451417,
          0.10858246523475411,
          0.033107753485800334,
          -0.2134460948451417,
          0.1341638013482276,
          0.1341638013482276,
          0.10782112920932822,
          0.10782112920932822,
          -0.2134460948451417,
          -0.2134460948451417,
          -0.2134460948451417,
          -0.2134460948451417,
          0.017402574346204507,
          0.017402574346204507,
          -0.2134460948451417,
          -0.2134460948451417,
          0.10782112920932822,
          0.10782112920932822,
          -0.2134460948451417,
          -0.2134460948451417,
          -0.2134460948451417,
          -0.2134460948451417,
          -0.2134460948451417,
          -0.2134460948451417,
          -0.2134460948451417,
          -0.2134460948451417,
          -0.2134460948451417,
          -0.2134460948451417,
          -0.2134460948451417,
          -0.2134460948451417,
          -0.2134460948451417,
          -0.2134460948451417,
          -0.2134460948451417,
          -0.2134460948451417,
          0.10925575017483126,
          0.10925575017483126,
          0.1341638013482276,
          0.1341638013482276,
          -0.2134460948451417,
          -0.2134460948451417,
          0.10365322017241951,
          0.10365322017241951,
          0.011373626883234999,
          -0.2134460948451417,
          -0.2134460948451417,
          -0.2134460948451417,
          -0.2134460948451417,
          -0.2134460948451417,
          -0.2134460948451417,
          0.027457933346541622,
          0.10572438611642415,
          0.10572438611642415,
          -0.2134460948451417,
          -0.2134460948451417,
          -0.2134460948451417,
          -0.2134460948451417,
          0.10925575017483126,
          0.11672312425494044,
          0.11672312425494044,
          0.10365322017241951,
          0.10365322017241951,
          -0.010265709753628036,
          -0.010265709753628036,
          -0.010265709753628036,
          -0.010265709753628036,
          -0.2134460948451417,
          -0.2134460948451417,
          -0.2134460948451417,
          -0.2134460948451417,
          -0.2134460948451417,
          -0.2134460948451417,
          -0.2134460948451417,
          -0.2134460948451417,
          -0.2134460948451417,
          -0.2134460948451417,
          -0.2134460948451417,
          -0.2134460948451417,
          -0.2134460948451417,
          -0.2134460948451417,
          -0.2134460948451417,
          -0.2134460948451417,
          -0.2134460948451417,
          -0.2134460948451417,
          -0.2134460948451417,
          -0.2134460948451417,
          -0.2134460948451417,
          -0.2134460948451417,
          -0.2134460948451417,
          -0.2134460948451417,
          0.017402574346204507,
          0.017402574346204507,
          0.12007620517583815,
          -0.2134460948451417,
          -0.2134460948451417,
          -0.2134460948451417,
          -0.2134460948451417,
          -0.2134460948451417,
          -0.2134460948451417,
          -0.2134460948451417,
          -0.2134460948451417,
          -0.2134460948451417,
          -0.2134460948451417,
          0.04884269788275171,
          0.12007620517583815,
          0.10107838086511353,
          -0.2134460948451417,
          -0.2134460948451417,
          0.1341638013482276,
          0.1341638013482276,
          0.11672312425494044,
          0.11672312425494044,
          -0.2134460948451417,
          -0.2134460948451417,
          -0.2134460948451417,
          -0.2134460948451417,
          -0.2134460948451417,
          -0.2134460948451417,
          0.10572438611642415,
          0.10572438611642415,
          0.10572438611642415,
          0.10572438611642415,
          0.10953352335163996,
          0.10953352335163996,
          -0.2134460948451417,
          -0.2134460948451417,
          0.04884269788275171,
          0.10953352335163996,
          0.10953352335163996,
          -0.2134460948451417,
          -0.2134460948451417,
          -0.2134460948451417,
          -0.2134460948451417,
          -0.2134460948451417,
          -0.2134460948451417,
          0.017402574346204507,
          0.017402574346204507,
          -0.2134460948451417,
          -0.2134460948451417,
          0.1341638013482276,
          0.1341638013482276,
          0.09628827591208707,
          0.09628827591208707,
          -0.2134460948451417,
          -0.2134460948451417,
          -0.2134460948451417,
          -0.2134460948451417,
          -0.2134460948451417,
          -0.2134460948451417,
          -0.2134460948451417,
          -0.2134460948451417,
          -0.010265709753628036,
          -0.010265709753628036,
          -0.2134460948451417,
          -0.2134460948451417,
          0.10572438611642415,
          0.10572438611642415,
          -0.2134460948451417,
          -0.2134460948451417,
          -0.017853409950941902,
          -0.017853409950941902,
          0.0585143136693012,
          0.0585143136693012,
          0.11672312425494044,
          0.11672312425494044,
          -0.2134460948451417,
          -0.2134460948451417,
          0.1341638013482276,
          0.1341638013482276,
          -0.2134460948451417,
          -0.2134460948451417,
          -0.2134460948451417,
          -0.2134460948451417,
          0.03522361209225102,
          0.03522361209225102,
          -0.2134460948451417,
          -0.2134460948451417,
          0.03522361209225102,
          0.03522361209225102,
          -0.2134460948451417,
          -0.2134460948451417,
          0.017402574346204507,
          0.017402574346204507,
          -0.2134460948451417,
          -0.2134460948451417,
          -0.025285003711494242,
          -0.025285003711494242,
          -0.2134460948451417,
          -0.2134460948451417,
          -0.2134460948451417,
          -0.2134460948451417,
          -0.2134460948451417,
          -0.2134460948451417,
          -0.2134460948451417,
          -0.2134460948451417,
          -0.2134460948451417,
          -0.2134460948451417,
          -0.025285003711494242,
          -0.025285003711494242,
          -0.025285003711494242,
          -0.025285003711494242,
          0.10782112920932822,
          -0.2134460948451417,
          -0.2134460948451417,
          -0.2134460948451417,
          -0.2134460948451417,
          0.04884269788275171,
          0.04884269788275171,
          0.10572438611642415,
          0.10572438611642415,
          0.10572438611642415,
          0.10572438611642415,
          -0.2134460948451417,
          -0.2134460948451417,
          -0.2134460948451417,
          -0.2134460948451417,
          -0.2134460948451417,
          -0.2134460948451417,
          0.10572438611642415,
          0.10572438611642415,
          -0.2134460948451417,
          -0.2134460948451417,
          -0.2134460948451417,
          -0.2134460948451417,
          -0.2134460948451417,
          -0.2134460948451417,
          0.10990619069434046,
          -0.2134460948451417,
          -0.2134460948451417,
          -0.2134460948451417,
          -0.2134460948451417,
          0.10953352335163996,
          0.10953352335163996,
          -0.2134460948451417,
          -0.2134460948451417,
          0.10953352335163996,
          0.10953352335163996,
          -0.2134460948451417,
          -0.2134460948451417,
          -0.2134460948451417,
          -0.2134460948451417,
          -0.2134460948451417,
          -0.2134460948451417,
          -0.2134460948451417,
          -0.2134460948451417,
          0.11597191567626569,
          -0.2134460948451417,
          -0.2134460948451417,
          -0.2134460948451417,
          -0.2134460948451417,
          -0.2134460948451417,
          -0.2134460948451417,
          -0.2134460948451417,
          -0.2134460948451417,
          0.10953352335163996,
          -0.2134460948451417,
          -0.2134460948451417,
          -0.2134460948451417,
          -0.2134460948451417,
          0.017402574346204507,
          0.017402574346204507,
          0.0585143136693012,
          0.0585143136693012,
          -0.2134460948451417,
          -0.2134460948451417,
          -0.2134460948451417,
          -0.2134460948451417,
          -0.2134460948451417,
          -0.2134460948451417,
          -0.2134460948451417,
          -0.2134460948451417,
          0.11672312425494044,
          0.11672312425494044,
          -0.2134460948451417,
          -0.2134460948451417,
          0.03522361209225102,
          -0.2134460948451417,
          -0.2134460948451417,
          -0.2134460948451417,
          -0.2134460948451417,
          -0.2134460948451417,
          -0.2134460948451417,
          -0.2134460948451417,
          -0.2134460948451417,
          -0.2134460948451417,
          -0.2134460948451417,
          -0.2134460948451417,
          -0.2134460948451417,
          -0.2134460948451417,
          -0.2134460948451417,
          -0.2134460948451417,
          -0.2134460948451417,
          -0.2134460948451417,
          -0.2134460948451417,
          -0.2134460948451417,
          -0.2134460948451417,
          -0.2134460948451417,
          -0.2134460948451417,
          -0.2134460948451417,
          -0.025285003711494242,
          -0.025285003711494242,
          -0.010265709753628036,
          -0.010265709753628036,
          0.04884269788275171,
          -0.2134460948451417,
          -0.2134460948451417,
          -0.2134460948451417,
          -0.2134460948451417,
          -0.2134460948451417,
          -0.2134460948451417,
          -0.2134460948451417,
          -0.2134460948451417,
          -0.2134460948451417,
          -0.2134460948451417,
          -0.2134460948451417,
          -0.2134460948451417,
          -0.2134460948451417,
          -0.2134460948451417,
          -0.2134460948451417,
          -0.2134460948451417,
          0.1341638013482276,
          0.1341638013482276,
          0.11809698392120886,
          0.039785271565533555,
          0.039785271565533555,
          -0.2134460948451417,
          -0.2134460948451417,
          -0.2134460948451417,
          -0.2134460948451417,
          0.0978865184491098,
          0.0978865184491098,
          -0.2134460948451417,
          -0.2134460948451417,
          0.10572438611642415,
          0.10572438611642415,
          -0.2134460948451417,
          -0.2134460948451417,
          -0.2134460948451417,
          -0.2134460948451417,
          -0.2134460948451417,
          -0.2134460948451417,
          -0.2134460948451417,
          -0.2134460948451417,
          -0.2134460948451417,
          -0.2134460948451417,
          -0.2134460948451417,
          -0.2134460948451417,
          -0.010265709753628036,
          -0.010265709753628036,
          -0.2134460948451417,
          -0.2134460948451417,
          -0.2134460948451417,
          -0.2134460948451417,
          -0.2134460948451417,
          -0.2134460948451417,
          -0.2134460948451417,
          -0.2134460948451417,
          -0.2134460948451417,
          -0.2134460948451417,
          0.10953352335163996,
          0.10953352335163996,
          0.10572438611642415,
          0.10572438611642415,
          -0.033241089349517625,
          -0.2134460948451417,
          -0.2134460948451417,
          -0.2134460948451417,
          -0.2134460948451417,
          0.0978865184491098,
          0.0978865184491098,
          0.10184825816154446,
          -0.2134460948451417,
          -0.2134460948451417,
          -0.2134460948451417,
          -0.2134460948451417,
          -0.2134460948451417,
          -0.2134460948451417,
          0.11809698392120886,
          0.017402574346204507,
          0.017402574346204507,
          -0.2134460948451417,
          -0.2134460948451417,
          -0.2134460948451417,
          -0.2134460948451417,
          -0.2134460948451417,
          -0.2134460948451417,
          -0.2134460948451417,
          -0.2134460948451417,
          0.10572438611642415,
          0.10572438611642415,
          -0.025285003711494242,
          -0.025285003711494242,
          -0.2134460948451417,
          -0.2134460948451417,
          -0.2134460948451417,
          -0.2134460948451417,
          -0.2134460948451417,
          -0.2134460948451417,
          -0.2134460948451417,
          -0.2134460948451417,
          -0.2134460948451417,
          -0.2134460948451417,
          -0.2134460948451417,
          -0.2134460948451417,
          0.11809698392120886,
          -0.2134460948451417,
          -0.2134460948451417,
          -0.2134460948451417,
          -0.2134460948451417,
          -0.2134460948451417,
          -0.2134460948451417,
          -0.010265709753628036,
          -0.010265709753628036,
          0.10782112920932822,
          0.10782112920932822,
          -0.2134460948451417,
          -0.2134460948451417,
          -0.2134460948451417,
          -0.2134460948451417,
          0.10572438611642415,
          0.10572438611642415,
          0.10953352335163996,
          -0.2134460948451417,
          -0.2134460948451417,
          -0.2134460948451417,
          -0.2134460948451417,
          -0.2134460948451417,
          -0.2134460948451417,
          0.0978865184491098,
          0.0978865184491098,
          -0.2134460948451417,
          -0.2134460948451417,
          -0.2134460948451417,
          -0.2134460948451417,
          -0.010265709753628036,
          -0.010265709753628036,
          -0.2134460948451417,
          -0.2134460948451417,
          -0.2134460948451417,
          -0.2134460948451417,
          -0.2134460948451417,
          -0.2134460948451417,
          -0.2134460948451417,
          -0.2134460948451417,
          -0.2134460948451417,
          -0.2134460948451417,
          -0.2134460948451417,
          -0.2134460948451417,
          -0.2134460948451417,
          -0.2134460948451417,
          0.11672312425494044,
          0.11672312425494044,
          -0.2134460948451417,
          -0.2134460948451417,
          0.11672312425494044,
          0.11672312425494044,
          0.10480851345142381,
          -0.2134460948451417,
          -0.2134460948451417,
          -0.2134460948451417,
          -0.2134460948451417,
          -0.2134460948451417,
          -0.2134460948451417,
          -0.2134460948451417,
          -0.2134460948451417,
          -0.2134460948451417,
          -0.2134460948451417,
          -0.2134460948451417,
          -0.2134460948451417,
          -0.2134460948451417,
          -0.2134460948451417,
          -0.010265709753628036,
          -0.010265709753628036,
          -0.2134460948451417,
          -0.2134460948451417,
          -0.010265709753628036,
          -0.010265709753628036,
          -0.010265709753628036,
          -0.010265709753628036,
          -0.2134460948451417,
          -0.2134460948451417,
          0.1159551342246162,
          -0.2134460948451417,
          -0.2134460948451417,
          -0.2134460948451417,
          -0.2134460948451417,
          0.11148094128293394,
          -0.2134460948451417,
          -0.2134460948451417,
          -0.2134460948451417,
          -0.2134460948451417,
          -0.2134460948451417,
          -0.2134460948451417,
          -0.2134460948451417,
          -0.2134460948451417,
          0.10572438611642415,
          0.10572438611642415,
          -0.2134460948451417,
          -0.2134460948451417,
          -0.2134460948451417,
          -0.2134460948451417,
          -0.2134460948451417,
          -0.2134460948451417,
          -0.2134460948451417,
          -0.2134460948451417,
          0.10365322017241951,
          0.10365322017241951,
          0.10572438611642415,
          0.10572438611642415,
          0.016045153953430372,
          -0.2134460948451417,
          -0.2134460948451417,
          -0.2134460948451417,
          -0.2134460948451417,
          -0.2134460948451417,
          -0.2134460948451417,
          -0.2134460948451417,
          -0.2134460948451417,
          0.09785125352867172,
          0.09785125352867172,
          -0.2134460948451417,
          -0.2134460948451417,
          -0.2134460948451417,
          -0.2134460948451417,
          -0.2134460948451417,
          -0.2134460948451417,
          -0.2134460948451417,
          -0.2134460948451417,
          -0.2134460948451417,
          -0.2134460948451417,
          -0.2134460948451417,
          -0.2134460948451417,
          -0.010265709753628036,
          -0.010265709753628036,
          -0.2134460948451417,
          -0.2134460948451417,
          -0.025285003711494242,
          -0.2134460948451417,
          -0.2134460948451417,
          -0.2134460948451417,
          -0.2134460948451417,
          -0.2134460948451417,
          -0.2134460948451417,
          -0.2134460948451417,
          -0.2134460948451417,
          0.017402574346204507,
          0.017402574346204507,
          -0.2134460948451417,
          -0.2134460948451417,
          -0.2134460948451417,
          -0.2134460948451417,
          -0.2134460948451417,
          -0.2134460948451417,
          -0.010265709753628036,
          -0.010265709753628036,
          0.10572438611642415,
          0.10572438611642415,
          0.012522716411254398,
          0.012522716411254398,
          -0.2134460948451417,
          -0.2134460948451417,
          -0.2134460948451417,
          -0.2134460948451417,
          -0.2134460948451417,
          -0.2134460948451417,
          -0.010265709753628036,
          -0.010265709753628036,
          -0.2134460948451417,
          -0.2134460948451417,
          -0.2134460948451417,
          -0.2134460948451417,
          0.10572438611642415,
          0.10572438611642415,
          -0.2134460948451417,
          -0.2134460948451417,
          -0.2134460948451417,
          -0.2134460948451417,
          0.10908431993680456,
          -0.2134460948451417,
          -0.2134460948451417,
          0.12821074323339166,
          -0.2134460948451417,
          -0.2134460948451417,
          -0.2134460948451417,
          -0.2134460948451417,
          -0.2134460948451417,
          -0.2134460948451417,
          -0.2134460948451417,
          -0.2134460948451417,
          -0.2134460948451417,
          -0.010265709753628036,
          -0.010265709753628036,
          0.10953352335163996,
          0.10953352335163996,
          -0.2134460948451417,
          -0.2134460948451417,
          -0.2134460948451417,
          -0.2134460948451417,
          -0.2134460948451417,
          -0.2134460948451417,
          0.017402574346204507,
          0.017402574346204507,
          0.10572438611642415,
          0.10572438611642415,
          0.10365322017241951,
          0.10365322017241951,
          0.011373626883234999,
          0.11049741979242803,
          -0.2134460948451417,
          -0.2134460948451417,
          -0.2134460948451417,
          -0.2134460948451417,
          0.10572438611642415,
          0.10572438611642415,
          0.10365322017241951,
          -0.2134460948451417,
          -0.2134460948451417,
          -0.2134460948451417,
          -0.2134460948451417,
          0.03522361209225102,
          -0.2134460948451417,
          -0.2134460948451417,
          -0.010265709753628036,
          -0.010265709753628036,
          -0.2134460948451417,
          -0.2134460948451417,
          -0.010265709753628036,
          -0.010265709753628036,
          -0.033241089349517625,
          -0.2134460948451417,
          -0.2134460948451417,
          -0.2134460948451417,
          -0.2134460948451417,
          0.12092675562490621,
          0.12092675562490621,
          -0.2134460948451417,
          -0.2134460948451417,
          -0.2134460948451417,
          -0.2134460948451417,
          -0.2134460948451417,
          -0.2134460948451417,
          -0.2134460948451417,
          -0.2134460948451417,
          0.11672312425494044,
          0.11672312425494044,
          -0.2134460948451417,
          -0.2134460948451417,
          0.10572438611642415,
          0.10572438611642415,
          -0.010265709753628036,
          -0.010265709753628036,
          -0.2134460948451417,
          -0.2134460948451417,
          0.017402574346204507,
          0.017402574346204507,
          0.0978865184491098,
          -0.2134460948451417,
          -0.2134460948451417,
          0.017402574346204507,
          0.017402574346204507,
          0.012522716411254398,
          0.012522716411254398,
          -0.2134460948451417,
          -0.2134460948451417,
          -0.2134460948451417,
          -0.2134460948451417,
          0.10572438611642415,
          0.10572438611642415,
          0.10572438611642415,
          0.10572438611642415,
          0.10572438611642415,
          0.10572438611642415,
          -0.2134460948451417,
          -0.2134460948451417,
          -0.2134460948451417,
          -0.2134460948451417,
          -0.2134460948451417,
          -0.2134460948451417,
          0.03522361209225102,
          -0.2134460948451417,
          -0.2134460948451417,
          -0.2134460948451417,
          -0.2134460948451417,
          -0.010265709753628036,
          -0.010265709753628036,
          0.012522716411254398,
          0.012522716411254398,
          0.10572438611642415,
          0.10572438611642415,
          0.11672312425494044,
          0.11672312425494044,
          -0.2134460948451417,
          -0.2134460948451417,
          -0.010265709753628036,
          -0.010265709753628036,
          -0.2134460948451417,
          -0.2134460948451417,
          -0.2134460948451417,
          0.012522716411254398,
          0.012522716411254398,
          0.12092675562490621,
          0.12092675562490621,
          0.10365322017241951,
          0.10365322017241951,
          0.10858246523475411,
          -0.2134460948451417,
          -0.2134460948451417,
          -0.2134460948451417,
          -0.2134460948451417,
          -0.2134460948451417,
          -0.2134460948451417,
          -0.2134460948451417,
          -0.2134460948451417,
          -0.2134460948451417,
          -0.2134460948451417,
          -0.2134460948451417,
          -0.010265709753628036,
          -0.010265709753628036,
          -0.2134460948451417,
          -0.2134460948451417,
          -0.2134460948451417,
          -0.2134460948451417,
          -0.2134460948451417,
          -0.2134460948451417,
          -0.2134460948451417,
          -0.2134460948451417,
          -0.010265709753628036,
          -0.010265709753628036,
          -0.2134460948451417,
          -0.2134460948451417,
          -0.2134460948451417,
          -0.010265709753628036,
          -0.010265709753628036,
          0.06229419279602896,
          0.0978865184491098,
          0.0978865184491098,
          -0.010265709753628036,
          0.10184825816154446,
          -0.010265709753628036,
          -0.010265709753628036,
          -0.2134460948451417,
          -0.2134460948451417,
          0.12092675562490621,
          0.12092675562490621,
          -0.2134460948451417,
          -0.2134460948451417,
          -0.010265709753628036,
          -0.010265709753628036,
          -0.010265709753628036,
          -0.010265709753628036,
          -0.2134460948451417,
          -0.2134460948451417,
          0.11672312425494044,
          0.11672312425494044,
          -0.010265709753628036,
          -0.010265709753628036,
          0.12092675562490621,
          0.12092675562490621,
          -0.2134460948451417,
          -0.2134460948451417,
          0.11672312425494044,
          0.11672312425494044,
          0.10572438611642415,
          0.10572438611642415,
          -0.2134460948451417,
          -0.2134460948451417,
          -0.2134460948451417,
          -0.2134460948451417,
          -0.010265709753628036,
          -0.010265709753628036,
          -0.2134460948451417,
          -0.2134460948451417,
          -0.2134460948451417,
          -0.2134460948451417,
          -0.2134460948451417,
          -0.2134460948451417,
          -0.2134460948451417,
          -0.2134460948451417,
          0.10572438611642415,
          0.10572438611642415,
          0.10572438611642415,
          0.10572438611642415,
          0.11672312425494044,
          0.11672312425494044,
          -0.2134460948451417,
          -0.2134460948451417,
          -0.2134460948451417,
          -0.2134460948451417,
          -0.2134460948451417,
          -0.2134460948451417,
          -0.2134460948451417,
          -0.2134460948451417,
          0.11049518829531282,
          -0.010265709753628036,
          0.11672312425494044,
          0.11672312425494044,
          -0.2134460948451417,
          -0.2134460948451417,
          -0.2134460948451417,
          -0.2134460948451417,
          -0.010265709753628036,
          -0.010265709753628036,
          -0.2134460948451417,
          -0.2134460948451417,
          0.10572438611642415,
          0.10572438611642415,
          -0.2134460948451417,
          -0.2134460948451417,
          -0.010265709753628036,
          -0.2134460948451417,
          -0.2134460948451417,
          0.0978865184491098,
          0.0978865184491098,
          -0.2134460948451417,
          -0.2134460948451417,
          0.11672312425494044,
          0.11672312425494044,
          -0.2134460948451417,
          -0.2134460948451417,
          -0.2134460948451417,
          -0.2134460948451417,
          -0.2134460948451417,
          -0.2134460948451417,
          -0.2134460948451417,
          -0.2134460948451417,
          -0.2134460948451417,
          -0.2134460948451417,
          -0.2134460948451417,
          -0.2134460948451417,
          -0.2134460948451417,
          -0.2134460948451417,
          0.11672312425494044,
          -0.2134460948451417,
          -0.2134460948451417,
          0.017402574346204507,
          0.017402574346204507,
          0.11672312425494044,
          0.11672312425494044,
          -0.2134460948451417,
          0.10782112920932822,
          0.10782112920932822,
          -0.2134460948451417,
          -0.2134460948451417,
          -0.2134460948451417,
          -0.2134460948451417,
          -0.2134460948451417,
          -0.2134460948451417,
          0.12092675562490621,
          0.12092675562490621,
          -0.002304825128825798,
          -0.2134460948451417,
          -0.2134460948451417,
          0.10572438611642415,
          0.10572438611642415,
          -0.2134460948451417,
          -0.2134460948451417,
          -0.2134460948451417,
          -0.2134460948451417,
          -0.2134460948451417,
          -0.2134460948451417,
          -0.2134460948451417,
          -0.2134460948451417,
          -0.2134460948451417,
          -0.2134460948451417,
          -0.2134460948451417,
          -0.2134460948451417,
          -0.2134460948451417,
          -0.2134460948451417,
          -0.2134460948451417,
          -0.2134460948451417,
          -0.2134460948451417,
          -0.2134460948451417,
          -0.017853409950941902,
          -0.2134460948451417,
          -0.2134460948451417,
          0.11672312425494044,
          0.11672312425494044,
          -0.2134460948451417,
          -0.2134460948451417,
          -0.2134460948451417,
          -0.2134460948451417,
          -0.2134460948451417,
          -0.2134460948451417,
          -0.2134460948451417,
          -0.2134460948451417,
          -0.2134460948451417,
          -0.2134460948451417,
          -0.2134460948451417,
          -0.2134460948451417,
          -0.2134460948451417,
          -0.2134460948451417,
          0.11672312425494044,
          0.11672312425494044,
          -0.2134460948451417,
          -0.2134460948451417,
          0.10572438611642415,
          0.10572438611642415,
          -0.2134460948451417,
          -0.2134460948451417,
          -0.2134460948451417,
          -0.2134460948451417,
          -0.2134460948451417,
          -0.2134460948451417,
          -0.2134460948451417,
          -0.2134460948451417,
          0.10925575017483126,
          0.10925575017483126,
          -0.010265709753628036,
          -0.010265709753628036,
          -0.2134460948451417,
          -0.2134460948451417,
          -0.2134460948451417,
          -0.2134460948451417,
          -0.2134460948451417,
          -0.2134460948451417,
          -0.2134460948451417,
          -0.2134460948451417,
          -0.010265709753628036,
          -0.010265709753628036,
          -0.2134460948451417,
          -0.2134460948451417,
          -0.2134460948451417,
          -0.2134460948451417,
          0.10572438611642415,
          0.10572438611642415,
          -0.2134460948451417,
          -0.2134460948451417,
          -0.2134460948451417,
          -0.2134460948451417,
          -0.2134460948451417,
          -0.2134460948451417,
          0.10572438611642415,
          0.10572438611642415,
          0.10782112920932822,
          0.10782112920932822,
          -0.2134460948451417,
          -0.2134460948451417,
          -0.2134460948451417,
          -0.2134460948451417,
          -0.2134460948451417,
          -0.2134460948451417,
          -0.2134460948451417,
          -0.2134460948451417,
          -0.2134460948451417,
          -0.2134460948451417,
          -0.2134460948451417,
          -0.2134460948451417,
          0.10858246523475411,
          -0.2134460948451417,
          -0.2134460948451417,
          0.04884269788275171,
          0.09785125352867172,
          0.09785125352867172,
          -0.2134460948451417,
          -0.2134460948451417,
          0.09785125352867172,
          -0.2134460948451417,
          -0.2134460948451417,
          0.11672312425494044,
          0.10107838086511353,
          -0.2134460948451417,
          0.11672312425494044,
          -0.2134460948451417,
          -0.033241089349517625,
          0.017402574346204507,
          0.017402574346204507,
          0.06229419279602896,
          0.04884269788275171,
          -0.2134460948451417,
          0.04884269788275171,
          0.017402574346204507,
          0.01166513515722529,
          0.011373626883234999,
          -0.2134460948451417,
          -0.2134460948451417,
          -0.2134460948451417,
          -0.2134460948451417,
          0.10572438611642415,
          0.10572438611642415,
          0.10858246523475411,
          -0.2134460948451417,
          0.011373626883234999,
          0.10858246523475411,
          0.10953352335163996,
          0.10925575017483126,
          0.09785125352867172,
          0.10782112920932822,
          -0.2134460948451417,
          -0.017853409950941902,
          0.11672312425494044,
          0.10953352335163996,
          -0.2134460948451417,
          -0.2134460948451417,
          0.11809698392120886,
          0.017402574346204507,
          0.10858246523475411,
          -0.2134460948451417,
          -0.033241089349517625,
          -0.2134460948451417,
          -0.033241089349517625,
          0.09785125352867172,
          -0.2134460948451417,
          0.10953352335163996,
          -0.002304825128825798,
          -0.2134460948451417,
          -0.2134460948451417,
          -0.2134460948451417,
          -0.2134460948451417,
          -0.2134460948451417,
          -0.2134460948451417,
          -0.2134460948451417,
          0.017402574346204507,
          0.06229419279602896,
          0.06229419279602896,
          0.016045153953430372,
          -0.002304825128825798,
          -0.2134460948451417,
          0.016045153953430372,
          -0.2134460948451417,
          -0.2134460948451417,
          -0.2134460948451417,
          -0.2134460948451417,
          -0.2134460948451417,
          -0.2134460948451417,
          -0.2134460948451417,
          0.11024760265002809,
          -0.2134460948451417,
          0.10925575017483126,
          0.10572438611642415,
          0.011373626883234999,
          -0.2134460948451417,
          0.017402574346204507,
          -0.2134460948451417,
          -0.2134460948451417,
          -0.2134460948451417,
          -0.2134460948451417,
          0.10953352335163996,
          -0.2134460948451417,
          -0.2134460948451417,
          -0.2134460948451417,
          -0.2134460948451417,
          -0.002304825128825798,
          0.10858246523475411,
          0.011373626883234999,
          0.11672312425494044,
          0.11672312425494044,
          -0.002304825128825798,
          0.10953352335163996,
          -0.033241089349517625,
          -0.2134460948451417,
          0.011373626883234999,
          0.10953352335163996,
          -0.2134460948451417,
          0.011373626883234999,
          0.10953352335163996,
          -0.002304825128825798,
          0.04884269788275171,
          -0.2134460948451417,
          -0.2134460948451417,
          0.10782112920932822,
          -0.2134460948451417,
          0.10858246523475411,
          -0.017853409950941902,
          -0.2134460948451417,
          0.011373626883234999,
          0.01166513515722529,
          -0.2134460948451417,
          0.10782112920932822,
          -0.2134460948451417,
          0.11672312425494044,
          0.011373626883234999,
          0.04884269788275171,
          0.04884269788275171,
          -0.2134460948451417,
          0.11672312425494044,
          -0.2134460948451417,
          0.10858246523475411,
          -0.2134460948451417,
          0.0978865184491098,
          0.11672312425494044
         ],
         "y": [
          -0.5579833604680239,
          -0.5579833604680239,
          -0.5579833604680239,
          -0.5579833604680239,
          -0.1866325041913414,
          -0.1866325041913414,
          -0.5579833604680239,
          -0.5579833604680239,
          -0.5579833604680239,
          -0.5579833604680239,
          -0.5579833604680239,
          -0.5579833604680239,
          -0.5579833604680239,
          -0.5579833604680239,
          -0.09381426086660175,
          -0.09381426086660175,
          0.058079721508046106,
          0.058079721508046106,
          -0.5579833604680239,
          -0.5579833604680239,
          0.0676129476157018,
          -0.0640360893893088,
          -0.0640360893893088,
          -0.5579833604680239,
          -0.5579833604680239,
          -0.5579833604680239,
          -0.5579833604680239,
          -0.5579833604680239,
          -0.5579833604680239,
          -0.5579833604680239,
          -0.5579833604680239,
          -0.5579833604680239,
          -0.5579833604680239,
          -0.2506897578956689,
          -0.2506897578956689,
          -0.5579833604680239,
          -0.5579833604680239,
          -0.1866325041913414,
          -0.1866325041913414,
          -0.2506897578956689,
          -0.2506897578956689,
          -0.2506897578956689,
          -0.2506897578956689,
          -0.2506897578956689,
          -0.2506897578956689,
          -0.5579833604680239,
          -0.5579833604680239,
          -0.5579833604680239,
          -0.5579833604680239,
          0.03532782855967932,
          0.03532782855967932,
          -0.5579833604680239,
          -0.5579833604680239,
          -0.5579833604680239,
          -0.5579833604680239,
          -0.5579833604680239,
          -0.5579833604680239,
          -0.5579833604680239,
          -0.5579833604680239,
          -0.2506897578956689,
          -0.2506897578956689,
          -0.5579833604680239,
          -0.5579833604680239,
          -0.5579833604680239,
          -0.5579833604680239,
          -0.5579833604680239,
          -0.5579833604680239,
          -0.2506897578956689,
          -0.2506897578956689,
          -0.5579833604680239,
          -0.5579833604680239,
          -0.5579833604680239,
          -0.5579833604680239,
          -0.5579833604680239,
          -0.5579833604680239,
          -0.12959763138038352,
          -0.12959763138038352,
          -0.5579833604680239,
          -0.5579833604680239,
          -0.1866325041913414,
          -0.1866325041913414,
          0.058079721508046106,
          0.058079721508046106,
          0.058079721508046106,
          0.058079721508046106,
          -0.09434475663887368,
          -0.5579833604680239,
          -0.5579833604680239,
          -0.5579833604680239,
          -0.5579833604680239,
          -0.5579833604680239,
          -0.5579833604680239,
          -0.09381426086660175,
          -0.09381426086660175,
          -0.5579833604680239,
          0.0676129476157018,
          -0.5579833604680239,
          -0.5579833604680239,
          -0.5579833604680239,
          -0.5579833604680239,
          -0.5579833604680239,
          -0.5579833604680239,
          0.05436178039450748,
          0.05436178039450748,
          0.0676129476157018,
          -0.5579833604680239,
          -0.5579833604680239,
          -0.5579833604680239,
          -0.5579833604680239,
          0.060729729470447545,
          0.060729729470447545,
          -0.2506897578956689,
          -0.2506897578956689,
          -0.5579833604680239,
          -0.5579833604680239,
          -0.1866325041913414,
          -0.1866325041913414,
          -0.5579833604680239,
          -0.5579833604680239,
          -0.5579833604680239,
          -0.5579833604680239,
          -0.2506897578956689,
          -0.2506897578956689,
          -0.2506897578956689,
          -0.2506897578956689,
          -0.5579833604680239,
          -0.5579833604680239,
          -0.5579833604680239,
          -0.5579833604680239,
          -0.2506897578956689,
          -0.2506897578956689,
          -0.5579833604680239,
          -0.5579833604680239,
          0.056327280240428046,
          0.056327280240428046,
          0.056327280240428046,
          0.056327280240428046,
          0.0676129476157018,
          0.058079721508046106,
          0.058079721508046106,
          -0.5579833604680239,
          -0.5579833604680239,
          -0.5579833604680239,
          -0.5579833604680239,
          -0.5579833604680239,
          -0.5579833604680239,
          -0.5579833604680239,
          -0.5579833604680239,
          -0.13768769859222352,
          -0.5579833604680239,
          -0.5579833604680239,
          -0.5579833604680239,
          -0.5579833604680239,
          0.054401641407462814,
          0.054401641407462814,
          -0.5579833604680239,
          -0.5579833604680239,
          0.03532782855967932,
          0.03532782855967932,
          -0.5579833604680239,
          -0.5579833604680239,
          -0.5579833604680239,
          -0.5579833604680239,
          -0.16496267984565202,
          -0.5579833604680239,
          -0.5579833604680239,
          -0.5579833604680239,
          -0.5579833604680239,
          -0.2506897578956689,
          -0.2506897578956689,
          -0.1866325041913414,
          -0.1866325041913414,
          0.058079721508046106,
          0.058079721508046106,
          -0.1866325041913414,
          -0.1866325041913414,
          -0.5579833604680239,
          -0.5579833604680239,
          0.056327280240428046,
          0.056327280240428046,
          -0.5579833604680239,
          -0.5579833604680239,
          -0.5579833604680239,
          -0.5579833604680239,
          -0.5579833604680239,
          -0.5579833604680239,
          -0.5579833604680239,
          -0.5579833604680239,
          0.058079721508046106,
          0.058079721508046106,
          -0.5579833604680239,
          -0.5579833604680239,
          -0.5579833604680239,
          -0.5579833604680239,
          -0.5579833604680239,
          -0.5579833604680239,
          -0.5579833604680239,
          0.057938888635873466,
          0.057938888635873466,
          -0.5579833604680239,
          -0.5579833604680239,
          0.0676129476157018,
          0.0676129476157018,
          -0.10789265622152852,
          -0.10789265622152852,
          -0.5579833604680239,
          -0.5579833604680239,
          -0.5579833604680239,
          -0.5579833604680239,
          -0.5579833604680239,
          -0.5579833604680239,
          -0.5579833604680239,
          -0.5579833604680239,
          -0.1866325041913414,
          -0.1866325041913414,
          0.058079721508046106,
          0.058079721508046106,
          0.058079721508046106,
          0.058079721508046106,
          -0.5579833604680239,
          -0.5579833604680239,
          -0.5579833604680239,
          -0.5579833604680239,
          -0.5579833604680239,
          -0.5579833604680239,
          -0.2506897578956689,
          -0.2506897578956689,
          -0.5579833604680239,
          -0.5579833604680239,
          -0.5579833604680239,
          -0.5579833604680239,
          -0.5579833604680239,
          -0.5579833604680239,
          0.061140811228400885,
          -0.5579833604680239,
          -0.5579833604680239,
          -0.5579833604680239,
          -0.5579833604680239,
          -0.5579833604680239,
          -0.5579833604680239,
          -0.5579833604680239,
          -0.5579833604680239,
          -0.5579833604680239,
          -0.5579833604680239,
          -0.5579833604680239,
          -0.5579833604680239,
          -0.5579833604680239,
          -0.5579833604680239,
          -0.5579833604680239,
          -0.5579833604680239,
          -0.5579833604680239,
          -0.5579833604680239,
          -0.5579833604680239,
          -0.5579833604680239,
          -0.5579833604680239,
          -0.5579833604680239,
          -0.5579833604680239,
          -0.5579833604680239,
          -0.5579833604680239,
          -0.5579833604680239,
          -0.5579833604680239,
          -0.5579833604680239,
          -0.5579833604680239,
          -0.5579833604680239,
          -0.5579833604680239,
          -0.5579833604680239,
          0.058079721508046106,
          0.058079721508046106,
          -0.5579833604680239,
          -0.5579833604680239,
          -0.5579833604680239,
          -0.5579833604680239,
          0.058079721508046106,
          0.058079721508046106,
          -0.5579833604680239,
          -0.5579833604680239,
          -0.5579833604680239,
          -0.5579833604680239,
          -0.06749091731185991,
          -0.5579833604680239,
          -0.5579833604680239,
          -0.1866325041913414,
          -0.1866325041913414,
          0.058079721508046106,
          0.058079721508046106,
          0.056327280240428046,
          0.056327280240428046,
          -0.2506897578956689,
          -0.2506897578956689,
          -0.5579833604680239,
          -0.5579833604680239,
          0.060729729470447545,
          0.060729729470447545,
          -0.5579833604680239,
          -0.5579833604680239,
          -0.5579833604680239,
          -0.5579833604680239,
          -0.5579833604680239,
          -0.5579833604680239,
          -0.5579833604680239,
          -0.5579833604680239,
          -0.5579833604680239,
          -0.5579833604680239,
          -0.14582284994321967,
          -0.14582284994321967,
          -0.2506897578956689,
          -0.2506897578956689,
          -0.1648101674547724,
          -0.1648101674547724,
          0.058079721508046106,
          0.058079721508046106,
          -0.1451894182686221,
          0.06526786229759486,
          0.0676129476157018,
          -0.5579833604680239,
          -0.5579833604680239,
          -0.5579833604680239,
          -0.5579833604680239,
          -0.5579833604680239,
          -0.5579833604680239,
          -0.2506897578956689,
          -0.2506897578956689,
          -0.5579833604680239,
          -0.5579833604680239,
          -0.1390694609042724,
          -0.1390694609042724,
          -0.5579833604680239,
          -0.5579833604680239,
          -0.5579833604680239,
          -0.5579833604680239,
          -0.5579833604680239,
          -0.5579833604680239,
          -0.5579833604680239,
          -0.5579833604680239,
          0.06516796579008904,
          0.05977134601348585,
          -0.5579833604680239,
          -0.5579833604680239,
          -0.1648101674547724,
          -0.1648101674547724,
          -0.2506897578956689,
          -0.2506897578956689,
          -0.5579833604680239,
          -0.5579833604680239,
          0.060729729470447545,
          0.060729729470447545,
          0.03532782855967932,
          0.03532782855967932,
          -0.5579833604680239,
          -0.5579833604680239,
          0.058079721508046106,
          0.058079721508046106,
          -0.5579833604680239,
          -0.5579833604680239,
          0.060729729470447545,
          0.060729729470447545,
          0.05828055154166481,
          0.05828055154166481,
          -0.5579833604680239,
          -0.5579833604680239,
          -0.5579833604680239,
          -0.5579833604680239,
          0.0373309520083627,
          0.0373309520083627,
          0.0676129476157018,
          -0.5579833604680239,
          -0.5579833604680239,
          -0.5579833604680239,
          -0.5579833604680239,
          -0.5579833604680239,
          -0.5579833604680239,
          -0.1451894182686221,
          -0.5579833604680239,
          -0.5579833604680239,
          -0.5579833604680239,
          -0.5579833604680239,
          -0.5579833604680239,
          -0.5579833604680239,
          -0.5579833604680239,
          -0.5579833604680239,
          -0.5579833604680239,
          -0.5579833604680239,
          -0.5579833604680239,
          -0.5579833604680239,
          -0.5579833604680239,
          -0.5579833604680239,
          0.056327280240428046,
          0.056327280240428046,
          -0.5579833604680239,
          -0.5579833604680239,
          -0.5579833604680239,
          -0.5579833604680239,
          -0.5579833604680239,
          -0.5579833604680239,
          -0.5579833604680239,
          -0.5579833604680239,
          -0.5579833604680239,
          -0.5579833604680239,
          -0.5579833604680239,
          -0.5579833604680239,
          -0.5579833604680239,
          -0.5579833604680239,
          -0.5579833604680239,
          -0.5579833604680239,
          -0.2506897578956689,
          -0.2506897578956689,
          -0.5579833604680239,
          -0.5579833604680239,
          -0.5579833604680239,
          -0.5579833604680239,
          0.03532782855967932,
          0.03532782855967932,
          -0.5579833604680239,
          -0.5579833604680239,
          0.05436178039450748,
          0.060729729470447545,
          0.060729729470447545,
          0.060729729470447545,
          -0.09381426086660175,
          0.0676129476157018,
          -0.5579833604680239,
          -0.5579833604680239,
          0.05828055154166481,
          -0.5579833604680239,
          -0.5579833604680239,
          0.058079721508046106,
          0.058079721508046106,
          -0.5579833604680239,
          -0.5579833604680239,
          -0.1866325041913414,
          -0.1866325041913414,
          -0.5579833604680239,
          -0.5579833604680239,
          0.056327280240428046,
          0.056327280240428046,
          0.05817429853065659,
          0.05817429853065659,
          -0.5579833604680239,
          -0.5579833604680239,
          -0.5579833604680239,
          -0.5579833604680239,
          -0.5579833604680239,
          -0.5579833604680239,
          -0.5579833604680239,
          -0.5579833604680239,
          0.060729729470447545,
          0.060729729470447545,
          0.056327280240428046,
          0.056327280240428046,
          -0.5579833604680239,
          -0.5579833604680239,
          -0.5579833604680239,
          -0.5579833604680239,
          -0.5579833604680239,
          -0.5579833604680239,
          -0.5579833604680239,
          -0.5579833604680239,
          -0.5579833604680239,
          -0.5579833604680239,
          -0.1866325041913414,
          -0.1866325041913414,
          -0.2506897578956689,
          -0.2506897578956689,
          -0.5579833604680239,
          -0.5579833604680239,
          -0.5579833604680239,
          -0.5579833604680239,
          -0.2506897578956689,
          -0.2506897578956689,
          0.056327280240428046,
          0.056327280240428046,
          -0.5579833604680239,
          -0.5579833604680239,
          -0.5579833604680239,
          -0.14582284994321967,
          -0.14582284994321967,
          -0.14582284994321967,
          -0.14582284994321967,
          0.060729729470447545,
          0.060729729470447545,
          -0.5579833604680239,
          -0.5579833604680239,
          0.058079721508046106,
          0.058079721508046106,
          -0.5579833604680239,
          -0.5579833604680239,
          -0.5579833604680239,
          -0.5579833604680239,
          -0.5579833604680239,
          -0.5579833604680239,
          -0.5579833604680239,
          -0.5579833604680239,
          -0.5579833604680239,
          -0.5579833604680239,
          -0.5579833604680239,
          -0.5579833604680239,
          0.05977134601348585,
          0.05977134601348585,
          -0.5579833604680239,
          -0.5579833604680239,
          -0.5579833604680239,
          -0.5579833604680239,
          -0.5579833604680239,
          -0.5579833604680239,
          0.05977134601348585,
          0.05977134601348585,
          0.058079721508046106,
          0.058079721508046106,
          0.056327280240428046,
          0.056327280240428046,
          -0.1866325041913414,
          -0.1866325041913414,
          -0.5579833604680239,
          -0.5579833604680239,
          -0.5579833604680239,
          -0.5579833604680239,
          0.058079721508046106,
          0.058079721508046106,
          -0.5579833604680239,
          -0.5579833604680239,
          -0.5579833604680239,
          -0.5579833604680239,
          -0.5579833604680239,
          -0.5579833604680239,
          0.05779907151015359,
          -0.5579833604680239,
          -0.5579833604680239,
          -0.5579833604680239,
          -0.5579833604680239,
          -0.5579833604680239,
          -0.5579833604680239,
          -0.5579833604680239,
          -0.5579833604680239,
          -0.5579833604680239,
          -0.5579833604680239,
          -0.5579833604680239,
          -0.5579833604680239,
          -0.5579833604680239,
          -0.5579833604680239,
          0.058079721508046106,
          0.058079721508046106,
          0.058079721508046106,
          0.058079721508046106,
          0.060729729470447545,
          0.060729729470447545,
          -0.5579833604680239,
          -0.5579833604680239,
          0.05977134601348585,
          0.05977134601348585,
          -0.5579833604680239,
          -0.5579833604680239,
          -0.5579833604680239,
          -0.5579833604680239,
          -0.5579833604680239,
          -0.5579833604680239,
          -0.06523894471812176,
          -0.5579833604680239,
          -0.5579833604680239,
          -0.5579833604680239,
          -0.5579833604680239,
          -0.5579833604680239,
          -0.5579833604680239,
          -0.1866325041913414,
          -0.1866325041913414,
          -0.5579833604680239,
          -0.5579833604680239,
          0.057938888635873466,
          -0.09434475663887368,
          -0.5579833604680239,
          0.06516796579008904,
          0.06516796579008904,
          0.03532782855967932,
          0.03532782855967932,
          -0.5579833604680239,
          -0.5579833604680239,
          -0.5579833604680239,
          -0.5579833604680239,
          -0.1648101674547724,
          -0.1648101674547724,
          -0.5579833604680239,
          -0.5579833604680239,
          0.03532782855967932,
          0.03532782855967932,
          -0.5579833604680239,
          -0.5579833604680239,
          -0.5579833604680239,
          -0.5579833604680239,
          -0.5579833604680239,
          -0.5579833604680239,
          -0.5579833604680239,
          -0.5579833604680239,
          -0.5579833604680239,
          -0.5579833604680239,
          -0.5579833604680239,
          -0.5579833604680239,
          -0.5579833604680239,
          -0.5579833604680239,
          -0.5579833604680239,
          -0.5579833604680239,
          0.05817429853065659,
          0.05817429853065659,
          0.06516796579008904,
          0.06516796579008904,
          -0.5579833604680239,
          -0.5579833604680239,
          0.056327280240428046,
          0.056327280240428046,
          -0.13768769859222352,
          -0.5579833604680239,
          -0.5579833604680239,
          -0.5579833604680239,
          -0.5579833604680239,
          -0.5579833604680239,
          -0.5579833604680239,
          -0.10688955374825691,
          0.058079721508046106,
          0.058079721508046106,
          -0.5579833604680239,
          -0.5579833604680239,
          -0.5579833604680239,
          -0.5579833604680239,
          0.05817429853065659,
          0.060729729470447545,
          0.060729729470447545,
          0.056327280240428046,
          0.056327280240428046,
          -0.2506897578956689,
          -0.2506897578956689,
          -0.2506897578956689,
          -0.2506897578956689,
          -0.5579833604680239,
          -0.5579833604680239,
          -0.5579833604680239,
          -0.5579833604680239,
          -0.5579833604680239,
          -0.5579833604680239,
          -0.5579833604680239,
          -0.5579833604680239,
          -0.5579833604680239,
          -0.5579833604680239,
          -0.5579833604680239,
          -0.5579833604680239,
          -0.5579833604680239,
          -0.5579833604680239,
          -0.5579833604680239,
          -0.5579833604680239,
          -0.5579833604680239,
          -0.5579833604680239,
          -0.5579833604680239,
          -0.5579833604680239,
          -0.5579833604680239,
          -0.5579833604680239,
          -0.5579833604680239,
          -0.5579833604680239,
          -0.1648101674547724,
          -0.1648101674547724,
          0.0676129476157018,
          -0.5579833604680239,
          -0.5579833604680239,
          -0.5579833604680239,
          -0.5579833604680239,
          -0.5579833604680239,
          -0.5579833604680239,
          -0.5579833604680239,
          -0.5579833604680239,
          -0.5579833604680239,
          -0.5579833604680239,
          -0.09381426086660175,
          0.0676129476157018,
          0.037200004664348564,
          -0.5579833604680239,
          -0.5579833604680239,
          0.06516796579008904,
          0.06516796579008904,
          0.060729729470447545,
          0.060729729470447545,
          -0.5579833604680239,
          -0.5579833604680239,
          -0.5579833604680239,
          -0.5579833604680239,
          -0.5579833604680239,
          -0.5579833604680239,
          0.058079721508046106,
          0.058079721508046106,
          0.058079721508046106,
          0.058079721508046106,
          0.05828055154166481,
          0.05828055154166481,
          -0.5579833604680239,
          -0.5579833604680239,
          -0.09381426086660175,
          0.05828055154166481,
          0.05828055154166481,
          -0.5579833604680239,
          -0.5579833604680239,
          -0.5579833604680239,
          -0.5579833604680239,
          -0.5579833604680239,
          -0.5579833604680239,
          -0.1648101674547724,
          -0.1648101674547724,
          -0.5579833604680239,
          -0.5579833604680239,
          0.06516796579008904,
          0.06516796579008904,
          0.05592579423691001,
          0.05592579423691001,
          -0.5579833604680239,
          -0.5579833604680239,
          -0.5579833604680239,
          -0.5579833604680239,
          -0.5579833604680239,
          -0.5579833604680239,
          -0.5579833604680239,
          -0.5579833604680239,
          -0.2506897578956689,
          -0.2506897578956689,
          -0.5579833604680239,
          -0.5579833604680239,
          0.058079721508046106,
          0.058079721508046106,
          -0.5579833604680239,
          -0.5579833604680239,
          -0.20976251957007314,
          -0.20976251957007314,
          -0.06749091731185991,
          -0.06749091731185991,
          0.060729729470447545,
          0.060729729470447545,
          -0.5579833604680239,
          -0.5579833604680239,
          0.06516796579008904,
          0.06516796579008904,
          -0.5579833604680239,
          -0.5579833604680239,
          -0.5579833604680239,
          -0.5579833604680239,
          -0.11881734969637033,
          -0.11881734969637033,
          -0.5579833604680239,
          -0.5579833604680239,
          -0.11881734969637033,
          -0.11881734969637033,
          -0.5579833604680239,
          -0.5579833604680239,
          -0.1648101674547724,
          -0.1648101674547724,
          -0.5579833604680239,
          -0.5579833604680239,
          -0.1866325041913414,
          -0.1866325041913414,
          -0.5579833604680239,
          -0.5579833604680239,
          -0.5579833604680239,
          -0.5579833604680239,
          -0.5579833604680239,
          -0.5579833604680239,
          -0.5579833604680239,
          -0.5579833604680239,
          -0.5579833604680239,
          -0.5579833604680239,
          -0.1866325041913414,
          -0.1866325041913414,
          -0.1866325041913414,
          -0.1866325041913414,
          0.03532782855967932,
          -0.5579833604680239,
          -0.5579833604680239,
          -0.5579833604680239,
          -0.5579833604680239,
          -0.09381426086660175,
          -0.09381426086660175,
          0.058079721508046106,
          0.058079721508046106,
          0.058079721508046106,
          0.058079721508046106,
          -0.5579833604680239,
          -0.5579833604680239,
          -0.5579833604680239,
          -0.5579833604680239,
          -0.5579833604680239,
          -0.5579833604680239,
          0.058079721508046106,
          0.058079721508046106,
          -0.5579833604680239,
          -0.5579833604680239,
          -0.5579833604680239,
          -0.5579833604680239,
          -0.5579833604680239,
          -0.5579833604680239,
          0.058777382031153506,
          -0.5579833604680239,
          -0.5579833604680239,
          -0.5579833604680239,
          -0.5579833604680239,
          0.05828055154166481,
          0.05828055154166481,
          -0.5579833604680239,
          -0.5579833604680239,
          0.05828055154166481,
          0.05828055154166481,
          -0.5579833604680239,
          -0.5579833604680239,
          -0.5579833604680239,
          -0.5579833604680239,
          -0.5579833604680239,
          -0.5579833604680239,
          -0.5579833604680239,
          -0.5579833604680239,
          0.06526786229759486,
          -0.5579833604680239,
          -0.5579833604680239,
          -0.5579833604680239,
          -0.5579833604680239,
          -0.5579833604680239,
          -0.5579833604680239,
          -0.5579833604680239,
          -0.5579833604680239,
          0.05828055154166481,
          -0.5579833604680239,
          -0.5579833604680239,
          -0.5579833604680239,
          -0.5579833604680239,
          -0.1648101674547724,
          -0.1648101674547724,
          -0.06749091731185991,
          -0.06749091731185991,
          -0.5579833604680239,
          -0.5579833604680239,
          -0.5579833604680239,
          -0.5579833604680239,
          -0.5579833604680239,
          -0.5579833604680239,
          -0.5579833604680239,
          -0.5579833604680239,
          0.060729729470447545,
          0.060729729470447545,
          -0.5579833604680239,
          -0.5579833604680239,
          -0.11881734969637033,
          -0.5579833604680239,
          -0.5579833604680239,
          -0.5579833604680239,
          -0.5579833604680239,
          -0.5579833604680239,
          -0.5579833604680239,
          -0.5579833604680239,
          -0.5579833604680239,
          -0.5579833604680239,
          -0.5579833604680239,
          -0.5579833604680239,
          -0.5579833604680239,
          -0.5579833604680239,
          -0.5579833604680239,
          -0.5579833604680239,
          -0.5579833604680239,
          -0.5579833604680239,
          -0.5579833604680239,
          -0.5579833604680239,
          -0.5579833604680239,
          -0.5579833604680239,
          -0.5579833604680239,
          -0.5579833604680239,
          -0.1866325041913414,
          -0.1866325041913414,
          -0.2506897578956689,
          -0.2506897578956689,
          -0.09381426086660175,
          -0.5579833604680239,
          -0.5579833604680239,
          -0.5579833604680239,
          -0.5579833604680239,
          -0.5579833604680239,
          -0.5579833604680239,
          -0.5579833604680239,
          -0.5579833604680239,
          -0.5579833604680239,
          -0.5579833604680239,
          -0.5579833604680239,
          -0.5579833604680239,
          -0.5579833604680239,
          -0.5579833604680239,
          -0.5579833604680239,
          -0.5579833604680239,
          0.06516796579008904,
          0.06516796579008904,
          0.05982584861643272,
          -0.10789265622152852,
          -0.10789265622152852,
          -0.5579833604680239,
          -0.5579833604680239,
          -0.5579833604680239,
          -0.5579833604680239,
          0.054401641407462814,
          0.054401641407462814,
          -0.5579833604680239,
          -0.5579833604680239,
          0.058079721508046106,
          0.058079721508046106,
          -0.5579833604680239,
          -0.5579833604680239,
          -0.5579833604680239,
          -0.5579833604680239,
          -0.5579833604680239,
          -0.5579833604680239,
          -0.5579833604680239,
          -0.5579833604680239,
          -0.5579833604680239,
          -0.5579833604680239,
          -0.5579833604680239,
          -0.5579833604680239,
          -0.2506897578956689,
          -0.2506897578956689,
          -0.5579833604680239,
          -0.5579833604680239,
          -0.5579833604680239,
          -0.5579833604680239,
          -0.5579833604680239,
          -0.5579833604680239,
          -0.5579833604680239,
          -0.5579833604680239,
          -0.5579833604680239,
          -0.5579833604680239,
          0.05828055154166481,
          0.05828055154166481,
          0.058079721508046106,
          0.058079721508046106,
          -0.25054352159227944,
          -0.5579833604680239,
          -0.5579833604680239,
          -0.5579833604680239,
          -0.5579833604680239,
          0.054401641407462814,
          0.054401641407462814,
          0.0365724443127082,
          -0.5579833604680239,
          -0.5579833604680239,
          -0.5579833604680239,
          -0.5579833604680239,
          -0.5579833604680239,
          -0.5579833604680239,
          0.05982584861643272,
          -0.1648101674547724,
          -0.1648101674547724,
          -0.5579833604680239,
          -0.5579833604680239,
          -0.5579833604680239,
          -0.5579833604680239,
          -0.5579833604680239,
          -0.5579833604680239,
          -0.5579833604680239,
          -0.5579833604680239,
          0.058079721508046106,
          0.058079721508046106,
          -0.1866325041913414,
          -0.1866325041913414,
          -0.5579833604680239,
          -0.5579833604680239,
          -0.5579833604680239,
          -0.5579833604680239,
          -0.5579833604680239,
          -0.5579833604680239,
          -0.5579833604680239,
          -0.5579833604680239,
          -0.5579833604680239,
          -0.5579833604680239,
          -0.5579833604680239,
          -0.5579833604680239,
          0.05982584861643272,
          -0.5579833604680239,
          -0.5579833604680239,
          -0.5579833604680239,
          -0.5579833604680239,
          -0.5579833604680239,
          -0.5579833604680239,
          -0.2506897578956689,
          -0.2506897578956689,
          0.03532782855967932,
          0.03532782855967932,
          -0.5579833604680239,
          -0.5579833604680239,
          -0.5579833604680239,
          -0.5579833604680239,
          0.058079721508046106,
          0.058079721508046106,
          0.05828055154166481,
          -0.5579833604680239,
          -0.5579833604680239,
          -0.5579833604680239,
          -0.5579833604680239,
          -0.5579833604680239,
          -0.5579833604680239,
          0.054401641407462814,
          0.054401641407462814,
          -0.5579833604680239,
          -0.5579833604680239,
          -0.5579833604680239,
          -0.5579833604680239,
          -0.2506897578956689,
          -0.2506897578956689,
          -0.5579833604680239,
          -0.5579833604680239,
          -0.5579833604680239,
          -0.5579833604680239,
          -0.5579833604680239,
          -0.5579833604680239,
          -0.5579833604680239,
          -0.5579833604680239,
          -0.5579833604680239,
          -0.5579833604680239,
          -0.5579833604680239,
          -0.5579833604680239,
          -0.5579833604680239,
          -0.5579833604680239,
          0.060729729470447545,
          0.060729729470447545,
          -0.5579833604680239,
          -0.5579833604680239,
          0.060729729470447545,
          0.060729729470447545,
          0.056988590626222836,
          -0.5579833604680239,
          -0.5579833604680239,
          -0.5579833604680239,
          -0.5579833604680239,
          -0.5579833604680239,
          -0.5579833604680239,
          -0.5579833604680239,
          -0.5579833604680239,
          -0.5579833604680239,
          -0.5579833604680239,
          -0.5579833604680239,
          -0.5579833604680239,
          -0.5579833604680239,
          -0.5579833604680239,
          -0.2506897578956689,
          -0.2506897578956689,
          -0.5579833604680239,
          -0.5579833604680239,
          -0.2506897578956689,
          -0.2506897578956689,
          -0.2506897578956689,
          -0.2506897578956689,
          -0.5579833604680239,
          -0.5579833604680239,
          0.061140811228400885,
          -0.5579833604680239,
          -0.5579833604680239,
          -0.5579833604680239,
          -0.5579833604680239,
          0.06024394143320528,
          -0.5579833604680239,
          -0.5579833604680239,
          -0.5579833604680239,
          -0.5579833604680239,
          -0.5579833604680239,
          -0.5579833604680239,
          -0.5579833604680239,
          -0.5579833604680239,
          0.058079721508046106,
          0.058079721508046106,
          -0.5579833604680239,
          -0.5579833604680239,
          -0.5579833604680239,
          -0.5579833604680239,
          -0.5579833604680239,
          -0.5579833604680239,
          -0.5579833604680239,
          -0.5579833604680239,
          0.056327280240428046,
          0.056327280240428046,
          0.058079721508046106,
          0.058079721508046106,
          -0.12798715358613008,
          -0.5579833604680239,
          -0.5579833604680239,
          -0.5579833604680239,
          -0.5579833604680239,
          -0.5579833604680239,
          -0.5579833604680239,
          -0.5579833604680239,
          -0.5579833604680239,
          0.05436178039450748,
          0.05436178039450748,
          -0.5579833604680239,
          -0.5579833604680239,
          -0.5579833604680239,
          -0.5579833604680239,
          -0.5579833604680239,
          -0.5579833604680239,
          -0.5579833604680239,
          -0.5579833604680239,
          -0.5579833604680239,
          -0.5579833604680239,
          -0.5579833604680239,
          -0.5579833604680239,
          -0.2506897578956689,
          -0.2506897578956689,
          -0.5579833604680239,
          -0.5579833604680239,
          -0.1866325041913414,
          -0.5579833604680239,
          -0.5579833604680239,
          -0.5579833604680239,
          -0.5579833604680239,
          -0.5579833604680239,
          -0.5579833604680239,
          -0.5579833604680239,
          -0.5579833604680239,
          -0.1648101674547724,
          -0.1648101674547724,
          -0.5579833604680239,
          -0.5579833604680239,
          -0.5579833604680239,
          -0.5579833604680239,
          -0.5579833604680239,
          -0.5579833604680239,
          -0.2506897578956689,
          -0.2506897578956689,
          0.058079721508046106,
          0.058079721508046106,
          -0.1390694609042724,
          -0.1390694609042724,
          -0.5579833604680239,
          -0.5579833604680239,
          -0.5579833604680239,
          -0.5579833604680239,
          -0.5579833604680239,
          -0.5579833604680239,
          -0.2506897578956689,
          -0.2506897578956689,
          -0.5579833604680239,
          -0.5579833604680239,
          -0.5579833604680239,
          -0.5579833604680239,
          0.058079721508046106,
          0.058079721508046106,
          -0.5579833604680239,
          -0.5579833604680239,
          -0.5579833604680239,
          -0.5579833604680239,
          0.05977134601348585,
          -0.5579833604680239,
          -0.5579833604680239,
          0.06384669416929882,
          -0.5579833604680239,
          -0.5579833604680239,
          -0.5579833604680239,
          -0.5579833604680239,
          -0.5579833604680239,
          -0.5579833604680239,
          -0.5579833604680239,
          -0.5579833604680239,
          -0.5579833604680239,
          -0.2506897578956689,
          -0.2506897578956689,
          0.05828055154166481,
          0.05828055154166481,
          -0.5579833604680239,
          -0.5579833604680239,
          -0.5579833604680239,
          -0.5579833604680239,
          -0.5579833604680239,
          -0.5579833604680239,
          -0.1648101674547724,
          -0.1648101674547724,
          0.058079721508046106,
          0.058079721508046106,
          0.056327280240428046,
          0.056327280240428046,
          -0.13768769859222352,
          0.06108258348524111,
          -0.5579833604680239,
          -0.5579833604680239,
          -0.5579833604680239,
          -0.5579833604680239,
          0.058079721508046106,
          0.058079721508046106,
          0.056327280240428046,
          -0.5579833604680239,
          -0.5579833604680239,
          -0.5579833604680239,
          -0.5579833604680239,
          -0.11881734969637033,
          -0.5579833604680239,
          -0.5579833604680239,
          -0.2506897578956689,
          -0.2506897578956689,
          -0.5579833604680239,
          -0.5579833604680239,
          -0.2506897578956689,
          -0.2506897578956689,
          -0.25054352159227944,
          -0.5579833604680239,
          -0.5579833604680239,
          -0.5579833604680239,
          -0.5579833604680239,
          0.06252692432346721,
          0.06252692432346721,
          -0.5579833604680239,
          -0.5579833604680239,
          -0.5579833604680239,
          -0.5579833604680239,
          -0.5579833604680239,
          -0.5579833604680239,
          -0.5579833604680239,
          -0.5579833604680239,
          0.060729729470447545,
          0.060729729470447545,
          -0.5579833604680239,
          -0.5579833604680239,
          0.058079721508046106,
          0.058079721508046106,
          -0.2506897578956689,
          -0.2506897578956689,
          -0.5579833604680239,
          -0.5579833604680239,
          -0.1648101674547724,
          -0.1648101674547724,
          0.054401641407462814,
          -0.5579833604680239,
          -0.5579833604680239,
          -0.1648101674547724,
          -0.1648101674547724,
          -0.1390694609042724,
          -0.1390694609042724,
          -0.5579833604680239,
          -0.5579833604680239,
          -0.5579833604680239,
          -0.5579833604680239,
          0.058079721508046106,
          0.058079721508046106,
          0.058079721508046106,
          0.058079721508046106,
          0.058079721508046106,
          0.058079721508046106,
          -0.5579833604680239,
          -0.5579833604680239,
          -0.5579833604680239,
          -0.5579833604680239,
          -0.5579833604680239,
          -0.5579833604680239,
          -0.11881734969637033,
          -0.5579833604680239,
          -0.5579833604680239,
          -0.5579833604680239,
          -0.5579833604680239,
          -0.2506897578956689,
          -0.2506897578956689,
          -0.1390694609042724,
          -0.1390694609042724,
          0.058079721508046106,
          0.058079721508046106,
          0.060729729470447545,
          0.060729729470447545,
          -0.5579833604680239,
          -0.5579833604680239,
          -0.2506897578956689,
          -0.2506897578956689,
          -0.5579833604680239,
          -0.5579833604680239,
          -0.5579833604680239,
          -0.1390694609042724,
          -0.1390694609042724,
          0.06252692432346721,
          0.06252692432346721,
          0.056327280240428046,
          0.056327280240428046,
          0.057938888635873466,
          -0.5579833604680239,
          -0.5579833604680239,
          -0.5579833604680239,
          -0.5579833604680239,
          -0.5579833604680239,
          -0.5579833604680239,
          -0.5579833604680239,
          -0.5579833604680239,
          -0.5579833604680239,
          -0.5579833604680239,
          -0.5579833604680239,
          -0.2506897578956689,
          -0.2506897578956689,
          -0.5579833604680239,
          -0.5579833604680239,
          -0.5579833604680239,
          -0.5579833604680239,
          -0.5579833604680239,
          -0.5579833604680239,
          -0.5579833604680239,
          -0.5579833604680239,
          -0.2506897578956689,
          -0.2506897578956689,
          -0.5579833604680239,
          -0.5579833604680239,
          -0.5579833604680239,
          -0.2506897578956689,
          -0.2506897578956689,
          -0.06523894471812176,
          0.054401641407462814,
          0.054401641407462814,
          -0.2506897578956689,
          0.0365724443127082,
          -0.2506897578956689,
          -0.2506897578956689,
          -0.5579833604680239,
          -0.5579833604680239,
          0.06252692432346721,
          0.06252692432346721,
          -0.5579833604680239,
          -0.5579833604680239,
          -0.2506897578956689,
          -0.2506897578956689,
          -0.2506897578956689,
          -0.2506897578956689,
          -0.5579833604680239,
          -0.5579833604680239,
          0.060729729470447545,
          0.060729729470447545,
          -0.2506897578956689,
          -0.2506897578956689,
          0.06252692432346721,
          0.06252692432346721,
          -0.5579833604680239,
          -0.5579833604680239,
          0.060729729470447545,
          0.060729729470447545,
          0.058079721508046106,
          0.058079721508046106,
          -0.5579833604680239,
          -0.5579833604680239,
          -0.5579833604680239,
          -0.5579833604680239,
          -0.2506897578956689,
          -0.2506897578956689,
          -0.5579833604680239,
          -0.5579833604680239,
          -0.5579833604680239,
          -0.5579833604680239,
          -0.5579833604680239,
          -0.5579833604680239,
          -0.5579833604680239,
          -0.5579833604680239,
          0.058079721508046106,
          0.058079721508046106,
          0.058079721508046106,
          0.058079721508046106,
          0.060729729470447545,
          0.060729729470447545,
          -0.5579833604680239,
          -0.5579833604680239,
          -0.5579833604680239,
          -0.5579833604680239,
          -0.5579833604680239,
          -0.5579833604680239,
          -0.5579833604680239,
          -0.5579833604680239,
          0.058729557990252736,
          -0.2506897578956689,
          0.060729729470447545,
          0.060729729470447545,
          -0.5579833604680239,
          -0.5579833604680239,
          -0.5579833604680239,
          -0.5579833604680239,
          -0.2506897578956689,
          -0.2506897578956689,
          -0.5579833604680239,
          -0.5579833604680239,
          0.058079721508046106,
          0.058079721508046106,
          -0.5579833604680239,
          -0.5579833604680239,
          -0.2506897578956689,
          -0.5579833604680239,
          -0.5579833604680239,
          0.054401641407462814,
          0.054401641407462814,
          -0.5579833604680239,
          -0.5579833604680239,
          0.060729729470447545,
          0.060729729470447545,
          -0.5579833604680239,
          -0.5579833604680239,
          -0.5579833604680239,
          -0.5579833604680239,
          -0.5579833604680239,
          -0.5579833604680239,
          -0.5579833604680239,
          -0.5579833604680239,
          -0.5579833604680239,
          -0.5579833604680239,
          -0.5579833604680239,
          -0.5579833604680239,
          -0.5579833604680239,
          -0.5579833604680239,
          0.060729729470447545,
          -0.5579833604680239,
          -0.5579833604680239,
          -0.1648101674547724,
          -0.1648101674547724,
          0.060729729470447545,
          0.060729729470447545,
          -0.5579833604680239,
          0.03532782855967932,
          0.03532782855967932,
          -0.5579833604680239,
          -0.5579833604680239,
          -0.5579833604680239,
          -0.5579833604680239,
          -0.5579833604680239,
          -0.5579833604680239,
          0.06252692432346721,
          0.06252692432346721,
          -0.1641432990221915,
          -0.5579833604680239,
          -0.5579833604680239,
          0.058079721508046106,
          0.058079721508046106,
          -0.5579833604680239,
          -0.5579833604680239,
          -0.5579833604680239,
          -0.5579833604680239,
          -0.5579833604680239,
          -0.5579833604680239,
          -0.5579833604680239,
          -0.5579833604680239,
          -0.5579833604680239,
          -0.5579833604680239,
          -0.5579833604680239,
          -0.5579833604680239,
          -0.5579833604680239,
          -0.5579833604680239,
          -0.5579833604680239,
          -0.5579833604680239,
          -0.5579833604680239,
          -0.5579833604680239,
          -0.20976251957007314,
          -0.5579833604680239,
          -0.5579833604680239,
          0.060729729470447545,
          0.060729729470447545,
          -0.5579833604680239,
          -0.5579833604680239,
          -0.5579833604680239,
          -0.5579833604680239,
          -0.5579833604680239,
          -0.5579833604680239,
          -0.5579833604680239,
          -0.5579833604680239,
          -0.5579833604680239,
          -0.5579833604680239,
          -0.5579833604680239,
          -0.5579833604680239,
          -0.5579833604680239,
          -0.5579833604680239,
          0.060729729470447545,
          0.060729729470447545,
          -0.5579833604680239,
          -0.5579833604680239,
          0.058079721508046106,
          0.058079721508046106,
          -0.5579833604680239,
          -0.5579833604680239,
          -0.5579833604680239,
          -0.5579833604680239,
          -0.5579833604680239,
          -0.5579833604680239,
          -0.5579833604680239,
          -0.5579833604680239,
          0.05817429853065659,
          0.05817429853065659,
          -0.2506897578956689,
          -0.2506897578956689,
          -0.5579833604680239,
          -0.5579833604680239,
          -0.5579833604680239,
          -0.5579833604680239,
          -0.5579833604680239,
          -0.5579833604680239,
          -0.5579833604680239,
          -0.5579833604680239,
          -0.2506897578956689,
          -0.2506897578956689,
          -0.5579833604680239,
          -0.5579833604680239,
          -0.5579833604680239,
          -0.5579833604680239,
          0.058079721508046106,
          0.058079721508046106,
          -0.5579833604680239,
          -0.5579833604680239,
          -0.5579833604680239,
          -0.5579833604680239,
          -0.5579833604680239,
          -0.5579833604680239,
          0.058079721508046106,
          0.058079721508046106,
          0.03532782855967932,
          0.03532782855967932,
          -0.5579833604680239,
          -0.5579833604680239,
          -0.5579833604680239,
          -0.5579833604680239,
          -0.5579833604680239,
          -0.5579833604680239,
          -0.5579833604680239,
          -0.5579833604680239,
          -0.5579833604680239,
          -0.5579833604680239,
          -0.5579833604680239,
          -0.5579833604680239,
          0.057938888635873466,
          -0.5579833604680239,
          -0.5579833604680239,
          -0.09381426086660175,
          0.05436178039450748,
          0.05436178039450748,
          -0.5579833604680239,
          -0.5579833604680239,
          0.05436178039450748,
          -0.5579833604680239,
          -0.5579833604680239,
          0.060729729470447545,
          0.037200004664348564,
          -0.5579833604680239,
          0.060729729470447545,
          -0.5579833604680239,
          -0.25054352159227944,
          -0.1648101674547724,
          -0.1648101674547724,
          -0.06523894471812176,
          -0.09381426086660175,
          -0.5579833604680239,
          -0.09381426086660175,
          -0.1648101674547724,
          -0.13385621249287552,
          -0.13768769859222352,
          -0.5579833604680239,
          -0.5579833604680239,
          -0.5579833604680239,
          -0.5579833604680239,
          0.058079721508046106,
          0.058079721508046106,
          0.057938888635873466,
          -0.5579833604680239,
          -0.13768769859222352,
          0.057938888635873466,
          0.05828055154166481,
          0.05817429853065659,
          0.05436178039450748,
          0.03532782855967932,
          -0.5579833604680239,
          -0.20976251957007314,
          0.060729729470447545,
          0.05828055154166481,
          -0.5579833604680239,
          -0.5579833604680239,
          0.05982584861643272,
          -0.1648101674547724,
          0.057938888635873466,
          -0.5579833604680239,
          -0.25054352159227944,
          -0.5579833604680239,
          -0.25054352159227944,
          0.05436178039450748,
          -0.5579833604680239,
          0.05828055154166481,
          -0.1641432990221915,
          -0.5579833604680239,
          -0.5579833604680239,
          -0.5579833604680239,
          -0.5579833604680239,
          -0.5579833604680239,
          -0.5579833604680239,
          -0.5579833604680239,
          -0.1648101674547724,
          -0.06523894471812176,
          -0.06523894471812176,
          -0.12798715358613008,
          -0.1641432990221915,
          -0.5579833604680239,
          -0.12798715358613008,
          -0.5579833604680239,
          -0.5579833604680239,
          -0.5579833604680239,
          -0.5579833604680239,
          -0.5579833604680239,
          -0.5579833604680239,
          -0.5579833604680239,
          0.05779907151015359,
          -0.5579833604680239,
          0.05817429853065659,
          0.058079721508046106,
          -0.13768769859222352,
          -0.5579833604680239,
          -0.1648101674547724,
          -0.5579833604680239,
          -0.5579833604680239,
          -0.5579833604680239,
          -0.5579833604680239,
          0.05828055154166481,
          -0.5579833604680239,
          -0.5579833604680239,
          -0.5579833604680239,
          -0.5579833604680239,
          -0.1641432990221915,
          0.057938888635873466,
          -0.13768769859222352,
          0.060729729470447545,
          0.060729729470447545,
          -0.1641432990221915,
          0.05828055154166481,
          -0.25054352159227944,
          -0.5579833604680239,
          -0.13768769859222352,
          0.05828055154166481,
          -0.5579833604680239,
          -0.13768769859222352,
          0.05828055154166481,
          -0.1641432990221915,
          -0.09381426086660175,
          -0.5579833604680239,
          -0.5579833604680239,
          0.03532782855967932,
          -0.5579833604680239,
          0.057938888635873466,
          -0.20976251957007314,
          -0.5579833604680239,
          -0.13768769859222352,
          -0.13385621249287552,
          -0.5579833604680239,
          0.03532782855967932,
          -0.5579833604680239,
          0.060729729470447545,
          -0.13768769859222352,
          -0.09381426086660175,
          -0.09381426086660175,
          -0.5579833604680239,
          0.060729729470447545,
          -0.5579833604680239,
          0.057938888635873466,
          -0.5579833604680239,
          0.054401641407462814,
          0.060729729470447545
         ]
        },
        {
         "hoverinfo": "text",
         "marker": {
          "color": "rgb(191, 191, 191)",
          "size": 11
         },
         "mode": "markers",
         "name": "data engineer",
         "text": [
          "data quality analyst",
          "compliance data analyst",
          "data analyst",
          "data analyst",
          "data analyst",
          "data analyst",
          "data analyst",
          "data analyst",
          "data analyst",
          "data analyst",
          "business data analyst",
          "data analyst",
          "data analyst",
          "data analyst",
          "data analyst",
          "data analyst",
          "data analyst",
          "staff data analyst",
          "data analyst",
          "data analyst",
          "data analyst",
          "data analyst",
          "data analyst",
          "data analyst",
          "data quality analyst",
          "data quality analyst",
          "data analyst",
          "data analyst",
          "data analyst",
          "data analyst",
          "data analyst",
          "data analyst",
          "data analyst",
          "data analyst",
          "data analyst",
          "data analyst",
          "data analyst",
          "data analyst",
          "data analyst",
          "data analyst",
          "data analyst",
          "data analyst",
          "data analyst",
          "data analyst",
          "data analyst",
          "data analyst",
          "data analyst",
          "data quality analyst",
          "data quality analyst",
          "data analyst",
          "data analyst",
          "data analyst",
          "data analyst",
          "lead data analyst",
          "data analyst",
          "data analyst",
          "data analyst",
          "data analyst",
          "data analyst",
          "data analyst",
          "data analyst",
          "data analyst",
          "data analyst",
          "data analyst",
          "data analyst",
          "data analyst",
          "data analyst",
          "data analyst",
          "data analyst",
          "data analyst",
          "data analyst",
          "data analyst",
          "business data analyst",
          "data analyst",
          "data analyst",
          "data analyst",
          "data analyst",
          "data analyst",
          "data analyst",
          "data analyst",
          "data analyst",
          "data analyst",
          "data analyst",
          "data analyst",
          "data analyst",
          "data analyst",
          "data analyst",
          "data analyst",
          "data analyst",
          "data analyst",
          "data analyst",
          "data analyst",
          "data analyst",
          "data analyst",
          "data analyst",
          "data analyst",
          "data analyst",
          "data analyst",
          "data analyst",
          "data analyst",
          "data analyst",
          "data analyst",
          "data analyst",
          "data analyst",
          "data analyst",
          "data analyst",
          "data analyst",
          "data analyst",
          "data analyst",
          "data analyst",
          "data analyst",
          "data analyst",
          "data analyst",
          "data analyst",
          "data analyst",
          "data analyst",
          "data analyst",
          "data analyst",
          "data analyst",
          "financial data analyst",
          "data analyst",
          "data analyst",
          "data analyst",
          "data analyst",
          "data analyst",
          "data analyst",
          "lead data analyst",
          "data analyst",
          "data analyst",
          "data analyst",
          "data analyst",
          "data analyst",
          "data analyst",
          "data analyst",
          "data analyst",
          "bi analyst",
          "bi analyst",
          "data analyst",
          "data analyst",
          "data analyst",
          "data analyst",
          "data analyst",
          "data analyst",
          "data analyst",
          "data analyst",
          "data analyst",
          "data analyst",
          "data analyst",
          "data analyst",
          "data analyst",
          "data analyst",
          "data analyst",
          "data analyst",
          "data analyst",
          "data analyst",
          "data analyst",
          "data analyst",
          "data analyst",
          "data analyst",
          "data analyst",
          "data analyst",
          "data analyst",
          "data analyst",
          "data analyst",
          "data analyst",
          "data analyst",
          "data analyst",
          "data analyst",
          "data analyst",
          "data analyst",
          "data analyst",
          "data analyst",
          "business data analyst",
          "data analyst",
          "data analyst",
          "data analyst",
          "data analyst",
          "data analyst",
          "data analyst",
          "bi data analyst",
          "data analyst",
          "data analyst",
          "data analyst",
          "data analyst",
          "data analyst",
          "data analyst",
          "data analyst",
          "data analyst",
          "data analyst",
          "data analyst",
          "data analyst",
          "data quality analyst",
          "data quality analyst",
          "data analyst",
          "data analyst",
          "insight analyst",
          "insight analyst",
          "data analyst",
          "data analyst",
          "data analyst",
          "data analyst",
          "data analyst",
          "data analyst",
          "data analyst",
          "data analyst",
          "data analyst",
          "data analyst",
          "data analyst",
          "data analyst",
          "data analyst",
          "data analyst",
          "data analyst",
          "data analyst",
          "data analyst",
          "data analyst",
          "data analyst",
          "data analyst",
          "data analyst",
          "data analyst",
          "data analyst",
          "data analyst",
          "data analyst",
          "data analyst",
          "data analyst",
          "data analyst",
          "data analyst",
          "data analyst",
          "data analyst",
          "data analyst",
          "data analyst",
          "data analyst",
          "data analyst",
          "data analyst",
          "data analyst",
          "data analyst",
          "data analyst",
          "data analyst",
          "data analyst",
          "data analyst",
          "data analyst",
          "data analyst",
          "data analyst",
          "product data analyst",
          "data analyst",
          "data analyst",
          "data analyst",
          "data analyst",
          "data analyst",
          "data analyst",
          "data analyst",
          "data analyst",
          "data analyst",
          "data analyst",
          "data analyst",
          "data analyst",
          "data analyst",
          "data analyst",
          "data analyst",
          "data analyst",
          "data analyst",
          "data analyst",
          "data analyst",
          "data analyst",
          "data analyst",
          "data analyst",
          "data analyst",
          "data analyst",
          "data analyst",
          "data analyst",
          "data analyst",
          "data analyst",
          "data analyst",
          "data analyst",
          "data analyst",
          "data analyst",
          "data analyst",
          "data analyst",
          "data analyst",
          "data analyst",
          "data analyst",
          "data analyst",
          "data analyst",
          "data analyst",
          "data analyst",
          "data analyst",
          "data analyst",
          "data analyst",
          "data analyst",
          "data analyst",
          "data analyst",
          "data analyst",
          "bi analyst",
          "bi analyst",
          "data analyst",
          "data analyst",
          "business data analyst",
          "data analyst",
          "data analyst",
          "business data analyst",
          "data analyst",
          "data analyst",
          "data analyst",
          "data analyst",
          "data analyst",
          "data analyst",
          "data analyst",
          "data analyst",
          "data analyst",
          "data analyst",
          "data analyst",
          "data analyst",
          "data analyst",
          "data analyst",
          "data analyst",
          "data analyst",
          "data analyst",
          "data analyst",
          "data analyst",
          "data analyst",
          "data analyst",
          "data analyst",
          "data analyst",
          "data analyst",
          "data analyst",
          "business data analyst",
          "data analyst",
          "data analyst",
          "data analyst",
          "data analyst",
          "data analyst",
          "data analyst",
          "data analyst",
          "data analyst",
          "data analyst",
          "data analyst",
          "data analyst",
          "product data analyst",
          "data analyst",
          "data analyst",
          "data analyst",
          "data analyst",
          "data analyst",
          "data analyst",
          "data analyst",
          "data analyst",
          "data analyst",
          "data analyst",
          "data analyst",
          "data analyst",
          "data analyst",
          "data analyst",
          "data analyst",
          "data analyst",
          "data analyst",
          "data analyst",
          "data analyst",
          "data analyst",
          "data analyst",
          "data analyst",
          "data analyst",
          "data analyst",
          "bi data analyst",
          "data analyst",
          "data analyst",
          "data analyst",
          "data analyst",
          "data analyst",
          "data analyst",
          "data analyst",
          "data analyst",
          "data analyst",
          "data analyst",
          "data analyst",
          "data analyst",
          "data analyst",
          "data analyst",
          "data analyst",
          "data analyst",
          "data analyst",
          "data analyst",
          "data analyst",
          "data analyst",
          "data analyst",
          "business data analyst",
          "data analyst",
          "data analyst",
          "data analyst",
          "data analyst",
          "data analyst",
          "data analyst",
          "data analyst",
          "data analyst",
          "data analyst",
          "data analyst",
          "data analyst",
          "data analyst",
          "data analyst",
          "data analyst",
          "data analyst",
          "data analyst",
          "data analyst",
          "data analyst",
          "data analyst",
          "data analyst",
          "data analyst",
          "data analyst",
          "data analyst",
          "data analyst",
          "data analyst",
          "data analyst",
          "data analyst",
          "bi data analyst",
          "data analyst",
          "data analyst",
          "data analyst",
          "data analyst",
          "data analyst",
          "data analyst",
          "data analyst",
          "data analyst",
          "data analyst",
          "data analyst",
          "data analyst",
          "data analyst",
          "data analyst",
          "data analyst",
          "data analyst",
          "data analyst",
          "data analyst",
          "data analyst",
          "data analyst",
          "data analyst",
          "bi analyst",
          "data analyst",
          "data analyst",
          "data analyst",
          "data analyst",
          "data analyst",
          "data analyst",
          "data analyst",
          "data analyst",
          "data analyst",
          "data analyst",
          "data analyst",
          "data analyst",
          "data analyst",
          "data analyst",
          "data analyst",
          "data analyst",
          "data analyst",
          "data analyst",
          "data analyst",
          "data analyst",
          "data analyst",
          "data analyst",
          "data analyst",
          "bi analyst",
          "data analyst",
          "data analyst",
          "data analyst",
          "data analyst",
          "data analyst",
          "data analyst",
          "data analyst",
          "data analyst",
          "data analyst",
          "data operations analyst",
          "data operations analyst",
          "data analyst",
          "data analyst",
          "data analyst",
          "data analyst",
          "data analyst",
          "data analyst",
          "bi analyst",
          "bi analyst",
          "data analyst",
          "data analyst",
          "data analyst",
          "data analyst",
          "marketing data analyst",
          "data analyst",
          "data analyst",
          "data analyst",
          "data analyst",
          "data analyst",
          "data analyst",
          "data analyst",
          "data analyst",
          "data analyst",
          "data analyst",
          "data analyst",
          "data analyst",
          "bi data analyst",
          "data analyst",
          "data analyst",
          "data analyst",
          "data analyst",
          "bi analyst",
          "data analyst",
          "bi data analyst",
          "data analyst",
          "data analyst",
          "data analyst",
          "data analyst",
          "data analyst",
          "data analyst",
          "data analyst",
          "data analyst",
          "business data analyst",
          "data analyst",
          "data analyst",
          "bi data analyst",
          "business data analyst",
          "data analyst",
          "data analyst",
          "data analyst",
          "data analyst",
          "data analyst",
          "financial data analyst",
          "data analyst",
          "data operations analyst",
          "data operations analyst",
          "data analyst",
          "data analyst",
          "product data analyst",
          "data analyst",
          "bi data analyst",
          "bi data analyst",
          "data analyst",
          "data analyst",
          "data analyst",
          "data analyst",
          "data analyst",
          "data analyst",
          "data analyst",
          "data analyst",
          "data analyst",
          "bi data analyst",
          "data analyst",
          "data analyst",
          "data analyst",
          "data analyst",
          "data analyst",
          "data analyst",
          "data analyst",
          "data analyst",
          "data analyst",
          "data analyst",
          "data analyst",
          "data analyst",
          "data analyst",
          "business data analyst",
          "data analyst",
          "data analyst",
          "data analyst",
          "data analyst",
          "data analyst",
          "data analyst",
          "data analyst",
          "data analyst",
          "data analyst",
          "data analyst",
          "data analyst",
          "data analyst",
          "data analyst",
          "data analyst",
          "data analyst",
          "data analyst",
          "data analyst",
          "data analyst",
          "data analyst",
          "data analyst",
          "data analyst",
          "data analyst",
          "data analyst",
          "data analyst",
          "data analyst",
          "data analyst",
          "data analyst",
          "data analyst",
          "data analyst",
          "data analyst",
          "data analyst",
          "data analyst",
          "data analyst",
          "data analyst",
          "data analyst",
          "data analyst",
          "data analyst",
          "data analyst",
          "data analyst",
          "data analyst",
          "data analyst",
          "data analyst",
          "data analyst",
          "data analyst",
          "data analyst",
          "data analyst",
          "data analyst",
          "data analyst",
          "data analyst",
          "data analyst",
          "data analyst",
          "data analyst",
          "data analyst",
          "data analyst",
          "data analyst",
          "data analyst",
          "data analyst",
          "data analyst",
          "data analyst",
          "data analyst",
          "data analyst",
          "data analyst",
          "data analyst",
          "data analyst",
          "data analyst",
          "data analyst",
          "data analyst",
          "data analyst",
          "data analyst",
          "data analyst",
          "data analyst",
          "data analyst",
          "data analyst",
          "data analyst",
          "data analyst",
          "data analyst",
          "data analyst",
          "data analyst",
          "data analyst",
          "business data analyst",
          "business data analyst",
          "data analyst",
          "principal data analyst",
          "product data analyst",
          "data analyst",
          "data analyst",
          "financial data analyst",
          "data analyst",
          "data analyst",
          "bi data analyst",
          "data analyst",
          "data analyst",
          "data analyst",
          "data analyst",
          "data analyst",
          "data analyst",
          "lead data analyst",
          "data analyst",
          "bi data analyst",
          "bi data analyst",
          "marketing data analyst",
          "data analyst",
          "bi data analyst",
          "data analyst",
          "data analyst",
          "principal data analyst",
          "data analyst",
          "data analyst",
          "data analyst",
          "data analyst",
          "data analyst",
          "data analyst",
          "bi data analyst",
          "business data analyst",
          "lead data analyst",
          "data analyst",
          "data analyst",
          "product data analyst",
          "bi data analyst",
          "finance data analyst",
          "business data analyst",
          "lead data analyst",
          "data analyst",
          "data analyst",
          "business data analyst"
         ],
         "type": "scatter",
         "x": [
          0.3808770977149382,
          0.33989639942662847,
          0.7957320509163668,
          0.7957320509163668,
          0.7957320509163668,
          0.7957320509163668,
          0.7957320509163668,
          0.7957320509163668,
          0.7957320509163668,
          0.7957320509163668,
          0.41370374806971993,
          0.7957320509163668,
          0.7957320509163668,
          0.7957320509163668,
          0.7957320509163668,
          0.7957320509163668,
          0.7957320509163668,
          0.34973916936840715,
          0.7957320509163668,
          0.7957320509163668,
          0.7957320509163668,
          0.7957320509163668,
          0.7957320509163668,
          0.7957320509163668,
          0.38087709771494926,
          0.38087709771494926,
          0.7957320509163668,
          0.7957320509163668,
          0.7957320509163668,
          0.7957320509163668,
          0.7957320509163668,
          0.7957320509163668,
          0.7957320509163668,
          0.7957320509163668,
          0.7957320509163668,
          0.7957320509163668,
          0.7957320509163668,
          0.7957320509163668,
          0.7957320509163668,
          0.7957320509163668,
          0.7957320509163668,
          0.7957320509163668,
          0.7957320509163668,
          0.7957320509163668,
          0.7957320509163668,
          0.7957320509163668,
          0.7957320509163668,
          0.38087709771494926,
          0.38087709771494926,
          0.7957320509163668,
          0.7957320509163668,
          0.7957320509163668,
          0.7957320509163668,
          0.4397550854223698,
          0.7957320509163668,
          0.7957320509163668,
          0.7957320509163668,
          0.7957320509163668,
          0.7957320509163668,
          0.7957320509163668,
          0.7957320509163668,
          0.7957320509163668,
          0.7957320509163668,
          0.7957320509163668,
          0.7957320509163668,
          0.7957320509163668,
          0.7957320509163668,
          0.7957320509163668,
          0.7957320509163668,
          0.7957320509163668,
          0.7957320509163668,
          0.7957320509163668,
          0.41370374806971993,
          0.7957320509163668,
          0.7957320509163668,
          0.7957320509163668,
          0.7957320509163668,
          0.7957320509163668,
          0.7957320509163668,
          0.7957320509163668,
          0.7957320509163668,
          0.7957320509163668,
          0.7957320509163668,
          0.7957320509163668,
          0.7957320509163668,
          0.7957320509163668,
          0.7957320509163668,
          0.7957320509163668,
          0.7957320509163668,
          0.7957320509163668,
          0.7957320509163668,
          0.7957320509163668,
          0.7957320509163668,
          0.7957320509163668,
          0.7957320509163668,
          0.7957320509163668,
          0.7957320509163668,
          0.7957320509163668,
          0.7957320509163668,
          0.7957320509163668,
          0.7957320509163668,
          0.7957320509163668,
          0.7957320509163668,
          0.7957320509163668,
          0.7957320509163668,
          0.7957320509163668,
          0.7957320509163668,
          0.7957320509163668,
          0.7957320509163668,
          0.7957320509163668,
          0.7957320509163668,
          0.7957320509163668,
          0.7957320509163668,
          0.7957320509163668,
          0.7957320509163668,
          0.7957320509163668,
          0.7957320509163668,
          0.7957320509163668,
          0.7957320509163668,
          0.35842610689001564,
          0.7957320509163668,
          0.7957320509163668,
          0.7957320509163668,
          0.7957320509163668,
          0.7957320509163668,
          0.7957320509163668,
          0.4397550854223698,
          0.7957320509163668,
          0.7957320509163668,
          0.7957320509163668,
          0.7957320509163668,
          0.7957320509163668,
          0.7957320509163668,
          0.7957320509163668,
          0.7957320509163668,
          0.4831498449483128,
          0.4831498449483128,
          0.7957320509163668,
          0.7957320509163668,
          0.7957320509163668,
          0.7957320509163668,
          0.7957320509163668,
          0.7957320509163668,
          0.7957320509163668,
          0.7957320509163668,
          0.7957320509163668,
          0.7957320509163668,
          0.7957320509163668,
          0.7957320509163668,
          0.7957320509163668,
          0.7957320509163668,
          0.7957320509163668,
          0.7957320509163668,
          0.7957320509163668,
          0.7957320509163668,
          0.7957320509163668,
          0.7957320509163668,
          0.7957320509163668,
          0.7957320509163668,
          0.7957320509163668,
          0.7957320509163668,
          0.7957320509163668,
          0.7957320509163668,
          0.7957320509163668,
          0.7957320509163668,
          0.7957320509163668,
          0.7957320509163668,
          0.7957320509163668,
          0.7957320509163668,
          0.7957320509163668,
          0.7957320509163668,
          0.7957320509163668,
          0.41370374806971993,
          0.7957320509163668,
          0.7957320509163668,
          0.7957320509163668,
          0.7957320509163668,
          0.7957320509163668,
          0.7957320509163668,
          0.4549508213901568,
          0.7957320509163668,
          0.7957320509163668,
          0.7957320509163668,
          0.7957320509163668,
          0.7957320509163668,
          0.7957320509163668,
          0.7957320509163668,
          0.7957320509163668,
          0.7957320509163668,
          0.7957320509163668,
          0.7957320509163668,
          0.38087709771494926,
          0.38087709771494926,
          0.7957320509163668,
          0.7957320509163668,
          0.36823060925159884,
          0.36823060925159884,
          0.7957320509163668,
          0.7957320509163668,
          0.7957320509163668,
          0.7957320509163668,
          0.7957320509163668,
          0.7957320509163668,
          0.7957320509163668,
          0.7957320509163668,
          0.7957320509163668,
          0.7957320509163668,
          0.7957320509163668,
          0.7957320509163668,
          0.7957320509163668,
          0.7957320509163668,
          0.7957320509163668,
          0.7957320509163668,
          0.7957320509163668,
          0.7957320509163668,
          0.7957320509163668,
          0.7957320509163668,
          0.7957320509163668,
          0.7957320509163668,
          0.7957320509163668,
          0.7957320509163668,
          0.7957320509163668,
          0.7957320509163668,
          0.7957320509163668,
          0.7957320509163668,
          0.7957320509163668,
          0.7957320509163668,
          0.7957320509163668,
          0.7957320509163668,
          0.7957320509163668,
          0.7957320509163668,
          0.7957320509163668,
          0.7957320509163668,
          0.7957320509163668,
          0.7957320509163668,
          0.7957320509163668,
          0.7957320509163668,
          0.7957320509163668,
          0.7957320509163668,
          0.7957320509163668,
          0.7957320509163668,
          0.7957320509163668,
          0.37552877388922856,
          0.7957320509163668,
          0.7957320509163668,
          0.7957320509163668,
          0.7957320509163668,
          0.7957320509163668,
          0.7957320509163668,
          0.7957320509163668,
          0.7957320509163668,
          0.7957320509163668,
          0.7957320509163668,
          0.7957320509163668,
          0.7957320509163668,
          0.7957320509163668,
          0.7957320509163668,
          0.7957320509163668,
          0.7957320509163668,
          0.7957320509163668,
          0.7957320509163668,
          0.7957320509163668,
          0.7957320509163668,
          0.7957320509163668,
          0.7957320509163668,
          0.7957320509163668,
          0.7957320509163668,
          0.7957320509163668,
          0.7957320509163668,
          0.7957320509163668,
          0.7957320509163668,
          0.7957320509163668,
          0.7957320509163668,
          0.7957320509163668,
          0.7957320509163668,
          0.7957320509163668,
          0.7957320509163668,
          0.7957320509163668,
          0.7957320509163668,
          0.7957320509163668,
          0.7957320509163668,
          0.7957320509163668,
          0.7957320509163668,
          0.7957320509163668,
          0.7957320509163668,
          0.7957320509163668,
          0.7957320509163668,
          0.7957320509163668,
          0.7957320509163668,
          0.7957320509163668,
          0.7957320509163668,
          0.4831498449483128,
          0.4831498449483128,
          0.7957320509163668,
          0.7957320509163668,
          0.41370374806971993,
          0.7957320509163668,
          0.7957320509163668,
          0.41370374806971993,
          0.7957320509163668,
          0.7957320509163668,
          0.7957320509163668,
          0.7957320509163668,
          0.7957320509163668,
          0.7957320509163668,
          0.7957320509163668,
          0.7957320509163668,
          0.7957320509163668,
          0.7957320509163668,
          0.7957320509163668,
          0.7957320509163668,
          0.7957320509163668,
          0.7957320509163668,
          0.7957320509163668,
          0.7957320509163668,
          0.7957320509163668,
          0.7957320509163668,
          0.7957320509163668,
          0.7957320509163668,
          0.7957320509163668,
          0.7957320509163668,
          0.7957320509163668,
          0.7957320509163668,
          0.7957320509163668,
          0.41370374806971993,
          0.7957320509163668,
          0.7957320509163668,
          0.7957320509163668,
          0.7957320509163668,
          0.7957320509163668,
          0.7957320509163668,
          0.7957320509163668,
          0.7957320509163668,
          0.7957320509163668,
          0.7957320509163668,
          0.7957320509163668,
          0.37552877388922856,
          0.7957320509163668,
          0.7957320509163668,
          0.7957320509163668,
          0.7957320509163668,
          0.7957320509163668,
          0.7957320509163668,
          0.7957320509163668,
          0.7957320509163668,
          0.7957320509163668,
          0.7957320509163668,
          0.7957320509163668,
          0.7957320509163668,
          0.7957320509163668,
          0.7957320509163668,
          0.7957320509163668,
          0.7957320509163668,
          0.7957320509163668,
          0.7957320509163668,
          0.7957320509163668,
          0.7957320509163668,
          0.7957320509163668,
          0.7957320509163668,
          0.7957320509163668,
          0.7957320509163668,
          0.4549508213901568,
          0.7957320509163668,
          0.7957320509163668,
          0.7957320509163668,
          0.7957320509163668,
          0.7957320509163668,
          0.7957320509163668,
          0.7957320509163668,
          0.7957320509163668,
          0.7957320509163668,
          0.7957320509163668,
          0.7957320509163668,
          0.7957320509163668,
          0.7957320509163668,
          0.7957320509163668,
          0.7957320509163668,
          0.7957320509163668,
          0.7957320509163668,
          0.7957320509163668,
          0.7957320509163668,
          0.7957320509163668,
          0.7957320509163668,
          0.41370374806971993,
          0.7957320509163668,
          0.7957320509163668,
          0.7957320509163668,
          0.7957320509163668,
          0.7957320509163668,
          0.7957320509163668,
          0.7957320509163668,
          0.7957320509163668,
          0.7957320509163668,
          0.7957320509163668,
          0.7957320509163668,
          0.7957320509163668,
          0.7957320509163668,
          0.7957320509163668,
          0.7957320509163668,
          0.7957320509163668,
          0.7957320509163668,
          0.7957320509163668,
          0.7957320509163668,
          0.7957320509163668,
          0.7957320509163668,
          0.7957320509163668,
          0.7957320509163668,
          0.7957320509163668,
          0.7957320509163668,
          0.7957320509163668,
          0.7957320509163668,
          0.4549508213901568,
          0.7957320509163668,
          0.7957320509163668,
          0.7957320509163668,
          0.7957320509163668,
          0.7957320509163668,
          0.7957320509163668,
          0.7957320509163668,
          0.7957320509163668,
          0.7957320509163668,
          0.7957320509163668,
          0.7957320509163668,
          0.7957320509163668,
          0.7957320509163668,
          0.7957320509163668,
          0.7957320509163668,
          0.7957320509163668,
          0.7957320509163668,
          0.7957320509163668,
          0.7957320509163668,
          0.7957320509163668,
          0.4831498449483128,
          0.7957320509163668,
          0.7957320509163668,
          0.7957320509163668,
          0.7957320509163668,
          0.7957320509163668,
          0.7957320509163668,
          0.7957320509163668,
          0.7957320509163668,
          0.7957320509163668,
          0.7957320509163668,
          0.7957320509163668,
          0.7957320509163668,
          0.7957320509163668,
          0.7957320509163668,
          0.7957320509163668,
          0.7957320509163668,
          0.7957320509163668,
          0.7957320509163668,
          0.7957320509163668,
          0.7957320509163668,
          0.7957320509163668,
          0.7957320509163668,
          0.7957320509163668,
          0.4831498449483128,
          0.7957320509163668,
          0.7957320509163668,
          0.7957320509163668,
          0.7957320509163668,
          0.7957320509163668,
          0.7957320509163668,
          0.7957320509163668,
          0.7957320509163668,
          0.7957320509163668,
          0.4004269475652994,
          0.4004269475652994,
          0.7957320509163668,
          0.7957320509163668,
          0.7957320509163668,
          0.7957320509163668,
          0.7957320509163668,
          0.7957320509163668,
          0.4831498449483128,
          0.4831498449483128,
          0.7957320509163668,
          0.7957320509163668,
          0.7957320509163668,
          0.7957320509163668,
          0.35791306509041354,
          0.7957320509163668,
          0.7957320509163668,
          0.7957320509163668,
          0.7957320509163668,
          0.7957320509163668,
          0.7957320509163668,
          0.7957320509163668,
          0.7957320509163668,
          0.7957320509163668,
          0.7957320509163668,
          0.7957320509163668,
          0.7957320509163668,
          0.4549508213901568,
          0.7957320509163668,
          0.7957320509163668,
          0.7957320509163668,
          0.7957320509163668,
          0.4831498449483128,
          0.7957320509163668,
          0.4549508213901568,
          0.7957320509163668,
          0.7957320509163668,
          0.7957320509163668,
          0.7957320509163668,
          0.7957320509163668,
          0.7957320509163668,
          0.7957320509163668,
          0.7957320509163668,
          0.41370374806971993,
          0.7957320509163668,
          0.7957320509163668,
          0.4549508213901568,
          0.41370374806971993,
          0.7957320509163668,
          0.7957320509163668,
          0.7957320509163668,
          0.7957320509163668,
          0.7957320509163668,
          0.35842610689001564,
          0.7957320509163668,
          0.4004269475652994,
          0.4004269475652994,
          0.7957320509163668,
          0.7957320509163668,
          0.37552877388922856,
          0.7957320509163668,
          0.4549508213901568,
          0.4549508213901568,
          0.7957320509163668,
          0.7957320509163668,
          0.7957320509163668,
          0.7957320509163668,
          0.7957320509163668,
          0.7957320509163668,
          0.7957320509163668,
          0.7957320509163668,
          0.7957320509163668,
          0.4549508213901568,
          0.7957320509163668,
          0.7957320509163668,
          0.7957320509163668,
          0.7957320509163668,
          0.7957320509163668,
          0.7957320509163668,
          0.7957320509163668,
          0.7957320509163668,
          0.7957320509163668,
          0.7957320509163668,
          0.7957320509163668,
          0.7957320509163668,
          0.7957320509163668,
          0.41370374806971993,
          0.7957320509163668,
          0.7957320509163668,
          0.7957320509163668,
          0.7957320509163668,
          0.7957320509163668,
          0.7957320509163668,
          0.7957320509163668,
          0.7957320509163668,
          0.7957320509163668,
          0.7957320509163668,
          0.7957320509163668,
          0.7957320509163668,
          0.7957320509163668,
          0.7957320509163668,
          0.7957320509163668,
          0.7957320509163668,
          0.7957320509163668,
          0.7957320509163668,
          0.7957320509163668,
          0.7957320509163668,
          0.7957320509163668,
          0.7957320509163668,
          0.7957320509163668,
          0.7957320509163668,
          0.7957320509163668,
          0.7957320509163668,
          0.7957320509163668,
          0.7957320509163668,
          0.7957320509163668,
          0.7957320509163668,
          0.7957320509163668,
          0.7957320509163668,
          0.7957320509163668,
          0.7957320509163668,
          0.7957320509163668,
          0.7957320509163668,
          0.7957320509163668,
          0.7957320509163668,
          0.7957320509163668,
          0.7957320509163668,
          0.7957320509163668,
          0.7957320509163668,
          0.7957320509163668,
          0.7957320509163668,
          0.7957320509163668,
          0.7957320509163668,
          0.7957320509163668,
          0.7957320509163668,
          0.7957320509163668,
          0.7957320509163668,
          0.7957320509163668,
          0.7957320509163668,
          0.7957320509163668,
          0.7957320509163668,
          0.7957320509163668,
          0.7957320509163668,
          0.7957320509163668,
          0.7957320509163668,
          0.7957320509163668,
          0.7957320509163668,
          0.7957320509163668,
          0.7957320509163668,
          0.7957320509163668,
          0.7957320509163668,
          0.7957320509163668,
          0.7957320509163668,
          0.7957320509163668,
          0.7957320509163668,
          0.7957320509163668,
          0.7957320509163668,
          0.7957320509163668,
          0.7957320509163668,
          0.7957320509163668,
          0.7957320509163668,
          0.7957320509163668,
          0.7957320509163668,
          0.7957320509163668,
          0.7957320509163668,
          0.7957320509163668,
          0.41370374806971993,
          0.41370374806971993,
          0.7957320509163668,
          0.3961913935942528,
          0.37552877388922856,
          0.7957320509163668,
          0.7957320509163668,
          0.35842610689001564,
          0.7957320509163668,
          0.7957320509163668,
          0.4549508213901568,
          0.7957320509163668,
          0.7957320509163668,
          0.7957320509163668,
          0.7957320509163668,
          0.7957320509163668,
          0.7957320509163668,
          0.4397550854223698,
          0.7957320509163668,
          0.4549508213901568,
          0.4549508213901568,
          0.35791306509041354,
          0.7957320509163668,
          0.4549508213901568,
          0.7957320509163668,
          0.7957320509163668,
          0.3961913935942528,
          0.7957320509163668,
          0.7957320509163668,
          0.7957320509163668,
          0.7957320509163668,
          0.7957320509163668,
          0.7957320509163668,
          0.4549508213901568,
          0.41370374806971993,
          0.4397550854223698,
          0.7957320509163668,
          0.7957320509163668,
          0.37552877388922856,
          0.4549508213901568,
          0.3398963994266258,
          0.41370374806971993,
          0.4397550854223698,
          0.7957320509163668,
          0.7957320509163668,
          0.41370374806971993
         ],
         "y": [
          0.09621788602570173,
          0.09060060208487372,
          0.1506761140258355,
          0.1506761140258355,
          0.1506761140258355,
          0.1506761140258355,
          0.1506761140258355,
          0.1506761140258355,
          0.1506761140258355,
          0.1506761140258355,
          0.10068257727217203,
          0.1506761140258355,
          0.1506761140258355,
          0.1506761140258355,
          0.1506761140258355,
          0.1506761140258355,
          0.1506761140258355,
          0.09219001975332339,
          0.1506761140258355,
          0.1506761140258355,
          0.1506761140258355,
          0.1506761140258355,
          0.1506761140258355,
          0.1506761140258355,
          0.09621788602570194,
          0.09621788602570194,
          0.1506761140258355,
          0.1506761140258355,
          0.1506761140258355,
          0.1506761140258355,
          0.1506761140258355,
          0.1506761140258355,
          0.1506761140258355,
          0.1506761140258355,
          0.1506761140258355,
          0.1506761140258355,
          0.1506761140258355,
          0.1506761140258355,
          0.1506761140258355,
          0.1506761140258355,
          0.1506761140258355,
          0.1506761140258355,
          0.1506761140258355,
          0.1506761140258355,
          0.1506761140258355,
          0.1506761140258355,
          0.1506761140258355,
          0.09621788602570194,
          0.09621788602570194,
          0.1506761140258355,
          0.1506761140258355,
          0.1506761140258355,
          0.1506761140258355,
          0.10659351886937149,
          0.1506761140258355,
          0.1506761140258355,
          0.1506761140258355,
          0.1506761140258355,
          0.1506761140258355,
          0.1506761140258355,
          0.1506761140258355,
          0.1506761140258355,
          0.1506761140258355,
          0.1506761140258355,
          0.1506761140258355,
          0.1506761140258355,
          0.1506761140258355,
          0.1506761140258355,
          0.1506761140258355,
          0.1506761140258355,
          0.1506761140258355,
          0.1506761140258355,
          0.10068257727217203,
          0.1506761140258355,
          0.1506761140258355,
          0.1506761140258355,
          0.1506761140258355,
          0.1506761140258355,
          0.1506761140258355,
          0.1506761140258355,
          0.1506761140258355,
          0.1506761140258355,
          0.1506761140258355,
          0.1506761140258355,
          0.1506761140258355,
          0.1506761140258355,
          0.1506761140258355,
          0.1506761140258355,
          0.1506761140258355,
          0.1506761140258355,
          0.1506761140258355,
          0.1506761140258355,
          0.1506761140258355,
          0.1506761140258355,
          0.1506761140258355,
          0.1506761140258355,
          0.1506761140258355,
          0.1506761140258355,
          0.1506761140258355,
          0.1506761140258355,
          0.1506761140258355,
          0.1506761140258355,
          0.1506761140258355,
          0.1506761140258355,
          0.1506761140258355,
          0.1506761140258355,
          0.1506761140258355,
          0.1506761140258355,
          0.1506761140258355,
          0.1506761140258355,
          0.1506761140258355,
          0.1506761140258355,
          0.1506761140258355,
          0.1506761140258355,
          0.1506761140258355,
          0.1506761140258355,
          0.1506761140258355,
          0.1506761140258355,
          0.1506761140258355,
          0.09311840023198002,
          0.1506761140258355,
          0.1506761140258355,
          0.1506761140258355,
          0.1506761140258355,
          0.1506761140258355,
          0.1506761140258355,
          0.10659351886937149,
          0.1506761140258355,
          0.1506761140258355,
          0.1506761140258355,
          0.1506761140258355,
          0.1506761140258355,
          0.1506761140258355,
          0.1506761140258355,
          0.1506761140258355,
          0.11581395591924733,
          0.11581395591924733,
          0.1506761140258355,
          0.1506761140258355,
          0.1506761140258355,
          0.1506761140258355,
          0.1506761140258355,
          0.1506761140258355,
          0.1506761140258355,
          0.1506761140258355,
          0.1506761140258355,
          0.1506761140258355,
          0.1506761140258355,
          0.1506761140258355,
          0.1506761140258355,
          0.1506761140258355,
          0.1506761140258355,
          0.1506761140258355,
          0.1506761140258355,
          0.1506761140258355,
          0.1506761140258355,
          0.1506761140258355,
          0.1506761140258355,
          0.1506761140258355,
          0.1506761140258355,
          0.1506761140258355,
          0.1506761140258355,
          0.1506761140258355,
          0.1506761140258355,
          0.1506761140258355,
          0.1506761140258355,
          0.1506761140258355,
          0.1506761140258355,
          0.1506761140258355,
          0.1506761140258355,
          0.1506761140258355,
          0.1506761140258355,
          0.10068257727217203,
          0.1506761140258355,
          0.1506761140258355,
          0.1506761140258355,
          0.1506761140258355,
          0.1506761140258355,
          0.1506761140258355,
          0.10682159877519634,
          0.1506761140258355,
          0.1506761140258355,
          0.1506761140258355,
          0.1506761140258355,
          0.1506761140258355,
          0.1506761140258355,
          0.1506761140258355,
          0.1506761140258355,
          0.1506761140258355,
          0.1506761140258355,
          0.1506761140258355,
          0.09621788602570194,
          0.09621788602570194,
          0.1506761140258355,
          0.1506761140258355,
          0.09816100182607666,
          0.09816100182607666,
          0.1506761140258355,
          0.1506761140258355,
          0.1506761140258355,
          0.1506761140258355,
          0.1506761140258355,
          0.1506761140258355,
          0.1506761140258355,
          0.1506761140258355,
          0.1506761140258355,
          0.1506761140258355,
          0.1506761140258355,
          0.1506761140258355,
          0.1506761140258355,
          0.1506761140258355,
          0.1506761140258355,
          0.1506761140258355,
          0.1506761140258355,
          0.1506761140258355,
          0.1506761140258355,
          0.1506761140258355,
          0.1506761140258355,
          0.1506761140258355,
          0.1506761140258355,
          0.1506761140258355,
          0.1506761140258355,
          0.1506761140258355,
          0.1506761140258355,
          0.1506761140258355,
          0.1506761140258355,
          0.1506761140258355,
          0.1506761140258355,
          0.1506761140258355,
          0.1506761140258355,
          0.1506761140258355,
          0.1506761140258355,
          0.1506761140258355,
          0.1506761140258355,
          0.1506761140258355,
          0.1506761140258355,
          0.1506761140258355,
          0.1506761140258355,
          0.1506761140258355,
          0.1506761140258355,
          0.1506761140258355,
          0.1506761140258355,
          0.09575323604839177,
          0.1506761140258355,
          0.1506761140258355,
          0.1506761140258355,
          0.1506761140258355,
          0.1506761140258355,
          0.1506761140258355,
          0.1506761140258355,
          0.1506761140258355,
          0.1506761140258355,
          0.1506761140258355,
          0.1506761140258355,
          0.1506761140258355,
          0.1506761140258355,
          0.1506761140258355,
          0.1506761140258355,
          0.1506761140258355,
          0.1506761140258355,
          0.1506761140258355,
          0.1506761140258355,
          0.1506761140258355,
          0.1506761140258355,
          0.1506761140258355,
          0.1506761140258355,
          0.1506761140258355,
          0.1506761140258355,
          0.1506761140258355,
          0.1506761140258355,
          0.1506761140258355,
          0.1506761140258355,
          0.1506761140258355,
          0.1506761140258355,
          0.1506761140258355,
          0.1506761140258355,
          0.1506761140258355,
          0.1506761140258355,
          0.1506761140258355,
          0.1506761140258355,
          0.1506761140258355,
          0.1506761140258355,
          0.1506761140258355,
          0.1506761140258355,
          0.1506761140258355,
          0.1506761140258355,
          0.1506761140258355,
          0.1506761140258355,
          0.1506761140258355,
          0.1506761140258355,
          0.1506761140258355,
          0.11581395591924733,
          0.11581395591924733,
          0.1506761140258355,
          0.1506761140258355,
          0.10068257727217203,
          0.1506761140258355,
          0.1506761140258355,
          0.10068257727217203,
          0.1506761140258355,
          0.1506761140258355,
          0.1506761140258355,
          0.1506761140258355,
          0.1506761140258355,
          0.1506761140258355,
          0.1506761140258355,
          0.1506761140258355,
          0.1506761140258355,
          0.1506761140258355,
          0.1506761140258355,
          0.1506761140258355,
          0.1506761140258355,
          0.1506761140258355,
          0.1506761140258355,
          0.1506761140258355,
          0.1506761140258355,
          0.1506761140258355,
          0.1506761140258355,
          0.1506761140258355,
          0.1506761140258355,
          0.1506761140258355,
          0.1506761140258355,
          0.1506761140258355,
          0.1506761140258355,
          0.10068257727217203,
          0.1506761140258355,
          0.1506761140258355,
          0.1506761140258355,
          0.1506761140258355,
          0.1506761140258355,
          0.1506761140258355,
          0.1506761140258355,
          0.1506761140258355,
          0.1506761140258355,
          0.1506761140258355,
          0.1506761140258355,
          0.09575323604839177,
          0.1506761140258355,
          0.1506761140258355,
          0.1506761140258355,
          0.1506761140258355,
          0.1506761140258355,
          0.1506761140258355,
          0.1506761140258355,
          0.1506761140258355,
          0.1506761140258355,
          0.1506761140258355,
          0.1506761140258355,
          0.1506761140258355,
          0.1506761140258355,
          0.1506761140258355,
          0.1506761140258355,
          0.1506761140258355,
          0.1506761140258355,
          0.1506761140258355,
          0.1506761140258355,
          0.1506761140258355,
          0.1506761140258355,
          0.1506761140258355,
          0.1506761140258355,
          0.1506761140258355,
          0.10682159877519634,
          0.1506761140258355,
          0.1506761140258355,
          0.1506761140258355,
          0.1506761140258355,
          0.1506761140258355,
          0.1506761140258355,
          0.1506761140258355,
          0.1506761140258355,
          0.1506761140258355,
          0.1506761140258355,
          0.1506761140258355,
          0.1506761140258355,
          0.1506761140258355,
          0.1506761140258355,
          0.1506761140258355,
          0.1506761140258355,
          0.1506761140258355,
          0.1506761140258355,
          0.1506761140258355,
          0.1506761140258355,
          0.1506761140258355,
          0.10068257727217203,
          0.1506761140258355,
          0.1506761140258355,
          0.1506761140258355,
          0.1506761140258355,
          0.1506761140258355,
          0.1506761140258355,
          0.1506761140258355,
          0.1506761140258355,
          0.1506761140258355,
          0.1506761140258355,
          0.1506761140258355,
          0.1506761140258355,
          0.1506761140258355,
          0.1506761140258355,
          0.1506761140258355,
          0.1506761140258355,
          0.1506761140258355,
          0.1506761140258355,
          0.1506761140258355,
          0.1506761140258355,
          0.1506761140258355,
          0.1506761140258355,
          0.1506761140258355,
          0.1506761140258355,
          0.1506761140258355,
          0.1506761140258355,
          0.1506761140258355,
          0.10682159877519634,
          0.1506761140258355,
          0.1506761140258355,
          0.1506761140258355,
          0.1506761140258355,
          0.1506761140258355,
          0.1506761140258355,
          0.1506761140258355,
          0.1506761140258355,
          0.1506761140258355,
          0.1506761140258355,
          0.1506761140258355,
          0.1506761140258355,
          0.1506761140258355,
          0.1506761140258355,
          0.1506761140258355,
          0.1506761140258355,
          0.1506761140258355,
          0.1506761140258355,
          0.1506761140258355,
          0.1506761140258355,
          0.11581395591924733,
          0.1506761140258355,
          0.1506761140258355,
          0.1506761140258355,
          0.1506761140258355,
          0.1506761140258355,
          0.1506761140258355,
          0.1506761140258355,
          0.1506761140258355,
          0.1506761140258355,
          0.1506761140258355,
          0.1506761140258355,
          0.1506761140258355,
          0.1506761140258355,
          0.1506761140258355,
          0.1506761140258355,
          0.1506761140258355,
          0.1506761140258355,
          0.1506761140258355,
          0.1506761140258355,
          0.1506761140258355,
          0.1506761140258355,
          0.1506761140258355,
          0.1506761140258355,
          0.11581395591924733,
          0.1506761140258355,
          0.1506761140258355,
          0.1506761140258355,
          0.1506761140258355,
          0.1506761140258355,
          0.1506761140258355,
          0.1506761140258355,
          0.1506761140258355,
          0.1506761140258355,
          0.09701236142512476,
          0.09701236142512476,
          0.1506761140258355,
          0.1506761140258355,
          0.1506761140258355,
          0.1506761140258355,
          0.1506761140258355,
          0.1506761140258355,
          0.11581395591924733,
          0.11581395591924733,
          0.1506761140258355,
          0.1506761140258355,
          0.1506761140258355,
          0.1506761140258355,
          0.09287551792196057,
          0.1506761140258355,
          0.1506761140258355,
          0.1506761140258355,
          0.1506761140258355,
          0.1506761140258355,
          0.1506761140258355,
          0.1506761140258355,
          0.1506761140258355,
          0.1506761140258355,
          0.1506761140258355,
          0.1506761140258355,
          0.1506761140258355,
          0.10682159877519634,
          0.1506761140258355,
          0.1506761140258355,
          0.1506761140258355,
          0.1506761140258355,
          0.11581395591924733,
          0.1506761140258355,
          0.10682159877519634,
          0.1506761140258355,
          0.1506761140258355,
          0.1506761140258355,
          0.1506761140258355,
          0.1506761140258355,
          0.1506761140258355,
          0.1506761140258355,
          0.1506761140258355,
          0.10068257727217203,
          0.1506761140258355,
          0.1506761140258355,
          0.10682159877519634,
          0.10068257727217203,
          0.1506761140258355,
          0.1506761140258355,
          0.1506761140258355,
          0.1506761140258355,
          0.1506761140258355,
          0.09311840023198002,
          0.1506761140258355,
          0.09701236142512476,
          0.09701236142512476,
          0.1506761140258355,
          0.1506761140258355,
          0.09575323604839177,
          0.1506761140258355,
          0.10682159877519634,
          0.10682159877519634,
          0.1506761140258355,
          0.1506761140258355,
          0.1506761140258355,
          0.1506761140258355,
          0.1506761140258355,
          0.1506761140258355,
          0.1506761140258355,
          0.1506761140258355,
          0.1506761140258355,
          0.10682159877519634,
          0.1506761140258355,
          0.1506761140258355,
          0.1506761140258355,
          0.1506761140258355,
          0.1506761140258355,
          0.1506761140258355,
          0.1506761140258355,
          0.1506761140258355,
          0.1506761140258355,
          0.1506761140258355,
          0.1506761140258355,
          0.1506761140258355,
          0.1506761140258355,
          0.10068257727217203,
          0.1506761140258355,
          0.1506761140258355,
          0.1506761140258355,
          0.1506761140258355,
          0.1506761140258355,
          0.1506761140258355,
          0.1506761140258355,
          0.1506761140258355,
          0.1506761140258355,
          0.1506761140258355,
          0.1506761140258355,
          0.1506761140258355,
          0.1506761140258355,
          0.1506761140258355,
          0.1506761140258355,
          0.1506761140258355,
          0.1506761140258355,
          0.1506761140258355,
          0.1506761140258355,
          0.1506761140258355,
          0.1506761140258355,
          0.1506761140258355,
          0.1506761140258355,
          0.1506761140258355,
          0.1506761140258355,
          0.1506761140258355,
          0.1506761140258355,
          0.1506761140258355,
          0.1506761140258355,
          0.1506761140258355,
          0.1506761140258355,
          0.1506761140258355,
          0.1506761140258355,
          0.1506761140258355,
          0.1506761140258355,
          0.1506761140258355,
          0.1506761140258355,
          0.1506761140258355,
          0.1506761140258355,
          0.1506761140258355,
          0.1506761140258355,
          0.1506761140258355,
          0.1506761140258355,
          0.1506761140258355,
          0.1506761140258355,
          0.1506761140258355,
          0.1506761140258355,
          0.1506761140258355,
          0.1506761140258355,
          0.1506761140258355,
          0.1506761140258355,
          0.1506761140258355,
          0.1506761140258355,
          0.1506761140258355,
          0.1506761140258355,
          0.1506761140258355,
          0.1506761140258355,
          0.1506761140258355,
          0.1506761140258355,
          0.1506761140258355,
          0.1506761140258355,
          0.1506761140258355,
          0.1506761140258355,
          0.1506761140258355,
          0.1506761140258355,
          0.1506761140258355,
          0.1506761140258355,
          0.1506761140258355,
          0.1506761140258355,
          0.1506761140258355,
          0.1506761140258355,
          0.1506761140258355,
          0.1506761140258355,
          0.1506761140258355,
          0.1506761140258355,
          0.1506761140258355,
          0.1506761140258355,
          0.1506761140258355,
          0.1506761140258355,
          0.10068257727217203,
          0.10068257727217203,
          0.1506761140258355,
          0.09989975160020587,
          0.09575323604839177,
          0.1506761140258355,
          0.1506761140258355,
          0.09311840023198002,
          0.1506761140258355,
          0.1506761140258355,
          0.10682159877519634,
          0.1506761140258355,
          0.1506761140258355,
          0.1506761140258355,
          0.1506761140258355,
          0.1506761140258355,
          0.1506761140258355,
          0.10659351886937149,
          0.1506761140258355,
          0.10682159877519634,
          0.10682159877519634,
          0.09287551792196057,
          0.1506761140258355,
          0.10682159877519634,
          0.1506761140258355,
          0.1506761140258355,
          0.09989975160020587,
          0.1506761140258355,
          0.1506761140258355,
          0.1506761140258355,
          0.1506761140258355,
          0.1506761140258355,
          0.1506761140258355,
          0.10682159877519634,
          0.10068257727217203,
          0.10659351886937149,
          0.1506761140258355,
          0.1506761140258355,
          0.09575323604839177,
          0.10682159877519634,
          0.09060060208487365,
          0.10068257727217203,
          0.10659351886937149,
          0.1506761140258355,
          0.1506761140258355,
          0.10068257727217203
         ]
        }
       ],
       "layout": {
        "legend": {
         "title": {
          "text": "Job Role"
         }
        },
        "plot_bgcolor": "rgba(0,0,0,0)",
        "showlegend": true,
        "template": {
         "data": {
          "bar": [
           {
            "error_x": {
             "color": "#2a3f5f"
            },
            "error_y": {
             "color": "#2a3f5f"
            },
            "marker": {
             "line": {
              "color": "#E5ECF6",
              "width": 0.5
             },
             "pattern": {
              "fillmode": "overlay",
              "size": 10,
              "solidity": 0.2
             }
            },
            "type": "bar"
           }
          ],
          "barpolar": [
           {
            "marker": {
             "line": {
              "color": "#E5ECF6",
              "width": 0.5
             },
             "pattern": {
              "fillmode": "overlay",
              "size": 10,
              "solidity": 0.2
             }
            },
            "type": "barpolar"
           }
          ],
          "carpet": [
           {
            "aaxis": {
             "endlinecolor": "#2a3f5f",
             "gridcolor": "white",
             "linecolor": "white",
             "minorgridcolor": "white",
             "startlinecolor": "#2a3f5f"
            },
            "baxis": {
             "endlinecolor": "#2a3f5f",
             "gridcolor": "white",
             "linecolor": "white",
             "minorgridcolor": "white",
             "startlinecolor": "#2a3f5f"
            },
            "type": "carpet"
           }
          ],
          "choropleth": [
           {
            "colorbar": {
             "outlinewidth": 0,
             "ticks": ""
            },
            "type": "choropleth"
           }
          ],
          "contour": [
           {
            "colorbar": {
             "outlinewidth": 0,
             "ticks": ""
            },
            "colorscale": [
             [
              0,
              "#0d0887"
             ],
             [
              0.1111111111111111,
              "#46039f"
             ],
             [
              0.2222222222222222,
              "#7201a8"
             ],
             [
              0.3333333333333333,
              "#9c179e"
             ],
             [
              0.4444444444444444,
              "#bd3786"
             ],
             [
              0.5555555555555556,
              "#d8576b"
             ],
             [
              0.6666666666666666,
              "#ed7953"
             ],
             [
              0.7777777777777778,
              "#fb9f3a"
             ],
             [
              0.8888888888888888,
              "#fdca26"
             ],
             [
              1,
              "#f0f921"
             ]
            ],
            "type": "contour"
           }
          ],
          "contourcarpet": [
           {
            "colorbar": {
             "outlinewidth": 0,
             "ticks": ""
            },
            "type": "contourcarpet"
           }
          ],
          "heatmap": [
           {
            "colorbar": {
             "outlinewidth": 0,
             "ticks": ""
            },
            "colorscale": [
             [
              0,
              "#0d0887"
             ],
             [
              0.1111111111111111,
              "#46039f"
             ],
             [
              0.2222222222222222,
              "#7201a8"
             ],
             [
              0.3333333333333333,
              "#9c179e"
             ],
             [
              0.4444444444444444,
              "#bd3786"
             ],
             [
              0.5555555555555556,
              "#d8576b"
             ],
             [
              0.6666666666666666,
              "#ed7953"
             ],
             [
              0.7777777777777778,
              "#fb9f3a"
             ],
             [
              0.8888888888888888,
              "#fdca26"
             ],
             [
              1,
              "#f0f921"
             ]
            ],
            "type": "heatmap"
           }
          ],
          "heatmapgl": [
           {
            "colorbar": {
             "outlinewidth": 0,
             "ticks": ""
            },
            "colorscale": [
             [
              0,
              "#0d0887"
             ],
             [
              0.1111111111111111,
              "#46039f"
             ],
             [
              0.2222222222222222,
              "#7201a8"
             ],
             [
              0.3333333333333333,
              "#9c179e"
             ],
             [
              0.4444444444444444,
              "#bd3786"
             ],
             [
              0.5555555555555556,
              "#d8576b"
             ],
             [
              0.6666666666666666,
              "#ed7953"
             ],
             [
              0.7777777777777778,
              "#fb9f3a"
             ],
             [
              0.8888888888888888,
              "#fdca26"
             ],
             [
              1,
              "#f0f921"
             ]
            ],
            "type": "heatmapgl"
           }
          ],
          "histogram": [
           {
            "marker": {
             "pattern": {
              "fillmode": "overlay",
              "size": 10,
              "solidity": 0.2
             }
            },
            "type": "histogram"
           }
          ],
          "histogram2d": [
           {
            "colorbar": {
             "outlinewidth": 0,
             "ticks": ""
            },
            "colorscale": [
             [
              0,
              "#0d0887"
             ],
             [
              0.1111111111111111,
              "#46039f"
             ],
             [
              0.2222222222222222,
              "#7201a8"
             ],
             [
              0.3333333333333333,
              "#9c179e"
             ],
             [
              0.4444444444444444,
              "#bd3786"
             ],
             [
              0.5555555555555556,
              "#d8576b"
             ],
             [
              0.6666666666666666,
              "#ed7953"
             ],
             [
              0.7777777777777778,
              "#fb9f3a"
             ],
             [
              0.8888888888888888,
              "#fdca26"
             ],
             [
              1,
              "#f0f921"
             ]
            ],
            "type": "histogram2d"
           }
          ],
          "histogram2dcontour": [
           {
            "colorbar": {
             "outlinewidth": 0,
             "ticks": ""
            },
            "colorscale": [
             [
              0,
              "#0d0887"
             ],
             [
              0.1111111111111111,
              "#46039f"
             ],
             [
              0.2222222222222222,
              "#7201a8"
             ],
             [
              0.3333333333333333,
              "#9c179e"
             ],
             [
              0.4444444444444444,
              "#bd3786"
             ],
             [
              0.5555555555555556,
              "#d8576b"
             ],
             [
              0.6666666666666666,
              "#ed7953"
             ],
             [
              0.7777777777777778,
              "#fb9f3a"
             ],
             [
              0.8888888888888888,
              "#fdca26"
             ],
             [
              1,
              "#f0f921"
             ]
            ],
            "type": "histogram2dcontour"
           }
          ],
          "mesh3d": [
           {
            "colorbar": {
             "outlinewidth": 0,
             "ticks": ""
            },
            "type": "mesh3d"
           }
          ],
          "parcoords": [
           {
            "line": {
             "colorbar": {
              "outlinewidth": 0,
              "ticks": ""
             }
            },
            "type": "parcoords"
           }
          ],
          "pie": [
           {
            "automargin": true,
            "type": "pie"
           }
          ],
          "scatter": [
           {
            "fillpattern": {
             "fillmode": "overlay",
             "size": 10,
             "solidity": 0.2
            },
            "type": "scatter"
           }
          ],
          "scatter3d": [
           {
            "line": {
             "colorbar": {
              "outlinewidth": 0,
              "ticks": ""
             }
            },
            "marker": {
             "colorbar": {
              "outlinewidth": 0,
              "ticks": ""
             }
            },
            "type": "scatter3d"
           }
          ],
          "scattercarpet": [
           {
            "marker": {
             "colorbar": {
              "outlinewidth": 0,
              "ticks": ""
             }
            },
            "type": "scattercarpet"
           }
          ],
          "scattergeo": [
           {
            "marker": {
             "colorbar": {
              "outlinewidth": 0,
              "ticks": ""
             }
            },
            "type": "scattergeo"
           }
          ],
          "scattergl": [
           {
            "marker": {
             "colorbar": {
              "outlinewidth": 0,
              "ticks": ""
             }
            },
            "type": "scattergl"
           }
          ],
          "scattermapbox": [
           {
            "marker": {
             "colorbar": {
              "outlinewidth": 0,
              "ticks": ""
             }
            },
            "type": "scattermapbox"
           }
          ],
          "scatterpolar": [
           {
            "marker": {
             "colorbar": {
              "outlinewidth": 0,
              "ticks": ""
             }
            },
            "type": "scatterpolar"
           }
          ],
          "scatterpolargl": [
           {
            "marker": {
             "colorbar": {
              "outlinewidth": 0,
              "ticks": ""
             }
            },
            "type": "scatterpolargl"
           }
          ],
          "scatterternary": [
           {
            "marker": {
             "colorbar": {
              "outlinewidth": 0,
              "ticks": ""
             }
            },
            "type": "scatterternary"
           }
          ],
          "surface": [
           {
            "colorbar": {
             "outlinewidth": 0,
             "ticks": ""
            },
            "colorscale": [
             [
              0,
              "#0d0887"
             ],
             [
              0.1111111111111111,
              "#46039f"
             ],
             [
              0.2222222222222222,
              "#7201a8"
             ],
             [
              0.3333333333333333,
              "#9c179e"
             ],
             [
              0.4444444444444444,
              "#bd3786"
             ],
             [
              0.5555555555555556,
              "#d8576b"
             ],
             [
              0.6666666666666666,
              "#ed7953"
             ],
             [
              0.7777777777777778,
              "#fb9f3a"
             ],
             [
              0.8888888888888888,
              "#fdca26"
             ],
             [
              1,
              "#f0f921"
             ]
            ],
            "type": "surface"
           }
          ],
          "table": [
           {
            "cells": {
             "fill": {
              "color": "#EBF0F8"
             },
             "line": {
              "color": "white"
             }
            },
            "header": {
             "fill": {
              "color": "#C8D4E3"
             },
             "line": {
              "color": "white"
             }
            },
            "type": "table"
           }
          ]
         },
         "layout": {
          "annotationdefaults": {
           "arrowcolor": "#2a3f5f",
           "arrowhead": 0,
           "arrowwidth": 1
          },
          "autotypenumbers": "strict",
          "coloraxis": {
           "colorbar": {
            "outlinewidth": 0,
            "ticks": ""
           }
          },
          "colorscale": {
           "diverging": [
            [
             0,
             "#8e0152"
            ],
            [
             0.1,
             "#c51b7d"
            ],
            [
             0.2,
             "#de77ae"
            ],
            [
             0.3,
             "#f1b6da"
            ],
            [
             0.4,
             "#fde0ef"
            ],
            [
             0.5,
             "#f7f7f7"
            ],
            [
             0.6,
             "#e6f5d0"
            ],
            [
             0.7,
             "#b8e186"
            ],
            [
             0.8,
             "#7fbc41"
            ],
            [
             0.9,
             "#4d9221"
            ],
            [
             1,
             "#276419"
            ]
           ],
           "sequential": [
            [
             0,
             "#0d0887"
            ],
            [
             0.1111111111111111,
             "#46039f"
            ],
            [
             0.2222222222222222,
             "#7201a8"
            ],
            [
             0.3333333333333333,
             "#9c179e"
            ],
            [
             0.4444444444444444,
             "#bd3786"
            ],
            [
             0.5555555555555556,
             "#d8576b"
            ],
            [
             0.6666666666666666,
             "#ed7953"
            ],
            [
             0.7777777777777778,
             "#fb9f3a"
            ],
            [
             0.8888888888888888,
             "#fdca26"
            ],
            [
             1,
             "#f0f921"
            ]
           ],
           "sequentialminus": [
            [
             0,
             "#0d0887"
            ],
            [
             0.1111111111111111,
             "#46039f"
            ],
            [
             0.2222222222222222,
             "#7201a8"
            ],
            [
             0.3333333333333333,
             "#9c179e"
            ],
            [
             0.4444444444444444,
             "#bd3786"
            ],
            [
             0.5555555555555556,
             "#d8576b"
            ],
            [
             0.6666666666666666,
             "#ed7953"
            ],
            [
             0.7777777777777778,
             "#fb9f3a"
            ],
            [
             0.8888888888888888,
             "#fdca26"
            ],
            [
             1,
             "#f0f921"
            ]
           ]
          },
          "colorway": [
           "#636efa",
           "#EF553B",
           "#00cc96",
           "#ab63fa",
           "#FFA15A",
           "#19d3f3",
           "#FF6692",
           "#B6E880",
           "#FF97FF",
           "#FECB52"
          ],
          "font": {
           "color": "#2a3f5f"
          },
          "geo": {
           "bgcolor": "white",
           "lakecolor": "white",
           "landcolor": "#E5ECF6",
           "showlakes": true,
           "showland": true,
           "subunitcolor": "white"
          },
          "hoverlabel": {
           "align": "left"
          },
          "hovermode": "closest",
          "mapbox": {
           "style": "light"
          },
          "paper_bgcolor": "white",
          "plot_bgcolor": "#E5ECF6",
          "polar": {
           "angularaxis": {
            "gridcolor": "white",
            "linecolor": "white",
            "ticks": ""
           },
           "bgcolor": "#E5ECF6",
           "radialaxis": {
            "gridcolor": "white",
            "linecolor": "white",
            "ticks": ""
           }
          },
          "scene": {
           "xaxis": {
            "backgroundcolor": "#E5ECF6",
            "gridcolor": "white",
            "gridwidth": 2,
            "linecolor": "white",
            "showbackground": true,
            "ticks": "",
            "zerolinecolor": "white"
           },
           "yaxis": {
            "backgroundcolor": "#E5ECF6",
            "gridcolor": "white",
            "gridwidth": 2,
            "linecolor": "white",
            "showbackground": true,
            "ticks": "",
            "zerolinecolor": "white"
           },
           "zaxis": {
            "backgroundcolor": "#E5ECF6",
            "gridcolor": "white",
            "gridwidth": 2,
            "linecolor": "white",
            "showbackground": true,
            "ticks": "",
            "zerolinecolor": "white"
           }
          },
          "shapedefaults": {
           "line": {
            "color": "#2a3f5f"
           }
          },
          "ternary": {
           "aaxis": {
            "gridcolor": "white",
            "linecolor": "white",
            "ticks": ""
           },
           "baxis": {
            "gridcolor": "white",
            "linecolor": "white",
            "ticks": ""
           },
           "bgcolor": "#E5ECF6",
           "caxis": {
            "gridcolor": "white",
            "linecolor": "white",
            "ticks": ""
           }
          },
          "title": {
           "x": 0.05
          },
          "xaxis": {
           "automargin": true,
           "gridcolor": "white",
           "linecolor": "white",
           "ticks": "",
           "title": {
            "standoff": 15
           },
           "zerolinecolor": "white",
           "zerolinewidth": 2
          },
          "yaxis": {
           "automargin": true,
           "gridcolor": "white",
           "linecolor": "white",
           "ticks": "",
           "title": {
            "standoff": 15
           },
           "zerolinecolor": "white",
           "zerolinewidth": 2
          }
         }
        },
        "title": {
         "text": "Job Titles Clustered by Job Role"
        },
        "xaxis": {
         "title": {
          "text": "Principal Component 1"
         }
        },
        "yaxis": {
         "title": {
          "text": "Principal Component 2"
         }
        }
       }
      }
     },
     "metadata": {},
     "output_type": "display_data"
    }
   ],
   "source": [
    "# Define a escala de cinza\n",
    "colorscale = [(i / len(job_roles), f\"rgb({i}, {i}, {i})\") for i in range(256)]\n",
    "\n",
    "\n",
    "traces = [\n",
    "    go.Scatter(\n",
    "        x=job_title_classificator_df.loc[\n",
    "            job_title_classificator_df[\"job_role\"] == role\n",
    "        ][\"pc2\"].values,\n",
    "        y=job_title_classificator_df.loc[\n",
    "            job_title_classificator_df[\"job_role\"] == role\n",
    "        ][\"pc1\"].values,\n",
    "        mode=\"markers\",\n",
    "        marker=dict(size=11, color=colorscale[int(i / len(job_roles) * 255)][1]),\n",
    "        name=role,\n",
    "        text=job_title_classificator_df.loc[\n",
    "            job_title_classificator_df[\"job_role\"] == role\n",
    "        ][\"job_title\"],\n",
    "        hoverinfo=\"text\",\n",
    "    )\n",
    "    for i, role in job_roles.items()\n",
    "]\n",
    "\n",
    "# Define the layout\n",
    "layout = go.Layout(\n",
    "    title=\"Job Titles Clustered by Job Role\",\n",
    "    xaxis=dict(title=\"Principal Component 1\"),\n",
    "    yaxis=dict(title=\"Principal Component 2\"),\n",
    "    showlegend=True,\n",
    "    plot_bgcolor=\"rgba(0,0,0,0)\",\n",
    "    legend=dict(title=\"Job Role\"),\n",
    ")\n",
    "\n",
    "# Create the figure\n",
    "fig = go.Figure(data=traces, layout=layout)\n",
    "\n",
    "# Show the figure\n",
    "fig.show()"
   ]
  },
  {
   "attachments": {},
   "cell_type": "markdown",
   "metadata": {},
   "source": [
    "Os pontos extremos são regisros que contém o mesmo nome do cluster de origem, importante reparar que os engenheiros de inteligencia artificial e de dados ficam com seu centro de cluster bem proximos, isto por que, há similiaridade na palavra engineer. Títulos de vagas que ficam proximos ao cluster de cientista de dados pois a similiaridade acontece na palavra \"scientist\""
   ]
  },
  {
   "attachments": {},
   "cell_type": "markdown",
   "metadata": {},
   "source": [
    "# Conclusions\n",
    "O principal objetivo desse trabalho é promover o conhecimento aprendido em sala de aula durante a disciiplna de Ciencia de Dados"
   ]
  },
  {
   "cell_type": "markdown",
   "metadata": {},
   "source": []
  },
  {
   "cell_type": "code",
   "execution_count": null,
   "metadata": {},
   "outputs": [],
   "source": []
  }
 ],
 "metadata": {
  "kernelspec": {
   "display_name": "Python 3",
   "language": "python",
   "name": "python3"
  },
  "language_info": {
   "codemirror_mode": {
    "name": "ipython",
    "version": 3
   },
   "file_extension": ".py",
   "mimetype": "text/x-python",
   "name": "python",
   "nbconvert_exporter": "python",
   "pygments_lexer": "ipython3",
   "version": "3.10.7"
  },
  "orig_nbformat": 4,
  "vscode": {
   "interpreter": {
    "hash": "3ad933181bd8a04b432d3370b9dc3b0662ad032c4dfaa4e4f1596c548f763858"
   }
  }
 },
 "nbformat": 4,
 "nbformat_minor": 2
}
